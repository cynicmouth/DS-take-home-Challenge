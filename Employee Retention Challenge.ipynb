{
 "cells": [
  {
   "cell_type": "markdown",
   "metadata": {
    "toc": true
   },
   "source": [
    "<h1>Table of Contents<span class=\"tocSkip\"></span></h1>\n",
    "<div class=\"toc\"><ul class=\"toc-item\"><li><span><a href=\"#Challenged-Description\" data-toc-modified-id=\"Challenged-Description-1\"><span class=\"toc-item-num\">1&nbsp;&nbsp;</span>Challenged Description</a></span></li><li><span><a href=\"#Notebook-Setup-&amp;-Loading-Data\" data-toc-modified-id=\"Notebook-Setup-&amp;-Loading-Data-2\"><span class=\"toc-item-num\">2&nbsp;&nbsp;</span>Notebook Setup &amp; Loading Data</a></span></li><li><span><a href=\"#Data-Exploration\" data-toc-modified-id=\"Data-Exploration-3\"><span class=\"toc-item-num\">3&nbsp;&nbsp;</span>Data Exploration</a></span><ul class=\"toc-item\"><li><span><a href=\"#Check-for-missing/abnormal-values-in-dataset\" data-toc-modified-id=\"Check-for-missing/abnormal-values-in-dataset-3.1\"><span class=\"toc-item-num\">3.1&nbsp;&nbsp;</span>Check for missing/abnormal values in dataset</a></span><ul class=\"toc-item\"><li><span><a href=\"#Looking-for-missing-values\" data-toc-modified-id=\"Looking-for-missing-values-3.1.1\"><span class=\"toc-item-num\">3.1.1&nbsp;&nbsp;</span>Looking for missing values</a></span></li><li><span><a href=\"#Looking-for-abnormal-values\" data-toc-modified-id=\"Looking-for-abnormal-values-3.1.2\"><span class=\"toc-item-num\">3.1.2&nbsp;&nbsp;</span>Looking for abnormal values</a></span></li></ul></li><li><span><a href=\"#Performing-Some-Level-of-Feature-Engineering\" data-toc-modified-id=\"Performing-Some-Level-of-Feature-Engineering-3.2\"><span class=\"toc-item-num\">3.2&nbsp;&nbsp;</span>Performing Some Level of Feature Engineering</a></span><ul class=\"toc-item\"><li><span><a href=\"#Generating-churn-indicator\" data-toc-modified-id=\"Generating-churn-indicator-3.2.1\"><span class=\"toc-item-num\">3.2.1&nbsp;&nbsp;</span>Generating churn indicator</a></span></li><li><span><a href=\"#Generating-headcount-for-each-company:\" data-toc-modified-id=\"Generating-headcount-for-each-company:-3.2.2\"><span class=\"toc-item-num\">3.2.2&nbsp;&nbsp;</span>Generating headcount for each company:</a></span></li><li><span><a href=\"#Quit-Month/Week\" data-toc-modified-id=\"Quit-Month/Week-3.2.3\"><span class=\"toc-item-num\">3.2.3&nbsp;&nbsp;</span>Quit Month/Week</a></span></li></ul></li><li><span><a href=\"#Performing-EDA-to-see-if-there's-additional-correlation-to-churn\" data-toc-modified-id=\"Performing-EDA-to-see-if-there's-additional-correlation-to-churn-3.3\"><span class=\"toc-item-num\">3.3&nbsp;&nbsp;</span>Performing EDA to see if there's additional correlation to churn</a></span><ul class=\"toc-item\"><li><span><a href=\"#Categorical-Values\" data-toc-modified-id=\"Categorical-Values-3.3.1\"><span class=\"toc-item-num\">3.3.1&nbsp;&nbsp;</span>Categorical Values</a></span></li><li><span><a href=\"#Numerical-Values:\" data-toc-modified-id=\"Numerical-Values:-3.3.2\"><span class=\"toc-item-num\">3.3.2&nbsp;&nbsp;</span>Numerical Values:</a></span></li></ul></li><li><span><a href=\"#Summary-of-EDA-&amp;-Feature-Engineering\" data-toc-modified-id=\"Summary-of-EDA-&amp;-Feature-Engineering-3.4\"><span class=\"toc-item-num\">3.4&nbsp;&nbsp;</span>Summary of EDA &amp; Feature Engineering</a></span></li></ul></li><li><span><a href=\"#Building-a-model-to-predict-churn\" data-toc-modified-id=\"Building-a-model-to-predict-churn-4\"><span class=\"toc-item-num\">4&nbsp;&nbsp;</span>Building a model to predict churn</a></span><ul class=\"toc-item\"><li><span><a href=\"#Loading-data-into-h2o-environment\" data-toc-modified-id=\"Loading-data-into-h2o-environment-4.1\"><span class=\"toc-item-num\">4.1&nbsp;&nbsp;</span>Loading data into h2o environment</a></span></li><li><span><a href=\"#Train,-test-split\" data-toc-modified-id=\"Train,-test-split-4.2\"><span class=\"toc-item-num\">4.2&nbsp;&nbsp;</span>Train, test split</a></span></li><li><span><a href=\"#Model-Performance\" data-toc-modified-id=\"Model-Performance-4.3\"><span class=\"toc-item-num\">4.3&nbsp;&nbsp;</span>Model Performance</a></span></li><li><span><a href=\"#Extract-Variable-Importance\" data-toc-modified-id=\"Extract-Variable-Importance-4.4\"><span class=\"toc-item-num\">4.4&nbsp;&nbsp;</span>Extract Variable Importance</a></span></li><li><span><a href=\"#Extract-Partial-Dependence-Plot\" data-toc-modified-id=\"Extract-Partial-Dependence-Plot-4.5\"><span class=\"toc-item-num\">4.5&nbsp;&nbsp;</span>Extract Partial Dependence Plot</a></span></li></ul></li></ul></div>"
   ]
  },
  {
   "cell_type": "markdown",
   "metadata": {},
   "source": [
    "# Challenged Description"
   ]
  },
  {
   "cell_type": "markdown",
   "metadata": {},
   "source": [
    "We got employee data from a few companies. We have data about all employees who joined\n",
    "from 2011/01/24 to 2015/12/13. For each employee, we also know if they are still at the\n",
    "company as of 2015/12/13 or they have quit. Beside that, we have general info about the\n",
    "employee, such as avg salary during her tenure, dept, and yrs of experience. <br>\n",
    "As said above, the goal is to predict employee retention and understand its main drivers.\n",
    "Specifically, you should: <br>\n",
    "- Assume, for each company, that the headcount starts from zero on 2011/01/23. Estimate\n",
    "employee headcount, for each company, on each day, from 2011/01/24 to 2015/12/13.\n",
    "That is, if by 2012/03/02 2000 people have joined company 1 and 1000 of them have\n",
    "already quit, then company headcount on 2012/03/02 for company 1 would be 1000.\n",
    "__You should create a table with 3 columns: day, employee_headcount, company_id.__\n",
    "- What are the main factors that drive employee churn? Do they make sense? Explain your\n",
    "findings.\n",
    "- If you could add to this data set just one variable that could help explain employee churn,\n",
    "what would that be?"
   ]
  },
  {
   "cell_type": "markdown",
   "metadata": {},
   "source": [
    "# Notebook Setup & Loading Data"
   ]
  },
  {
   "cell_type": "code",
   "execution_count": 1,
   "metadata": {
    "ExecuteTime": {
     "end_time": "2019-01-15T19:22:42.806920Z",
     "start_time": "2019-01-15T19:22:38.575830Z"
    }
   },
   "outputs": [
    {
     "data": {
      "text/html": [
       "<div>\n",
       "<style scoped>\n",
       "    .dataframe tbody tr th:only-of-type {\n",
       "        vertical-align: middle;\n",
       "    }\n",
       "\n",
       "    .dataframe tbody tr th {\n",
       "        vertical-align: top;\n",
       "    }\n",
       "\n",
       "    .dataframe thead th {\n",
       "        text-align: right;\n",
       "    }\n",
       "</style>\n",
       "<table border=\"1\" class=\"dataframe\">\n",
       "  <thead>\n",
       "    <tr style=\"text-align: right;\">\n",
       "      <th></th>\n",
       "      <th>employee_id</th>\n",
       "      <th>company_id</th>\n",
       "      <th>dept</th>\n",
       "      <th>seniority</th>\n",
       "      <th>salary</th>\n",
       "      <th>join_date</th>\n",
       "      <th>quit_date</th>\n",
       "    </tr>\n",
       "  </thead>\n",
       "  <tbody>\n",
       "    <tr>\n",
       "      <th>0</th>\n",
       "      <td>13021.0</td>\n",
       "      <td>7</td>\n",
       "      <td>customer_service</td>\n",
       "      <td>28</td>\n",
       "      <td>89000.0</td>\n",
       "      <td>2014-03-24</td>\n",
       "      <td>2015-10-30</td>\n",
       "    </tr>\n",
       "    <tr>\n",
       "      <th>1</th>\n",
       "      <td>825355.0</td>\n",
       "      <td>7</td>\n",
       "      <td>marketing</td>\n",
       "      <td>20</td>\n",
       "      <td>183000.0</td>\n",
       "      <td>2013-04-29</td>\n",
       "      <td>2014-04-04</td>\n",
       "    </tr>\n",
       "    <tr>\n",
       "      <th>2</th>\n",
       "      <td>927315.0</td>\n",
       "      <td>4</td>\n",
       "      <td>marketing</td>\n",
       "      <td>14</td>\n",
       "      <td>101000.0</td>\n",
       "      <td>2014-10-13</td>\n",
       "      <td>NaN</td>\n",
       "    </tr>\n",
       "    <tr>\n",
       "      <th>3</th>\n",
       "      <td>662910.0</td>\n",
       "      <td>7</td>\n",
       "      <td>customer_service</td>\n",
       "      <td>20</td>\n",
       "      <td>115000.0</td>\n",
       "      <td>2012-05-14</td>\n",
       "      <td>2013-06-07</td>\n",
       "    </tr>\n",
       "    <tr>\n",
       "      <th>4</th>\n",
       "      <td>256971.0</td>\n",
       "      <td>2</td>\n",
       "      <td>data_science</td>\n",
       "      <td>23</td>\n",
       "      <td>276000.0</td>\n",
       "      <td>2011-10-17</td>\n",
       "      <td>2014-08-22</td>\n",
       "    </tr>\n",
       "  </tbody>\n",
       "</table>\n",
       "</div>"
      ],
      "text/plain": [
       "   employee_id  company_id              dept  seniority    salary   join_date  \\\n",
       "0      13021.0           7  customer_service         28   89000.0  2014-03-24   \n",
       "1     825355.0           7         marketing         20  183000.0  2013-04-29   \n",
       "2     927315.0           4         marketing         14  101000.0  2014-10-13   \n",
       "3     662910.0           7  customer_service         20  115000.0  2012-05-14   \n",
       "4     256971.0           2      data_science         23  276000.0  2011-10-17   \n",
       "\n",
       "    quit_date  \n",
       "0  2015-10-30  \n",
       "1  2014-04-04  \n",
       "2         NaN  \n",
       "3  2013-06-07  \n",
       "4  2014-08-22  "
      ]
     },
     "execution_count": 1,
     "metadata": {},
     "output_type": "execute_result"
    }
   ],
   "source": [
    "import pandas as pd\n",
    "import numpy as np\n",
    "import os\n",
    "import seaborn as sns\n",
    "import matplotlib.pyplot as plt\n",
    "%matplotlib inline\n",
    "\n",
    "df = pd.read_csv(os.path.join(os.getcwd(), 'employee_retention_data.csv'))\n",
    "df.head()"
   ]
  },
  {
   "cell_type": "markdown",
   "metadata": {},
   "source": [
    "# Data Exploration"
   ]
  },
  {
   "cell_type": "markdown",
   "metadata": {},
   "source": [
    "A few things we need to understand before we proceed:\n",
    "- If there are any missing/abnormal values in the dataset\n",
    "- Performing some level of feature engineering:\n",
    "    1. Generating an indicator for churn: i.e., 1 for churn; 0 for still with the company\n",
    "    2. Calculating headcount as requested, with a table of 3 columns: __day, employee_headcount, company_id__\n",
    "- Performing some EDA to see if there's any potential correlation for churn"
   ]
  },
  {
   "cell_type": "markdown",
   "metadata": {},
   "source": [
    "---\n",
    "## Check for missing/abnormal values in dataset"
   ]
  },
  {
   "cell_type": "markdown",
   "metadata": {},
   "source": [
    "### Looking for missing values"
   ]
  },
  {
   "cell_type": "code",
   "execution_count": 2,
   "metadata": {
    "ExecuteTime": {
     "end_time": "2019-01-15T19:22:42.831960Z",
     "start_time": "2019-01-15T19:22:42.809903Z"
    }
   },
   "outputs": [
    {
     "name": "stdout",
     "output_type": "stream",
     "text": [
      "<class 'pandas.core.frame.DataFrame'>\n",
      "RangeIndex: 24702 entries, 0 to 24701\n",
      "Data columns (total 7 columns):\n",
      "employee_id    24702 non-null float64\n",
      "company_id     24702 non-null int64\n",
      "dept           24702 non-null object\n",
      "seniority      24702 non-null int64\n",
      "salary         24702 non-null float64\n",
      "join_date      24702 non-null object\n",
      "quit_date      13510 non-null object\n",
      "dtypes: float64(2), int64(2), object(3)\n",
      "memory usage: 1.3+ MB\n"
     ]
    }
   ],
   "source": [
    "df.info()"
   ]
  },
  {
   "cell_type": "markdown",
   "metadata": {},
   "source": [
    "So other than `quit_date`, there's no missing values in the dataset, which is good; also, with `quit_date`, if it's null, that means the employees are currently still employed (about 55% of them quit)"
   ]
  },
  {
   "cell_type": "markdown",
   "metadata": {},
   "source": [
    "### Looking for abnormal values"
   ]
  },
  {
   "cell_type": "markdown",
   "metadata": {},
   "source": [
    "Additionally, we need to change `join_date` and `quit_date` to date format"
   ]
  },
  {
   "cell_type": "code",
   "execution_count": 3,
   "metadata": {
    "ExecuteTime": {
     "end_time": "2019-01-15T19:22:42.855021Z",
     "start_time": "2019-01-15T19:22:42.833978Z"
    }
   },
   "outputs": [
    {
     "name": "stdout",
     "output_type": "stream",
     "text": [
      "<class 'pandas.core.frame.DataFrame'>\n",
      "RangeIndex: 24702 entries, 0 to 24701\n",
      "Data columns (total 7 columns):\n",
      "employee_id    24702 non-null float64\n",
      "company_id     24702 non-null int64\n",
      "dept           24702 non-null object\n",
      "seniority      24702 non-null int64\n",
      "salary         24702 non-null float64\n",
      "join_date      24702 non-null datetime64[ns]\n",
      "quit_date      13510 non-null datetime64[ns]\n",
      "dtypes: datetime64[ns](2), float64(2), int64(2), object(1)\n",
      "memory usage: 1.3+ MB\n"
     ]
    }
   ],
   "source": [
    "for col in ['join_date', 'quit_date']:\n",
    "    df[col] = pd.to_datetime(df[col])\n",
    "\n",
    "df.info()"
   ]
  },
  {
   "cell_type": "code",
   "execution_count": 4,
   "metadata": {
    "ExecuteTime": {
     "end_time": "2019-01-15T19:22:42.880088Z",
     "start_time": "2019-01-15T19:22:42.860037Z"
    },
    "scrolled": false
   },
   "outputs": [
    {
     "name": "stdout",
     "output_type": "stream",
     "text": [
      "company_id\n",
      "1     8486\n",
      "2     4222\n",
      "3     2749\n",
      "4     2062\n",
      "5     1755\n",
      "6     1291\n",
      "7     1224\n",
      "8     1047\n",
      "9      961\n",
      "10     865\n",
      "11      16\n",
      "12      24\n",
      "Name: company_id, dtype: int64\n",
      "dept\n",
      "customer_service    9180\n",
      "data_science        3190\n",
      "design              1380\n",
      "engineer            4613\n",
      "marketing           3167\n",
      "sales               3172\n",
      "Name: dept, dtype: int64\n",
      "seniority\n",
      "1      861\n",
      "2      942\n",
      "3      881\n",
      "4      895\n",
      "5      936\n",
      "6      950\n",
      "7      928\n",
      "8     1008\n",
      "9      944\n",
      "10     927\n",
      "11     924\n",
      "12     988\n",
      "13     894\n",
      "14     920\n",
      "15     911\n",
      "16     936\n",
      "17     893\n",
      "18     872\n",
      "19     910\n",
      "20     844\n",
      "21     782\n",
      "22     764\n",
      "23     785\n",
      "24     743\n",
      "25     715\n",
      "26     694\n",
      "27     642\n",
      "28     585\n",
      "29     626\n",
      "98       1\n",
      "99       1\n",
      "Name: seniority, dtype: int64\n",
      "salary\n",
      "17000.0       2\n",
      "18000.0       9\n",
      "19000.0      12\n",
      "20000.0      21\n",
      "21000.0      49\n",
      "22000.0      93\n",
      "23000.0     111\n",
      "24000.0     121\n",
      "25000.0     113\n",
      "26000.0     106\n",
      "27000.0      95\n",
      "28000.0      87\n",
      "29000.0     104\n",
      "30000.0     108\n",
      "31000.0      94\n",
      "32000.0      80\n",
      "33000.0      80\n",
      "34000.0      69\n",
      "35000.0      51\n",
      "36000.0      46\n",
      "37000.0      42\n",
      "38000.0      64\n",
      "39000.0      43\n",
      "40000.0      69\n",
      "41000.0      59\n",
      "42000.0      76\n",
      "43000.0      63\n",
      "44000.0      60\n",
      "45000.0      72\n",
      "46000.0      45\n",
      "           ... \n",
      "354000.0     10\n",
      "355000.0      4\n",
      "356000.0      3\n",
      "357000.0      4\n",
      "358000.0      3\n",
      "359000.0      1\n",
      "360000.0      5\n",
      "361000.0      3\n",
      "362000.0      6\n",
      "363000.0      4\n",
      "364000.0      3\n",
      "365000.0      5\n",
      "366000.0      5\n",
      "367000.0      4\n",
      "368000.0      1\n",
      "370000.0      2\n",
      "371000.0      1\n",
      "372000.0      1\n",
      "374000.0      1\n",
      "375000.0      1\n",
      "376000.0      1\n",
      "377000.0      1\n",
      "378000.0      1\n",
      "379000.0      1\n",
      "381000.0      2\n",
      "386000.0      1\n",
      "393000.0      1\n",
      "398000.0      1\n",
      "406000.0      1\n",
      "408000.0      1\n",
      "Name: salary, Length: 367, dtype: int64\n",
      "join_date min_date: 2011-01-24 00:00:00 ; max_date 2015-12-10 00:00:00\n",
      "quit_date min_date: 2011-10-13 00:00:00 ; max_date 2015-12-09 00:00:00\n"
     ]
    }
   ],
   "source": [
    "col_check =  [col for col in df.columns if col != 'employee_id']\n",
    "\n",
    "\n",
    "for col in col_check:\n",
    "    if col in ['join_date', 'quit_date']:\n",
    "        print('{} min_date: {} ; max_date {}'.format(col, df[col].min(), df[col].max()))\n",
    "    else:\n",
    "        print(df.groupby(col)[col].count())"
   ]
  },
  {
   "cell_type": "markdown",
   "metadata": {},
   "source": [
    "A few things we noticed:\n",
    "1. `seniority` seems to have 2 abnormal values (98, 99 years of working experience), we can drop them as they are incorrect (or probably replacing it with median)\n",
    "2. `salary` has some skewed number, we might want to just drop those"
   ]
  },
  {
   "cell_type": "code",
   "execution_count": 5,
   "metadata": {
    "ExecuteTime": {
     "end_time": "2019-01-15T19:22:42.897134Z",
     "start_time": "2019-01-15T19:22:42.886105Z"
    }
   },
   "outputs": [
    {
     "data": {
      "text/plain": [
       "(24700, 7)"
      ]
     },
     "execution_count": 5,
     "metadata": {},
     "output_type": "execute_result"
    }
   ],
   "source": [
    "# make a copy of dataset so that we can come back if something goes wrong\n",
    "df_copy = df.copy()\n",
    "\n",
    "# kick out seniority abnormal values:\n",
    "df = df[df.seniority < 35]\n",
    "df.shape"
   ]
  },
  {
   "cell_type": "markdown",
   "metadata": {},
   "source": [
    "---\n",
    "## Performing Some Level of Feature Engineering\n",
    "### Generating churn indicator"
   ]
  },
  {
   "cell_type": "markdown",
   "metadata": {},
   "source": [
    "Going back to the original problem, we want to generate a churn indicator based on whether that employee current has quit or not: <br>\n",
    "In this case, `churn_ind = 1` means the employee has quit whereas `churn_ind = 0` means the employee is still currently employed at the same company"
   ]
  },
  {
   "cell_type": "code",
   "execution_count": 6,
   "metadata": {
    "ExecuteTime": {
     "end_time": "2019-01-15T19:22:43.050567Z",
     "start_time": "2019-01-15T19:22:42.899138Z"
    }
   },
   "outputs": [
    {
     "data": {
      "text/html": [
       "<div>\n",
       "<style scoped>\n",
       "    .dataframe tbody tr th:only-of-type {\n",
       "        vertical-align: middle;\n",
       "    }\n",
       "\n",
       "    .dataframe tbody tr th {\n",
       "        vertical-align: top;\n",
       "    }\n",
       "\n",
       "    .dataframe thead th {\n",
       "        text-align: right;\n",
       "    }\n",
       "</style>\n",
       "<table border=\"1\" class=\"dataframe\">\n",
       "  <thead>\n",
       "    <tr style=\"text-align: right;\">\n",
       "      <th></th>\n",
       "      <th>employee_id</th>\n",
       "      <th>company_id</th>\n",
       "      <th>dept</th>\n",
       "      <th>seniority</th>\n",
       "      <th>salary</th>\n",
       "      <th>join_date</th>\n",
       "      <th>quit_date</th>\n",
       "      <th>churn_ind</th>\n",
       "    </tr>\n",
       "  </thead>\n",
       "  <tbody>\n",
       "    <tr>\n",
       "      <th>0</th>\n",
       "      <td>13021.0</td>\n",
       "      <td>7</td>\n",
       "      <td>customer_service</td>\n",
       "      <td>28</td>\n",
       "      <td>89000.0</td>\n",
       "      <td>2014-03-24</td>\n",
       "      <td>2015-10-30</td>\n",
       "      <td>1</td>\n",
       "    </tr>\n",
       "    <tr>\n",
       "      <th>1</th>\n",
       "      <td>825355.0</td>\n",
       "      <td>7</td>\n",
       "      <td>marketing</td>\n",
       "      <td>20</td>\n",
       "      <td>183000.0</td>\n",
       "      <td>2013-04-29</td>\n",
       "      <td>2014-04-04</td>\n",
       "      <td>1</td>\n",
       "    </tr>\n",
       "    <tr>\n",
       "      <th>2</th>\n",
       "      <td>927315.0</td>\n",
       "      <td>4</td>\n",
       "      <td>marketing</td>\n",
       "      <td>14</td>\n",
       "      <td>101000.0</td>\n",
       "      <td>2014-10-13</td>\n",
       "      <td>NaT</td>\n",
       "      <td>0</td>\n",
       "    </tr>\n",
       "    <tr>\n",
       "      <th>3</th>\n",
       "      <td>662910.0</td>\n",
       "      <td>7</td>\n",
       "      <td>customer_service</td>\n",
       "      <td>20</td>\n",
       "      <td>115000.0</td>\n",
       "      <td>2012-05-14</td>\n",
       "      <td>2013-06-07</td>\n",
       "      <td>1</td>\n",
       "    </tr>\n",
       "    <tr>\n",
       "      <th>4</th>\n",
       "      <td>256971.0</td>\n",
       "      <td>2</td>\n",
       "      <td>data_science</td>\n",
       "      <td>23</td>\n",
       "      <td>276000.0</td>\n",
       "      <td>2011-10-17</td>\n",
       "      <td>2014-08-22</td>\n",
       "      <td>1</td>\n",
       "    </tr>\n",
       "  </tbody>\n",
       "</table>\n",
       "</div>"
      ],
      "text/plain": [
       "   employee_id  company_id              dept  seniority    salary  join_date  \\\n",
       "0      13021.0           7  customer_service         28   89000.0 2014-03-24   \n",
       "1     825355.0           7         marketing         20  183000.0 2013-04-29   \n",
       "2     927315.0           4         marketing         14  101000.0 2014-10-13   \n",
       "3     662910.0           7  customer_service         20  115000.0 2012-05-14   \n",
       "4     256971.0           2      data_science         23  276000.0 2011-10-17   \n",
       "\n",
       "   quit_date  churn_ind  \n",
       "0 2015-10-30          1  \n",
       "1 2014-04-04          1  \n",
       "2        NaT          0  \n",
       "3 2013-06-07          1  \n",
       "4 2014-08-22          1  "
      ]
     },
     "execution_count": 6,
     "metadata": {},
     "output_type": "execute_result"
    }
   ],
   "source": [
    "df['churn_ind'] = df.quit_date.apply(\n",
    "    lambda x: 0 if pd.isnull(x) else 1) # note here because we've already converted nan to pd.nat format\n",
    "df.head()"
   ]
  },
  {
   "cell_type": "markdown",
   "metadata": {},
   "source": [
    "### Generating headcount for each company:"
   ]
  },
  {
   "cell_type": "markdown",
   "metadata": {},
   "source": [
    "The ideal format from the requirement document would be: "
   ]
  },
  {
   "cell_type": "markdown",
   "metadata": {},
   "source": [
    "|`day`| `company_id` | `employee_headcount`|\n",
    "|-----|-----|-----|\n",
    "|2011-01-01|1| 1000|\n",
    "|2011-01-02|1| 1005|"
   ]
  },
  {
   "cell_type": "markdown",
   "metadata": {},
   "source": [
    "Also, noted that the dates should be starting from `2011/01/24` to `2015/12/13`"
   ]
  },
  {
   "cell_type": "code",
   "execution_count": 7,
   "metadata": {
    "ExecuteTime": {
     "end_time": "2019-01-15T19:22:43.056556Z",
     "start_time": "2019-01-15T19:22:43.051544Z"
    }
   },
   "outputs": [
    {
     "data": {
      "text/plain": [
       "DatetimeIndex(['2011-01-24', '2011-01-25', '2011-01-26', '2011-01-27',\n",
       "               '2011-01-28', '2011-01-29', '2011-01-30', '2011-01-31',\n",
       "               '2011-02-01', '2011-02-02',\n",
       "               ...\n",
       "               '2015-12-04', '2015-12-05', '2015-12-06', '2015-12-07',\n",
       "               '2015-12-08', '2015-12-09', '2015-12-10', '2015-12-11',\n",
       "               '2015-12-12', '2015-12-13'],\n",
       "              dtype='datetime64[ns]', length=1785, freq='D')"
      ]
     },
     "execution_count": 7,
     "metadata": {},
     "output_type": "execute_result"
    }
   ],
   "source": [
    "# generate date from 2011/01/23 to 2015/12/13\n",
    "day_range = pd.date_range(start = '2011-01-24', end = '2015-12-13', freq = 'D')\n",
    "day_range"
   ]
  },
  {
   "cell_type": "markdown",
   "metadata": {},
   "source": [
    "To achieve that date format, we can do: <br>\n",
    "1. create multi index based on `day_range` and `company_id`\n",
    "2. iterate through each row of multi index with each row of original `df` to see if they fit in specific date and count those fit in the dates\n",
    "3. merge all data together for final dataframe"
   ]
  },
  {
   "cell_type": "code",
   "execution_count": 8,
   "metadata": {
    "ExecuteTime": {
     "end_time": "2019-01-15T19:22:43.133929Z",
     "start_time": "2019-01-15T19:22:43.058562Z"
    },
    "scrolled": false
   },
   "outputs": [
    {
     "name": "stdout",
     "output_type": "stream",
     "text": [
      "headcount_df shape: (21420, 2)\n"
     ]
    },
    {
     "data": {
      "text/html": [
       "<div>\n",
       "<style scoped>\n",
       "    .dataframe tbody tr th:only-of-type {\n",
       "        vertical-align: middle;\n",
       "    }\n",
       "\n",
       "    .dataframe tbody tr th {\n",
       "        vertical-align: top;\n",
       "    }\n",
       "\n",
       "    .dataframe thead th {\n",
       "        text-align: right;\n",
       "    }\n",
       "</style>\n",
       "<table border=\"1\" class=\"dataframe\">\n",
       "  <thead>\n",
       "    <tr style=\"text-align: right;\">\n",
       "      <th></th>\n",
       "      <th>date</th>\n",
       "      <th>company_id</th>\n",
       "    </tr>\n",
       "  </thead>\n",
       "  <tbody>\n",
       "    <tr>\n",
       "      <th>0</th>\n",
       "      <td>2011-01-24</td>\n",
       "      <td>1</td>\n",
       "    </tr>\n",
       "    <tr>\n",
       "      <th>1</th>\n",
       "      <td>2011-01-24</td>\n",
       "      <td>2</td>\n",
       "    </tr>\n",
       "    <tr>\n",
       "      <th>2</th>\n",
       "      <td>2011-01-24</td>\n",
       "      <td>3</td>\n",
       "    </tr>\n",
       "    <tr>\n",
       "      <th>3</th>\n",
       "      <td>2011-01-24</td>\n",
       "      <td>4</td>\n",
       "    </tr>\n",
       "    <tr>\n",
       "      <th>4</th>\n",
       "      <td>2011-01-24</td>\n",
       "      <td>5</td>\n",
       "    </tr>\n",
       "  </tbody>\n",
       "</table>\n",
       "</div>"
      ],
      "text/plain": [
       "        date  company_id\n",
       "0 2011-01-24           1\n",
       "1 2011-01-24           2\n",
       "2 2011-01-24           3\n",
       "3 2011-01-24           4\n",
       "4 2011-01-24           5"
      ]
     },
     "execution_count": 8,
     "metadata": {},
     "output_type": "execute_result"
    }
   ],
   "source": [
    "multi_index = [day_range, sorted(df.company_id.unique())]\n",
    "multi_index = pd.MultiIndex.from_product(multi_index, names = ['date','company_id'])\n",
    "\n",
    "headcount_df = pd.DataFrame(index = multi_index).reset_index()\n",
    "print('headcount_df shape: {}'.format(headcount_df.shape))\n",
    "headcount_df.head()"
   ]
  },
  {
   "cell_type": "markdown",
   "metadata": {},
   "source": [
    "Let's write out pseudo code first and optimize after:\n",
    "\n",
    "```python\n",
    "for each company:\n",
    "    for each date:\n",
    "        total_joined = len(df[df.join_date <= date] & company)\n",
    "        total_quit = len(df[df.quit_date >= date & company])\n",
    "        net_headcount = total_joined - total_quit\n",
    "```"
   ]
  },
  {
   "cell_type": "code",
   "execution_count": 9,
   "metadata": {
    "ExecuteTime": {
     "end_time": "2019-01-15T19:22:43.147968Z",
     "start_time": "2019-01-15T19:22:43.136970Z"
    }
   },
   "outputs": [
    {
     "data": {
      "text/plain": [
       "25"
      ]
     },
     "execution_count": 9,
     "metadata": {},
     "output_type": "execute_result"
    }
   ],
   "source": [
    "# e.g. date = 2011-01-23, company_id = 1, count people that are between those dates\n",
    "len(df[(df.join_date <= '2011-01-24') & (df.company_id ==1)])"
   ]
  },
  {
   "cell_type": "markdown",
   "metadata": {},
   "source": [
    "This is relatively slow to go through 2 `for` loops and calculating based on criteria, but very good for readability: <br>"
   ]
  },
  {
   "cell_type": "code",
   "execution_count": 10,
   "metadata": {
    "ExecuteTime": {
     "end_time": "2019-01-15T19:23:38.618338Z",
     "start_time": "2019-01-15T19:22:43.149002Z"
    },
    "scrolled": true
   },
   "outputs": [
    {
     "data": {
      "text/html": [
       "<div>\n",
       "<style scoped>\n",
       "    .dataframe tbody tr th:only-of-type {\n",
       "        vertical-align: middle;\n",
       "    }\n",
       "\n",
       "    .dataframe tbody tr th {\n",
       "        vertical-align: top;\n",
       "    }\n",
       "\n",
       "    .dataframe thead th {\n",
       "        text-align: right;\n",
       "    }\n",
       "</style>\n",
       "<table border=\"1\" class=\"dataframe\">\n",
       "  <thead>\n",
       "    <tr style=\"text-align: right;\">\n",
       "      <th></th>\n",
       "      <th>date</th>\n",
       "      <th>company</th>\n",
       "      <th>headcount</th>\n",
       "    </tr>\n",
       "  </thead>\n",
       "  <tbody>\n",
       "    <tr>\n",
       "      <th>0</th>\n",
       "      <td>2011-01-24</td>\n",
       "      <td>1</td>\n",
       "      <td>25</td>\n",
       "    </tr>\n",
       "    <tr>\n",
       "      <th>1</th>\n",
       "      <td>2011-01-24</td>\n",
       "      <td>2</td>\n",
       "      <td>17</td>\n",
       "    </tr>\n",
       "    <tr>\n",
       "      <th>2</th>\n",
       "      <td>2011-01-24</td>\n",
       "      <td>3</td>\n",
       "      <td>9</td>\n",
       "    </tr>\n",
       "    <tr>\n",
       "      <th>3</th>\n",
       "      <td>2011-01-24</td>\n",
       "      <td>4</td>\n",
       "      <td>12</td>\n",
       "    </tr>\n",
       "    <tr>\n",
       "      <th>4</th>\n",
       "      <td>2011-01-24</td>\n",
       "      <td>5</td>\n",
       "      <td>5</td>\n",
       "    </tr>\n",
       "  </tbody>\n",
       "</table>\n",
       "</div>"
      ],
      "text/plain": [
       "        date  company  headcount\n",
       "0 2011-01-24        1         25\n",
       "1 2011-01-24        2         17\n",
       "2 2011-01-24        3          9\n",
       "3 2011-01-24        4         12\n",
       "4 2011-01-24        5          5"
      ]
     },
     "execution_count": 10,
     "metadata": {},
     "output_type": "execute_result"
    }
   ],
   "source": [
    "date_list = []\n",
    "company_list = []\n",
    "headcount_list = []\n",
    "\n",
    "for date in day_range:\n",
    "    for company in sorted(df.company_id.unique()):\n",
    "        total_join = len(df[(df.join_date <=date) & (df.company_id == company)])\n",
    "        total_quit = len(df[(df.quit_date <=date) & (df.company_id == company)])\n",
    "        headcount = total_join - total_quit\n",
    "        \n",
    "        date_list.append(date)\n",
    "        company_list.append(company)\n",
    "        headcount_list.append(headcount)\n",
    "        \n",
    "headcount_df = pd.DataFrame(data = {'date': date_list,\n",
    "                                    'company':company_list,\n",
    "                                    'headcount':headcount_list,\n",
    "                                   })\n",
    "\n",
    "headcount_df.head()"
   ]
  },
  {
   "cell_type": "markdown",
   "metadata": {},
   "source": [
    "We can now take a look at the distribution of working days for those __who quit__:"
   ]
  },
  {
   "cell_type": "code",
   "execution_count": 11,
   "metadata": {
    "ExecuteTime": {
     "end_time": "2019-01-15T19:23:39.068532Z",
     "start_time": "2019-01-15T19:23:38.619366Z"
    }
   },
   "outputs": [
    {
     "data": {
      "text/plain": [
       "Text(0.5, 1.0, 'Histogram of Working Days for people who quit')"
      ]
     },
     "execution_count": 11,
     "metadata": {},
     "output_type": "execute_result"
    },
    {
     "data": {
      "image/png": "[encoded data removed]",
      "text/plain": [
       "<Figure size 1440x720 with 1 Axes>"
      ]
     },
     "metadata": {},
     "output_type": "display_data"
    }
   ],
   "source": [
    "df_quit = df[~df.quit_date.isnull()]\n",
    "df_stay = df[df.quit_date.isnull()]\n",
    "\n",
    "sns.set(style = 'darkgrid')\n",
    "fig, ax = plt.subplots(figsize = (20, 10))\n",
    "sns.distplot( a = list(map(lambda x: x.days, (df_quit.quit_date - df_quit.join_date))), \n",
    "             bins = 100, kde = False)\n",
    "\n",
    "ax.set_xlabel('Working Days')\n",
    "ax.set_ylabel('Frequency')\n",
    "ax.set_title('Histogram of Working Days for people who quit')"
   ]
  },
  {
   "cell_type": "markdown",
   "metadata": {},
   "source": [
    "We can see the vast majority of people leave around 1 year mark, if not they are likely to leave around 2 year mark; then they stabilize afterwards"
   ]
  },
  {
   "cell_type": "markdown",
   "metadata": {},
   "source": [
    "### Quit Month/Week"
   ]
  },
  {
   "cell_type": "markdown",
   "metadata": {},
   "source": [
    "__This is suggested by book of the author, as it also makes sense to look at__"
   ]
  },
  {
   "cell_type": "code",
   "execution_count": 12,
   "metadata": {
    "ExecuteTime": {
     "end_time": "2019-01-15T19:23:39.326215Z",
     "start_time": "2019-01-15T19:23:39.069535Z"
    }
   },
   "outputs": [
    {
     "data": {
      "text/plain": [
       "Text(0.5, 1.0, 'Frequency of Quit Month')"
      ]
     },
     "execution_count": 12,
     "metadata": {},
     "output_type": "execute_result"
    },
    {
     "data": {
      "image/png": "[encoded data removed]",
      "text/plain": [
       "<Figure size 1440x720 with 1 Axes>"
      ]
     },
     "metadata": {},
     "output_type": "display_data"
    }
   ],
   "source": [
    "fig, ax = plt.subplots(figsize = (20, 10))\n",
    "quit_month = df_quit.quit_date.apply(lambda x: x.month)\n",
    "sns.countplot(quit_month)\n",
    "\n",
    "ax.set_xlabel('Quit Month')\n",
    "ax.set_ylabel('Frequcency')\n",
    "ax.set_title('Frequency of Quit Month')"
   ]
  },
  {
   "cell_type": "code",
   "execution_count": 13,
   "metadata": {
    "ExecuteTime": {
     "end_time": "2019-01-15T19:23:39.999000Z",
     "start_time": "2019-01-15T19:23:39.328222Z"
    }
   },
   "outputs": [
    {
     "data": {
      "text/plain": [
       "Text(0.5, 1.0, 'Frequency of Quit Week')"
      ]
     },
     "execution_count": 13,
     "metadata": {},
     "output_type": "execute_result"
    },
    {
     "data": {
      "image/png": "[encoded data removed]",
      "text/plain": [
       "<Figure size 1440x720 with 1 Axes>"
      ]
     },
     "metadata": {},
     "output_type": "display_data"
    }
   ],
   "source": [
    "fig, ax = plt.subplots(figsize = (20, 10))\n",
    "quit_week = df_quit.quit_date.apply(lambda x: x.week)\n",
    "sns.countplot(quit_week)\n",
    "\n",
    "ax.set_xlabel('Quit Week')\n",
    "ax.set_ylabel('Frequcency')\n",
    "ax.set_title('Frequency of Quit Week')"
   ]
  },
  {
   "cell_type": "markdown",
   "metadata": {},
   "source": [
    "Here the author of the book thinks that at the beginning of the year most people quit, which is incorrect. <br>\n",
    "Based on his R code, it looks like he didn't take out people who didn't take, and when it was plotted as histogram, all null values are treated as 0's => that's my guess"
   ]
  },
  {
   "cell_type": "markdown",
   "metadata": {},
   "source": [
    "## Performing EDA to see if there's additional correlation to churn"
   ]
  },
  {
   "cell_type": "code",
   "execution_count": 14,
   "metadata": {
    "ExecuteTime": {
     "end_time": "2019-01-15T19:23:40.075360Z",
     "start_time": "2019-01-15T19:23:40.001006Z"
    }
   },
   "outputs": [
    {
     "data": {
      "text/html": [
       "<div>\n",
       "<style scoped>\n",
       "    .dataframe tbody tr th:only-of-type {\n",
       "        vertical-align: middle;\n",
       "    }\n",
       "\n",
       "    .dataframe tbody tr th {\n",
       "        vertical-align: top;\n",
       "    }\n",
       "\n",
       "    .dataframe thead th {\n",
       "        text-align: right;\n",
       "    }\n",
       "</style>\n",
       "<table border=\"1\" class=\"dataframe\">\n",
       "  <thead>\n",
       "    <tr style=\"text-align: right;\">\n",
       "      <th></th>\n",
       "      <th>employee_id</th>\n",
       "      <th>company_id</th>\n",
       "      <th>dept</th>\n",
       "      <th>seniority</th>\n",
       "      <th>salary</th>\n",
       "      <th>join_date</th>\n",
       "      <th>quit_date</th>\n",
       "      <th>churn_ind</th>\n",
       "    </tr>\n",
       "  </thead>\n",
       "  <tbody>\n",
       "    <tr>\n",
       "      <th>0</th>\n",
       "      <td>13021.0</td>\n",
       "      <td>7</td>\n",
       "      <td>customer_service</td>\n",
       "      <td>28</td>\n",
       "      <td>89000.0</td>\n",
       "      <td>2014-03-24</td>\n",
       "      <td>2015-10-30</td>\n",
       "      <td>1</td>\n",
       "    </tr>\n",
       "    <tr>\n",
       "      <th>1</th>\n",
       "      <td>825355.0</td>\n",
       "      <td>7</td>\n",
       "      <td>marketing</td>\n",
       "      <td>20</td>\n",
       "      <td>183000.0</td>\n",
       "      <td>2013-04-29</td>\n",
       "      <td>2014-04-04</td>\n",
       "      <td>1</td>\n",
       "    </tr>\n",
       "    <tr>\n",
       "      <th>2</th>\n",
       "      <td>927315.0</td>\n",
       "      <td>4</td>\n",
       "      <td>marketing</td>\n",
       "      <td>14</td>\n",
       "      <td>101000.0</td>\n",
       "      <td>2014-10-13</td>\n",
       "      <td>NaT</td>\n",
       "      <td>0</td>\n",
       "    </tr>\n",
       "    <tr>\n",
       "      <th>3</th>\n",
       "      <td>662910.0</td>\n",
       "      <td>7</td>\n",
       "      <td>customer_service</td>\n",
       "      <td>20</td>\n",
       "      <td>115000.0</td>\n",
       "      <td>2012-05-14</td>\n",
       "      <td>2013-06-07</td>\n",
       "      <td>1</td>\n",
       "    </tr>\n",
       "    <tr>\n",
       "      <th>4</th>\n",
       "      <td>256971.0</td>\n",
       "      <td>2</td>\n",
       "      <td>data_science</td>\n",
       "      <td>23</td>\n",
       "      <td>276000.0</td>\n",
       "      <td>2011-10-17</td>\n",
       "      <td>2014-08-22</td>\n",
       "      <td>1</td>\n",
       "    </tr>\n",
       "  </tbody>\n",
       "</table>\n",
       "</div>"
      ],
      "text/plain": [
       "   employee_id  company_id              dept  seniority    salary  join_date  \\\n",
       "0      13021.0           7  customer_service         28   89000.0 2014-03-24   \n",
       "1     825355.0           7         marketing         20  183000.0 2013-04-29   \n",
       "2     927315.0           4         marketing         14  101000.0 2014-10-13   \n",
       "3     662910.0           7  customer_service         20  115000.0 2012-05-14   \n",
       "4     256971.0           2      data_science         23  276000.0 2011-10-17   \n",
       "\n",
       "   quit_date  churn_ind  \n",
       "0 2015-10-30          1  \n",
       "1 2014-04-04          1  \n",
       "2        NaT          0  \n",
       "3 2013-06-07          1  \n",
       "4 2014-08-22          1  "
      ]
     },
     "execution_count": 14,
     "metadata": {},
     "output_type": "execute_result"
    }
   ],
   "source": [
    "df.head()"
   ]
  },
  {
   "cell_type": "markdown",
   "metadata": {},
   "source": [
    "With the dataset, we can look into:\n",
    "1. Categorical Values:\n",
    "    1. if a specific company has higher churn rate than other companies\n",
    "    2. if a specific department has higher churn rate than other departments\n",
    "2. Numerical Values:\n",
    "    1. if seniority affects churn\n",
    "    2. if salary affects churn"
   ]
  },
  {
   "cell_type": "markdown",
   "metadata": {},
   "source": [
    "### Categorical Values"
   ]
  },
  {
   "cell_type": "markdown",
   "metadata": {},
   "source": [
    "plotting for `company_id`:"
   ]
  },
  {
   "cell_type": "code",
   "execution_count": 15,
   "metadata": {
    "ExecuteTime": {
     "end_time": "2019-01-15T19:23:40.960716Z",
     "start_time": "2019-01-15T19:23:40.077366Z"
    }
   },
   "outputs": [
    {
     "name": "stderr",
     "output_type": "stream",
     "text": [
      "/Users/yigongzhang/miniconda3/envs/python/lib/python3.6/site-packages/scipy/stats/stats.py:1713: FutureWarning: Using a non-tuple sequence for multidimensional indexing is deprecated; use `arr[tuple(seq)]` instead of `arr[seq]`. In the future this will be interpreted as an array index, `arr[np.array(seq)]`, which will result either in an error or a different result.\n",
      "  return np.add.reduce(sorted[indexer] * weights, axis=axis) / sumval\n"
     ]
    },
    {
     "data": {
      "text/plain": [
       "<matplotlib.axes._subplots.AxesSubplot at 0x1a205c3780>"
      ]
     },
     "execution_count": 15,
     "metadata": {},
     "output_type": "execute_result"
    },
    {
     "data": {
      "image/png": "[encoded data removed]",
      "text/plain": [
       "<Figure size 1008x360 with 2 Axes>"
      ]
     },
     "metadata": {},
     "output_type": "display_data"
    }
   ],
   "source": [
    "fig, ax = plt.subplots(nrows=1, ncols=2, figsize = (14,5))\n",
    "sns.countplot(x = 'company_id', hue = 'churn_ind', data = df, ax=ax[0])\n",
    "sns.barplot(x = 'company_id', y='churn_ind', data= df, ax=ax[1])"
   ]
  },
  {
   "cell_type": "markdown",
   "metadata": {},
   "source": [
    "Now we can expand this to other categorical values:"
   ]
  },
  {
   "cell_type": "code",
   "execution_count": 16,
   "metadata": {
    "ExecuteTime": {
     "end_time": "2019-01-15T19:23:42.502801Z",
     "start_time": "2019-01-15T19:23:40.962735Z"
    }
   },
   "outputs": [
    {
     "data": {
      "image/png": "[encoded data removed]",
      "text/plain": [
       "<Figure size 1008x360 with 2 Axes>"
      ]
     },
     "metadata": {},
     "output_type": "display_data"
    },
    {
     "data": {
      "image/png": "[encoded data removed]",
      "text/plain": [
       "<Figure size 1008x360 with 2 Axes>"
      ]
     },
     "metadata": {},
     "output_type": "display_data"
    }
   ],
   "source": [
    "for col in ['company_id', 'dept']:\n",
    "    fig, ax = plt.subplots(nrows = 1, ncols = 2, figsize = (14,5))\n",
    "    sns.countplot(x = col, hue = 'churn_ind', data = df, ax = ax[0])\n",
    "    sns.barplot(x = col, y = 'churn_ind', data =df, ax=ax[1])\n",
    "    ax[0].set_title('Count churn plot of {}'.format(col))\n",
    "    ax[1].set_ylabel('Mean churn rate')\n",
    "    ax[1].set_title('Mean Churn rate by {}'.format(col))"
   ]
  },
  {
   "cell_type": "markdown",
   "metadata": {},
   "source": [
    "From this, we can see that:\n",
    "- looking across `company`, company 11 has a higher churn rate than other companies, while they also had a relative small sample of data\n",
    "- looking across `dept`, `engineering` and `data_science` seems to have lower churn than other `dept`"
   ]
  },
  {
   "cell_type": "markdown",
   "metadata": {},
   "source": [
    "### Numerical Values:"
   ]
  },
  {
   "cell_type": "code",
   "execution_count": 17,
   "metadata": {
    "ExecuteTime": {
     "end_time": "2019-01-15T19:23:42.972046Z",
     "start_time": "2019-01-15T19:23:42.505811Z"
    }
   },
   "outputs": [
    {
     "data": {
      "text/plain": [
       "Text(0, 0.5, 'Mean Churn Rate')"
      ]
     },
     "execution_count": 17,
     "metadata": {},
     "output_type": "execute_result"
    },
    {
     "data": {
      "image/png": "[encoded data removed]",
      "text/plain": [
       "<Figure size 1008x360 with 2 Axes>"
      ]
     },
     "metadata": {},
     "output_type": "display_data"
    }
   ],
   "source": [
    "fig, ax = plt.subplots(nrows = 1, ncols = 2, figsize = (14,5))\n",
    "grouped_data = df[['seniority','churn_ind']].groupby('seniority').mean().reset_index()\n",
    "x= np.array(grouped_data.seniority)\n",
    "y= np.array(grouped_data.churn_ind)\n",
    "fit = np.polyfit(x,y,5)\n",
    "fit_func = np.poly1d(fit)\n",
    "\n",
    "sns.distplot(df[df.churn_ind == 0]['seniority'], label = 'Churn 0', ax=ax[0])\n",
    "sns.distplot(df[df.churn_ind == 1]['seniority'], label = 'Churn 1', ax=ax[0])\n",
    "ax[0].legend()\n",
    "ax[0].set_title('Kernel Density Distribution of {} over Churn'.format('seniority'))\n",
    "ax[0].set_ylabel('Kernel Density')\n",
    "\n",
    "plt.plot('seniority',  'churn_ind', '.-', \n",
    "         data = grouped_data)\n",
    "\n",
    "# we can additionally fit a regression line across mean churn rate to observe trend\n",
    "plt.plot(x, fit_func(x), '--')\n",
    "ax[1].legend(['Mean Churn Rate','Churn Rate Trend'])\n",
    "ax[1].set_title('Mean Churn Rate of {}'.format('seniroity'))\n",
    "ax[1].set_xlabel('seniroity')\n",
    "ax[1].set_ylabel('Mean Churn Rate')"
   ]
  },
  {
   "cell_type": "markdown",
   "metadata": {},
   "source": [
    "Expanding this to all numeric values:"
   ]
  },
  {
   "cell_type": "code",
   "execution_count": 18,
   "metadata": {
    "ExecuteTime": {
     "end_time": "2019-01-15T19:23:43.896500Z",
     "start_time": "2019-01-15T19:23:42.984092Z"
    }
   },
   "outputs": [
    {
     "data": {
      "image/png": "[encoded data removed]",
      "text/plain": [
       "<Figure size 1008x360 with 2 Axes>"
      ]
     },
     "metadata": {},
     "output_type": "display_data"
    },
    {
     "data": {
      "image/png": "[encoded data removed]",
      "text/plain": [
       "<Figure size 1008x360 with 2 Axes>"
      ]
     },
     "metadata": {},
     "output_type": "display_data"
    }
   ],
   "source": [
    "for col in ['seniority','salary']:\n",
    "    # setting up figure and axes\n",
    "    fig, ax = plt.subplots(nrows=1, ncols = 2, figsize = (14,5))\n",
    "    \n",
    "    # setting up 2nd graph's ploynomial regression \n",
    "    grouped_data = df[[col,'churn_ind']].groupby(col).mean().reset_index()\n",
    "    x= np.array(grouped_data[col])\n",
    "    y= np.array(grouped_data['churn_ind'])\n",
    "    fit = np.polyfit(x,y,5)\n",
    "    fit_func = np.poly1d(fit)\n",
    "    \n",
    "    # plotting 1st graph\n",
    "    sns.distplot(df[df.churn_ind == 0][col], label = 'Churn 0', ax= ax[0])\n",
    "    sns.distplot(df[df.churn_ind == 1][col], label = 'Churn 1', ax= ax[0])\n",
    "    ax[0].legend()\n",
    "    ax[0].set_title('Kernel Density Plot of {} over Churn'.format(col))\n",
    "    ax[0].set_ylabel('Kernel Density')\n",
    "    \n",
    "    # plotting 2nd graph\n",
    "    plt.plot(col, 'churn_ind', '.-',\n",
    "             data = df[[col, 'churn_ind']].groupby(col).mean().reset_index()\n",
    "            )\n",
    "    plt.plot(x, fit_func(x), '--')\n",
    "    ax[1].legend(['Mean Churn Rate','Churn Rate Trend'])\n",
    "    ax[1].set_title('Mean Churn Rate of {}'.format(col))\n",
    "    ax[1].set_xlabel(col)\n",
    "    ax[1].set_ylabel('Mean Churn Rate')"
   ]
  },
  {
   "cell_type": "markdown",
   "metadata": {},
   "source": [
    "For numeric values:\n",
    "- Looking at `seniority`, it seems like there is a general downward trend towards seniority -- i.e. the longer the employee stays, the less they tend to churn; also, we can see from the KDE plot that people with `seniority` between 5 - 17 months tend to have higher churn rate than those who do not belong to this group\n",
    "- Looking at `salary`, it seems like there is a general downward trend as well -- the better the employees are compensated, the less they are likely to churn. __This does have exceptions as you can see from the bottom right graph where some well-compensated employees still churned__; additionally, if we look at the KDE plot of employee salary over Churn, we can see that people in salary range of 100k to 200k generally have a higher churn rate than people are not in this range."
   ]
  },
  {
   "cell_type": "markdown",
   "metadata": {},
   "source": [
    "## Summary of EDA & Feature Engineering"
   ]
  },
  {
   "cell_type": "markdown",
   "metadata": {},
   "source": [
    "Just to quickly summarize what we've found out so far:\n",
    "- For those people who quit, we can see that vast majority of people tend to leave around 1st year mark, if not, the rest would likely to leave around 2nd year mark, and the churn rate tends to flat out afterwards\n",
    "- `company 11` has significantly higher churn rate than other companies, but they also have significantly less data points\n",
    "- Among most departments, `engineering` and `data_science` have the lowest churn rate\n",
    "- People with 5-17 months of `seniority` have a higher Churn Rate than those who don't, Churn Rate tends to spike around 5-10 months of `seniority` and drops afterwards\n",
    "- People within salary range of 100k to 200k have higher Churn Rate than those who don't, and generally Churn Rate tends to go down with increase of salaries"
   ]
  },
  {
   "cell_type": "markdown",
   "metadata": {},
   "source": [
    "---\n",
    "__As a result, what would be actionable based on these insights__\n",
    "1. Get more data points on `Company 11` to see if it's true that they have higher churn rate than other companies\n",
    "2. Based on the findings we get from the dataset, if we were to reduce churn rate, we should target:\n",
    "    - Focus on `customer_service` and `sales` if you have limited resources, as the churn rate is relatively high in comparison to other departments and they have a high amount of people churning as well\n",
    "    - Employees who has been with the company for about 0.75 - 2 years with 5-17 months of `seniority` and between salary range of 100k to 200k, as people who left the company usually leave around that time frame; and have indicated a higher churn rate for those numeric characteristics"
   ]
  },
  {
   "cell_type": "markdown",
   "metadata": {},
   "source": [
    "__Note__: <br>\n",
    "We got similar results from the sample answer, however we missed one thing -- employees quit at the beginning of the year as well, which kind of make sense"
   ]
  },
  {
   "cell_type": "markdown",
   "metadata": {},
   "source": [
    "# Building a model to predict churn"
   ]
  },
  {
   "cell_type": "markdown",
   "metadata": {},
   "source": [
    "We'll be building the model using H2O as it is more integrated and easier to get insights"
   ]
  },
  {
   "cell_type": "code",
   "execution_count": 19,
   "metadata": {
    "ExecuteTime": {
     "end_time": "2019-01-15T19:24:00.673342Z",
     "start_time": "2019-01-15T19:23:43.922570Z"
    }
   },
   "outputs": [
    {
     "name": "stdout",
     "output_type": "stream",
     "text": [
      "Checking whether there is an H2O instance running at http://localhost:54321..... not found.\n",
      "Attempting to start a local H2O server...\n",
      "  Java Version: java version \"11.0.1\" 2018-10-16 LTS; Java(TM) SE Runtime Environment 18.9 (build 11.0.1+13-LTS); Java HotSpot(TM) 64-Bit Server VM 18.9 (build 11.0.1+13-LTS, mixed mode)\n",
      "  Starting server from /Users/yigongzhang/miniconda3/envs/python/lib/python3.6/site-packages/h2o/backend/bin/h2o.jar\n",
      "  Ice root: /var/folders/cg/msv4ryrx4nj787spgb4ghfxh0000gn/T/tmpuij87115\n",
      "  JVM stdout: /var/folders/cg/msv4ryrx4nj787spgb4ghfxh0000gn/T/tmpuij87115/h2o_yigongzhang_started_from_python.out\n",
      "  JVM stderr: /var/folders/cg/msv4ryrx4nj787spgb4ghfxh0000gn/T/tmpuij87115/h2o_yigongzhang_started_from_python.err\n",
      "  Server is running at http://127.0.0.1:54321\n",
      "Connecting to H2O server at http://127.0.0.1:54321... successful.\n"
     ]
    },
    {
     "data": {
      "text/html": [
       "<div style=\"overflow:auto\"><table style=\"width:50%\"><tr><td>H2O cluster uptime:</td>\n",
       "<td>02 secs</td></tr>\n",
       "<tr><td>H2O cluster timezone:</td>\n",
       "<td>America/Chicago</td></tr>\n",
       "<tr><td>H2O data parsing timezone:</td>\n",
       "<td>UTC</td></tr>\n",
       "<tr><td>H2O cluster version:</td>\n",
       "<td>3.22.1.1</td></tr>\n",
       "<tr><td>H2O cluster version age:</td>\n",
       "<td>18 days </td></tr>\n",
       "<tr><td>H2O cluster name:</td>\n",
       "<td>H2O_from_python_yigongzhang_o98npf</td></tr>\n",
       "<tr><td>H2O cluster total nodes:</td>\n",
       "<td>1</td></tr>\n",
       "<tr><td>H2O cluster free memory:</td>\n",
       "<td>4 Gb</td></tr>\n",
       "<tr><td>H2O cluster total cores:</td>\n",
       "<td>12</td></tr>\n",
       "<tr><td>H2O cluster allowed cores:</td>\n",
       "<td>12</td></tr>\n",
       "<tr><td>H2O cluster status:</td>\n",
       "<td>accepting new members, healthy</td></tr>\n",
       "<tr><td>H2O connection url:</td>\n",
       "<td>http://127.0.0.1:54321</td></tr>\n",
       "<tr><td>H2O connection proxy:</td>\n",
       "<td>None</td></tr>\n",
       "<tr><td>H2O internal security:</td>\n",
       "<td>False</td></tr>\n",
       "<tr><td>H2O API Extensions:</td>\n",
       "<td>XGBoost, Algos, AutoML, Core V3, Core V4</td></tr>\n",
       "<tr><td>Python version:</td>\n",
       "<td>3.6.8 final</td></tr></table></div>"
      ],
      "text/plain": [
       "--------------------------  ----------------------------------------\n",
       "H2O cluster uptime:         02 secs\n",
       "H2O cluster timezone:       America/Chicago\n",
       "H2O data parsing timezone:  UTC\n",
       "H2O cluster version:        3.22.1.1\n",
       "H2O cluster version age:    18 days\n",
       "H2O cluster name:           H2O_from_python_yigongzhang_o98npf\n",
       "H2O cluster total nodes:    1\n",
       "H2O cluster free memory:    4 Gb\n",
       "H2O cluster total cores:    12\n",
       "H2O cluster allowed cores:  12\n",
       "H2O cluster status:         accepting new members, healthy\n",
       "H2O connection url:         http://127.0.0.1:54321\n",
       "H2O connection proxy:\n",
       "H2O internal security:      False\n",
       "H2O API Extensions:         XGBoost, Algos, AutoML, Core V3, Core V4\n",
       "Python version:             3.6.8 final\n",
       "--------------------------  ----------------------------------------"
      ]
     },
     "metadata": {},
     "output_type": "display_data"
    }
   ],
   "source": [
    "import h2o\n",
    "from h2o.frame import H2OFrame\n",
    "from h2o.estimators.random_forest import H2ORandomForestEstimator\n",
    "\n",
    "h2o.init()\n",
    "h2o.remove_all()"
   ]
  },
  {
   "cell_type": "markdown",
   "metadata": {},
   "source": [
    "## Loading data into h2o environment"
   ]
  },
  {
   "cell_type": "code",
   "execution_count": 20,
   "metadata": {
    "ExecuteTime": {
     "end_time": "2019-01-15T19:24:00.681363Z",
     "start_time": "2019-01-15T19:24:00.675346Z"
    }
   },
   "outputs": [
    {
     "data": {
      "text/plain": [
       "Index(['employee_id', 'company_id', 'dept', 'seniority', 'salary', 'join_date',\n",
       "       'quit_date', 'churn_ind'],\n",
       "      dtype='object')"
      ]
     },
     "execution_count": 20,
     "metadata": {},
     "output_type": "execute_result"
    }
   ],
   "source": [
    "df.columns"
   ]
  },
  {
   "cell_type": "code",
   "execution_count": 21,
   "metadata": {
    "ExecuteTime": {
     "end_time": "2019-01-15T19:24:01.866647Z",
     "start_time": "2019-01-15T19:24:00.684371Z"
    }
   },
   "outputs": [
    {
     "name": "stdout",
     "output_type": "stream",
     "text": [
      "Parse progress: |█████████████████████████████████████████████████████████| 100%\n"
     ]
    },
    {
     "data": {
      "text/html": [
       "<table>\n",
       "<thead>\n",
       "<tr><th>       </th><th>company_id  </th><th>dept            </th><th>seniority         </th><th>salary           </th><th>churn_ind  </th></tr>\n",
       "</thead>\n",
       "<tbody>\n",
       "<tr><td>type   </td><td>enum        </td><td>enum            </td><td>int               </td><td>int              </td><td>enum       </td></tr>\n",
       "<tr><td>mins   </td><td>            </td><td>                </td><td>1.0               </td><td>17000.0          </td><td>           </td></tr>\n",
       "<tr><td>mean   </td><td>            </td><td>                </td><td>14.120971659919004</td><td>138176.2753036432</td><td>           </td></tr>\n",
       "<tr><td>maxs   </td><td>            </td><td>                </td><td>29.0              </td><td>408000.0         </td><td>           </td></tr>\n",
       "<tr><td>sigma  </td><td>            </td><td>                </td><td>8.054137181668152 </td><td>76056.33195256838</td><td>           </td></tr>\n",
       "<tr><td>zeros  </td><td>            </td><td>                </td><td>0                 </td><td>0                </td><td>           </td></tr>\n",
       "<tr><td>missing</td><td>0           </td><td>0               </td><td>0                 </td><td>0                </td><td>0          </td></tr>\n",
       "<tr><td>0      </td><td>7           </td><td>customer_service</td><td>28.0              </td><td>89000.0          </td><td>1          </td></tr>\n",
       "<tr><td>1      </td><td>7           </td><td>marketing       </td><td>20.0              </td><td>183000.0         </td><td>1          </td></tr>\n",
       "<tr><td>2      </td><td>4           </td><td>marketing       </td><td>14.0              </td><td>101000.0         </td><td>0          </td></tr>\n",
       "<tr><td>3      </td><td>7           </td><td>customer_service</td><td>20.0              </td><td>115000.0         </td><td>1          </td></tr>\n",
       "<tr><td>4      </td><td>2           </td><td>data_science    </td><td>23.0              </td><td>276000.0         </td><td>1          </td></tr>\n",
       "<tr><td>5      </td><td>4           </td><td>data_science    </td><td>14.0              </td><td>165000.0         </td><td>1          </td></tr>\n",
       "<tr><td>6      </td><td>4           </td><td>customer_service</td><td>21.0              </td><td>107000.0         </td><td>0          </td></tr>\n",
       "<tr><td>7      </td><td>2           </td><td>customer_service</td><td>4.0               </td><td>30000.0          </td><td>0          </td></tr>\n",
       "<tr><td>8      </td><td>9           </td><td>engineer        </td><td>7.0               </td><td>160000.0         </td><td>1          </td></tr>\n",
       "<tr><td>9      </td><td>1           </td><td>sales           </td><td>7.0               </td><td>104000.0         </td><td>0          </td></tr>\n",
       "</tbody>\n",
       "</table>"
      ]
     },
     "metadata": {},
     "output_type": "display_data"
    }
   ],
   "source": [
    "h2o_df = H2OFrame(df[['company_id','dept','seniority','salary','churn_ind']])\n",
    "\n",
    "h2o_df[['company_id', 'dept', 'churn_ind']] = h2o_df[['company_id', 'dept', 'churn_ind']].asfactor()\n",
    "h2o_df.summary()"
   ]
  },
  {
   "cell_type": "markdown",
   "metadata": {},
   "source": [
    "## Train, test split"
   ]
  },
  {
   "cell_type": "code",
   "execution_count": 22,
   "metadata": {
    "ExecuteTime": {
     "end_time": "2019-01-15T19:24:30.339200Z",
     "start_time": "2019-01-15T19:24:01.868652Z"
    }
   },
   "outputs": [
    {
     "name": "stdout",
     "output_type": "stream",
     "text": [
      "drf Model Build progress: |███████████████████████████████████████████████| 100%\n"
     ]
    }
   ],
   "source": [
    "strat_split = h2o_df['churn_ind'].stratified_split(test_frac = 0.25, seed = 123)\n",
    "\n",
    "train = h2o_df[strat_split == 'train']\n",
    "test = h2o_df[strat_split == 'test']\n",
    "\n",
    "feature = ['company_id','dept','seniority','salary']\n",
    "target = 'churn_ind'\n",
    "\n",
    "model = H2ORandomForestEstimator(balance_classes = True, ntrees = 100, max_depth = 20, seed = 123, \n",
    "                                 score_each_iteration = True, nfolds = 5)\n",
    "model.train(x = feature, y=target,  training_frame = train)"
   ]
  },
  {
   "cell_type": "markdown",
   "metadata": {},
   "source": [
    "## Model Performance"
   ]
  },
  {
   "cell_type": "code",
   "execution_count": 23,
   "metadata": {
    "ExecuteTime": {
     "end_time": "2019-01-15T19:24:30.723660Z",
     "start_time": "2019-01-15T19:24:30.341206Z"
    },
    "scrolled": false
   },
   "outputs": [
    {
     "name": "stdout",
     "output_type": "stream",
     "text": [
      "Model Details\n",
      "=============\n",
      "H2ORandomForestEstimator :  Distributed Random Forest\n",
      "Model Key:  DRF_model_python_1547611457139_1\n",
      "\n",
      "\n",
      "ModelMetricsBinomial: drf\n",
      "** Reported on train data. **\n",
      "\n",
      "MSE: 0.2572237012115018\n",
      "RMSE: 0.5071722598994367\n",
      "LogLoss: 0.7309458475923475\n",
      "Mean Per-Class Error: 0.41985870664957303\n",
      "AUC: 0.6013473497186853\n",
      "pr_auc: 0.5655238896493485\n",
      "Gini: 0.20269469943737062\n",
      "Confusion Matrix (Act/Pred) for max f1 @ threshold = 0.2620002131704731: \n"
     ]
    },
    {
     "data": {
      "text/html": [
       "<div style=\"overflow:auto\"><table style=\"width:50%\"><tr><td><b></b></td>\n",
       "<td><b>0</b></td>\n",
       "<td><b>1</b></td>\n",
       "<td><b>Error</b></td>\n",
       "<td><b>Rate</b></td></tr>\n",
       "<tr><td>0</td>\n",
       "<td>1653.0</td>\n",
       "<td>8493.0</td>\n",
       "<td>0.8371</td>\n",
       "<td> (8493.0/10146.0)</td></tr>\n",
       "<tr><td>1</td>\n",
       "<td>775.0</td>\n",
       "<td>9356.0</td>\n",
       "<td>0.0765</td>\n",
       "<td> (775.0/10131.0)</td></tr>\n",
       "<tr><td>Total</td>\n",
       "<td>2428.0</td>\n",
       "<td>17849.0</td>\n",
       "<td>0.4571</td>\n",
       "<td> (9268.0/20277.0)</td></tr></table></div>"
      ],
      "text/plain": [
       "       0     1      Error    Rate\n",
       "-----  ----  -----  -------  ----------------\n",
       "0      1653  8493   0.8371   (8493.0/10146.0)\n",
       "1      775   9356   0.0765   (775.0/10131.0)\n",
       "Total  2428  17849  0.4571   (9268.0/20277.0)"
      ]
     },
     "metadata": {},
     "output_type": "display_data"
    },
    {
     "name": "stdout",
     "output_type": "stream",
     "text": [
      "Maximum Metrics: Maximum metrics at their respective thresholds\n",
      "\n"
     ]
    },
    {
     "data": {
      "text/html": [
       "<div style=\"overflow:auto\"><table style=\"width:50%\"><tr><td><b>metric</b></td>\n",
       "<td><b>threshold</b></td>\n",
       "<td><b>value</b></td>\n",
       "<td><b>idx</b></td></tr>\n",
       "<tr><td>max f1</td>\n",
       "<td>0.2620002</td>\n",
       "<td>0.6687634</td>\n",
       "<td>320.0</td></tr>\n",
       "<tr><td>max f2</td>\n",
       "<td>0.0</td>\n",
       "<td>0.8331277</td>\n",
       "<td>399.0</td></tr>\n",
       "<tr><td>max f0point5</td>\n",
       "<td>0.4435209</td>\n",
       "<td>0.5868098</td>\n",
       "<td>239.0</td></tr>\n",
       "<tr><td>max accuracy</td>\n",
       "<td>0.5193976</td>\n",
       "<td>0.5801154</td>\n",
       "<td>201.0</td></tr>\n",
       "<tr><td>max precision</td>\n",
       "<td>0.6316516</td>\n",
       "<td>0.5969240</td>\n",
       "<td>142.0</td></tr>\n",
       "<tr><td>max recall</td>\n",
       "<td>0.0</td>\n",
       "<td>1.0</td>\n",
       "<td>399.0</td></tr>\n",
       "<tr><td>max specificity</td>\n",
       "<td>0.9982353</td>\n",
       "<td>0.9997043</td>\n",
       "<td>0.0</td></tr>\n",
       "<tr><td>max absolute_mcc</td>\n",
       "<td>0.4435209</td>\n",
       "<td>0.1634806</td>\n",
       "<td>239.0</td></tr>\n",
       "<tr><td>max min_per_class_accuracy</td>\n",
       "<td>0.5402425</td>\n",
       "<td>0.5777317</td>\n",
       "<td>190.0</td></tr>\n",
       "<tr><td>max mean_per_class_accuracy</td>\n",
       "<td>0.5193976</td>\n",
       "<td>0.5801413</td>\n",
       "<td>201.0</td></tr></table></div>"
      ],
      "text/plain": [
       "metric                       threshold    value     idx\n",
       "---------------------------  -----------  --------  -----\n",
       "max f1                       0.262        0.668763  320\n",
       "max f2                       0            0.833128  399\n",
       "max f0point5                 0.443521     0.58681   239\n",
       "max accuracy                 0.519398     0.580115  201\n",
       "max precision                0.631652     0.596924  142\n",
       "max recall                   0            1         399\n",
       "max specificity              0.998235     0.999704  0\n",
       "max absolute_mcc             0.443521     0.163481  239\n",
       "max min_per_class_accuracy   0.540242     0.577732  190\n",
       "max mean_per_class_accuracy  0.519398     0.580141  201"
      ]
     },
     "metadata": {},
     "output_type": "display_data"
    },
    {
     "name": "stdout",
     "output_type": "stream",
     "text": [
      "Gains/Lift Table: Avg response rate: 49.96 %, avg score: 52.70 %\n",
      "\n"
     ]
    },
    {
     "data": {
      "text/html": [
       "<div style=\"overflow:auto\"><table style=\"width:50%\"><tr><td><b></b></td>\n",
       "<td><b>group</b></td>\n",
       "<td><b>cumulative_data_fraction</b></td>\n",
       "<td><b>lower_threshold</b></td>\n",
       "<td><b>lift</b></td>\n",
       "<td><b>cumulative_lift</b></td>\n",
       "<td><b>response_rate</b></td>\n",
       "<td><b>score</b></td>\n",
       "<td><b>cumulative_response_rate</b></td>\n",
       "<td><b>cumulative_score</b></td>\n",
       "<td><b>capture_rate</b></td>\n",
       "<td><b>cumulative_capture_rate</b></td>\n",
       "<td><b>gain</b></td>\n",
       "<td><b>cumulative_gain</b></td></tr>\n",
       "<tr><td></td>\n",
       "<td>1</td>\n",
       "<td>0.0100113</td>\n",
       "<td>0.9178502</td>\n",
       "<td>1.0944057</td>\n",
       "<td>1.0944057</td>\n",
       "<td>0.5467980</td>\n",
       "<td>0.9446817</td>\n",
       "<td>0.5467980</td>\n",
       "<td>0.9446817</td>\n",
       "<td>0.0109565</td>\n",
       "<td>0.0109565</td>\n",
       "<td>9.4405651</td>\n",
       "<td>9.4405651</td></tr>\n",
       "<tr><td></td>\n",
       "<td>2</td>\n",
       "<td>0.0200227</td>\n",
       "<td>0.8913425</td>\n",
       "<td>1.1141247</td>\n",
       "<td>1.1042652</td>\n",
       "<td>0.5566502</td>\n",
       "<td>0.9026092</td>\n",
       "<td>0.5517241</td>\n",
       "<td>0.9236455</td>\n",
       "<td>0.0111539</td>\n",
       "<td>0.0221104</td>\n",
       "<td>11.4124671</td>\n",
       "<td>10.4265161</td></tr>\n",
       "<tr><td></td>\n",
       "<td>3</td>\n",
       "<td>0.0300833</td>\n",
       "<td>0.8751651</td>\n",
       "<td>1.0694186</td>\n",
       "<td>1.0926115</td>\n",
       "<td>0.5343137</td>\n",
       "<td>0.8824910</td>\n",
       "<td>0.5459016</td>\n",
       "<td>0.9098823</td>\n",
       "<td>0.0107591</td>\n",
       "<td>0.0328694</td>\n",
       "<td>6.9418558</td>\n",
       "<td>9.2611543</td></tr>\n",
       "<tr><td></td>\n",
       "<td>4</td>\n",
       "<td>0.0400454</td>\n",
       "<td>0.8607983</td>\n",
       "<td>1.0998235</td>\n",
       "<td>1.0944057</td>\n",
       "<td>0.5495050</td>\n",
       "<td>0.8676164</td>\n",
       "<td>0.5467980</td>\n",
       "<td>0.8993679</td>\n",
       "<td>0.0109565</td>\n",
       "<td>0.0438259</td>\n",
       "<td>9.9823500</td>\n",
       "<td>9.4405651</td></tr>\n",
       "<tr><td></td>\n",
       "<td>5</td>\n",
       "<td>0.0500074</td>\n",
       "<td>0.8475411</td>\n",
       "<td>1.1889984</td>\n",
       "<td>1.1132496</td>\n",
       "<td>0.5940594</td>\n",
       "<td>0.8538655</td>\n",
       "<td>0.5562130</td>\n",
       "<td>0.8903033</td>\n",
       "<td>0.0118448</td>\n",
       "<td>0.0556707</td>\n",
       "<td>18.8998379</td>\n",
       "<td>11.3249567</td></tr>\n",
       "<tr><td></td>\n",
       "<td>6</td>\n",
       "<td>0.1000148</td>\n",
       "<td>0.7936463</td>\n",
       "<td>1.1783865</td>\n",
       "<td>1.1458180</td>\n",
       "<td>0.5887574</td>\n",
       "<td>0.8195163</td>\n",
       "<td>0.5724852</td>\n",
       "<td>0.8549098</td>\n",
       "<td>0.0589280</td>\n",
       "<td>0.1145988</td>\n",
       "<td>17.8386510</td>\n",
       "<td>14.5818038</td></tr>\n",
       "<tr><td></td>\n",
       "<td>7</td>\n",
       "<td>0.1500222</td>\n",
       "<td>0.7534361</td>\n",
       "<td>1.1803604</td>\n",
       "<td>1.1573321</td>\n",
       "<td>0.5897436</td>\n",
       "<td>0.7728641</td>\n",
       "<td>0.5782380</td>\n",
       "<td>0.8275612</td>\n",
       "<td>0.0590267</td>\n",
       "<td>0.1736255</td>\n",
       "<td>18.0360356</td>\n",
       "<td>15.7332144</td></tr>\n",
       "<tr><td></td>\n",
       "<td>8</td>\n",
       "<td>0.2000296</td>\n",
       "<td>0.7179983</td>\n",
       "<td>1.1902296</td>\n",
       "<td>1.1655565</td>\n",
       "<td>0.5946746</td>\n",
       "<td>0.7350393</td>\n",
       "<td>0.5823471</td>\n",
       "<td>0.8044307</td>\n",
       "<td>0.0595203</td>\n",
       "<td>0.2331458</td>\n",
       "<td>19.0229590</td>\n",
       "<td>16.5556506</td></tr>\n",
       "<tr><td></td>\n",
       "<td>9</td>\n",
       "<td>0.2999951</td>\n",
       "<td>0.6533905</td>\n",
       "<td>1.2352502</td>\n",
       "<td>1.1887801</td>\n",
       "<td>0.6171682</td>\n",
       "<td>0.6848001</td>\n",
       "<td>0.5939504</td>\n",
       "<td>0.7645670</td>\n",
       "<td>0.1234824</td>\n",
       "<td>0.3566282</td>\n",
       "<td>23.5250240</td>\n",
       "<td>18.8780112</td></tr>\n",
       "<tr><td></td>\n",
       "<td>10</td>\n",
       "<td>0.4000099</td>\n",
       "<td>0.5980335</td>\n",
       "<td>1.1675304</td>\n",
       "<td>1.1834670</td>\n",
       "<td>0.5833333</td>\n",
       "<td>0.6253986</td>\n",
       "<td>0.5912958</td>\n",
       "<td>0.7297706</td>\n",
       "<td>0.1167703</td>\n",
       "<td>0.4733985</td>\n",
       "<td>16.7530352</td>\n",
       "<td>18.3467017</td></tr>\n",
       "<tr><td></td>\n",
       "<td>11</td>\n",
       "<td>0.5000247</td>\n",
       "<td>0.5384318</td>\n",
       "<td>1.0530472</td>\n",
       "<td>1.1573805</td>\n",
       "<td>0.5261341</td>\n",
       "<td>0.5686883</td>\n",
       "<td>0.5782622</td>\n",
       "<td>0.6975510</td>\n",
       "<td>0.1053203</td>\n",
       "<td>0.5787188</td>\n",
       "<td>5.3047241</td>\n",
       "<td>15.7380489</td></tr>\n",
       "<tr><td></td>\n",
       "<td>12</td>\n",
       "<td>0.6000395</td>\n",
       "<td>0.4794188</td>\n",
       "<td>0.9977795</td>\n",
       "<td>1.1307781</td>\n",
       "<td>0.4985207</td>\n",
       "<td>0.5095072</td>\n",
       "<td>0.5649708</td>\n",
       "<td>0.6662078</td>\n",
       "<td>0.0997927</td>\n",
       "<td>0.6785115</td>\n",
       "<td>-0.2220468</td>\n",
       "<td>13.0778144</td></tr>\n",
       "<tr><td></td>\n",
       "<td>13</td>\n",
       "<td>0.7000049</td>\n",
       "<td>0.4152991</td>\n",
       "<td>0.9321153</td>\n",
       "<td>1.1024077</td>\n",
       "<td>0.4657129</td>\n",
       "<td>0.4480678</td>\n",
       "<td>0.5507961</td>\n",
       "<td>0.6350559</td>\n",
       "<td>0.0931794</td>\n",
       "<td>0.7716908</td>\n",
       "<td>-6.7884711</td>\n",
       "<td>10.2407733</td></tr>\n",
       "<tr><td></td>\n",
       "<td>14</td>\n",
       "<td>0.7999704</td>\n",
       "<td>0.3365183</td>\n",
       "<td>0.8847196</td>\n",
       "<td>1.0752051</td>\n",
       "<td>0.4420326</td>\n",
       "<td>0.3774901</td>\n",
       "<td>0.5372049</td>\n",
       "<td>0.6028701</td>\n",
       "<td>0.0884414</td>\n",
       "<td>0.8601323</td>\n",
       "<td>-11.5280404</td>\n",
       "<td>7.5205104</td></tr>\n",
       "<tr><td></td>\n",
       "<td>15</td>\n",
       "<td>0.8999852</td>\n",
       "<td>0.2382071</td>\n",
       "<td>0.7520356</td>\n",
       "<td>1.0392915</td>\n",
       "<td>0.3757396</td>\n",
       "<td>0.2899641</td>\n",
       "<td>0.5192613</td>\n",
       "<td>0.5680970</td>\n",
       "<td>0.0752147</td>\n",
       "<td>0.9353470</td>\n",
       "<td>-24.7964388</td>\n",
       "<td>3.9291479</td></tr>\n",
       "<tr><td></td>\n",
       "<td>16</td>\n",
       "<td>1.0</td>\n",
       "<td>0.0</td>\n",
       "<td>0.6464348</td>\n",
       "<td>1.0</td>\n",
       "<td>0.3229783</td>\n",
       "<td>0.1568518</td>\n",
       "<td>0.4996301</td>\n",
       "<td>0.5269664</td>\n",
       "<td>0.0646530</td>\n",
       "<td>1.0</td>\n",
       "<td>-35.3565190</td>\n",
       "<td>0.0</td></tr></table></div>"
      ],
      "text/plain": [
       "    group    cumulative_data_fraction    lower_threshold    lift      cumulative_lift    response_rate    score     cumulative_response_rate    cumulative_score    capture_rate    cumulative_capture_rate    gain       cumulative_gain\n",
       "--  -------  --------------------------  -----------------  --------  -----------------  ---------------  --------  --------------------------  ------------------  --------------  -------------------------  ---------  -----------------\n",
       "    1        0.0100113                   0.91785            1.09441   1.09441            0.546798         0.944682  0.546798                    0.944682            0.0109565       0.0109565                  9.44057    9.44057\n",
       "    2        0.0200227                   0.891342           1.11412   1.10427            0.55665          0.902609  0.551724                    0.923645            0.0111539       0.0221104                  11.4125    10.4265\n",
       "    3        0.0300833                   0.875165           1.06942   1.09261            0.534314         0.882491  0.545902                    0.909882            0.0107591       0.0328694                  6.94186    9.26115\n",
       "    4        0.0400454                   0.860798           1.09982   1.09441            0.549505         0.867616  0.546798                    0.899368            0.0109565       0.0438259                  9.98235    9.44057\n",
       "    5        0.0500074                   0.847541           1.189     1.11325            0.594059         0.853865  0.556213                    0.890303            0.0118448       0.0556707                  18.8998    11.325\n",
       "    6        0.100015                    0.793646           1.17839   1.14582            0.588757         0.819516  0.572485                    0.85491             0.058928        0.114599                   17.8387    14.5818\n",
       "    7        0.150022                    0.753436           1.18036   1.15733            0.589744         0.772864  0.578238                    0.827561            0.0590267       0.173626                   18.036     15.7332\n",
       "    8        0.20003                     0.717998           1.19023   1.16556            0.594675         0.735039  0.582347                    0.804431            0.0595203       0.233146                   19.023     16.5557\n",
       "    9        0.299995                    0.653391           1.23525   1.18878            0.617168         0.6848    0.59395                     0.764567            0.123482        0.356628                   23.525     18.878\n",
       "    10       0.40001                     0.598033           1.16753   1.18347            0.583333         0.625399  0.591296                    0.729771            0.11677         0.473398                   16.753     18.3467\n",
       "    11       0.500025                    0.538432           1.05305   1.15738            0.526134         0.568688  0.578262                    0.697551            0.10532         0.578719                   5.30472    15.738\n",
       "    12       0.600039                    0.479419           0.99778   1.13078            0.498521         0.509507  0.564971                    0.666208            0.0997927       0.678511                   -0.222047  13.0778\n",
       "    13       0.700005                    0.415299           0.932115  1.10241            0.465713         0.448068  0.550796                    0.635056            0.0931794       0.771691                   -6.78847   10.2408\n",
       "    14       0.79997                     0.336518           0.88472   1.07521            0.442033         0.37749   0.537205                    0.60287             0.0884414       0.860132                   -11.528    7.52051\n",
       "    15       0.899985                    0.238207           0.752036  1.03929            0.37574          0.289964  0.519261                    0.568097            0.0752147       0.935347                   -24.7964   3.92915\n",
       "    16       1                           0                  0.646435  1                  0.322978         0.156852  0.49963                     0.526966            0.064653        1                          -35.3565   0"
      ]
     },
     "metadata": {},
     "output_type": "display_data"
    },
    {
     "name": "stdout",
     "output_type": "stream",
     "text": [
      "\n",
      "\n",
      "ModelMetricsBinomial: drf\n",
      "** Reported on cross-validation data. **\n",
      "\n",
      "MSE: 0.2865144041904915\n",
      "RMSE: 0.5352704028717555\n",
      "LogLoss: 0.7910307852912336\n",
      "Mean Per-Class Error: 0.4926122900793035\n",
      "AUC: 0.49959525921648706\n",
      "pr_auc: 0.5414284195922158\n",
      "Gini: -0.0008094815670258715\n",
      "Confusion Matrix (Act/Pred) for max f1 @ threshold = 0.051947761934597936: \n"
     ]
    },
    {
     "data": {
      "text/html": [
       "<div style=\"overflow:auto\"><table style=\"width:50%\"><tr><td><b></b></td>\n",
       "<td><b>0</b></td>\n",
       "<td><b>1</b></td>\n",
       "<td><b>Error</b></td>\n",
       "<td><b>Rate</b></td></tr>\n",
       "<tr><td>0</td>\n",
       "<td>41.0</td>\n",
       "<td>8353.0</td>\n",
       "<td>0.9951</td>\n",
       "<td> (8353.0/8394.0)</td></tr>\n",
       "<tr><td>1</td>\n",
       "<td>15.0</td>\n",
       "<td>10116.0</td>\n",
       "<td>0.0015</td>\n",
       "<td> (15.0/10131.0)</td></tr>\n",
       "<tr><td>Total</td>\n",
       "<td>56.0</td>\n",
       "<td>18469.0</td>\n",
       "<td>0.4517</td>\n",
       "<td> (8368.0/18525.0)</td></tr></table></div>"
      ],
      "text/plain": [
       "       0    1      Error    Rate\n",
       "-----  ---  -----  -------  ----------------\n",
       "0      41   8353   0.9951   (8353.0/8394.0)\n",
       "1      15   10116  0.0015   (15.0/10131.0)\n",
       "Total  56   18469  0.4517   (8368.0/18525.0)"
      ]
     },
     "metadata": {},
     "output_type": "display_data"
    },
    {
     "name": "stdout",
     "output_type": "stream",
     "text": [
      "Maximum Metrics: Maximum metrics at their respective thresholds\n",
      "\n"
     ]
    },
    {
     "data": {
      "text/html": [
       "<div style=\"overflow:auto\"><table style=\"width:50%\"><tr><td><b>metric</b></td>\n",
       "<td><b>threshold</b></td>\n",
       "<td><b>value</b></td>\n",
       "<td><b>idx</b></td></tr>\n",
       "<tr><td>max f1</td>\n",
       "<td>0.0519478</td>\n",
       "<td>0.7074126</td>\n",
       "<td>391.0</td></tr>\n",
       "<tr><td>max f2</td>\n",
       "<td>0.0155657</td>\n",
       "<td>0.8578905</td>\n",
       "<td>397.0</td></tr>\n",
       "<tr><td>max f0point5</td>\n",
       "<td>0.0661579</td>\n",
       "<td>0.6021904</td>\n",
       "<td>388.0</td></tr>\n",
       "<tr><td>max accuracy</td>\n",
       "<td>0.0661579</td>\n",
       "<td>0.5485560</td>\n",
       "<td>388.0</td></tr>\n",
       "<tr><td>max precision</td>\n",
       "<td>0.2989858</td>\n",
       "<td>0.5509734</td>\n",
       "<td>313.0</td></tr>\n",
       "<tr><td>max recall</td>\n",
       "<td>0.0155657</td>\n",
       "<td>1.0</td>\n",
       "<td>397.0</td></tr>\n",
       "<tr><td>max specificity</td>\n",
       "<td>0.9841620</td>\n",
       "<td>0.9997617</td>\n",
       "<td>0.0</td></tr>\n",
       "<tr><td>max absolute_mcc</td>\n",
       "<td>0.0519478</td>\n",
       "<td>0.0308648</td>\n",
       "<td>391.0</td></tr>\n",
       "<tr><td>max min_per_class_accuracy</td>\n",
       "<td>0.5815671</td>\n",
       "<td>0.4990623</td>\n",
       "<td>177.0</td></tr>\n",
       "<tr><td>max mean_per_class_accuracy</td>\n",
       "<td>0.2901794</td>\n",
       "<td>0.5073877</td>\n",
       "<td>317.0</td></tr></table></div>"
      ],
      "text/plain": [
       "metric                       threshold    value      idx\n",
       "---------------------------  -----------  ---------  -----\n",
       "max f1                       0.0519478    0.707413   391\n",
       "max f2                       0.0155657    0.85789    397\n",
       "max f0point5                 0.0661579    0.60219    388\n",
       "max accuracy                 0.0661579    0.548556   388\n",
       "max precision                0.298986     0.550973   313\n",
       "max recall                   0.0155657    1          397\n",
       "max specificity              0.984162     0.999762   0\n",
       "max absolute_mcc             0.0519478    0.0308648  391\n",
       "max min_per_class_accuracy   0.581567     0.499062   177\n",
       "max mean_per_class_accuracy  0.290179     0.507388   317"
      ]
     },
     "metadata": {},
     "output_type": "display_data"
    },
    {
     "name": "stdout",
     "output_type": "stream",
     "text": [
      "Gains/Lift Table: Avg response rate: 54.69 %, avg score: 56.27 %\n",
      "\n"
     ]
    },
    {
     "data": {
      "text/html": [
       "<div style=\"overflow:auto\"><table style=\"width:50%\"><tr><td><b></b></td>\n",
       "<td><b>group</b></td>\n",
       "<td><b>cumulative_data_fraction</b></td>\n",
       "<td><b>lower_threshold</b></td>\n",
       "<td><b>lift</b></td>\n",
       "<td><b>cumulative_lift</b></td>\n",
       "<td><b>response_rate</b></td>\n",
       "<td><b>score</b></td>\n",
       "<td><b>cumulative_response_rate</b></td>\n",
       "<td><b>cumulative_score</b></td>\n",
       "<td><b>capture_rate</b></td>\n",
       "<td><b>cumulative_capture_rate</b></td>\n",
       "<td><b>gain</b></td>\n",
       "<td><b>cumulative_gain</b></td></tr>\n",
       "<tr><td></td>\n",
       "<td>1</td>\n",
       "<td>0.0100405</td>\n",
       "<td>0.9188990</td>\n",
       "<td>0.9241039</td>\n",
       "<td>0.9241039</td>\n",
       "<td>0.5053763</td>\n",
       "<td>0.9387076</td>\n",
       "<td>0.5053763</td>\n",
       "<td>0.9387076</td>\n",
       "<td>0.0092785</td>\n",
       "<td>0.0092785</td>\n",
       "<td>-7.5896084</td>\n",
       "<td>-7.5896084</td></tr>\n",
       "<tr><td></td>\n",
       "<td>2</td>\n",
       "<td>0.0200270</td>\n",
       "<td>0.8959371</td>\n",
       "<td>0.8697949</td>\n",
       "<td>0.8970226</td>\n",
       "<td>0.4756757</td>\n",
       "<td>0.9059867</td>\n",
       "<td>0.4905660</td>\n",
       "<td>0.9223912</td>\n",
       "<td>0.0086862</td>\n",
       "<td>0.0179647</td>\n",
       "<td>-13.0205124</td>\n",
       "<td>-10.2977411</td></tr>\n",
       "<tr><td></td>\n",
       "<td>3</td>\n",
       "<td>0.0300135</td>\n",
       "<td>0.8793662</td>\n",
       "<td>1.0477075</td>\n",
       "<td>0.9471605</td>\n",
       "<td>0.5729730</td>\n",
       "<td>0.8872317</td>\n",
       "<td>0.5179856</td>\n",
       "<td>0.9106925</td>\n",
       "<td>0.0104629</td>\n",
       "<td>0.0284276</td>\n",
       "<td>4.7707465</td>\n",
       "<td>-5.2839458</td></tr>\n",
       "<tr><td></td>\n",
       "<td>4</td>\n",
       "<td>0.04</td>\n",
       "<td>0.8659752</td>\n",
       "<td>0.9982873</td>\n",
       "<td>0.9599250</td>\n",
       "<td>0.5459459</td>\n",
       "<td>0.8727227</td>\n",
       "<td>0.5249663</td>\n",
       "<td>0.9012128</td>\n",
       "<td>0.0099694</td>\n",
       "<td>0.0383970</td>\n",
       "<td>-0.1712699</td>\n",
       "<td>-4.0075017</td></tr>\n",
       "<tr><td></td>\n",
       "<td>5</td>\n",
       "<td>0.0500405</td>\n",
       "<td>0.8531191</td>\n",
       "<td>0.9929202</td>\n",
       "<td>0.9665454</td>\n",
       "<td>0.5430108</td>\n",
       "<td>0.8593065</td>\n",
       "<td>0.5285868</td>\n",
       "<td>0.8928044</td>\n",
       "<td>0.0099694</td>\n",
       "<td>0.0483664</td>\n",
       "<td>-0.7079835</td>\n",
       "<td>-3.3454625</td></tr>\n",
       "<tr><td></td>\n",
       "<td>6</td>\n",
       "<td>0.1000270</td>\n",
       "<td>0.8090976</td>\n",
       "<td>0.9774625</td>\n",
       "<td>0.9720010</td>\n",
       "<td>0.5345572</td>\n",
       "<td>0.8295508</td>\n",
       "<td>0.5315704</td>\n",
       "<td>0.8611947</td>\n",
       "<td>0.0488599</td>\n",
       "<td>0.0972263</td>\n",
       "<td>-2.2537480</td>\n",
       "<td>-2.7998998</td></tr>\n",
       "<tr><td></td>\n",
       "<td>7</td>\n",
       "<td>0.1500135</td>\n",
       "<td>0.7754189</td>\n",
       "<td>0.9340197</td>\n",
       "<td>0.9593451</td>\n",
       "<td>0.5107991</td>\n",
       "<td>0.7912698</td>\n",
       "<td>0.5246492</td>\n",
       "<td>0.8378948</td>\n",
       "<td>0.0466884</td>\n",
       "<td>0.1439147</td>\n",
       "<td>-6.5980259</td>\n",
       "<td>-4.0654863</td></tr>\n",
       "<tr><td></td>\n",
       "<td>8</td>\n",
       "<td>0.2</td>\n",
       "<td>0.7439101</td>\n",
       "<td>1.0031333</td>\n",
       "<td>0.9702892</td>\n",
       "<td>0.5485961</td>\n",
       "<td>0.7595374</td>\n",
       "<td>0.5306343</td>\n",
       "<td>0.8183107</td>\n",
       "<td>0.0501431</td>\n",
       "<td>0.1940578</td>\n",
       "<td>0.3133252</td>\n",
       "<td>-2.9710789</td></tr>\n",
       "<tr><td></td>\n",
       "<td>9</td>\n",
       "<td>0.3000270</td>\n",
       "<td>0.6897579</td>\n",
       "<td>1.0164071</td>\n",
       "<td>0.9856646</td>\n",
       "<td>0.5558554</td>\n",
       "<td>0.7161971</td>\n",
       "<td>0.5390428</td>\n",
       "<td>0.7842667</td>\n",
       "<td>0.1016681</td>\n",
       "<td>0.2957260</td>\n",
       "<td>1.6407139</td>\n",
       "<td>-1.4335380</td></tr>\n",
       "<tr><td></td>\n",
       "<td>10</td>\n",
       "<td>0.4</td>\n",
       "<td>0.6359672</td>\n",
       "<td>1.0416394</td>\n",
       "<td>0.9996545</td>\n",
       "<td>0.5696544</td>\n",
       "<td>0.6625396</td>\n",
       "<td>0.5466937</td>\n",
       "<td>0.7538432</td>\n",
       "<td>0.1041358</td>\n",
       "<td>0.3998618</td>\n",
       "<td>4.1639352</td>\n",
       "<td>-0.0345474</td></tr>\n",
       "<tr><td></td>\n",
       "<td>11</td>\n",
       "<td>0.5000270</td>\n",
       "<td>0.5803452</td>\n",
       "<td>1.0035787</td>\n",
       "<td>1.0004395</td>\n",
       "<td>0.5488397</td>\n",
       "<td>0.6087502</td>\n",
       "<td>0.5471230</td>\n",
       "<td>0.7248183</td>\n",
       "<td>0.1003850</td>\n",
       "<td>0.5002468</td>\n",
       "<td>0.3578699</td>\n",
       "<td>0.0439530</td></tr>\n",
       "<tr><td></td>\n",
       "<td>12</td>\n",
       "<td>0.6</td>\n",
       "<td>0.5239445</td>\n",
       "<td>1.0120193</td>\n",
       "<td>1.0023690</td>\n",
       "<td>0.5534557</td>\n",
       "<td>0.5521893</td>\n",
       "<td>0.5481781</td>\n",
       "<td>0.6960546</td>\n",
       "<td>0.1011746</td>\n",
       "<td>0.6014214</td>\n",
       "<td>1.2019275</td>\n",
       "<td>0.2368967</td></tr>\n",
       "<tr><td></td>\n",
       "<td>13</td>\n",
       "<td>0.6999730</td>\n",
       "<td>0.4603590</td>\n",
       "<td>0.9952346</td>\n",
       "<td>1.0013500</td>\n",
       "<td>0.5442765</td>\n",
       "<td>0.4929269</td>\n",
       "<td>0.5476209</td>\n",
       "<td>0.6670430</td>\n",
       "<td>0.0994966</td>\n",
       "<td>0.7009180</td>\n",
       "<td>-0.4765435</td>\n",
       "<td>0.1350002</td></tr>\n",
       "<tr><td></td>\n",
       "<td>14</td>\n",
       "<td>0.8</td>\n",
       "<td>0.3885157</td>\n",
       "<td>0.9956843</td>\n",
       "<td>1.0006416</td>\n",
       "<td>0.5445224</td>\n",
       "<td>0.4256883</td>\n",
       "<td>0.5472335</td>\n",
       "<td>0.6368655</td>\n",
       "<td>0.0995953</td>\n",
       "<td>0.8005133</td>\n",
       "<td>-0.4315725</td>\n",
       "<td>0.0641595</td></tr>\n",
       "<tr><td></td>\n",
       "<td>15</td>\n",
       "<td>0.8999730</td>\n",
       "<td>0.2841526</td>\n",
       "<td>1.0515127</td>\n",
       "<td>1.0062926</td>\n",
       "<td>0.5750540</td>\n",
       "<td>0.3405004</td>\n",
       "<td>0.5503239</td>\n",
       "<td>0.6039440</td>\n",
       "<td>0.1051229</td>\n",
       "<td>0.9056362</td>\n",
       "<td>5.1512710</td>\n",
       "<td>0.6292585</td></tr>\n",
       "<tr><td></td>\n",
       "<td>16</td>\n",
       "<td>1.0</td>\n",
       "<td>0.0</td>\n",
       "<td>0.9433837</td>\n",
       "<td>1.0</td>\n",
       "<td>0.5159201</td>\n",
       "<td>0.1912336</td>\n",
       "<td>0.5468826</td>\n",
       "<td>0.5626618</td>\n",
       "<td>0.0943638</td>\n",
       "<td>1.0</td>\n",
       "<td>-5.6616287</td>\n",
       "<td>0.0</td></tr></table></div>"
      ],
      "text/plain": [
       "    group    cumulative_data_fraction    lower_threshold    lift      cumulative_lift    response_rate    score     cumulative_response_rate    cumulative_score    capture_rate    cumulative_capture_rate    gain       cumulative_gain\n",
       "--  -------  --------------------------  -----------------  --------  -----------------  ---------------  --------  --------------------------  ------------------  --------------  -------------------------  ---------  -----------------\n",
       "    1        0.0100405                   0.918899           0.924104  0.924104           0.505376         0.938708  0.505376                    0.938708            0.00927845      0.00927845                 -7.58961   -7.58961\n",
       "    2        0.020027                    0.895937           0.869795  0.897023           0.475676         0.905987  0.490566                    0.922391            0.00868621      0.0179647                  -13.0205   -10.2977\n",
       "    3        0.0300135                   0.879366           1.04771   0.947161           0.572973         0.887232  0.517986                    0.910692            0.0104629       0.0284276                  4.77075    -5.28395\n",
       "    4        0.04                        0.865975           0.998287  0.959925           0.545946         0.872723  0.524966                    0.901213            0.0099694       0.038397                   -0.17127   -4.0075\n",
       "    5        0.0500405                   0.853119           0.99292   0.966545           0.543011         0.859307  0.528587                    0.892804            0.0099694       0.0483664                  -0.707983  -3.34546\n",
       "    6        0.100027                    0.809098           0.977463  0.972001           0.534557         0.829551  0.53157                     0.861195            0.0488599       0.0972263                  -2.25375   -2.7999\n",
       "    7        0.150013                    0.775419           0.93402   0.959345           0.510799         0.79127   0.524649                    0.837895            0.0466884       0.143915                   -6.59803   -4.06549\n",
       "    8        0.2                         0.74391            1.00313   0.970289           0.548596         0.759537  0.530634                    0.818311            0.0501431       0.194058                   0.313325   -2.97108\n",
       "    9        0.300027                    0.689758           1.01641   0.985665           0.555855         0.716197  0.539043                    0.784267            0.101668        0.295726                   1.64071    -1.43354\n",
       "    10       0.4                         0.635967           1.04164   0.999655           0.569654         0.66254   0.546694                    0.753843            0.104136        0.399862                   4.16394    -0.0345474\n",
       "    11       0.500027                    0.580345           1.00358   1.00044            0.54884          0.60875   0.547123                    0.724818            0.100385        0.500247                   0.35787    0.043953\n",
       "    12       0.6                         0.523944           1.01202   1.00237            0.553456         0.552189  0.548178                    0.696055            0.101175        0.601421                   1.20193    0.236897\n",
       "    13       0.699973                    0.460359           0.995235  1.00135            0.544276         0.492927  0.547621                    0.667043            0.0994966       0.700918                   -0.476543  0.135\n",
       "    14       0.8                         0.388516           0.995684  1.00064            0.544522         0.425688  0.547233                    0.636866            0.0995953       0.800513                   -0.431573  0.0641595\n",
       "    15       0.899973                    0.284153           1.05151   1.00629            0.575054         0.3405    0.550324                    0.603944            0.105123        0.905636                   5.15127    0.629259\n",
       "    16       1                           0                  0.943384  1                  0.51592          0.191234  0.546883                    0.562662            0.0943638       1                          -5.66163   0"
      ]
     },
     "metadata": {},
     "output_type": "display_data"
    },
    {
     "name": "stdout",
     "output_type": "stream",
     "text": [
      "\n",
      "Cross-Validation Metrics Summary: \n"
     ]
    },
    {
     "data": {
      "text/html": [
       "<div style=\"overflow:auto\"><table style=\"width:50%\"><tr><td><b></b></td>\n",
       "<td><b>mean</b></td>\n",
       "<td><b>sd</b></td>\n",
       "<td><b>cv_1_valid</b></td>\n",
       "<td><b>cv_2_valid</b></td>\n",
       "<td><b>cv_3_valid</b></td>\n",
       "<td><b>cv_4_valid</b></td>\n",
       "<td><b>cv_5_valid</b></td></tr>\n",
       "<tr><td>accuracy</td>\n",
       "<td>0.5484853</td>\n",
       "<td>0.0027320</td>\n",
       "<td>0.5474254</td>\n",
       "<td>0.5508772</td>\n",
       "<td>0.5481482</td>\n",
       "<td>0.5537838</td>\n",
       "<td>0.5421918</td></tr>\n",
       "<tr><td>auc</td>\n",
       "<td>0.4996555</td>\n",
       "<td>0.0052402</td>\n",
       "<td>0.4946552</td>\n",
       "<td>0.5120488</td>\n",
       "<td>0.5031385</td>\n",
       "<td>0.4977334</td>\n",
       "<td>0.4907016</td></tr>\n",
       "<tr><td>err</td>\n",
       "<td>0.4515147</td>\n",
       "<td>0.0027320</td>\n",
       "<td>0.4525745</td>\n",
       "<td>0.4491228</td>\n",
       "<td>0.4518518</td>\n",
       "<td>0.4462162</td>\n",
       "<td>0.4578082</td></tr>\n",
       "<tr><td>err_count</td>\n",
       "<td>1672.8</td>\n",
       "<td>13.426839</td>\n",
       "<td>1670.0</td>\n",
       "<td>1664.0</td>\n",
       "<td>1708.0</td>\n",
       "<td>1651.0</td>\n",
       "<td>1671.0</td></tr>\n",
       "<tr><td>f0point5</td>\n",
       "<td>0.6021919</td>\n",
       "<td>0.0027651</td>\n",
       "<td>0.6015509</td>\n",
       "<td>0.6046470</td>\n",
       "<td>0.6018465</td>\n",
       "<td>0.6073236</td>\n",
       "<td>0.5955914</td></tr>\n",
       "<tr><td>f1</td>\n",
       "<td>0.7075495</td>\n",
       "<td>0.0023845</td>\n",
       "<td>0.707223</td>\n",
       "<td>0.7098012</td>\n",
       "<td>0.7069321</td>\n",
       "<td>0.7119176</td>\n",
       "<td>0.7018733</td></tr>\n",
       "<tr><td>f2</td>\n",
       "<td>0.8576</td>\n",
       "<td>0.0014377</td>\n",
       "<td>0.8579328</td>\n",
       "<td>0.8592299</td>\n",
       "<td>0.8564776</td>\n",
       "<td>0.8600338</td>\n",
       "<td>0.8543260</td></tr>\n",
       "<tr><td>lift_top_group</td>\n",
       "<td>0.8811834</td>\n",
       "<td>0.1118717</td>\n",
       "<td>1.1866701</td>\n",
       "<td>0.7662082</td>\n",
       "<td>0.7703673</td>\n",
       "<td>0.8810573</td>\n",
       "<td>0.8016142</td></tr>\n",
       "<tr><td>logloss</td>\n",
       "<td>0.7910453</td>\n",
       "<td>0.0044349</td>\n",
       "<td>0.7909091</td>\n",
       "<td>0.7802023</td>\n",
       "<td>0.7936671</td>\n",
       "<td>0.7909054</td>\n",
       "<td>0.7995424</td></tr>\n",
       "<tr><td>max_per_class_error</td>\n",
       "<td>0.9950081</td>\n",
       "<td>0.0014499</td>\n",
       "<td>0.9982068</td>\n",
       "<td>0.996405</td>\n",
       "<td>0.9929988</td>\n",
       "<td>0.9945685</td>\n",
       "<td>0.9928614</td></tr>\n",
       "<tr><td>mcc</td>\n",
       "<td>0.0361086</td>\n",
       "<td>0.0049321</td>\n",
       "<td>0.0313205</td>\n",
       "<td>0.0355614</td>\n",
       "<td>0.0296272</td>\n",
       "<td>0.0346610</td>\n",
       "<td>0.0493725</td></tr>\n",
       "<tr><td>mean_per_class_accuracy</td>\n",
       "<td>0.501908</td>\n",
       "<td>0.0005005</td>\n",
       "<td>0.5008966</td>\n",
       "<td>0.5015519</td>\n",
       "<td>0.5020485</td>\n",
       "<td>0.5019816</td>\n",
       "<td>0.5030614</td></tr>\n",
       "<tr><td>mean_per_class_error</td>\n",
       "<td>0.498092</td>\n",
       "<td>0.0005005</td>\n",
       "<td>0.4991034</td>\n",
       "<td>0.4984481</td>\n",
       "<td>0.4979515</td>\n",
       "<td>0.4980185</td>\n",
       "<td>0.4969386</td></tr>\n",
       "<tr><td>mse</td>\n",
       "<td>0.2865221</td>\n",
       "<td>0.0017947</td>\n",
       "<td>0.2869389</td>\n",
       "<td>0.2820044</td>\n",
       "<td>0.2871551</td>\n",
       "<td>0.2866418</td>\n",
       "<td>0.2898706</td></tr>\n",
       "<tr><td>precision</td>\n",
       "<td>0.5478120</td>\n",
       "<td>0.0028624</td>\n",
       "<td>0.5470572</td>\n",
       "<td>0.5502974</td>\n",
       "<td>0.5475811</td>\n",
       "<td>0.5531453</td>\n",
       "<td>0.5409791</td></tr>\n",
       "<tr><td>r2</td>\n",
       "<td>-0.1563222</td>\n",
       "<td>0.0064647</td>\n",
       "<td>-0.1578181</td>\n",
       "<td>-0.1391953</td>\n",
       "<td>-0.1586679</td>\n",
       "<td>-0.1591832</td>\n",
       "<td>-0.1667464</td></tr>\n",
       "<tr><td>recall</td>\n",
       "<td>0.9988241</td>\n",
       "<td>0.0007035</td>\n",
       "<td>1.0</td>\n",
       "<td>0.9995089</td>\n",
       "<td>0.9970958</td>\n",
       "<td>0.9985316</td>\n",
       "<td>0.9989843</td></tr>\n",
       "<tr><td>rmse</td>\n",
       "<td>0.5352724</td>\n",
       "<td>0.0016790</td>\n",
       "<td>0.5356668</td>\n",
       "<td>0.5310409</td>\n",
       "<td>0.5358685</td>\n",
       "<td>0.5353894</td>\n",
       "<td>0.5383964</td></tr>\n",
       "<tr><td>specificity</td>\n",
       "<td>0.0049919</td>\n",
       "<td>0.0014499</td>\n",
       "<td>0.0017932</td>\n",
       "<td>0.0035950</td>\n",
       "<td>0.0070012</td>\n",
       "<td>0.0054315</td>\n",
       "<td>0.0071386</td></tr></table></div>"
      ],
      "text/plain": [
       "                         mean        sd           cv_1_valid    cv_2_valid    cv_3_valid    cv_4_valid    cv_5_valid\n",
       "-----------------------  ----------  -----------  ------------  ------------  ------------  ------------  ------------\n",
       "accuracy                 0.548485    0.00273204   0.547425      0.550877      0.548148      0.553784      0.542192\n",
       "auc                      0.499656    0.00524018   0.494655      0.512049      0.503139      0.497733      0.490702\n",
       "err                      0.451515    0.00273204   0.452575      0.449123      0.451852      0.446216      0.457808\n",
       "err_count                1672.8      13.4268      1670          1664          1708          1651          1671\n",
       "f0point5                 0.602192    0.00276513   0.601551      0.604647      0.601846      0.607324      0.595591\n",
       "f1                       0.707549    0.00238448   0.707223      0.709801      0.706932      0.711918      0.701873\n",
       "f2                       0.8576      0.00143769   0.857933      0.85923       0.856478      0.860034      0.854326\n",
       "lift_top_group           0.881183    0.111872     1.18667       0.766208      0.770367      0.881057      0.801614\n",
       "logloss                  0.791045    0.0044349    0.790909      0.780202      0.793667      0.790905      0.799542\n",
       "max_per_class_error      0.995008    0.00144989   0.998207      0.996405      0.992999      0.994568      0.992861\n",
       "mcc                      0.0361086   0.00493214   0.0313205     0.0355614     0.0296272     0.034661      0.0493725\n",
       "mean_per_class_accuracy  0.501908    0.00050053   0.500897      0.501552      0.502049      0.501982      0.503061\n",
       "mean_per_class_error     0.498092    0.00050053   0.499103      0.498448      0.497951      0.498018      0.496939\n",
       "mse                      0.286522    0.00179474   0.286939      0.282004      0.287155      0.286642      0.289871\n",
       "precision                0.547812    0.0028624    0.547057      0.550297      0.547581      0.553145      0.540979\n",
       "r2                       -0.156322   0.00646468   -0.157818     -0.139195     -0.158668     -0.159183     -0.166746\n",
       "recall                   0.998824    0.000703543  1             0.999509      0.997096      0.998532      0.998984\n",
       "rmse                     0.535272    0.00167897   0.535667      0.531041      0.535868      0.535389      0.538396\n",
       "specificity              0.00499189  0.00144989   0.00179319    0.00359497    0.00700117    0.0054315     0.00713861"
      ]
     },
     "metadata": {},
     "output_type": "display_data"
    },
    {
     "name": "stdout",
     "output_type": "stream",
     "text": [
      "Scoring History: \n"
     ]
    },
    {
     "data": {
      "text/html": [
       "<div style=\"overflow:auto\"><table style=\"width:50%\"><tr><td><b></b></td>\n",
       "<td><b>timestamp</b></td>\n",
       "<td><b>duration</b></td>\n",
       "<td><b>number_of_trees</b></td>\n",
       "<td><b>training_rmse</b></td>\n",
       "<td><b>training_logloss</b></td>\n",
       "<td><b>training_auc</b></td>\n",
       "<td><b>training_pr_auc</b></td>\n",
       "<td><b>training_lift</b></td>\n",
       "<td><b>training_classification_error</b></td></tr>\n",
       "<tr><td></td>\n",
       "<td>2019-01-15 22:04:48</td>\n",
       "<td>27.418 sec</td>\n",
       "<td>0.0</td>\n",
       "<td>nan</td>\n",
       "<td>nan</td>\n",
       "<td>nan</td>\n",
       "<td>nan</td>\n",
       "<td>nan</td>\n",
       "<td>nan</td></tr>\n",
       "<tr><td></td>\n",
       "<td>2019-01-15 22:04:48</td>\n",
       "<td>27.483 sec</td>\n",
       "<td>1.0</td>\n",
       "<td>0.6093949</td>\n",
       "<td>9.6002477</td>\n",
       "<td>0.5596459</td>\n",
       "<td>0.3559309</td>\n",
       "<td>1.1332795</td>\n",
       "<td>0.5014195</td></tr>\n",
       "<tr><td></td>\n",
       "<td>2019-01-15 22:04:48</td>\n",
       "<td>27.535 sec</td>\n",
       "<td>2.0</td>\n",
       "<td>0.6019655</td>\n",
       "<td>8.8703131</td>\n",
       "<td>0.5627663</td>\n",
       "<td>0.3753210</td>\n",
       "<td>1.1417635</td>\n",
       "<td>0.4989709</td></tr>\n",
       "<tr><td></td>\n",
       "<td>2019-01-15 22:04:48</td>\n",
       "<td>27.582 sec</td>\n",
       "<td>3.0</td>\n",
       "<td>0.5890434</td>\n",
       "<td>7.4969653</td>\n",
       "<td>0.5636049</td>\n",
       "<td>0.4002065</td>\n",
       "<td>1.1496740</td>\n",
       "<td>0.5005282</td></tr>\n",
       "<tr><td></td>\n",
       "<td>2019-01-15 22:04:48</td>\n",
       "<td>27.636 sec</td>\n",
       "<td>4.0</td>\n",
       "<td>0.5781864</td>\n",
       "<td>6.3381411</td>\n",
       "<td>0.5631435</td>\n",
       "<td>0.4250677</td>\n",
       "<td>1.1595880</td>\n",
       "<td>0.4990265</td></tr>\n",
       "<tr><td>---</td>\n",
       "<td>---</td>\n",
       "<td>---</td>\n",
       "<td>---</td>\n",
       "<td>---</td>\n",
       "<td>---</td>\n",
       "<td>---</td>\n",
       "<td>---</td>\n",
       "<td>---</td>\n",
       "<td>---</td></tr>\n",
       "<tr><td></td>\n",
       "<td>2019-01-15 22:04:51</td>\n",
       "<td>30.494 sec</td>\n",
       "<td>96.0</td>\n",
       "<td>0.5074225</td>\n",
       "<td>0.7317198</td>\n",
       "<td>0.6010493</td>\n",
       "<td>0.5654765</td>\n",
       "<td>1.0944057</td>\n",
       "<td>0.4712729</td></tr>\n",
       "<tr><td></td>\n",
       "<td>2019-01-15 22:04:51</td>\n",
       "<td>30.526 sec</td>\n",
       "<td>97.0</td>\n",
       "<td>0.5073216</td>\n",
       "<td>0.7313710</td>\n",
       "<td>0.6010858</td>\n",
       "<td>0.5653078</td>\n",
       "<td>1.1042652</td>\n",
       "<td>0.4734921</td></tr>\n",
       "<tr><td></td>\n",
       "<td>2019-01-15 22:04:51</td>\n",
       "<td>30.558 sec</td>\n",
       "<td>98.0</td>\n",
       "<td>0.5073209</td>\n",
       "<td>0.7314093</td>\n",
       "<td>0.6011052</td>\n",
       "<td>0.5652358</td>\n",
       "<td>1.0944057</td>\n",
       "<td>0.4576614</td></tr>\n",
       "<tr><td></td>\n",
       "<td>2019-01-15 22:04:51</td>\n",
       "<td>30.588 sec</td>\n",
       "<td>99.0</td>\n",
       "<td>0.5072951</td>\n",
       "<td>0.7312822</td>\n",
       "<td>0.6011324</td>\n",
       "<td>0.5651746</td>\n",
       "<td>1.0944057</td>\n",
       "<td>0.4590423</td></tr>\n",
       "<tr><td></td>\n",
       "<td>2019-01-15 22:04:51</td>\n",
       "<td>30.618 sec</td>\n",
       "<td>100.0</td>\n",
       "<td>0.5071723</td>\n",
       "<td>0.7309458</td>\n",
       "<td>0.6013473</td>\n",
       "<td>0.5655239</td>\n",
       "<td>1.0944057</td>\n",
       "<td>0.4570696</td></tr></table></div>"
      ],
      "text/plain": [
       "     timestamp            duration    number_of_trees    training_rmse       training_logloss    training_auc        training_pr_auc      training_lift       training_classification_error\n",
       "---  -------------------  ----------  -----------------  ------------------  ------------------  ------------------  -------------------  ------------------  -------------------------------\n",
       "     2019-01-15 22:04:48  27.418 sec  0.0                nan                 nan                 nan                 nan                  nan                 nan\n",
       "     2019-01-15 22:04:48  27.483 sec  1.0                0.6093948964380125  9.600247652324303   0.5596458736999582  0.355930892953347    1.1332795114047511  0.5014194943896174\n",
       "     2019-01-15 22:04:48  27.535 sec  2.0                0.6019655273325867  8.870313055060933   0.5627662878383493  0.3753209677471446   1.1417635268455026  0.4989709393265827\n",
       "     2019-01-15 22:04:48  27.582 sec  3.0                0.589043439326545   7.496965281786606   0.5636048586697899  0.40020647516120106  1.1496740058179034  0.5005281922619833\n",
       "     2019-01-15 22:04:48  27.636 sec  4.0                0.5781864180311821  6.338141081300892   0.5631435064609742  0.42506773988976476  1.1595879690342232  0.49902649123842113\n",
       "---  ---                  ---         ---                ---                 ---                 ---                 ---                  ---                 ---\n",
       "     2019-01-15 22:04:51  30.494 sec  96.0               0.5074225263498284  0.7317198341189382  0.6010492588486451  0.56547652401608     1.0944056505103343  0.4712728707402476\n",
       "     2019-01-15 22:04:51  30.526 sec  97.0               0.5073216294746284  0.7313709857664081  0.6010857753572104  0.5653077622129737   1.1042651608752923  0.4734921339448636\n",
       "     2019-01-15 22:04:51  30.558 sec  98.0               0.5073209398737939  0.7314093301110046  0.6011051597033717  0.5652357628212883   1.0944056505103343  0.4576613897519357\n",
       "     2019-01-15 22:04:51  30.588 sec  99.0               0.5072951290625588  0.7312822365296819  0.6011324437178306  0.5651746184666765   1.0944056505103343  0.4590422646348079\n",
       "     2019-01-15 22:04:51  30.618 sec  100.0              0.5071722598994367  0.7309458475923475  0.6013473497186853  0.5655238896493485   1.0944056505103343  0.45706958623070476"
      ]
     },
     "metadata": {},
     "output_type": "display_data"
    },
    {
     "name": "stdout",
     "output_type": "stream",
     "text": [
      "\n",
      "See the whole table with table.as_data_frame()\n",
      "Variable Importances: \n"
     ]
    },
    {
     "data": {
      "text/html": [
       "<div style=\"overflow:auto\"><table style=\"width:50%\"><tr><td><b>variable</b></td>\n",
       "<td><b>relative_importance</b></td>\n",
       "<td><b>scaled_importance</b></td>\n",
       "<td><b>percentage</b></td></tr>\n",
       "<tr><td>salary</td>\n",
       "<td>108043.7265625</td>\n",
       "<td>1.0</td>\n",
       "<td>0.5633264</td></tr>\n",
       "<tr><td>seniority</td>\n",
       "<td>46359.9296875</td>\n",
       "<td>0.4290849</td>\n",
       "<td>0.2417148</td></tr>\n",
       "<tr><td>company_id</td>\n",
       "<td>26372.4140625</td>\n",
       "<td>0.2440902</td>\n",
       "<td>0.1375024</td></tr>\n",
       "<tr><td>dept</td>\n",
       "<td>11019.9042969</td>\n",
       "<td>0.1019949</td>\n",
       "<td>0.0574564</td></tr></table></div>"
      ],
      "text/plain": [
       "variable    relative_importance    scaled_importance    percentage\n",
       "----------  ---------------------  -------------------  ------------\n",
       "salary      108044                 1                    0.563326\n",
       "seniority   46359.9                0.429085             0.241715\n",
       "company_id  26372.4                0.24409              0.137502\n",
       "dept        11019.9                0.101995             0.0574564"
      ]
     },
     "metadata": {},
     "output_type": "display_data"
    },
    {
     "data": {
      "text/plain": [
       "<bound method ModelBase.summary of >"
      ]
     },
     "execution_count": 23,
     "metadata": {},
     "output_type": "execute_result"
    }
   ],
   "source": [
    "model.summary"
   ]
  },
  {
   "cell_type": "markdown",
   "metadata": {},
   "source": [
    "Btw, it predicts horribly"
   ]
  },
  {
   "cell_type": "markdown",
   "metadata": {},
   "source": [
    "## Extract Variable Importance"
   ]
  },
  {
   "cell_type": "code",
   "execution_count": 24,
   "metadata": {
    "ExecuteTime": {
     "end_time": "2019-01-15T19:24:30.894111Z",
     "start_time": "2019-01-15T19:24:30.731687Z"
    }
   },
   "outputs": [
    {
     "data": {
      "image/png": "[encoded data removed]",
      "text/plain": [
       "<Figure size 1008x720 with 1 Axes>"
      ]
     },
     "metadata": {},
     "output_type": "display_data"
    }
   ],
   "source": [
    "model.varimp_plot()"
   ]
  },
  {
   "cell_type": "markdown",
   "metadata": {},
   "source": [
    "## Extract Partial Dependence Plot"
   ]
  },
  {
   "cell_type": "code",
   "execution_count": 25,
   "metadata": {
    "ExecuteTime": {
     "end_time": "2019-01-15T19:24:42.675959Z",
     "start_time": "2019-01-15T19:24:30.896118Z"
    },
    "scrolled": false
   },
   "outputs": [
    {
     "name": "stdout",
     "output_type": "stream",
     "text": [
      "PartialDependencePlot progress: |█████████████████████████████████████████| 100%\n",
      "PartialDependence: Partial Dependence Plot of model DRF_model_python_1547611457139_1 on column 'company_id'\n",
      "\n"
     ]
    },
    {
     "data": {
      "text/html": [
       "<div style=\"overflow:auto\"><table style=\"width:50%\"><tr><td><b>company_id</b></td>\n",
       "<td><b>mean_response</b></td>\n",
       "<td><b>stddev_response</b></td>\n",
       "<td><b>std_error_mean_response</b></td></tr>\n",
       "<tr><td>1</td>\n",
       "<td>0.5665064</td>\n",
       "<td>0.1877393</td>\n",
       "<td>0.0013794</td></tr>\n",
       "<tr><td>2</td>\n",
       "<td>0.5480866</td>\n",
       "<td>0.1970453</td>\n",
       "<td>0.0014477</td></tr>\n",
       "<tr><td>3</td>\n",
       "<td>0.5729110</td>\n",
       "<td>0.1883045</td>\n",
       "<td>0.0013835</td></tr>\n",
       "<tr><td>4</td>\n",
       "<td>0.5865634</td>\n",
       "<td>0.1846487</td>\n",
       "<td>0.0013566</td></tr>\n",
       "<tr><td>5</td>\n",
       "<td>0.5840880</td>\n",
       "<td>0.1818902</td>\n",
       "<td>0.0013364</td></tr>\n",
       "<tr><td>6</td>\n",
       "<td>0.5861368</td>\n",
       "<td>0.1933488</td>\n",
       "<td>0.0014206</td></tr>\n",
       "<tr><td>7</td>\n",
       "<td>0.5768441</td>\n",
       "<td>0.1894884</td>\n",
       "<td>0.0013922</td></tr>\n",
       "<tr><td>8</td>\n",
       "<td>0.5765394</td>\n",
       "<td>0.1834672</td>\n",
       "<td>0.0013480</td></tr>\n",
       "<tr><td>9</td>\n",
       "<td>0.5564524</td>\n",
       "<td>0.1833512</td>\n",
       "<td>0.0013471</td></tr>\n",
       "<tr><td>10</td>\n",
       "<td>0.5820222</td>\n",
       "<td>0.1876532</td>\n",
       "<td>0.0013787</td></tr>\n",
       "<tr><td>11</td>\n",
       "<td>0.6734367</td>\n",
       "<td>0.1184683</td>\n",
       "<td>0.0008704</td></tr>\n",
       "<tr><td>12</td>\n",
       "<td>0.6842824</td>\n",
       "<td>0.1083434</td>\n",
       "<td>0.0007960</td></tr></table></div>"
      ],
      "text/plain": [
       "company_id    mean_response    stddev_response    std_error_mean_response\n",
       "------------  ---------------  -----------------  -------------------------\n",
       "1             0.566506         0.187739           0.00137935\n",
       "2             0.548087         0.197045           0.00144773\n",
       "3             0.572911         0.188305           0.00138351\n",
       "4             0.586563         0.184649           0.00135665\n",
       "5             0.584088         0.18189            0.00133638\n",
       "6             0.586137         0.193349           0.00142057\n",
       "7             0.576844         0.189488           0.00139221\n",
       "8             0.576539         0.183467           0.00134797\n",
       "9             0.556452         0.183351           0.00134712\n",
       "10            0.582022         0.187653           0.00137872\n",
       "11            0.673437         0.118468           0.000870408\n",
       "12            0.684282         0.108343           0.000796019"
      ]
     },
     "metadata": {},
     "output_type": "display_data"
    },
    {
     "name": "stdout",
     "output_type": "stream",
     "text": [
      "PartialDependence: Partial Dependence Plot of model DRF_model_python_1547611457139_1 on column 'dept'\n",
      "\n"
     ]
    },
    {
     "data": {
      "text/html": [
       "<div style=\"overflow:auto\"><table style=\"width:50%\"><tr><td><b>dept</b></td>\n",
       "<td><b>mean_response</b></td>\n",
       "<td><b>stddev_response</b></td>\n",
       "<td><b>std_error_mean_response</b></td></tr>\n",
       "<tr><td>customer_service</td>\n",
       "<td>0.5855849</td>\n",
       "<td>0.1556975</td>\n",
       "<td>0.0011439</td></tr>\n",
       "<tr><td>data_science</td>\n",
       "<td>0.6088647</td>\n",
       "<td>0.1731755</td>\n",
       "<td>0.0012724</td></tr>\n",
       "<tr><td>design</td>\n",
       "<td>0.5865345</td>\n",
       "<td>0.1654707</td>\n",
       "<td>0.0012157</td></tr>\n",
       "<tr><td>engineer</td>\n",
       "<td>0.5559941</td>\n",
       "<td>0.1733269</td>\n",
       "<td>0.0012735</td></tr>\n",
       "<tr><td>marketing</td>\n",
       "<td>0.5721752</td>\n",
       "<td>0.1676018</td>\n",
       "<td>0.0012314</td></tr>\n",
       "<tr><td>sales</td>\n",
       "<td>0.6059340</td>\n",
       "<td>0.1646786</td>\n",
       "<td>0.0012099</td></tr></table></div>"
      ],
      "text/plain": [
       "dept              mean_response    stddev_response    std_error_mean_response\n",
       "----------------  ---------------  -----------------  -------------------------\n",
       "customer_service  0.585585         0.155697           0.00114394\n",
       "data_science      0.608865         0.173175           0.00127235\n",
       "design            0.586534         0.165471           0.00121574\n",
       "engineer          0.555994         0.173327           0.00127346\n",
       "marketing         0.572175         0.167602           0.0012314\n",
       "sales             0.605934         0.164679           0.00120992"
      ]
     },
     "metadata": {},
     "output_type": "display_data"
    },
    {
     "name": "stdout",
     "output_type": "stream",
     "text": [
      "PartialDependence: Partial Dependence Plot of model DRF_model_python_1547611457139_1 on column 'seniority'\n",
      "\n"
     ]
    },
    {
     "data": {
      "text/html": [
       "<div style=\"overflow:auto\"><table style=\"width:50%\"><tr><td><b>seniority</b></td>\n",
       "<td><b>mean_response</b></td>\n",
       "<td><b>stddev_response</b></td>\n",
       "<td><b>std_error_mean_response</b></td></tr>\n",
       "<tr><td>1.0</td>\n",
       "<td>0.6076317</td>\n",
       "<td>0.1475431</td>\n",
       "<td>0.0010840</td></tr>\n",
       "<tr><td>2.4736842</td>\n",
       "<td>0.6038271</td>\n",
       "<td>0.1372049</td>\n",
       "<td>0.0010081</td></tr>\n",
       "<tr><td>3.9473684</td>\n",
       "<td>0.5786849</td>\n",
       "<td>0.1529489</td>\n",
       "<td>0.0011237</td></tr>\n",
       "<tr><td>5.4210526</td>\n",
       "<td>0.6120024</td>\n",
       "<td>0.1770080</td>\n",
       "<td>0.0013005</td></tr>\n",
       "<tr><td>6.8947368</td>\n",
       "<td>0.5802907</td>\n",
       "<td>0.1561360</td>\n",
       "<td>0.0011472</td></tr>\n",
       "<tr><td>8.3684211</td>\n",
       "<td>0.5917923</td>\n",
       "<td>0.1532588</td>\n",
       "<td>0.0011260</td></tr>\n",
       "<tr><td>9.8421053</td>\n",
       "<td>0.5673352</td>\n",
       "<td>0.1507820</td>\n",
       "<td>0.0011078</td></tr>\n",
       "<tr><td>11.3157895</td>\n",
       "<td>0.5563307</td>\n",
       "<td>0.1522495</td>\n",
       "<td>0.0011186</td></tr>\n",
       "<tr><td>12.7894737</td>\n",
       "<td>0.5578800</td>\n",
       "<td>0.1587577</td>\n",
       "<td>0.0011664</td></tr>\n",
       "<tr><td>14.2631579</td>\n",
       "<td>0.5641973</td>\n",
       "<td>0.1668608</td>\n",
       "<td>0.0012260</td></tr>\n",
       "<tr><td>15.7368421</td>\n",
       "<td>0.5768173</td>\n",
       "<td>0.1673043</td>\n",
       "<td>0.0012292</td></tr>\n",
       "<tr><td>17.2105263</td>\n",
       "<td>0.5542977</td>\n",
       "<td>0.1676400</td>\n",
       "<td>0.0012317</td></tr>\n",
       "<tr><td>18.6842105</td>\n",
       "<td>0.5709230</td>\n",
       "<td>0.1627521</td>\n",
       "<td>0.0011958</td></tr>\n",
       "<tr><td>20.1578947</td>\n",
       "<td>0.5726155</td>\n",
       "<td>0.1645397</td>\n",
       "<td>0.0012089</td></tr>\n",
       "<tr><td>21.6315789</td>\n",
       "<td>0.5519254</td>\n",
       "<td>0.1556573</td>\n",
       "<td>0.0011436</td></tr>\n",
       "<tr><td>23.1052632</td>\n",
       "<td>0.5787756</td>\n",
       "<td>0.1476572</td>\n",
       "<td>0.0010849</td></tr>\n",
       "<tr><td>24.5789474</td>\n",
       "<td>0.6064124</td>\n",
       "<td>0.1535314</td>\n",
       "<td>0.0011280</td></tr>\n",
       "<tr><td>26.0526316</td>\n",
       "<td>0.5907634</td>\n",
       "<td>0.1793264</td>\n",
       "<td>0.0013175</td></tr>\n",
       "<tr><td>27.5263158</td>\n",
       "<td>0.5606491</td>\n",
       "<td>0.1806559</td>\n",
       "<td>0.0013273</td></tr>\n",
       "<tr><td>29.0</td>\n",
       "<td>0.5308384</td>\n",
       "<td>0.1758109</td>\n",
       "<td>0.0012917</td></tr></table></div>"
      ],
      "text/plain": [
       "seniority    mean_response    stddev_response    std_error_mean_response\n",
       "-----------  ---------------  -----------------  -------------------------\n",
       "1            0.607632         0.147543           0.00108403\n",
       "2.47368      0.603827         0.137205           0.00100807\n",
       "3.94737      0.578685         0.152949           0.00112374\n",
       "5.42105      0.612002         0.177008           0.00130051\n",
       "6.89474      0.580291         0.156136           0.00114716\n",
       "8.36842      0.591792         0.153259           0.00112602\n",
       "9.84211      0.567335         0.150782           0.00110782\n",
       "11.3158      0.556331         0.152249           0.0011186\n",
       "12.7895      0.55788          0.158758           0.00116642\n",
       "14.2632      0.564197         0.166861           0.00122596\n",
       "15.7368      0.576817         0.167304           0.00122922\n",
       "17.2105      0.554298         0.16764            0.00123168\n",
       "18.6842      0.570923         0.162752           0.00119577\n",
       "20.1579      0.572616         0.16454            0.0012089\n",
       "21.6316      0.551925         0.155657           0.00114364\n",
       "23.1053      0.578776         0.147657           0.00108486\n",
       "24.5789      0.606412         0.153531           0.00112802\n",
       "26.0526      0.590763         0.179326           0.00131754\n",
       "27.5263      0.560649         0.180656           0.00132731\n",
       "29           0.530838         0.175811           0.00129172"
      ]
     },
     "metadata": {},
     "output_type": "display_data"
    },
    {
     "name": "stdout",
     "output_type": "stream",
     "text": [
      "PartialDependence: Partial Dependence Plot of model DRF_model_python_1547611457139_1 on column 'salary'\n",
      "\n"
     ]
    },
    {
     "data": {
      "text/html": [
       "<div style=\"overflow:auto\"><table style=\"width:50%\"><tr><td><b>salary</b></td>\n",
       "<td><b>mean_response</b></td>\n",
       "<td><b>stddev_response</b></td>\n",
       "<td><b>std_error_mean_response</b></td></tr>\n",
       "<tr><td>17000.0</td>\n",
       "<td>0.5562883</td>\n",
       "<td>0.0905944</td>\n",
       "<td>0.0006656</td></tr>\n",
       "<tr><td>37578.9473684</td>\n",
       "<td>0.5753138</td>\n",
       "<td>0.1185983</td>\n",
       "<td>0.0008714</td></tr>\n",
       "<tr><td>58157.8947368</td>\n",
       "<td>0.5189475</td>\n",
       "<td>0.1521163</td>\n",
       "<td>0.0011176</td></tr>\n",
       "<tr><td>78736.8421053</td>\n",
       "<td>0.6105399</td>\n",
       "<td>0.1342897</td>\n",
       "<td>0.0009867</td></tr>\n",
       "<tr><td>99315.7894737</td>\n",
       "<td>0.5907515</td>\n",
       "<td>0.1356310</td>\n",
       "<td>0.0009965</td></tr>\n",
       "<tr><td>119894.7368421</td>\n",
       "<td>0.6315327</td>\n",
       "<td>0.1246994</td>\n",
       "<td>0.0009162</td></tr>\n",
       "<tr><td>140473.6842105</td>\n",
       "<td>0.6317699</td>\n",
       "<td>0.1246824</td>\n",
       "<td>0.0009161</td></tr>\n",
       "<tr><td>161052.6315789</td>\n",
       "<td>0.5779067</td>\n",
       "<td>0.1315365</td>\n",
       "<td>0.0009664</td></tr>\n",
       "<tr><td>181631.5789474</td>\n",
       "<td>0.5861226</td>\n",
       "<td>0.1287285</td>\n",
       "<td>0.0009458</td></tr>\n",
       "<tr><td>202210.5263158</td>\n",
       "<td>0.6116299</td>\n",
       "<td>0.1315529</td>\n",
       "<td>0.0009665</td></tr>\n",
       "<tr><td>222789.4736842</td>\n",
       "<td>0.5808252</td>\n",
       "<td>0.1236549</td>\n",
       "<td>0.0009085</td></tr>\n",
       "<tr><td>243368.4210526</td>\n",
       "<td>0.6813414</td>\n",
       "<td>0.1501952</td>\n",
       "<td>0.0011035</td></tr>\n",
       "<tr><td>263947.3684211</td>\n",
       "<td>0.5337759</td>\n",
       "<td>0.1564267</td>\n",
       "<td>0.0011493</td></tr>\n",
       "<tr><td>284526.3157895</td>\n",
       "<td>0.5129652</td>\n",
       "<td>0.1346491</td>\n",
       "<td>0.0009893</td></tr>\n",
       "<tr><td>305105.2631579</td>\n",
       "<td>0.5408607</td>\n",
       "<td>0.1356279</td>\n",
       "<td>0.0009965</td></tr>\n",
       "<tr><td>325684.2105263</td>\n",
       "<td>0.5469021</td>\n",
       "<td>0.1526118</td>\n",
       "<td>0.0011213</td></tr>\n",
       "<tr><td>346263.1578947</td>\n",
       "<td>0.6407493</td>\n",
       "<td>0.1367026</td>\n",
       "<td>0.0010044</td></tr>\n",
       "<tr><td>366842.1052632</td>\n",
       "<td>0.5365190</td>\n",
       "<td>0.1272386</td>\n",
       "<td>0.0009348</td></tr>\n",
       "<tr><td>387421.0526316</td>\n",
       "<td>0.4289310</td>\n",
       "<td>0.1142288</td>\n",
       "<td>0.0008393</td></tr>\n",
       "<tr><td>408000.0</td>\n",
       "<td>0.4179575</td>\n",
       "<td>0.1128614</td>\n",
       "<td>0.0008292</td></tr></table></div>"
      ],
      "text/plain": [
       "salary    mean_response    stddev_response    std_error_mean_response\n",
       "--------  ---------------  -----------------  -------------------------\n",
       "17000     0.556288         0.0905944          0.000665614\n",
       "37578.9   0.575314         0.118598           0.000871364\n",
       "58157.9   0.518948         0.152116           0.00111763\n",
       "78736.8   0.61054          0.13429            0.000986651\n",
       "99315.8   0.590752         0.135631           0.000996506\n",
       "119895    0.631533         0.124699           0.000916189\n",
       "140474    0.63177          0.124682           0.000916065\n",
       "161053    0.577907         0.131537           0.000966423\n",
       "181632    0.586123         0.128728           0.000945792\n",
       "202211    0.61163          0.131553           0.000966543\n",
       "222789    0.580825         0.123655           0.000908515\n",
       "243368    0.681341         0.150195           0.00110351\n",
       "263947    0.533776         0.156427           0.0011493\n",
       "284526    0.512965         0.134649           0.000989292\n",
       "305105    0.540861         0.135628           0.000996483\n",
       "325684    0.546902         0.152612           0.00112127\n",
       "346263    0.640749         0.136703           0.00100438\n",
       "366842    0.536519         0.127239           0.000934845\n",
       "387421    0.428931         0.114229           0.00083926\n",
       "408000    0.417958         0.112861           0.000829214"
      ]
     },
     "metadata": {},
     "output_type": "display_data"
    },
    {
     "data": {
      "text/plain": [
       "[, , , ]"
      ]
     },
     "execution_count": 25,
     "metadata": {},
     "output_type": "execute_result"
    },
    {
     "data": {
      "image/png": "[encoded data removed]",
      "text/plain": [
       "<Figure size 504x720 with 4 Axes>"
      ]
     },
     "metadata": {},
     "output_type": "display_data"
    }
   ],
   "source": [
    "model.partial_plot(train, cols = feature)"
   ]
  },
  {
   "cell_type": "markdown",
   "metadata": {},
   "source": [
    "Overall it predicts terribly for what we are looking for, but at least it gives us some insights to importance of each factors & how these dependence varies partially. Based on model results and what we have previously analyzed, it seems a more straight forward way of reducing churn would be increase salary specifically for those people in 100k - 200k compensation range. "
   ]
  }
 ],
 "metadata": {
  "kernelspec": {
   "display_name": "Python 3",
   "language": "python",
   "name": "python3"
  },
  "language_info": {
   "codemirror_mode": {
    "name": "ipython",
    "version": 3
   },
   "file_extension": ".py",
   "mimetype": "text/x-python",
   "name": "python",
   "nbconvert_exporter": "python",
   "pygments_lexer": "ipython3",
   "version": "3.6.7"
  },
  "toc": {
   "base_numbering": 1,
   "nav_menu": {},
   "number_sections": true,
   "sideBar": true,
   "skip_h1_title": false,
   "title_cell": "Table of Contents",
   "title_sidebar": "Contents",
   "toc_cell": true,
   "toc_position": {
    "height": "calc(100% - 180px)",
    "left": "10px",
    "top": "150px",
    "width": "384px"
   },
   "toc_section_display": true,
   "toc_window_display": true
  },
  "varInspector": {
   "cols": {
    "lenName": 16,
    "lenType": 16,
    "lenVar": 40
   },
   "kernels_config": {
    "python": {
     "delete_cmd_postfix": "",
     "delete_cmd_prefix": "del ",
     "library": "var_list.py",
     "varRefreshCmd": "print(var_dic_list())"
    },
    "r": {
     "delete_cmd_postfix": ") ",
     "delete_cmd_prefix": "rm(",
     "library": "var_list.r",
     "varRefreshCmd": "cat(var_dic_list()) "
    }
   },
   "oldHeight": 535,
   "position": {
    "height": "40px",
    "left": "1331px",
    "right": "20px",
    "top": "154px",
    "width": "547px"
   },
   "types_to_exclude": [
    "module",
    "function",
    "builtin_function_or_method",
    "instance",
    "_Feature"
   ],
   "varInspector_section_display": "none",
   "window_display": true
  }
 },
 "nbformat": 4,
 "nbformat_minor": 2
}
