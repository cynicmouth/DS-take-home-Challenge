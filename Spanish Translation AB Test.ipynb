{
 "cells": [
  {
   "cell_type": "markdown",
   "metadata": {
    "toc": true
   },
   "source": [
    "<h1>Table of Contents<span class=\"tocSkip\"></span></h1>\n",
    "<div class=\"toc\"><ul class=\"toc-item\"><li><span><a href=\"#Challenge-Description\" data-toc-modified-id=\"Challenge-Description-1\"><span class=\"toc-item-num\">1&nbsp;&nbsp;</span>Challenge Description</a></span></li><li><span><a href=\"#Setup\" data-toc-modified-id=\"Setup-2\"><span class=\"toc-item-num\">2&nbsp;&nbsp;</span>Setup</a></span><ul class=\"toc-item\"><li><span><a href=\"#Loading-Package-&amp;-Datasets\" data-toc-modified-id=\"Loading-Package-&amp;-Datasets-2.1\"><span class=\"toc-item-num\">2.1&nbsp;&nbsp;</span>Loading Package &amp; Datasets</a></span></li><li><span><a href=\"#Merging-two-datasets-together\" data-toc-modified-id=\"Merging-two-datasets-together-2.2\"><span class=\"toc-item-num\">2.2&nbsp;&nbsp;</span>Merging two datasets together</a></span></li></ul></li><li><span><a href=\"#EDA-With-Dataset\" data-toc-modified-id=\"EDA-With-Dataset-3\"><span class=\"toc-item-num\">3&nbsp;&nbsp;</span>EDA With Dataset</a></span><ul class=\"toc-item\"><li><span><a href=\"#Looking-for-missing/abnormal-values-in-the-dataset\" data-toc-modified-id=\"Looking-for-missing/abnormal-values-in-the-dataset-3.1\"><span class=\"toc-item-num\">3.1&nbsp;&nbsp;</span>Looking for missing/abnormal values in the dataset</a></span><ul class=\"toc-item\"><li><span><a href=\"#Missing-Values\" data-toc-modified-id=\"Missing-Values-3.1.1\"><span class=\"toc-item-num\">3.1.1&nbsp;&nbsp;</span>Missing Values</a></span></li><li><span><a href=\"#Abnormal-Values\" data-toc-modified-id=\"Abnormal-Values-3.1.2\"><span class=\"toc-item-num\">3.1.2&nbsp;&nbsp;</span>Abnormal Values</a></span></li></ul></li><li><span><a href=\"#Looking-at-Distribution-of-the-dataset\" data-toc-modified-id=\"Looking-at-Distribution-of-the-dataset-3.2\"><span class=\"toc-item-num\">3.2&nbsp;&nbsp;</span>Looking at Distribution of the dataset</a></span></li></ul></li><li><span><a href=\"#Verify-Results-of-A/B-Testing\" data-toc-modified-id=\"Verify-Results-of-A/B-Testing-4\"><span class=\"toc-item-num\">4&nbsp;&nbsp;</span>Verify Results of A/B Testing</a></span><ul class=\"toc-item\"><li><span><a href=\"#Check-if-Spain-has-a-high-conversion-rate\" data-toc-modified-id=\"Check-if-Spain-has-a-high-conversion-rate-4.1\"><span class=\"toc-item-num\">4.1&nbsp;&nbsp;</span>Check if Spain has a high conversion rate</a></span></li><li><span><a href=\"#Check-if-the-test-is-actually-negative\" data-toc-modified-id=\"Check-if-the-test-is-actually-negative-4.2\"><span class=\"toc-item-num\">4.2&nbsp;&nbsp;</span>Check if the test is actually negative</a></span><ul class=\"toc-item\"><li><span><a href=\"#Calculate-overall-countries-test-results-\" data-toc-modified-id=\"Calculate-overall-countries-test-results--4.2.1\"><span class=\"toc-item-num\">4.2.1&nbsp;&nbsp;</span>Calculate overall countries test results <br></a></span></li><li><span><a href=\"#Breakdown-by-dates-to-see-if-any-potential-date-might-change-cause-this-change\" data-toc-modified-id=\"Breakdown-by-dates-to-see-if-any-potential-date-might-change-cause-this-change-4.2.2\"><span class=\"toc-item-num\">4.2.2&nbsp;&nbsp;</span>Breakdown by dates to see if any potential date might change cause this change</a></span></li><li><span><a href=\"#Breakdown-by-countries-to-see-what's-going-on-in-there\" data-toc-modified-id=\"Breakdown-by-countries-to-see-what's-going-on-in-there-4.2.3\"><span class=\"toc-item-num\">4.2.3&nbsp;&nbsp;</span>Breakdown by countries to see what's going on in there</a></span></li></ul></li></ul></li></ul></div>"
   ]
  },
  {
   "cell_type": "markdown",
   "metadata": {},
   "source": [
    "# Challenge Description"
   ]
  },
  {
   "cell_type": "markdown",
   "metadata": {},
   "source": [
    "Company XYZ is a worldwide e-commerce site with localized versions of the site. <br>\n",
    "A data scientist at XYZ noticed that Spain-based users have a much higher conversion rate than any other Spanish-speaking country. She therefore went and talked to the international team in charge of Spain And LatAm to see if they had any ideas about why that was happening. <br>\n",
    "Spain and LatAm country manager suggested that one reason could be translation. All Spanish- speaking countries had the same translation of the site which was written by a Spaniard. They agreed to try a test where each country would have its one translation written by a local. That is, Argentinian users would see a translation written by an Argentinian, Mexican users by a Mexican and so on. Obviously, nothing would change for users from Spain. <br>\n",
    "After they run the test however, they are really surprised cause the test is negative. I.e., it appears that the non-localized translation was doing better! <br>\n",
    "You are asked to:\n",
    "- Confirm that the test is actually negative. That is, it appears that the old version of the site with just one translation across Spain and LatAm performs better\n",
    "- Explain why that might be happening. Are the localized translations really worse?\n",
    "- If you identified what was wrong, design an algorithm that would return FALSE if the same problem is happening in the future and TRUE if everything is good and the results can be trusted.\n"
   ]
  },
  {
   "cell_type": "markdown",
   "metadata": {},
   "source": [
    "# Setup"
   ]
  },
  {
   "cell_type": "markdown",
   "metadata": {},
   "source": [
    "## Loading Package & Datasets"
   ]
  },
  {
   "cell_type": "code",
   "execution_count": 1,
   "metadata": {},
   "outputs": [
    {
     "data": {
      "text/html": [
       "<div>\n",
       "<style scoped>\n",
       "    .dataframe tbody tr th:only-of-type {\n",
       "        vertical-align: middle;\n",
       "    }\n",
       "\n",
       "    .dataframe tbody tr th {\n",
       "        vertical-align: top;\n",
       "    }\n",
       "\n",
       "    .dataframe thead th {\n",
       "        text-align: right;\n",
       "    }\n",
       "</style>\n",
       "<table border=\"1\" class=\"dataframe\">\n",
       "  <thead>\n",
       "    <tr style=\"text-align: right;\">\n",
       "      <th></th>\n",
       "      <th>user_id</th>\n",
       "      <th>date</th>\n",
       "      <th>source</th>\n",
       "      <th>device</th>\n",
       "      <th>browser_language</th>\n",
       "      <th>ads_channel</th>\n",
       "      <th>browser</th>\n",
       "      <th>conversion</th>\n",
       "      <th>test</th>\n",
       "    </tr>\n",
       "  </thead>\n",
       "  <tbody>\n",
       "    <tr>\n",
       "      <th>0</th>\n",
       "      <td>315281</td>\n",
       "      <td>2015-12-03</td>\n",
       "      <td>Direct</td>\n",
       "      <td>Web</td>\n",
       "      <td>ES</td>\n",
       "      <td>NaN</td>\n",
       "      <td>IE</td>\n",
       "      <td>1</td>\n",
       "      <td>0</td>\n",
       "    </tr>\n",
       "    <tr>\n",
       "      <th>1</th>\n",
       "      <td>497851</td>\n",
       "      <td>2015-12-04</td>\n",
       "      <td>Ads</td>\n",
       "      <td>Web</td>\n",
       "      <td>ES</td>\n",
       "      <td>Google</td>\n",
       "      <td>IE</td>\n",
       "      <td>0</td>\n",
       "      <td>1</td>\n",
       "    </tr>\n",
       "    <tr>\n",
       "      <th>2</th>\n",
       "      <td>848402</td>\n",
       "      <td>2015-12-04</td>\n",
       "      <td>Ads</td>\n",
       "      <td>Web</td>\n",
       "      <td>ES</td>\n",
       "      <td>Facebook</td>\n",
       "      <td>Chrome</td>\n",
       "      <td>0</td>\n",
       "      <td>0</td>\n",
       "    </tr>\n",
       "    <tr>\n",
       "      <th>3</th>\n",
       "      <td>290051</td>\n",
       "      <td>2015-12-03</td>\n",
       "      <td>Ads</td>\n",
       "      <td>Mobile</td>\n",
       "      <td>Other</td>\n",
       "      <td>Facebook</td>\n",
       "      <td>Android_App</td>\n",
       "      <td>0</td>\n",
       "      <td>1</td>\n",
       "    </tr>\n",
       "    <tr>\n",
       "      <th>4</th>\n",
       "      <td>548435</td>\n",
       "      <td>2015-11-30</td>\n",
       "      <td>Ads</td>\n",
       "      <td>Web</td>\n",
       "      <td>ES</td>\n",
       "      <td>Google</td>\n",
       "      <td>FireFox</td>\n",
       "      <td>0</td>\n",
       "      <td>1</td>\n",
       "    </tr>\n",
       "  </tbody>\n",
       "</table>\n",
       "</div>"
      ],
      "text/plain": [
       "   user_id        date  source  device browser_language ads_channel  \\\n",
       "0   315281  2015-12-03  Direct     Web               ES         NaN   \n",
       "1   497851  2015-12-04     Ads     Web               ES      Google   \n",
       "2   848402  2015-12-04     Ads     Web               ES    Facebook   \n",
       "3   290051  2015-12-03     Ads  Mobile            Other    Facebook   \n",
       "4   548435  2015-11-30     Ads     Web               ES      Google   \n",
       "\n",
       "       browser  conversion  test  \n",
       "0           IE           1     0  \n",
       "1           IE           0     1  \n",
       "2       Chrome           0     0  \n",
       "3  Android_App           0     1  \n",
       "4      FireFox           0     1  "
      ]
     },
     "execution_count": 1,
     "metadata": {},
     "output_type": "execute_result"
    }
   ],
   "source": [
    "# basics\n",
    "import pandas as pd\n",
    "import numpy as np\n",
    "import os\n",
    "\n",
    "# plotting setup\n",
    "%matplotlib inline\n",
    "import matplotlib.pyplot as plt\n",
    "import seaborn as sns\n",
    "\n",
    "file_loc = os.getcwd()\n",
    "test_df = pd.read_csv(os.path.join(file_loc, 'test_table.csv'))\n",
    "test_df.head()"
   ]
  },
  {
   "cell_type": "code",
   "execution_count": 2,
   "metadata": {},
   "outputs": [
    {
     "data": {
      "text/html": [
       "<div>\n",
       "<style scoped>\n",
       "    .dataframe tbody tr th:only-of-type {\n",
       "        vertical-align: middle;\n",
       "    }\n",
       "\n",
       "    .dataframe tbody tr th {\n",
       "        vertical-align: top;\n",
       "    }\n",
       "\n",
       "    .dataframe thead th {\n",
       "        text-align: right;\n",
       "    }\n",
       "</style>\n",
       "<table border=\"1\" class=\"dataframe\">\n",
       "  <thead>\n",
       "    <tr style=\"text-align: right;\">\n",
       "      <th></th>\n",
       "      <th>user_id</th>\n",
       "      <th>sex</th>\n",
       "      <th>age</th>\n",
       "      <th>country</th>\n",
       "    </tr>\n",
       "  </thead>\n",
       "  <tbody>\n",
       "    <tr>\n",
       "      <th>0</th>\n",
       "      <td>765821</td>\n",
       "      <td>M</td>\n",
       "      <td>20</td>\n",
       "      <td>Mexico</td>\n",
       "    </tr>\n",
       "    <tr>\n",
       "      <th>1</th>\n",
       "      <td>343561</td>\n",
       "      <td>F</td>\n",
       "      <td>27</td>\n",
       "      <td>Nicaragua</td>\n",
       "    </tr>\n",
       "    <tr>\n",
       "      <th>2</th>\n",
       "      <td>118744</td>\n",
       "      <td>M</td>\n",
       "      <td>23</td>\n",
       "      <td>Colombia</td>\n",
       "    </tr>\n",
       "    <tr>\n",
       "      <th>3</th>\n",
       "      <td>987753</td>\n",
       "      <td>F</td>\n",
       "      <td>27</td>\n",
       "      <td>Venezuela</td>\n",
       "    </tr>\n",
       "    <tr>\n",
       "      <th>4</th>\n",
       "      <td>554597</td>\n",
       "      <td>F</td>\n",
       "      <td>20</td>\n",
       "      <td>Spain</td>\n",
       "    </tr>\n",
       "  </tbody>\n",
       "</table>\n",
       "</div>"
      ],
      "text/plain": [
       "   user_id sex  age    country\n",
       "0   765821   M   20     Mexico\n",
       "1   343561   F   27  Nicaragua\n",
       "2   118744   M   23   Colombia\n",
       "3   987753   F   27  Venezuela\n",
       "4   554597   F   20      Spain"
      ]
     },
     "execution_count": 2,
     "metadata": {},
     "output_type": "execute_result"
    }
   ],
   "source": [
    "user_df = pd.read_csv(os.path.join(file_loc, 'user_table.csv'))\n",
    "user_df.head()"
   ]
  },
  {
   "cell_type": "markdown",
   "metadata": {},
   "source": [
    "## Merging two datasets together"
   ]
  },
  {
   "cell_type": "markdown",
   "metadata": {},
   "source": [
    "Just by browsing the dataset, they can be joined via `user_id` -- however, one use might have multiple visits, and all users might not be in test, so we should do a `left join` here, but to make sure, let's just quick check how many unique user_ids are in each dataset:"
   ]
  },
  {
   "cell_type": "code",
   "execution_count": 3,
   "metadata": {},
   "outputs": [
    {
     "name": "stdout",
     "output_type": "stream",
     "text": [
      "unique user_id from test: 453321\n",
      "unique user_id from user: 452867\n"
     ]
    }
   ],
   "source": [
    "print('unique user_id from test:', test_df.user_id.nunique())\n",
    "print('unique user_id from user:', user_df.user_id.nunique())"
   ]
  },
  {
   "cell_type": "markdown",
   "metadata": {},
   "source": [
    "Also check for duplicate visits in `test_df`:"
   ]
  },
  {
   "cell_type": "code",
   "execution_count": 4,
   "metadata": {},
   "outputs": [
    {
     "data": {
      "text/plain": [
       "False"
      ]
     },
     "execution_count": 4,
     "metadata": {},
     "output_type": "execute_result"
    }
   ],
   "source": [
    "(test_df.groupby('user_id')['user_id'].count()>=2).any()"
   ]
  },
  {
   "cell_type": "markdown",
   "metadata": {},
   "source": [
    "Interesting, let's see what test dataset has that user doesn't have:"
   ]
  },
  {
   "cell_type": "code",
   "execution_count": 5,
   "metadata": {},
   "outputs": [
    {
     "name": "stdout",
     "output_type": "stream",
     "text": [
      "(454, 9)\n"
     ]
    },
    {
     "data": {
      "text/html": [
       "<div>\n",
       "<style scoped>\n",
       "    .dataframe tbody tr th:only-of-type {\n",
       "        vertical-align: middle;\n",
       "    }\n",
       "\n",
       "    .dataframe tbody tr th {\n",
       "        vertical-align: top;\n",
       "    }\n",
       "\n",
       "    .dataframe thead th {\n",
       "        text-align: right;\n",
       "    }\n",
       "</style>\n",
       "<table border=\"1\" class=\"dataframe\">\n",
       "  <thead>\n",
       "    <tr style=\"text-align: right;\">\n",
       "      <th></th>\n",
       "      <th>user_id</th>\n",
       "      <th>date</th>\n",
       "      <th>source</th>\n",
       "      <th>device</th>\n",
       "      <th>browser_language</th>\n",
       "      <th>ads_channel</th>\n",
       "      <th>browser</th>\n",
       "      <th>conversion</th>\n",
       "      <th>test</th>\n",
       "    </tr>\n",
       "  </thead>\n",
       "  <tbody>\n",
       "    <tr>\n",
       "      <th>819</th>\n",
       "      <td>657841</td>\n",
       "      <td>2015-12-02</td>\n",
       "      <td>Ads</td>\n",
       "      <td>Mobile</td>\n",
       "      <td>ES</td>\n",
       "      <td>Bing</td>\n",
       "      <td>Android_App</td>\n",
       "      <td>0</td>\n",
       "      <td>0</td>\n",
       "    </tr>\n",
       "    <tr>\n",
       "      <th>1696</th>\n",
       "      <td>859340</td>\n",
       "      <td>2015-12-04</td>\n",
       "      <td>Direct</td>\n",
       "      <td>Mobile</td>\n",
       "      <td>EN</td>\n",
       "      <td>NaN</td>\n",
       "      <td>Android_App</td>\n",
       "      <td>0</td>\n",
       "      <td>0</td>\n",
       "    </tr>\n",
       "    <tr>\n",
       "      <th>1934</th>\n",
       "      <td>716487</td>\n",
       "      <td>2015-12-04</td>\n",
       "      <td>SEO</td>\n",
       "      <td>Mobile</td>\n",
       "      <td>ES</td>\n",
       "      <td>NaN</td>\n",
       "      <td>Android_App</td>\n",
       "      <td>0</td>\n",
       "      <td>0</td>\n",
       "    </tr>\n",
       "    <tr>\n",
       "      <th>2409</th>\n",
       "      <td>87209</td>\n",
       "      <td>2015-12-01</td>\n",
       "      <td>Direct</td>\n",
       "      <td>Web</td>\n",
       "      <td>ES</td>\n",
       "      <td>NaN</td>\n",
       "      <td>Chrome</td>\n",
       "      <td>0</td>\n",
       "      <td>0</td>\n",
       "    </tr>\n",
       "    <tr>\n",
       "      <th>2721</th>\n",
       "      <td>771642</td>\n",
       "      <td>2015-11-30</td>\n",
       "      <td>SEO</td>\n",
       "      <td>Mobile</td>\n",
       "      <td>ES</td>\n",
       "      <td>NaN</td>\n",
       "      <td>Android_App</td>\n",
       "      <td>0</td>\n",
       "      <td>0</td>\n",
       "    </tr>\n",
       "  </tbody>\n",
       "</table>\n",
       "</div>"
      ],
      "text/plain": [
       "      user_id        date  source  device browser_language ads_channel  \\\n",
       "819    657841  2015-12-02     Ads  Mobile               ES        Bing   \n",
       "1696   859340  2015-12-04  Direct  Mobile               EN         NaN   \n",
       "1934   716487  2015-12-04     SEO  Mobile               ES         NaN   \n",
       "2409    87209  2015-12-01  Direct     Web               ES         NaN   \n",
       "2721   771642  2015-11-30     SEO  Mobile               ES         NaN   \n",
       "\n",
       "          browser  conversion  test  \n",
       "819   Android_App           0     0  \n",
       "1696  Android_App           0     0  \n",
       "1934  Android_App           0     0  \n",
       "2409       Chrome           0     0  \n",
       "2721  Android_App           0     0  "
      ]
     },
     "execution_count": 5,
     "metadata": {},
     "output_type": "execute_result"
    }
   ],
   "source": [
    "print(test_df[~test_df.user_id.isin(user_df.user_id)].shape)\n",
    "\n",
    "test_df[~test_df.user_id.isin(user_df.user_id)].head()"
   ]
  },
  {
   "cell_type": "markdown",
   "metadata": {},
   "source": [
    "We should still use `test_df` and `left join` to `user_df` on `user_id`:"
   ]
  },
  {
   "cell_type": "code",
   "execution_count": 6,
   "metadata": {},
   "outputs": [
    {
     "name": "stdout",
     "output_type": "stream",
     "text": [
      "(453321, 12)\n"
     ]
    },
    {
     "data": {
      "text/html": [
       "<div>\n",
       "<style scoped>\n",
       "    .dataframe tbody tr th:only-of-type {\n",
       "        vertical-align: middle;\n",
       "    }\n",
       "\n",
       "    .dataframe tbody tr th {\n",
       "        vertical-align: top;\n",
       "    }\n",
       "\n",
       "    .dataframe thead th {\n",
       "        text-align: right;\n",
       "    }\n",
       "</style>\n",
       "<table border=\"1\" class=\"dataframe\">\n",
       "  <thead>\n",
       "    <tr style=\"text-align: right;\">\n",
       "      <th></th>\n",
       "      <th>user_id</th>\n",
       "      <th>date</th>\n",
       "      <th>source</th>\n",
       "      <th>device</th>\n",
       "      <th>browser_language</th>\n",
       "      <th>ads_channel</th>\n",
       "      <th>browser</th>\n",
       "      <th>conversion</th>\n",
       "      <th>test</th>\n",
       "      <th>sex</th>\n",
       "      <th>age</th>\n",
       "      <th>country</th>\n",
       "    </tr>\n",
       "  </thead>\n",
       "  <tbody>\n",
       "    <tr>\n",
       "      <th>0</th>\n",
       "      <td>315281</td>\n",
       "      <td>2015-12-03</td>\n",
       "      <td>Direct</td>\n",
       "      <td>Web</td>\n",
       "      <td>ES</td>\n",
       "      <td>NaN</td>\n",
       "      <td>IE</td>\n",
       "      <td>1</td>\n",
       "      <td>0</td>\n",
       "      <td>M</td>\n",
       "      <td>32.0</td>\n",
       "      <td>Spain</td>\n",
       "    </tr>\n",
       "    <tr>\n",
       "      <th>1</th>\n",
       "      <td>497851</td>\n",
       "      <td>2015-12-04</td>\n",
       "      <td>Ads</td>\n",
       "      <td>Web</td>\n",
       "      <td>ES</td>\n",
       "      <td>Google</td>\n",
       "      <td>IE</td>\n",
       "      <td>0</td>\n",
       "      <td>1</td>\n",
       "      <td>M</td>\n",
       "      <td>21.0</td>\n",
       "      <td>Mexico</td>\n",
       "    </tr>\n",
       "    <tr>\n",
       "      <th>2</th>\n",
       "      <td>848402</td>\n",
       "      <td>2015-12-04</td>\n",
       "      <td>Ads</td>\n",
       "      <td>Web</td>\n",
       "      <td>ES</td>\n",
       "      <td>Facebook</td>\n",
       "      <td>Chrome</td>\n",
       "      <td>0</td>\n",
       "      <td>0</td>\n",
       "      <td>M</td>\n",
       "      <td>34.0</td>\n",
       "      <td>Spain</td>\n",
       "    </tr>\n",
       "    <tr>\n",
       "      <th>3</th>\n",
       "      <td>290051</td>\n",
       "      <td>2015-12-03</td>\n",
       "      <td>Ads</td>\n",
       "      <td>Mobile</td>\n",
       "      <td>Other</td>\n",
       "      <td>Facebook</td>\n",
       "      <td>Android_App</td>\n",
       "      <td>0</td>\n",
       "      <td>1</td>\n",
       "      <td>F</td>\n",
       "      <td>22.0</td>\n",
       "      <td>Mexico</td>\n",
       "    </tr>\n",
       "    <tr>\n",
       "      <th>4</th>\n",
       "      <td>548435</td>\n",
       "      <td>2015-11-30</td>\n",
       "      <td>Ads</td>\n",
       "      <td>Web</td>\n",
       "      <td>ES</td>\n",
       "      <td>Google</td>\n",
       "      <td>FireFox</td>\n",
       "      <td>0</td>\n",
       "      <td>1</td>\n",
       "      <td>M</td>\n",
       "      <td>19.0</td>\n",
       "      <td>Mexico</td>\n",
       "    </tr>\n",
       "  </tbody>\n",
       "</table>\n",
       "</div>"
      ],
      "text/plain": [
       "   user_id        date  source  device browser_language ads_channel  \\\n",
       "0   315281  2015-12-03  Direct     Web               ES         NaN   \n",
       "1   497851  2015-12-04     Ads     Web               ES      Google   \n",
       "2   848402  2015-12-04     Ads     Web               ES    Facebook   \n",
       "3   290051  2015-12-03     Ads  Mobile            Other    Facebook   \n",
       "4   548435  2015-11-30     Ads     Web               ES      Google   \n",
       "\n",
       "       browser  conversion  test sex   age country  \n",
       "0           IE           1     0   M  32.0   Spain  \n",
       "1           IE           0     1   M  21.0  Mexico  \n",
       "2       Chrome           0     0   M  34.0   Spain  \n",
       "3  Android_App           0     1   F  22.0  Mexico  \n",
       "4      FireFox           0     1   M  19.0  Mexico  "
      ]
     },
     "execution_count": 6,
     "metadata": {},
     "output_type": "execute_result"
    }
   ],
   "source": [
    "final_df = test_df.merge(user_df, how = 'left', left_on = 'user_id', right_on = 'user_id')\n",
    "\n",
    "print(final_df.shape)\n",
    "final_df.head()"
   ]
  },
  {
   "cell_type": "markdown",
   "metadata": {},
   "source": [
    "# EDA With Dataset"
   ]
  },
  {
   "cell_type": "markdown",
   "metadata": {},
   "source": [
    "A few things we want to understand before we dive into the analysis part of A/B Testing:\n",
    "- Are there any missing/abnormal values in dataset for each column? If so:\n",
    "    1. for missing values: what would be the best imputation strategy? or should we just remove it instead?\n",
    "    2. for abnormal values: how would we handle it? drop it or replace it with mean/median?\n",
    "    \n",
    "- What does the distribution for each column look like?\n",
    "- Are there any insights that we can find in the dataset before we dive into the testing results?"
   ]
  },
  {
   "cell_type": "markdown",
   "metadata": {},
   "source": [
    "## Looking for missing/abnormal values in the dataset"
   ]
  },
  {
   "cell_type": "markdown",
   "metadata": {},
   "source": [
    "### Missing Values"
   ]
  },
  {
   "cell_type": "markdown",
   "metadata": {},
   "source": [
    "Let's start by looking at missing values in the dataset"
   ]
  },
  {
   "cell_type": "code",
   "execution_count": 7,
   "metadata": {},
   "outputs": [
    {
     "name": "stdout",
     "output_type": "stream",
     "text": [
      "<class 'pandas.core.frame.DataFrame'>\n",
      "Int64Index: 453321 entries, 0 to 453320\n",
      "Data columns (total 12 columns):\n",
      "user_id             453321 non-null int64\n",
      "date                453321 non-null object\n",
      "source              453321 non-null object\n",
      "device              453321 non-null object\n",
      "browser_language    453321 non-null object\n",
      "ads_channel         181877 non-null object\n",
      "browser             453321 non-null object\n",
      "conversion          453321 non-null int64\n",
      "test                453321 non-null int64\n",
      "sex                 452867 non-null object\n",
      "age                 452867 non-null float64\n",
      "country             452867 non-null object\n",
      "dtypes: float64(1), int64(3), object(8)\n",
      "memory usage: 45.0+ MB\n"
     ]
    }
   ],
   "source": [
    "final_df.info()"
   ]
  },
  {
   "cell_type": "markdown",
   "metadata": {},
   "source": [
    "So a few things:\n",
    "- `ads_channel` seems to have a lot of missing values, in fact, more than half of the columns are missing ($\\frac{181877}{453321} = 0.40 $). Therefore, we should drop the column as it is not useful to us at all.\n",
    "\n",
    "- sex, age, country has a small amount of data that are missing (454 rows) because they are joined from `user_df` table, since we don't have a good amount of information to impute those missing values, we should drop those as well"
   ]
  },
  {
   "cell_type": "markdown",
   "metadata": {},
   "source": [
    "__Note over here the book kept all values and did not drop any of them, especially on `ads_channel` (though it didn't come in handy anyway later on)__"
   ]
  },
  {
   "cell_type": "code",
   "execution_count": 8,
   "metadata": {},
   "outputs": [
    {
     "name": "stdout",
     "output_type": "stream",
     "text": [
      "(452867, 11)\n"
     ]
    },
    {
     "data": {
      "text/html": [
       "<div>\n",
       "<style scoped>\n",
       "    .dataframe tbody tr th:only-of-type {\n",
       "        vertical-align: middle;\n",
       "    }\n",
       "\n",
       "    .dataframe tbody tr th {\n",
       "        vertical-align: top;\n",
       "    }\n",
       "\n",
       "    .dataframe thead th {\n",
       "        text-align: right;\n",
       "    }\n",
       "</style>\n",
       "<table border=\"1\" class=\"dataframe\">\n",
       "  <thead>\n",
       "    <tr style=\"text-align: right;\">\n",
       "      <th></th>\n",
       "      <th>user_id</th>\n",
       "      <th>date</th>\n",
       "      <th>source</th>\n",
       "      <th>device</th>\n",
       "      <th>browser_language</th>\n",
       "      <th>browser</th>\n",
       "      <th>conversion</th>\n",
       "      <th>test</th>\n",
       "      <th>sex</th>\n",
       "      <th>age</th>\n",
       "      <th>country</th>\n",
       "    </tr>\n",
       "  </thead>\n",
       "  <tbody>\n",
       "    <tr>\n",
       "      <th>0</th>\n",
       "      <td>315281</td>\n",
       "      <td>2015-12-03</td>\n",
       "      <td>Direct</td>\n",
       "      <td>Web</td>\n",
       "      <td>ES</td>\n",
       "      <td>IE</td>\n",
       "      <td>1</td>\n",
       "      <td>0</td>\n",
       "      <td>M</td>\n",
       "      <td>32.0</td>\n",
       "      <td>Spain</td>\n",
       "    </tr>\n",
       "    <tr>\n",
       "      <th>1</th>\n",
       "      <td>497851</td>\n",
       "      <td>2015-12-04</td>\n",
       "      <td>Ads</td>\n",
       "      <td>Web</td>\n",
       "      <td>ES</td>\n",
       "      <td>IE</td>\n",
       "      <td>0</td>\n",
       "      <td>1</td>\n",
       "      <td>M</td>\n",
       "      <td>21.0</td>\n",
       "      <td>Mexico</td>\n",
       "    </tr>\n",
       "    <tr>\n",
       "      <th>2</th>\n",
       "      <td>848402</td>\n",
       "      <td>2015-12-04</td>\n",
       "      <td>Ads</td>\n",
       "      <td>Web</td>\n",
       "      <td>ES</td>\n",
       "      <td>Chrome</td>\n",
       "      <td>0</td>\n",
       "      <td>0</td>\n",
       "      <td>M</td>\n",
       "      <td>34.0</td>\n",
       "      <td>Spain</td>\n",
       "    </tr>\n",
       "    <tr>\n",
       "      <th>3</th>\n",
       "      <td>290051</td>\n",
       "      <td>2015-12-03</td>\n",
       "      <td>Ads</td>\n",
       "      <td>Mobile</td>\n",
       "      <td>Other</td>\n",
       "      <td>Android_App</td>\n",
       "      <td>0</td>\n",
       "      <td>1</td>\n",
       "      <td>F</td>\n",
       "      <td>22.0</td>\n",
       "      <td>Mexico</td>\n",
       "    </tr>\n",
       "    <tr>\n",
       "      <th>4</th>\n",
       "      <td>548435</td>\n",
       "      <td>2015-11-30</td>\n",
       "      <td>Ads</td>\n",
       "      <td>Web</td>\n",
       "      <td>ES</td>\n",
       "      <td>FireFox</td>\n",
       "      <td>0</td>\n",
       "      <td>1</td>\n",
       "      <td>M</td>\n",
       "      <td>19.0</td>\n",
       "      <td>Mexico</td>\n",
       "    </tr>\n",
       "  </tbody>\n",
       "</table>\n",
       "</div>"
      ],
      "text/plain": [
       "   user_id        date  source  device browser_language      browser  \\\n",
       "0   315281  2015-12-03  Direct     Web               ES           IE   \n",
       "1   497851  2015-12-04     Ads     Web               ES           IE   \n",
       "2   848402  2015-12-04     Ads     Web               ES       Chrome   \n",
       "3   290051  2015-12-03     Ads  Mobile            Other  Android_App   \n",
       "4   548435  2015-11-30     Ads     Web               ES      FireFox   \n",
       "\n",
       "   conversion  test sex   age country  \n",
       "0           1     0   M  32.0   Spain  \n",
       "1           0     1   M  21.0  Mexico  \n",
       "2           0     0   M  34.0   Spain  \n",
       "3           0     1   F  22.0  Mexico  \n",
       "4           0     1   M  19.0  Mexico  "
      ]
     },
     "execution_count": 8,
     "metadata": {},
     "output_type": "execute_result"
    }
   ],
   "source": [
    "final_df = final_df.dropna(axis = 0, how = 'any', subset = ['sex','age', 'country']).drop('ads_channel', axis = 1)\n",
    "\n",
    "print(final_df.shape)\n",
    "final_df.head()"
   ]
  },
  {
   "cell_type": "markdown",
   "metadata": {},
   "source": [
    "### Abnormal Values"
   ]
  },
  {
   "cell_type": "code",
   "execution_count": 9,
   "metadata": {
    "scrolled": false
   },
   "outputs": [
    {
     "name": "stdout",
     "output_type": "stream",
     "text": [
      "date\n",
      "2015-11-30     70948\n",
      "2015-12-01     70915\n",
      "2015-12-02     70581\n",
      "2015-12-03     99399\n",
      "2015-12-04    141024\n",
      "Name: date, dtype: int64\n",
      "source\n",
      "Ads       181693\n",
      "Direct     90738\n",
      "SEO       180436\n",
      "Name: source, dtype: int64\n",
      "device\n",
      "Mobile    201551\n",
      "Web       251316\n",
      "Name: device, dtype: int64\n",
      "browser_language\n",
      "EN        63079\n",
      "ES       377160\n",
      "Other     12628\n",
      "Name: browser_language, dtype: int64\n",
      "browser\n",
      "Android_App    154977\n",
      "Chrome         101822\n",
      "FireFox         40721\n",
      "IE              61656\n",
      "Iphone_App      46574\n",
      "Opera            6084\n",
      "Safari          41033\n",
      "Name: browser, dtype: int64\n",
      "conversion\n",
      "0    430423\n",
      "1     22444\n",
      "Name: conversion, dtype: int64\n",
      "test\n",
      "0    237093\n",
      "1    215774\n",
      "Name: test, dtype: int64\n",
      "sex\n",
      "F    188382\n",
      "M    264485\n",
      "Name: sex, dtype: int64\n",
      "age\n",
      "18.0    25907\n",
      "19.0    26714\n",
      "20.0    27046\n",
      "21.0    27601\n",
      "22.0    27287\n",
      "23.0    27064\n",
      "24.0    26805\n",
      "25.0    26091\n",
      "26.0    24975\n",
      "27.0    23717\n",
      "28.0    22134\n",
      "29.0    20712\n",
      "30.0    19319\n",
      "31.0    17680\n",
      "32.0    16109\n",
      "33.0    14211\n",
      "34.0    12630\n",
      "35.0    11236\n",
      "36.0     9603\n",
      "37.0     8172\n",
      "38.0     7214\n",
      "39.0     5816\n",
      "40.0     4984\n",
      "41.0     4129\n",
      "42.0     3376\n",
      "43.0     2687\n",
      "44.0     2155\n",
      "45.0     1760\n",
      "46.0     1388\n",
      "47.0     1057\n",
      "48.0      860\n",
      "49.0      637\n",
      "50.0      494\n",
      "51.0      358\n",
      "52.0      267\n",
      "53.0      229\n",
      "54.0      130\n",
      "55.0      109\n",
      "56.0       58\n",
      "57.0       51\n",
      "58.0       30\n",
      "59.0       14\n",
      "60.0       21\n",
      "61.0       11\n",
      "62.0        5\n",
      "63.0        6\n",
      "64.0        2\n",
      "65.0        2\n",
      "66.0        1\n",
      "67.0        1\n",
      "68.0        1\n",
      "70.0        1\n",
      "Name: age, dtype: int64\n",
      "country\n",
      "Argentina       46733\n",
      "Bolivia         11124\n",
      "Chile           19737\n",
      "Colombia        54060\n",
      "Costa Rica       5309\n",
      "Ecuador         15895\n",
      "El Salvador      8175\n",
      "Guatemala       15125\n",
      "Honduras         8568\n",
      "Mexico         128484\n",
      "Nicaragua        6723\n",
      "Panama           3951\n",
      "Paraguay         7347\n",
      "Peru            33666\n",
      "Spain           51782\n",
      "Uruguay          4134\n",
      "Venezuela       32054\n",
      "Name: country, dtype: int64\n"
     ]
    }
   ],
   "source": [
    "for col in list(final_df.columns)[1:]: # excluding user_id\n",
    "    print(final_df.groupby(col)[col].count())"
   ]
  },
  {
   "cell_type": "markdown",
   "metadata": {},
   "source": [
    "This seems to be fine as we don't find anything abnormal"
   ]
  },
  {
   "cell_type": "markdown",
   "metadata": {},
   "source": [
    "## Looking at Distribution of the dataset"
   ]
  },
  {
   "cell_type": "markdown",
   "metadata": {},
   "source": [
    "Going back to the business question here: <br>\n",
    "We want to understand what happened over `conversion` v.s. `test`, the best way to set it up would be a paired grid `FacetGrid` using `Seaborn`"
   ]
  },
  {
   "cell_type": "code",
   "execution_count": 10,
   "metadata": {},
   "outputs": [
    {
     "data": {
      "text/plain": [
       "Index(['user_id', 'date', 'source', 'device', 'browser_language', 'browser',\n",
       "       'conversion', 'test', 'sex', 'age', 'country'],\n",
       "      dtype='object')"
      ]
     },
     "execution_count": 10,
     "metadata": {},
     "output_type": "execute_result"
    }
   ],
   "source": [
    "final_df.columns"
   ]
  },
  {
   "cell_type": "code",
   "execution_count": 11,
   "metadata": {
    "scrolled": false
   },
   "outputs": [
    {
     "data": {
      "image/png": "[encoded data removed]",
      "text/plain": [
       "<Figure size 720x720 with 4 Axes>"
      ]
     },
     "metadata": {},
     "output_type": "display_data"
    },
    {
     "data": {
      "image/png": "[encoded data removed]",
      "text/plain": [
       "<Figure size 720x720 with 4 Axes>"
      ]
     },
     "metadata": {},
     "output_type": "display_data"
    },
    {
     "data": {
      "image/png": "[encoded data removed]",
      "text/plain": [
       "<Figure size 720x720 with 4 Axes>"
      ]
     },
     "metadata": {},
     "output_type": "display_data"
    },
    {
     "data": {
      "image/png": "[encoded data removed]",
      "text/plain": [
       "<Figure size 720x720 with 4 Axes>"
      ]
     },
     "metadata": {},
     "output_type": "display_data"
    },
    {
     "data": {
      "image/png": "[encoded data removed]",
      "text/plain": [
       "<Figure size 720x720 with 4 Axes>"
      ]
     },
     "metadata": {},
     "output_type": "display_data"
    },
    {
     "data": {
      "image/png": "[encoded data removed]",
      "text/plain": [
       "<Figure size 720x720 with 4 Axes>"
      ]
     },
     "metadata": {},
     "output_type": "display_data"
    }
   ],
   "source": [
    "sns.set(style = 'darkgrid')\n",
    "\n",
    "for col in ['source', 'device', 'browser_language', 'browser', 'sex', 'country']:\n",
    "    graph = sns.catplot(x = col\n",
    "                        , row = 'test', col = 'conversion', data= final_df, kind = 'count')"
   ]
  },
  {
   "cell_type": "markdown",
   "metadata": {},
   "source": [
    "Just by looking at the plots -- it seems like that test didn't make things worse: <br>\n",
    "i.e. __whether they are in test or not does not seem to have an impact on result__"
   ]
  },
  {
   "cell_type": "markdown",
   "metadata": {},
   "source": [
    "# Verify Results of A/B Testing"
   ]
  },
  {
   "cell_type": "markdown",
   "metadata": {},
   "source": [
    "Now let's verify the results of A/B testing and see if it actually makes things worse, we want to check: <br>\n",
    "- Going back to the original problem, if Spanish has higher conversion rate\n",
    "- If the test had made things worse, which doesn't seem to be so given by the count plots above"
   ]
  },
  {
   "cell_type": "markdown",
   "metadata": {},
   "source": [
    "## Check if Spain has a high conversion rate"
   ]
  },
  {
   "cell_type": "code",
   "execution_count": 12,
   "metadata": {},
   "outputs": [
    {
     "data": {
      "text/plain": [
       "country\n",
       "Spain          0.079719\n",
       "El Salvador    0.053554\n",
       "Nicaragua      0.052647\n",
       "Costa Rica     0.052256\n",
       "Colombia       0.052089\n",
       "Honduras       0.050906\n",
       "Guatemala      0.050643\n",
       "Venezuela      0.050344\n",
       "Peru           0.049914\n",
       "Mexico         0.049495\n",
       "Bolivia        0.049369\n",
       "Ecuador        0.049154\n",
       "Paraguay       0.048493\n",
       "Chile          0.048107\n",
       "Panama         0.046796\n",
       "Argentina      0.015071\n",
       "Uruguay        0.012048\n",
       "Name: conversion, dtype: float64"
      ]
     },
     "execution_count": 12,
     "metadata": {},
     "output_type": "execute_result"
    }
   ],
   "source": [
    "final_df[final_df.test == 0].groupby('country')['conversion'].mean().sort_values(ascending = False)"
   ]
  },
  {
   "cell_type": "markdown",
   "metadata": {},
   "source": [
    "__Remember to take `test = 1` out, we just want o see before using any tests, true Spain converts much better than the rest of LatAm Countries__"
   ]
  },
  {
   "cell_type": "markdown",
   "metadata": {},
   "source": [
    "As shown above, Spain does have higher conversion rate than all other countries"
   ]
  },
  {
   "cell_type": "markdown",
   "metadata": {},
   "source": [
    "## Check if the test is actually negative"
   ]
  },
  {
   "cell_type": "markdown",
   "metadata": {},
   "source": [
    "__The book suggests to following logic flow (which is helpful than how I did it here)__:\n",
    "1. Calculate the overall all countries test result as a whole\n",
    "2. See if that actually made things worse (& in this case, the result should be yes)\n",
    "3. Look over it by date, and see if it varies drastically\n",
    "4. Look over it by country, and find out different things (I'm here 1st step -- this can be risky, and seems to be less structured than what the book suggests)"
   ]
  },
  {
   "cell_type": "markdown",
   "metadata": {},
   "source": [
    "__Following logic flow of the book:__"
   ]
  },
  {
   "cell_type": "markdown",
   "metadata": {},
   "source": [
    "### Calculate overall countries test results <br>\n",
    "Steps: <br>\n",
    "1. Take out `'Spain'`\n",
    "2. Show `'test'` and `'conversion'`"
   ]
  },
  {
   "cell_type": "code",
   "execution_count": 13,
   "metadata": {},
   "outputs": [
    {
     "data": {
      "text/html": [
       "<div>\n",
       "<style scoped>\n",
       "    .dataframe tbody tr th:only-of-type {\n",
       "        vertical-align: middle;\n",
       "    }\n",
       "\n",
       "    .dataframe tbody tr th {\n",
       "        vertical-align: top;\n",
       "    }\n",
       "\n",
       "    .dataframe thead th {\n",
       "        text-align: right;\n",
       "    }\n",
       "</style>\n",
       "<table border=\"1\" class=\"dataframe\">\n",
       "  <thead>\n",
       "    <tr style=\"text-align: right;\">\n",
       "      <th></th>\n",
       "      <th>test</th>\n",
       "      <th>conversion</th>\n",
       "    </tr>\n",
       "  </thead>\n",
       "  <tbody>\n",
       "    <tr>\n",
       "      <th>1</th>\n",
       "      <td>1</td>\n",
       "      <td>0</td>\n",
       "    </tr>\n",
       "    <tr>\n",
       "      <th>3</th>\n",
       "      <td>1</td>\n",
       "      <td>0</td>\n",
       "    </tr>\n",
       "    <tr>\n",
       "      <th>4</th>\n",
       "      <td>1</td>\n",
       "      <td>0</td>\n",
       "    </tr>\n",
       "    <tr>\n",
       "      <th>5</th>\n",
       "      <td>1</td>\n",
       "      <td>0</td>\n",
       "    </tr>\n",
       "    <tr>\n",
       "      <th>6</th>\n",
       "      <td>0</td>\n",
       "      <td>0</td>\n",
       "    </tr>\n",
       "  </tbody>\n",
       "</table>\n",
       "</div>"
      ],
      "text/plain": [
       "   test  conversion\n",
       "1     1           0\n",
       "3     1           0\n",
       "4     1           0\n",
       "5     1           0\n",
       "6     0           0"
      ]
     },
     "execution_count": 13,
     "metadata": {},
     "output_type": "execute_result"
    }
   ],
   "source": [
    "overall_test_result = final_df[final_df.country != 'Spain'][['test','conversion']]\n",
    "overall_test_result.head()"
   ]
  },
  {
   "cell_type": "markdown",
   "metadata": {},
   "source": [
    "Calling `stats` package for t test:"
   ]
  },
  {
   "cell_type": "markdown",
   "metadata": {},
   "source": [
    "---\n",
    "__Note here what to test for__:\n",
    "\n",
    "We want to understand whether the test had an impact on actual conversion: i.e. if `test==1` or `test==0` made an actual difference in `'conversion'`."
   ]
  },
  {
   "cell_type": "code",
   "execution_count": 14,
   "metadata": {},
   "outputs": [
    {
     "name": "stdout",
     "output_type": "stream",
     "text": [
      "\t t-value of test result is -7.353895203080277 \n",
      " \t p-value of test result is 1.9289178577799033e-13\n"
     ]
    }
   ],
   "source": [
    "from scipy.stats import ttest_ind, t\n",
    "from math import sqrt\n",
    "\n",
    "sample_1 = overall_test_result.conversion[overall_test_result.test ==1]\n",
    "sample_2 = overall_test_result.conversion[overall_test_result.test ==0]\n",
    "\n",
    "t_val, p_val = ttest_ind(sample_1, \n",
    "                       sample_2, equal_var = False)\n",
    "\n",
    "print('\\t t-value of test result is %s' % t_val, '\\n',\n",
    "      '\\t p-value of test result is %s' % p_val)"
   ]
  },
  {
   "cell_type": "markdown",
   "metadata": {},
   "source": [
    "We can get more info using `statsmodels`:"
   ]
  },
  {
   "cell_type": "code",
   "execution_count": 15,
   "metadata": {},
   "outputs": [
    {
     "name": "stdout",
     "output_type": "stream",
     "text": [
      "-7.353895203080226 1.9289178577806492e-13 -0.006181420719843093 -0.0035798370383017964\n"
     ]
    }
   ],
   "source": [
    "from statsmodels.stats.weightstats import DescrStatsW, CompareMeans\n",
    "\n",
    "d1 = DescrStatsW(overall_test_result.conversion[overall_test_result.test ==1])\n",
    "d2 = DescrStatsW(overall_test_result.conversion[overall_test_result.test ==0])\n",
    "\n",
    "t_val, p_val, df = CompareMeans(d1, d2).ttest_ind(usevar = 'unequal')\n",
    "\n",
    "lower_conf, upper_conf = CompareMeans(d1, d2).tconfint_diff( alpha = 0.05, usevar = 'unequal')\n",
    "\n",
    "print(t_val, p_val, lower_conf, upper_conf)"
   ]
  },
  {
   "cell_type": "markdown",
   "metadata": {},
   "source": [
    "In this case, p-value is significant, meaning that we need to reject null hypothesis, i.e. __the difference between the means is statistically significant__. Translating this back to business language, meaning that it is highly likely that test has resulted in a change in conversion rate."
   ]
  },
  {
   "cell_type": "markdown",
   "metadata": {},
   "source": [
    "We can also peak at summary for the results using `groupby` and `agg()` function (similar as above, __note that we are looking for avg(conversion) for `test==0` or `test==1` and see if there is a statistical difference__:"
   ]
  },
  {
   "cell_type": "code",
   "execution_count": 16,
   "metadata": {},
   "outputs": [
    {
     "data": {
      "text/html": [
       "<div>\n",
       "<style scoped>\n",
       "    .dataframe tbody tr th:only-of-type {\n",
       "        vertical-align: middle;\n",
       "    }\n",
       "\n",
       "    .dataframe tbody tr th {\n",
       "        vertical-align: top;\n",
       "    }\n",
       "\n",
       "    .dataframe thead th {\n",
       "        text-align: right;\n",
       "    }\n",
       "</style>\n",
       "<table border=\"1\" class=\"dataframe\">\n",
       "  <thead>\n",
       "    <tr style=\"text-align: right;\">\n",
       "      <th></th>\n",
       "      <th>mean</th>\n",
       "      <th>count</th>\n",
       "    </tr>\n",
       "    <tr>\n",
       "      <th>test</th>\n",
       "      <th></th>\n",
       "      <th></th>\n",
       "    </tr>\n",
       "  </thead>\n",
       "  <tbody>\n",
       "    <tr>\n",
       "      <th>0</th>\n",
       "      <td>0.055156</td>\n",
       "      <td>237093</td>\n",
       "    </tr>\n",
       "    <tr>\n",
       "      <th>1</th>\n",
       "      <td>0.043411</td>\n",
       "      <td>215774</td>\n",
       "    </tr>\n",
       "  </tbody>\n",
       "</table>\n",
       "</div>"
      ],
      "text/plain": [
       "          mean   count\n",
       "test                  \n",
       "0     0.055156  237093\n",
       "1     0.043411  215774"
      ]
     },
     "execution_count": 16,
     "metadata": {},
     "output_type": "execute_result"
    }
   ],
   "source": [
    "final_df.groupby('test')['conversion'].agg(['mean','count'])"
   ]
  },
  {
   "cell_type": "markdown",
   "metadata": {},
   "source": [
    "This gives us a change from 4.8% for users that are not in the test group v.s. 4.3% for users that are in the test group (i.e., a ~10% drop) which is very huge. Note that the book says: <br>\n",
    "__In data science, whenever results appear too bad or too god to be true, they are not true.__ <br>\n",
    "Which kinds of make sense here, if you think about it -- it's very not likely that a locally translated page can cause such a drastic change in purchasing behavior"
   ]
  },
  {
   "cell_type": "markdown",
   "metadata": {},
   "source": [
    "### Breakdown by dates to see if any potential date might change cause this change"
   ]
  },
  {
   "cell_type": "code",
   "execution_count": 17,
   "metadata": {},
   "outputs": [
    {
     "name": "stderr",
     "output_type": "stream",
     "text": [
      "/Users/yigongzhang/miniconda3/envs/python/lib/python3.6/site-packages/scipy/stats/stats.py:1713: FutureWarning: Using a non-tuple sequence for multidimensional indexing is deprecated; use `arr[tuple(seq)]` instead of `arr[seq]`. In the future this will be interpreted as an array index, `arr[np.array(seq)]`, which will result either in an error or a different result.\n",
      "  return np.add.reduce(sorted[indexer] * weights, axis=axis) / sumval\n"
     ]
    },
    {
     "data": {
      "text/plain": [
       "<matplotlib.axes._subplots.AxesSubplot at 0x1a2c11bb70>"
      ]
     },
     "execution_count": 17,
     "metadata": {},
     "output_type": "execute_result"
    },
    {
     "data": {
      "image/png": "[encoded data removed]",
      "text/plain": [
       "<Figure size 1440x1080 with 1 Axes>"
      ]
     },
     "metadata": {},
     "output_type": "display_data"
    }
   ],
   "source": [
    "sns.set(style=\"darkgrid\")\n",
    "fig, ax = plt.subplots(figsize = [20,15])\n",
    "sns.lineplot(ax = ax, \n",
    "             x = 'date', y='conversion', hue = 'test', data = final_df[final_df['country'] != 'Spain'])"
   ]
  },
  {
   "cell_type": "markdown",
   "metadata": {},
   "source": [
    "This doesn't seem to vary a lot by date"
   ]
  },
  {
   "cell_type": "markdown",
   "metadata": {},
   "source": [
    "Also, we can see that:\n",
    "- Users in the test are constantly performing worse than users that are not in the test and there is relatively little variance across days. This probably means that we do not have enough data, but there was some bias in the experiment set up.\n",
    "- On a side note, we just ran it for 5 days. We should always run the test for at least 1 full week to capture weekly patterns, 2 weeks would be much better."
   ]
  },
  {
   "cell_type": "markdown",
   "metadata": {},
   "source": [
    "### Breakdown by countries to see what's going on in there"
   ]
  },
  {
   "cell_type": "markdown",
   "metadata": {},
   "source": [
    "Here the book suggests to find out where bias is coming from, ideally the distribution of people in test and control for each segment should be the same. The author __suggests to build a decision tree using `country` to predict `test` in 0 or 1, if it randomizes perfectly, the result should be 50% / 50% (btw, brilliant way!)__. <br>\n",
    "Here, i just break them out by `country` and `test`, which achieves the same thing:"
   ]
  },
  {
   "cell_type": "code",
   "execution_count": 18,
   "metadata": {},
   "outputs": [
    {
     "data": {
      "text/html": [
       "<div>\n",
       "<style scoped>\n",
       "    .dataframe tbody tr th:only-of-type {\n",
       "        vertical-align: middle;\n",
       "    }\n",
       "\n",
       "    .dataframe tbody tr th {\n",
       "        vertical-align: top;\n",
       "    }\n",
       "\n",
       "    .dataframe thead th {\n",
       "        text-align: right;\n",
       "    }\n",
       "</style>\n",
       "<table border=\"1\" class=\"dataframe\">\n",
       "  <thead>\n",
       "    <tr style=\"text-align: right;\">\n",
       "      <th></th>\n",
       "      <th></th>\n",
       "      <th>mean</th>\n",
       "      <th>count</th>\n",
       "    </tr>\n",
       "    <tr>\n",
       "      <th>country</th>\n",
       "      <th>test</th>\n",
       "      <th></th>\n",
       "      <th></th>\n",
       "    </tr>\n",
       "  </thead>\n",
       "  <tbody>\n",
       "    <tr>\n",
       "      <th rowspan=\"2\" valign=\"top\">Argentina</th>\n",
       "      <th>0</th>\n",
       "      <td>0.015071</td>\n",
       "      <td>9356</td>\n",
       "    </tr>\n",
       "    <tr>\n",
       "      <th>1</th>\n",
       "      <td>0.013725</td>\n",
       "      <td>37377</td>\n",
       "    </tr>\n",
       "    <tr>\n",
       "      <th rowspan=\"2\" valign=\"top\">Bolivia</th>\n",
       "      <th>0</th>\n",
       "      <td>0.049369</td>\n",
       "      <td>5550</td>\n",
       "    </tr>\n",
       "    <tr>\n",
       "      <th>1</th>\n",
       "      <td>0.047901</td>\n",
       "      <td>5574</td>\n",
       "    </tr>\n",
       "    <tr>\n",
       "      <th rowspan=\"2\" valign=\"top\">Chile</th>\n",
       "      <th>0</th>\n",
       "      <td>0.048107</td>\n",
       "      <td>9853</td>\n",
       "    </tr>\n",
       "    <tr>\n",
       "      <th>1</th>\n",
       "      <td>0.051295</td>\n",
       "      <td>9884</td>\n",
       "    </tr>\n",
       "    <tr>\n",
       "      <th rowspan=\"2\" valign=\"top\">Colombia</th>\n",
       "      <th>0</th>\n",
       "      <td>0.052089</td>\n",
       "      <td>27088</td>\n",
       "    </tr>\n",
       "    <tr>\n",
       "      <th>1</th>\n",
       "      <td>0.050571</td>\n",
       "      <td>26972</td>\n",
       "    </tr>\n",
       "    <tr>\n",
       "      <th rowspan=\"2\" valign=\"top\">Costa Rica</th>\n",
       "      <th>0</th>\n",
       "      <td>0.052256</td>\n",
       "      <td>2660</td>\n",
       "    </tr>\n",
       "    <tr>\n",
       "      <th>1</th>\n",
       "      <td>0.054738</td>\n",
       "      <td>2649</td>\n",
       "    </tr>\n",
       "    <tr>\n",
       "      <th rowspan=\"2\" valign=\"top\">Ecuador</th>\n",
       "      <th>0</th>\n",
       "      <td>0.049154</td>\n",
       "      <td>8036</td>\n",
       "    </tr>\n",
       "    <tr>\n",
       "      <th>1</th>\n",
       "      <td>0.048988</td>\n",
       "      <td>7859</td>\n",
       "    </tr>\n",
       "    <tr>\n",
       "      <th rowspan=\"2\" valign=\"top\">El Salvador</th>\n",
       "      <th>0</th>\n",
       "      <td>0.053554</td>\n",
       "      <td>4108</td>\n",
       "    </tr>\n",
       "    <tr>\n",
       "      <th>1</th>\n",
       "      <td>0.047947</td>\n",
       "      <td>4067</td>\n",
       "    </tr>\n",
       "    <tr>\n",
       "      <th rowspan=\"2\" valign=\"top\">Guatemala</th>\n",
       "      <th>0</th>\n",
       "      <td>0.050643</td>\n",
       "      <td>7622</td>\n",
       "    </tr>\n",
       "    <tr>\n",
       "      <th>1</th>\n",
       "      <td>0.048647</td>\n",
       "      <td>7503</td>\n",
       "    </tr>\n",
       "    <tr>\n",
       "      <th rowspan=\"2\" valign=\"top\">Honduras</th>\n",
       "      <th>0</th>\n",
       "      <td>0.050906</td>\n",
       "      <td>4361</td>\n",
       "    </tr>\n",
       "    <tr>\n",
       "      <th>1</th>\n",
       "      <td>0.047540</td>\n",
       "      <td>4207</td>\n",
       "    </tr>\n",
       "    <tr>\n",
       "      <th rowspan=\"2\" valign=\"top\">Mexico</th>\n",
       "      <th>0</th>\n",
       "      <td>0.049495</td>\n",
       "      <td>64209</td>\n",
       "    </tr>\n",
       "    <tr>\n",
       "      <th>1</th>\n",
       "      <td>0.051186</td>\n",
       "      <td>64275</td>\n",
       "    </tr>\n",
       "    <tr>\n",
       "      <th rowspan=\"2\" valign=\"top\">Nicaragua</th>\n",
       "      <th>0</th>\n",
       "      <td>0.052647</td>\n",
       "      <td>3419</td>\n",
       "    </tr>\n",
       "    <tr>\n",
       "      <th>1</th>\n",
       "      <td>0.054177</td>\n",
       "      <td>3304</td>\n",
       "    </tr>\n",
       "    <tr>\n",
       "      <th rowspan=\"2\" valign=\"top\">Panama</th>\n",
       "      <th>0</th>\n",
       "      <td>0.046796</td>\n",
       "      <td>1966</td>\n",
       "    </tr>\n",
       "    <tr>\n",
       "      <th>1</th>\n",
       "      <td>0.049370</td>\n",
       "      <td>1985</td>\n",
       "    </tr>\n",
       "    <tr>\n",
       "      <th rowspan=\"2\" valign=\"top\">Paraguay</th>\n",
       "      <th>0</th>\n",
       "      <td>0.048493</td>\n",
       "      <td>3650</td>\n",
       "    </tr>\n",
       "    <tr>\n",
       "      <th>1</th>\n",
       "      <td>0.049229</td>\n",
       "      <td>3697</td>\n",
       "    </tr>\n",
       "    <tr>\n",
       "      <th rowspan=\"2\" valign=\"top\">Peru</th>\n",
       "      <th>0</th>\n",
       "      <td>0.049914</td>\n",
       "      <td>16869</td>\n",
       "    </tr>\n",
       "    <tr>\n",
       "      <th>1</th>\n",
       "      <td>0.050604</td>\n",
       "      <td>16797</td>\n",
       "    </tr>\n",
       "    <tr>\n",
       "      <th rowspan=\"2\" valign=\"top\">Uruguay</th>\n",
       "      <th>0</th>\n",
       "      <td>0.012048</td>\n",
       "      <td>415</td>\n",
       "    </tr>\n",
       "    <tr>\n",
       "      <th>1</th>\n",
       "      <td>0.012907</td>\n",
       "      <td>3719</td>\n",
       "    </tr>\n",
       "    <tr>\n",
       "      <th rowspan=\"2\" valign=\"top\">Venezuela</th>\n",
       "      <th>0</th>\n",
       "      <td>0.050344</td>\n",
       "      <td>16149</td>\n",
       "    </tr>\n",
       "    <tr>\n",
       "      <th>1</th>\n",
       "      <td>0.048978</td>\n",
       "      <td>15905</td>\n",
       "    </tr>\n",
       "  </tbody>\n",
       "</table>\n",
       "</div>"
      ],
      "text/plain": [
       "                      mean  count\n",
       "country     test                 \n",
       "Argentina   0     0.015071   9356\n",
       "            1     0.013725  37377\n",
       "Bolivia     0     0.049369   5550\n",
       "            1     0.047901   5574\n",
       "Chile       0     0.048107   9853\n",
       "            1     0.051295   9884\n",
       "Colombia    0     0.052089  27088\n",
       "            1     0.050571  26972\n",
       "Costa Rica  0     0.052256   2660\n",
       "            1     0.054738   2649\n",
       "Ecuador     0     0.049154   8036\n",
       "            1     0.048988   7859\n",
       "El Salvador 0     0.053554   4108\n",
       "            1     0.047947   4067\n",
       "Guatemala   0     0.050643   7622\n",
       "            1     0.048647   7503\n",
       "Honduras    0     0.050906   4361\n",
       "            1     0.047540   4207\n",
       "Mexico      0     0.049495  64209\n",
       "            1     0.051186  64275\n",
       "Nicaragua   0     0.052647   3419\n",
       "            1     0.054177   3304\n",
       "Panama      0     0.046796   1966\n",
       "            1     0.049370   1985\n",
       "Paraguay    0     0.048493   3650\n",
       "            1     0.049229   3697\n",
       "Peru        0     0.049914  16869\n",
       "            1     0.050604  16797\n",
       "Uruguay     0     0.012048    415\n",
       "            1     0.012907   3719\n",
       "Venezuela   0     0.050344  16149\n",
       "            1     0.048978  15905"
      ]
     },
     "execution_count": 18,
     "metadata": {},
     "output_type": "execute_result"
    }
   ],
   "source": [
    "final_df.groupby(['country','test'])['conversion'].agg(['mean','count']).drop('Spain', axis = 0)"
   ]
  },
  {
   "cell_type": "code",
   "execution_count": 19,
   "metadata": {
    "scrolled": false
   },
   "outputs": [
    {
     "data": {
      "image/png": "[encoded data removed]",
      "text/plain": [
       "<Figure size 909.725x576 with 1 Axes>"
      ]
     },
     "metadata": {},
     "output_type": "display_data"
    },
    {
     "data": {
      "image/png": "[encoded data removed]",
      "text/plain": [
       "<Figure size 909.725x576 with 1 Axes>"
      ]
     },
     "metadata": {},
     "output_type": "display_data"
    }
   ],
   "source": [
    "for col in ['mean','count']:\n",
    "    sns.catplot(x = 'country', y = col, hue = 'test', kind = 'bar', height = 8, aspect = 1.5,\n",
    "                data = final_df.groupby(\n",
    "                    ['country','test'])['conversion'].agg(['mean','count']).drop('Spain', axis = 0).reset_index())"
   ]
  },
  {
   "cell_type": "markdown",
   "metadata": {},
   "source": [
    "Actually here, you can see that the sample size of Argentina and Uruguay is not balanced"
   ]
  },
  {
   "cell_type": "markdown",
   "metadata": {},
   "source": [
    "Additionally, we can calculate the test result at `country` level, and merge them into a data frame:"
   ]
  },
  {
   "cell_type": "code",
   "execution_count": 20,
   "metadata": {},
   "outputs": [
    {
     "data": {
      "text/plain": [
       "['Mexico',\n",
       " 'Venezuela',\n",
       " 'Bolivia',\n",
       " 'Colombia',\n",
       " 'Uruguay',\n",
       " 'El Salvador',\n",
       " 'Nicaragua',\n",
       " 'Peru',\n",
       " 'Costa Rica',\n",
       " 'Chile',\n",
       " 'Argentina',\n",
       " 'Ecuador',\n",
       " 'Guatemala',\n",
       " 'Honduras',\n",
       " 'Paraguay',\n",
       " 'Panama']"
      ]
     },
     "execution_count": 20,
     "metadata": {},
     "output_type": "execute_result"
    }
   ],
   "source": [
    "country_list = list(final_df.country.unique())\n",
    "country_list.remove('Spain')\n",
    "\n",
    "country_list"
   ]
  },
  {
   "cell_type": "code",
   "execution_count": 21,
   "metadata": {
    "scrolled": false
   },
   "outputs": [
    {
     "data": {
      "text/html": [
       "<div>\n",
       "<style scoped>\n",
       "    .dataframe tbody tr th:only-of-type {\n",
       "        vertical-align: middle;\n",
       "    }\n",
       "\n",
       "    .dataframe tbody tr th {\n",
       "        vertical-align: top;\n",
       "    }\n",
       "\n",
       "    .dataframe thead th {\n",
       "        text-align: right;\n",
       "    }\n",
       "</style>\n",
       "<table border=\"1\" class=\"dataframe\">\n",
       "  <thead>\n",
       "    <tr style=\"text-align: right;\">\n",
       "      <th></th>\n",
       "      <th>country_name</th>\n",
       "      <th>t_value</th>\n",
       "      <th>p_value</th>\n",
       "      <th>df</th>\n",
       "      <th>lower_ci</th>\n",
       "      <th>upper_ci</th>\n",
       "    </tr>\n",
       "  </thead>\n",
       "  <tbody>\n",
       "    <tr>\n",
       "      <th>0</th>\n",
       "      <td>Mexico</td>\n",
       "      <td>1.386674</td>\n",
       "      <td>0.165544</td>\n",
       "      <td>128453.540235</td>\n",
       "      <td>-0.000699</td>\n",
       "      <td>0.004083</td>\n",
       "    </tr>\n",
       "    <tr>\n",
       "      <th>1</th>\n",
       "      <td>Venezuela</td>\n",
       "      <td>-0.562614</td>\n",
       "      <td>0.573702</td>\n",
       "      <td>32051.845412</td>\n",
       "      <td>-0.006122</td>\n",
       "      <td>0.003391</td>\n",
       "    </tr>\n",
       "    <tr>\n",
       "      <th>2</th>\n",
       "      <td>Bolivia</td>\n",
       "      <td>-0.359958</td>\n",
       "      <td>0.718885</td>\n",
       "      <td>11118.137084</td>\n",
       "      <td>-0.009465</td>\n",
       "      <td>0.006528</td>\n",
       "    </tr>\n",
       "    <tr>\n",
       "      <th>3</th>\n",
       "      <td>Colombia</td>\n",
       "      <td>-0.799992</td>\n",
       "      <td>0.423719</td>\n",
       "      <td>54052.913927</td>\n",
       "      <td>-0.005239</td>\n",
       "      <td>0.002202</td>\n",
       "    </tr>\n",
       "    <tr>\n",
       "      <th>4</th>\n",
       "      <td>Uruguay</td>\n",
       "      <td>0.151343</td>\n",
       "      <td>0.879764</td>\n",
       "      <td>517.743373</td>\n",
       "      <td>-0.010286</td>\n",
       "      <td>0.012003</td>\n",
       "    </tr>\n",
       "    <tr>\n",
       "      <th>5</th>\n",
       "      <td>El Salvador</td>\n",
       "      <td>-1.154994</td>\n",
       "      <td>0.248127</td>\n",
       "      <td>8158.417864</td>\n",
       "      <td>-0.015124</td>\n",
       "      <td>0.003909</td>\n",
       "    </tr>\n",
       "    <tr>\n",
       "      <th>6</th>\n",
       "      <td>Nicaragua</td>\n",
       "      <td>0.278809</td>\n",
       "      <td>0.780400</td>\n",
       "      <td>6705.720949</td>\n",
       "      <td>-0.009226</td>\n",
       "      <td>0.012286</td>\n",
       "    </tr>\n",
       "    <tr>\n",
       "      <th>7</th>\n",
       "      <td>Peru</td>\n",
       "      <td>0.289824</td>\n",
       "      <td>0.771953</td>\n",
       "      <td>33660.087814</td>\n",
       "      <td>-0.003978</td>\n",
       "      <td>0.005358</td>\n",
       "    </tr>\n",
       "    <tr>\n",
       "      <th>8</th>\n",
       "      <td>Costa Rica</td>\n",
       "      <td>0.401761</td>\n",
       "      <td>0.687876</td>\n",
       "      <td>5303.406161</td>\n",
       "      <td>-0.009629</td>\n",
       "      <td>0.014593</td>\n",
       "    </tr>\n",
       "    <tr>\n",
       "      <th>9</th>\n",
       "      <td>Chile</td>\n",
       "      <td>1.030373</td>\n",
       "      <td>0.302848</td>\n",
       "      <td>19720.351767</td>\n",
       "      <td>-0.002876</td>\n",
       "      <td>0.009252</td>\n",
       "    </tr>\n",
       "    <tr>\n",
       "      <th>10</th>\n",
       "      <td>Argentina</td>\n",
       "      <td>-0.963833</td>\n",
       "      <td>0.335147</td>\n",
       "      <td>13931.462938</td>\n",
       "      <td>-0.004082</td>\n",
       "      <td>0.001391</td>\n",
       "    </tr>\n",
       "    <tr>\n",
       "      <th>11</th>\n",
       "      <td>Ecuador</td>\n",
       "      <td>-0.048257</td>\n",
       "      <td>0.961512</td>\n",
       "      <td>15886.207910</td>\n",
       "      <td>-0.006883</td>\n",
       "      <td>0.006552</td>\n",
       "    </tr>\n",
       "    <tr>\n",
       "      <th>12</th>\n",
       "      <td>Guatemala</td>\n",
       "      <td>-0.564963</td>\n",
       "      <td>0.572107</td>\n",
       "      <td>15122.833915</td>\n",
       "      <td>-0.008920</td>\n",
       "      <td>0.004928</td>\n",
       "    </tr>\n",
       "    <tr>\n",
       "      <th>13</th>\n",
       "      <td>Honduras</td>\n",
       "      <td>-0.720133</td>\n",
       "      <td>0.471463</td>\n",
       "      <td>8565.893533</td>\n",
       "      <td>-0.012528</td>\n",
       "      <td>0.005796</td>\n",
       "    </tr>\n",
       "    <tr>\n",
       "      <th>14</th>\n",
       "      <td>Paraguay</td>\n",
       "      <td>0.146290</td>\n",
       "      <td>0.883697</td>\n",
       "      <td>7344.765231</td>\n",
       "      <td>-0.009126</td>\n",
       "      <td>0.010598</td>\n",
       "    </tr>\n",
       "    <tr>\n",
       "      <th>15</th>\n",
       "      <td>Panama</td>\n",
       "      <td>0.378167</td>\n",
       "      <td>0.705327</td>\n",
       "      <td>3948.014089</td>\n",
       "      <td>-0.010774</td>\n",
       "      <td>0.015923</td>\n",
       "    </tr>\n",
       "  </tbody>\n",
       "</table>\n",
       "</div>"
      ],
      "text/plain": [
       "   country_name   t_value   p_value             df  lower_ci  upper_ci\n",
       "0        Mexico  1.386674  0.165544  128453.540235 -0.000699  0.004083\n",
       "1     Venezuela -0.562614  0.573702   32051.845412 -0.006122  0.003391\n",
       "2       Bolivia -0.359958  0.718885   11118.137084 -0.009465  0.006528\n",
       "3      Colombia -0.799992  0.423719   54052.913927 -0.005239  0.002202\n",
       "4       Uruguay  0.151343  0.879764     517.743373 -0.010286  0.012003\n",
       "5   El Salvador -1.154994  0.248127    8158.417864 -0.015124  0.003909\n",
       "6     Nicaragua  0.278809  0.780400    6705.720949 -0.009226  0.012286\n",
       "7          Peru  0.289824  0.771953   33660.087814 -0.003978  0.005358\n",
       "8    Costa Rica  0.401761  0.687876    5303.406161 -0.009629  0.014593\n",
       "9         Chile  1.030373  0.302848   19720.351767 -0.002876  0.009252\n",
       "10    Argentina -0.963833  0.335147   13931.462938 -0.004082  0.001391\n",
       "11      Ecuador -0.048257  0.961512   15886.207910 -0.006883  0.006552\n",
       "12    Guatemala -0.564963  0.572107   15122.833915 -0.008920  0.004928\n",
       "13     Honduras -0.720133  0.471463    8565.893533 -0.012528  0.005796\n",
       "14     Paraguay  0.146290  0.883697    7344.765231 -0.009126  0.010598\n",
       "15       Panama  0.378167  0.705327    3948.014089 -0.010774  0.015923"
      ]
     },
     "execution_count": 21,
     "metadata": {},
     "output_type": "execute_result"
    }
   ],
   "source": [
    "t_val_list = []\n",
    "p_val_list = []\n",
    "df_list = []\n",
    "lower_conf_list = []\n",
    "upper_conf_list = []\n",
    "\n",
    "for col in country_list:\n",
    "    sample_1 = final_df[(final_df.country == col) & (final_df.test ==1)].conversion\n",
    "    sample_2 = final_df[(final_df.country == col) & (final_df.test ==0)].conversion\n",
    "    d1 = DescrStatsW(sample_1)\n",
    "    d2 = DescrStatsW(sample_2)\n",
    "    \n",
    "    if sample_1.count() == sample_2.count():\n",
    "        t_val_c, p_val_c, df_c = CompareMeans(d1, d2).ttest_ind(usevar = 'pooled')\n",
    "        lower_conf_c, upper_conf_c = CompareMeans(d1, d2).tconfint_diff( alpha = 0.05, usevar = 'unequal')\n",
    "    else:\n",
    "        t_val_c, p_val_c, df_c = CompareMeans(d1, d2).ttest_ind(usevar = 'unequal')\n",
    "        lower_conf_c, upper_conf_c = CompareMeans(d1, d2).tconfint_diff( alpha = 0.05, usevar = 'unequal')\n",
    "        \n",
    "    t_val_list.append(t_val_c)\n",
    "    p_val_list.append(p_val_c)\n",
    "    df_list.append(df_c)\n",
    "    lower_conf_list.append(lower_conf_c)\n",
    "    upper_conf_list.append(upper_conf_c)\n",
    "\n",
    "\n",
    "    \n",
    "test_result = pd.DataFrame(data = \n",
    "                          {'country_name': country_list,\n",
    "                           't_value':t_val_list, \n",
    "                           'p_value': p_val_list,\n",
    "                           'df': df_list,\n",
    "                           'lower_ci': lower_conf_list,\n",
    "                           'upper_ci': upper_conf_list,\n",
    "                          }\n",
    "                          )\n",
    "\n",
    "test_result"
   ]
  },
  {
   "cell_type": "markdown",
   "metadata": {},
   "source": [
    "Now if we add conversion rate back to the `test_result` table:"
   ]
  },
  {
   "cell_type": "code",
   "execution_count": 22,
   "metadata": {},
   "outputs": [
    {
     "data": {
      "text/html": [
       "<div>\n",
       "<style scoped>\n",
       "    .dataframe tbody tr th:only-of-type {\n",
       "        vertical-align: middle;\n",
       "    }\n",
       "\n",
       "    .dataframe tbody tr th {\n",
       "        vertical-align: top;\n",
       "    }\n",
       "\n",
       "    .dataframe thead th {\n",
       "        text-align: right;\n",
       "    }\n",
       "</style>\n",
       "<table border=\"1\" class=\"dataframe\">\n",
       "  <thead>\n",
       "    <tr style=\"text-align: right;\">\n",
       "      <th></th>\n",
       "      <th>country_name</th>\n",
       "      <th>t_value</th>\n",
       "      <th>p_value</th>\n",
       "      <th>df</th>\n",
       "      <th>lower_ci</th>\n",
       "      <th>upper_ci</th>\n",
       "      <th>conversion_control</th>\n",
       "      <th>conversion_test</th>\n",
       "    </tr>\n",
       "  </thead>\n",
       "  <tbody>\n",
       "    <tr>\n",
       "      <th>0</th>\n",
       "      <td>Mexico</td>\n",
       "      <td>1.386674</td>\n",
       "      <td>0.165544</td>\n",
       "      <td>128453.540235</td>\n",
       "      <td>-0.000699</td>\n",
       "      <td>0.004083</td>\n",
       "      <td>0.049495</td>\n",
       "      <td>0.051186</td>\n",
       "    </tr>\n",
       "    <tr>\n",
       "      <th>5</th>\n",
       "      <td>El Salvador</td>\n",
       "      <td>-1.154994</td>\n",
       "      <td>0.248127</td>\n",
       "      <td>8158.417864</td>\n",
       "      <td>-0.015124</td>\n",
       "      <td>0.003909</td>\n",
       "      <td>0.053554</td>\n",
       "      <td>0.047947</td>\n",
       "    </tr>\n",
       "    <tr>\n",
       "      <th>9</th>\n",
       "      <td>Chile</td>\n",
       "      <td>1.030373</td>\n",
       "      <td>0.302848</td>\n",
       "      <td>19720.351767</td>\n",
       "      <td>-0.002876</td>\n",
       "      <td>0.009252</td>\n",
       "      <td>0.048107</td>\n",
       "      <td>0.051295</td>\n",
       "    </tr>\n",
       "    <tr>\n",
       "      <th>10</th>\n",
       "      <td>Argentina</td>\n",
       "      <td>-0.963833</td>\n",
       "      <td>0.335147</td>\n",
       "      <td>13931.462938</td>\n",
       "      <td>-0.004082</td>\n",
       "      <td>0.001391</td>\n",
       "      <td>0.015071</td>\n",
       "      <td>0.013725</td>\n",
       "    </tr>\n",
       "    <tr>\n",
       "      <th>3</th>\n",
       "      <td>Colombia</td>\n",
       "      <td>-0.799992</td>\n",
       "      <td>0.423719</td>\n",
       "      <td>54052.913927</td>\n",
       "      <td>-0.005239</td>\n",
       "      <td>0.002202</td>\n",
       "      <td>0.052089</td>\n",
       "      <td>0.050571</td>\n",
       "    </tr>\n",
       "    <tr>\n",
       "      <th>13</th>\n",
       "      <td>Honduras</td>\n",
       "      <td>-0.720133</td>\n",
       "      <td>0.471463</td>\n",
       "      <td>8565.893533</td>\n",
       "      <td>-0.012528</td>\n",
       "      <td>0.005796</td>\n",
       "      <td>0.050906</td>\n",
       "      <td>0.047540</td>\n",
       "    </tr>\n",
       "    <tr>\n",
       "      <th>12</th>\n",
       "      <td>Guatemala</td>\n",
       "      <td>-0.564963</td>\n",
       "      <td>0.572107</td>\n",
       "      <td>15122.833915</td>\n",
       "      <td>-0.008920</td>\n",
       "      <td>0.004928</td>\n",
       "      <td>0.050643</td>\n",
       "      <td>0.048647</td>\n",
       "    </tr>\n",
       "    <tr>\n",
       "      <th>1</th>\n",
       "      <td>Venezuela</td>\n",
       "      <td>-0.562614</td>\n",
       "      <td>0.573702</td>\n",
       "      <td>32051.845412</td>\n",
       "      <td>-0.006122</td>\n",
       "      <td>0.003391</td>\n",
       "      <td>0.050344</td>\n",
       "      <td>0.048978</td>\n",
       "    </tr>\n",
       "    <tr>\n",
       "      <th>8</th>\n",
       "      <td>Costa Rica</td>\n",
       "      <td>0.401761</td>\n",
       "      <td>0.687876</td>\n",
       "      <td>5303.406161</td>\n",
       "      <td>-0.009629</td>\n",
       "      <td>0.014593</td>\n",
       "      <td>0.052256</td>\n",
       "      <td>0.054738</td>\n",
       "    </tr>\n",
       "    <tr>\n",
       "      <th>15</th>\n",
       "      <td>Panama</td>\n",
       "      <td>0.378167</td>\n",
       "      <td>0.705327</td>\n",
       "      <td>3948.014089</td>\n",
       "      <td>-0.010774</td>\n",
       "      <td>0.015923</td>\n",
       "      <td>0.046796</td>\n",
       "      <td>0.049370</td>\n",
       "    </tr>\n",
       "    <tr>\n",
       "      <th>2</th>\n",
       "      <td>Bolivia</td>\n",
       "      <td>-0.359958</td>\n",
       "      <td>0.718885</td>\n",
       "      <td>11118.137084</td>\n",
       "      <td>-0.009465</td>\n",
       "      <td>0.006528</td>\n",
       "      <td>0.049369</td>\n",
       "      <td>0.047901</td>\n",
       "    </tr>\n",
       "    <tr>\n",
       "      <th>7</th>\n",
       "      <td>Peru</td>\n",
       "      <td>0.289824</td>\n",
       "      <td>0.771953</td>\n",
       "      <td>33660.087814</td>\n",
       "      <td>-0.003978</td>\n",
       "      <td>0.005358</td>\n",
       "      <td>0.049914</td>\n",
       "      <td>0.050604</td>\n",
       "    </tr>\n",
       "    <tr>\n",
       "      <th>6</th>\n",
       "      <td>Nicaragua</td>\n",
       "      <td>0.278809</td>\n",
       "      <td>0.780400</td>\n",
       "      <td>6705.720949</td>\n",
       "      <td>-0.009226</td>\n",
       "      <td>0.012286</td>\n",
       "      <td>0.052647</td>\n",
       "      <td>0.054177</td>\n",
       "    </tr>\n",
       "    <tr>\n",
       "      <th>4</th>\n",
       "      <td>Uruguay</td>\n",
       "      <td>0.151343</td>\n",
       "      <td>0.879764</td>\n",
       "      <td>517.743373</td>\n",
       "      <td>-0.010286</td>\n",
       "      <td>0.012003</td>\n",
       "      <td>0.012048</td>\n",
       "      <td>0.012907</td>\n",
       "    </tr>\n",
       "    <tr>\n",
       "      <th>14</th>\n",
       "      <td>Paraguay</td>\n",
       "      <td>0.146290</td>\n",
       "      <td>0.883697</td>\n",
       "      <td>7344.765231</td>\n",
       "      <td>-0.009126</td>\n",
       "      <td>0.010598</td>\n",
       "      <td>0.048493</td>\n",
       "      <td>0.049229</td>\n",
       "    </tr>\n",
       "    <tr>\n",
       "      <th>11</th>\n",
       "      <td>Ecuador</td>\n",
       "      <td>-0.048257</td>\n",
       "      <td>0.961512</td>\n",
       "      <td>15886.207910</td>\n",
       "      <td>-0.006883</td>\n",
       "      <td>0.006552</td>\n",
       "      <td>0.049154</td>\n",
       "      <td>0.048988</td>\n",
       "    </tr>\n",
       "  </tbody>\n",
       "</table>\n",
       "</div>"
      ],
      "text/plain": [
       "   country_name   t_value   p_value             df  lower_ci  upper_ci  \\\n",
       "0        Mexico  1.386674  0.165544  128453.540235 -0.000699  0.004083   \n",
       "5   El Salvador -1.154994  0.248127    8158.417864 -0.015124  0.003909   \n",
       "9         Chile  1.030373  0.302848   19720.351767 -0.002876  0.009252   \n",
       "10    Argentina -0.963833  0.335147   13931.462938 -0.004082  0.001391   \n",
       "3      Colombia -0.799992  0.423719   54052.913927 -0.005239  0.002202   \n",
       "13     Honduras -0.720133  0.471463    8565.893533 -0.012528  0.005796   \n",
       "12    Guatemala -0.564963  0.572107   15122.833915 -0.008920  0.004928   \n",
       "1     Venezuela -0.562614  0.573702   32051.845412 -0.006122  0.003391   \n",
       "8    Costa Rica  0.401761  0.687876    5303.406161 -0.009629  0.014593   \n",
       "15       Panama  0.378167  0.705327    3948.014089 -0.010774  0.015923   \n",
       "2       Bolivia -0.359958  0.718885   11118.137084 -0.009465  0.006528   \n",
       "7          Peru  0.289824  0.771953   33660.087814 -0.003978  0.005358   \n",
       "6     Nicaragua  0.278809  0.780400    6705.720949 -0.009226  0.012286   \n",
       "4       Uruguay  0.151343  0.879764     517.743373 -0.010286  0.012003   \n",
       "14     Paraguay  0.146290  0.883697    7344.765231 -0.009126  0.010598   \n",
       "11      Ecuador -0.048257  0.961512   15886.207910 -0.006883  0.006552   \n",
       "\n",
       "    conversion_control  conversion_test  \n",
       "0             0.049495         0.051186  \n",
       "5             0.053554         0.047947  \n",
       "9             0.048107         0.051295  \n",
       "10            0.015071         0.013725  \n",
       "3             0.052089         0.050571  \n",
       "13            0.050906         0.047540  \n",
       "12            0.050643         0.048647  \n",
       "1             0.050344         0.048978  \n",
       "8             0.052256         0.054738  \n",
       "15            0.046796         0.049370  \n",
       "2             0.049369         0.047901  \n",
       "7             0.049914         0.050604  \n",
       "6             0.052647         0.054177  \n",
       "4             0.012048         0.012907  \n",
       "14            0.048493         0.049229  \n",
       "11            0.049154         0.048988  "
      ]
     },
     "execution_count": 22,
     "metadata": {},
     "output_type": "execute_result"
    }
   ],
   "source": [
    "conversion_control = final_df[final_df.test == 0].groupby(['country'])['conversion'].mean()\n",
    "conversion_test = final_df[final_df.test ==1].groupby('country')['conversion'].mean()\n",
    "\n",
    "test_result = test_result.merge(pd.concat([conversion_control, conversion_test], join = 'inner', axis = 1, \n",
    "          keys = ['conversion_control', 'conversion_test']), how = 'inner', \n",
    "                  left_on = 'country_name', right_on = 'country')\n",
    "\n",
    "test_result.sort_values(by = 'p_value')"
   ]
  },
  {
   "cell_type": "markdown",
   "metadata": {},
   "source": [
    "Now, you can see if we control for country, the test result appears not to be significant -- so now we know that at least we didn't make it worse"
   ]
  }
 ],
 "metadata": {
  "kernelspec": {
   "display_name": "Python 3",
   "language": "python",
   "name": "python3"
  },
  "language_info": {
   "codemirror_mode": {
    "name": "ipython",
    "version": 3
   },
   "file_extension": ".py",
   "mimetype": "text/x-python",
   "name": "python",
   "nbconvert_exporter": "python",
   "pygments_lexer": "ipython3",
   "version": "3.6.8"
  },
  "toc": {
   "base_numbering": 1,
   "nav_menu": {},
   "number_sections": true,
   "sideBar": true,
   "skip_h1_title": false,
   "title_cell": "Table of Contents",
   "title_sidebar": "Contents",
   "toc_cell": true,
   "toc_position": {
    "height": "calc(100% - 180px)",
    "left": "10px",
    "top": "150px",
    "width": "382.59375px"
   },
   "toc_section_display": true,
   "toc_window_display": true
  },
  "varInspector": {
   "cols": {
    "lenName": 16,
    "lenType": 16,
    "lenVar": 40
   },
   "kernels_config": {
    "python": {
     "delete_cmd_postfix": "",
     "delete_cmd_prefix": "del ",
     "library": "var_list.py",
     "varRefreshCmd": "print(var_dic_list())"
    },
    "r": {
     "delete_cmd_postfix": ") ",
     "delete_cmd_prefix": "rm(",
     "library": "var_list.r",
     "varRefreshCmd": "cat(var_dic_list()) "
    }
   },
   "position": {
    "height": "452px",
    "left": "1773px",
    "right": "16px",
    "top": "68px",
    "width": "510px"
   },
   "types_to_exclude": [
    "module",
    "function",
    "builtin_function_or_method",
    "instance",
    "_Feature"
   ],
   "window_display": true
  }
 },
 "nbformat": 4,
 "nbformat_minor": 2
}
