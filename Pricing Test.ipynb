{
 "cells": [
  {
   "cell_type": "markdown",
   "metadata": {
    "toc": true
   },
   "source": [
    "<h1>Table of Contents<span class=\"tocSkip\"></span></h1>\n",
    "<div class=\"toc\"><ul class=\"toc-item\"><li><span><a href=\"#Challenge-Description\" data-toc-modified-id=\"Challenge-Description-1\"><span class=\"toc-item-num\">1&nbsp;&nbsp;</span>Challenge Description</a></span></li><li><span><a href=\"#Loading-Dataset\" data-toc-modified-id=\"Loading-Dataset-2\"><span class=\"toc-item-num\">2&nbsp;&nbsp;</span>Loading Dataset</a></span></li><li><span><a href=\"#Merging-dataset-&amp;-check-for-missing/abnormal-values\" data-toc-modified-id=\"Merging-dataset-&amp;-check-for-missing/abnormal-values-3\"><span class=\"toc-item-num\">3&nbsp;&nbsp;</span>Merging dataset &amp; check for missing/abnormal values</a></span><ul class=\"toc-item\"><li><span><a href=\"#Merging-Dataset\" data-toc-modified-id=\"Merging-Dataset-3.1\"><span class=\"toc-item-num\">3.1&nbsp;&nbsp;</span>Merging Dataset</a></span></li><li><span><a href=\"#Cleaning-Merged-dataset:\" data-toc-modified-id=\"Cleaning-Merged-dataset:-3.2\"><span class=\"toc-item-num\">3.2&nbsp;&nbsp;</span>Cleaning Merged dataset:</a></span><ul class=\"toc-item\"><li><span><a href=\"#Converting-timestamp\" data-toc-modified-id=\"Converting-timestamp-3.2.1\"><span class=\"toc-item-num\">3.2.1&nbsp;&nbsp;</span>Converting timestamp</a></span></li><li><span><a href=\"#Dropping-Country-Column\" data-toc-modified-id=\"Dropping-Country-Column-3.2.2\"><span class=\"toc-item-num\">3.2.2&nbsp;&nbsp;</span>Dropping Country Column</a></span></li><li><span><a href=\"#Checking-test-and-price-column\" data-toc-modified-id=\"Checking-test-and-price-column-3.2.3\"><span class=\"toc-item-num\">3.2.3&nbsp;&nbsp;</span>Checking test and price column</a></span></li></ul></li></ul></li><li><span><a href=\"#Checking-for-missing/abnormal-values-in-the-dataset\" data-toc-modified-id=\"Checking-for-missing/abnormal-values-in-the-dataset-4\"><span class=\"toc-item-num\">4&nbsp;&nbsp;</span>Checking for missing/abnormal values in the dataset</a></span></li><li><span><a href=\"#Check-for-high-level-test-results\" data-toc-modified-id=\"Check-for-high-level-test-results-5\"><span class=\"toc-item-num\">5&nbsp;&nbsp;</span>Check for high level test results</a></span></li><li><span><a href=\"#Exploratory-Analysis-for-Test-Results\" data-toc-modified-id=\"Exploratory-Analysis-for-Test-Results-6\"><span class=\"toc-item-num\">6&nbsp;&nbsp;</span>Exploratory Analysis for Test Results</a></span><ul class=\"toc-item\"><li><span><a href=\"#Conversion-Rate-breakdown-by-time-series\" data-toc-modified-id=\"Conversion-Rate-breakdown-by-time-series-6.1\"><span class=\"toc-item-num\">6.1&nbsp;&nbsp;</span>Conversion Rate breakdown by time series</a></span></li><li><span><a href=\"#Conversion-Rate-breakdown-by-other-demographics\" data-toc-modified-id=\"Conversion-Rate-breakdown-by-other-demographics-6.2\"><span class=\"toc-item-num\">6.2&nbsp;&nbsp;</span>Conversion Rate breakdown by other demographics</a></span><ul class=\"toc-item\"><li><span><a href=\"#Categorical-Values\" data-toc-modified-id=\"Categorical-Values-6.2.1\"><span class=\"toc-item-num\">6.2.1&nbsp;&nbsp;</span>Categorical Values</a></span></li><li><span><a href=\"#Numeric-Values\" data-toc-modified-id=\"Numeric-Values-6.2.2\"><span class=\"toc-item-num\">6.2.2&nbsp;&nbsp;</span>Numeric Values</a></span></li></ul></li></ul></li><li><span><a href=\"#Build-a-model-to-predict-conversion-to-validate-our-findings\" data-toc-modified-id=\"Build-a-model-to-predict-conversion-to-validate-our-findings-7\"><span class=\"toc-item-num\">7&nbsp;&nbsp;</span>Build a model to predict conversion to validate our findings</a></span><ul class=\"toc-item\"><li><span><a href=\"#Initiate-H2O-instance\" data-toc-modified-id=\"Initiate-H2O-instance-7.1\"><span class=\"toc-item-num\">7.1&nbsp;&nbsp;</span>Initiate H2O instance</a></span></li><li><span><a href=\"#Passing-data-in\" data-toc-modified-id=\"Passing-data-in-7.2\"><span class=\"toc-item-num\">7.2&nbsp;&nbsp;</span>Passing data in</a></span></li><li><span><a href=\"#Test-Train-Split-&amp;-Train-Classifier\" data-toc-modified-id=\"Test-Train-Split-&amp;-Train-Classifier-7.3\"><span class=\"toc-item-num\">7.3&nbsp;&nbsp;</span>Test Train Split &amp; Train Classifier</a></span></li><li><span><a href=\"#Model-Performance\" data-toc-modified-id=\"Model-Performance-7.4\"><span class=\"toc-item-num\">7.4&nbsp;&nbsp;</span>Model Performance</a></span></li></ul></li><li><span><a href=\"#Recommendation-&amp;-Summary\" data-toc-modified-id=\"Recommendation-&amp;-Summary-8\"><span class=\"toc-item-num\">8&nbsp;&nbsp;</span>Recommendation &amp; Summary</a></span></li></ul></div>"
   ]
  },
  {
   "cell_type": "markdown",
   "metadata": {},
   "source": [
    "# Challenge Description"
   ]
  },
  {
   "cell_type": "markdown",
   "metadata": {},
   "source": [
    "Company XYZ sells a software for 39 usd. Since revenue has been flat for some time, the VP of\n",
    "Product has decided to run a test increasing the price. She hopes that this would increase\n",
    "revenue. In the experiment, 66% of the users have seen the old price (39 usd), while a random\n",
    "sample of 33% users a higher price (59 usd). <br>\n",
    "The test has been running for some time and the VP of Product is interested in understanding\n",
    "how it went and whether it would make sense to increase the price for all the users. <br>\n",
    "Especially he asked you the following questions:\n",
    "- Should the company sell its software for 39 usd or 59 usd?\n",
    "- The VP of Product is interested in having a holistic view into user behavior, especially\n",
    "focusing on actionable insights that might increase conversion rate. What are your main\n",
    "findings looking at the data?\n",
    "- (Bonus) The VP of Product feels that the test has been running for too long and he should\n",
    "have been able to get statistically significant results in a shorter time. Do you agree with\n",
    "her intuition? After how many days you would have stopped the test? Please, explain\n",
    "why"
   ]
  },
  {
   "cell_type": "markdown",
   "metadata": {},
   "source": [
    "# Loading Dataset"
   ]
  },
  {
   "cell_type": "code",
   "execution_count": 1,
   "metadata": {
    "ExecuteTime": {
     "end_time": "2019-01-18T17:44:51.023216Z",
     "start_time": "2019-01-18T17:44:45.223604Z"
    }
   },
   "outputs": [
    {
     "data": {
      "text/html": [
       "<div>\n",
       "<style scoped>\n",
       "    .dataframe tbody tr th:only-of-type {\n",
       "        vertical-align: middle;\n",
       "    }\n",
       "\n",
       "    .dataframe tbody tr th {\n",
       "        vertical-align: top;\n",
       "    }\n",
       "\n",
       "    .dataframe thead th {\n",
       "        text-align: right;\n",
       "    }\n",
       "</style>\n",
       "<table border=\"1\" class=\"dataframe\">\n",
       "  <thead>\n",
       "    <tr style=\"text-align: right;\">\n",
       "      <th></th>\n",
       "      <th>user_id</th>\n",
       "      <th>city</th>\n",
       "      <th>country</th>\n",
       "      <th>lat</th>\n",
       "      <th>long</th>\n",
       "    </tr>\n",
       "  </thead>\n",
       "  <tbody>\n",
       "    <tr>\n",
       "      <th>0</th>\n",
       "      <td>510335</td>\n",
       "      <td>Peabody</td>\n",
       "      <td>USA</td>\n",
       "      <td>42.53</td>\n",
       "      <td>-70.97</td>\n",
       "    </tr>\n",
       "    <tr>\n",
       "      <th>1</th>\n",
       "      <td>89568</td>\n",
       "      <td>Reno</td>\n",
       "      <td>USA</td>\n",
       "      <td>39.54</td>\n",
       "      <td>-119.82</td>\n",
       "    </tr>\n",
       "    <tr>\n",
       "      <th>2</th>\n",
       "      <td>434134</td>\n",
       "      <td>Rialto</td>\n",
       "      <td>USA</td>\n",
       "      <td>34.11</td>\n",
       "      <td>-117.39</td>\n",
       "    </tr>\n",
       "    <tr>\n",
       "      <th>3</th>\n",
       "      <td>289769</td>\n",
       "      <td>Carson City</td>\n",
       "      <td>USA</td>\n",
       "      <td>39.15</td>\n",
       "      <td>-119.74</td>\n",
       "    </tr>\n",
       "    <tr>\n",
       "      <th>4</th>\n",
       "      <td>939586</td>\n",
       "      <td>Chicago</td>\n",
       "      <td>USA</td>\n",
       "      <td>41.84</td>\n",
       "      <td>-87.68</td>\n",
       "    </tr>\n",
       "  </tbody>\n",
       "</table>\n",
       "</div>"
      ],
      "text/plain": [
       "   user_id         city country    lat    long\n",
       "0   510335      Peabody     USA  42.53  -70.97\n",
       "1    89568         Reno     USA  39.54 -119.82\n",
       "2   434134       Rialto     USA  34.11 -117.39\n",
       "3   289769  Carson City     USA  39.15 -119.74\n",
       "4   939586      Chicago     USA  41.84  -87.68"
      ]
     },
     "execution_count": 1,
     "metadata": {},
     "output_type": "execute_result"
    }
   ],
   "source": [
    "import os\n",
    "import numpy as np\n",
    "import pandas as pd\n",
    "import matplotlib.pyplot as plt\n",
    "import seaborn as sns\n",
    "\n",
    "working_path = os.getcwd()\n",
    "user_df = pd.read_csv(os.path.join(working_path, 'user_table.csv' ))\n",
    "user_df.head()"
   ]
  },
  {
   "cell_type": "code",
   "execution_count": 2,
   "metadata": {
    "ExecuteTime": {
     "end_time": "2019-01-18T18:00:50.446616Z",
     "start_time": "2019-01-18T18:00:50.390498Z"
    }
   },
   "outputs": [
    {
     "name": "stdout",
     "output_type": "stream",
     "text": [
      "<class 'pandas.core.frame.DataFrame'>\n",
      "RangeIndex: 275616 entries, 0 to 275615\n",
      "Data columns (total 5 columns):\n",
      "user_id    275616 non-null int64\n",
      "city       275616 non-null object\n",
      "country    275616 non-null object\n",
      "lat        275616 non-null float64\n",
      "long       275616 non-null float64\n",
      "dtypes: float64(2), int64(1), object(2)\n",
      "memory usage: 10.5+ MB\n"
     ]
    }
   ],
   "source": [
    "user_df.info()"
   ]
  },
  {
   "cell_type": "code",
   "execution_count": 3,
   "metadata": {
    "ExecuteTime": {
     "end_time": "2019-01-18T17:44:56.428000Z",
     "start_time": "2019-01-18T17:44:51.152910Z"
    }
   },
   "outputs": [
    {
     "data": {
      "text/html": [
       "<div>\n",
       "<style scoped>\n",
       "    .dataframe tbody tr th:only-of-type {\n",
       "        vertical-align: middle;\n",
       "    }\n",
       "\n",
       "    .dataframe tbody tr th {\n",
       "        vertical-align: top;\n",
       "    }\n",
       "\n",
       "    .dataframe thead th {\n",
       "        text-align: right;\n",
       "    }\n",
       "</style>\n",
       "<table border=\"1\" class=\"dataframe\">\n",
       "  <thead>\n",
       "    <tr style=\"text-align: right;\">\n",
       "      <th></th>\n",
       "      <th>user_id</th>\n",
       "      <th>timestamp</th>\n",
       "      <th>source</th>\n",
       "      <th>device</th>\n",
       "      <th>operative_system</th>\n",
       "      <th>test</th>\n",
       "      <th>price</th>\n",
       "      <th>converted</th>\n",
       "    </tr>\n",
       "  </thead>\n",
       "  <tbody>\n",
       "    <tr>\n",
       "      <th>0</th>\n",
       "      <td>604839</td>\n",
       "      <td>2015-05-08 03:38:34</td>\n",
       "      <td>ads_facebook</td>\n",
       "      <td>mobile</td>\n",
       "      <td>iOS</td>\n",
       "      <td>0</td>\n",
       "      <td>39</td>\n",
       "      <td>0</td>\n",
       "    </tr>\n",
       "    <tr>\n",
       "      <th>1</th>\n",
       "      <td>624057</td>\n",
       "      <td>2015-05-10 21:08:46</td>\n",
       "      <td>seo-google</td>\n",
       "      <td>mobile</td>\n",
       "      <td>android</td>\n",
       "      <td>0</td>\n",
       "      <td>39</td>\n",
       "      <td>0</td>\n",
       "    </tr>\n",
       "    <tr>\n",
       "      <th>2</th>\n",
       "      <td>317970</td>\n",
       "      <td>2015-04-04 15:01:23</td>\n",
       "      <td>ads-bing</td>\n",
       "      <td>mobile</td>\n",
       "      <td>android</td>\n",
       "      <td>0</td>\n",
       "      <td>39</td>\n",
       "      <td>0</td>\n",
       "    </tr>\n",
       "    <tr>\n",
       "      <th>3</th>\n",
       "      <td>685636</td>\n",
       "      <td>2015-05-07 07:26:01</td>\n",
       "      <td>direct_traffic</td>\n",
       "      <td>mobile</td>\n",
       "      <td>iOS</td>\n",
       "      <td>1</td>\n",
       "      <td>59</td>\n",
       "      <td>0</td>\n",
       "    </tr>\n",
       "    <tr>\n",
       "      <th>4</th>\n",
       "      <td>820854</td>\n",
       "      <td>2015-05-24 11:04:40</td>\n",
       "      <td>ads_facebook</td>\n",
       "      <td>web</td>\n",
       "      <td>mac</td>\n",
       "      <td>0</td>\n",
       "      <td>39</td>\n",
       "      <td>0</td>\n",
       "    </tr>\n",
       "  </tbody>\n",
       "</table>\n",
       "</div>"
      ],
      "text/plain": [
       "   user_id            timestamp          source  device operative_system  \\\n",
       "0   604839  2015-05-08 03:38:34    ads_facebook  mobile              iOS   \n",
       "1   624057  2015-05-10 21:08:46      seo-google  mobile          android   \n",
       "2   317970  2015-04-04 15:01:23        ads-bing  mobile          android   \n",
       "3   685636  2015-05-07 07:26:01  direct_traffic  mobile              iOS   \n",
       "4   820854  2015-05-24 11:04:40    ads_facebook     web              mac   \n",
       "\n",
       "   test  price  converted  \n",
       "0     0     39          0  \n",
       "1     0     39          0  \n",
       "2     0     39          0  \n",
       "3     1     59          0  \n",
       "4     0     39          0  "
      ]
     },
     "execution_count": 3,
     "metadata": {},
     "output_type": "execute_result"
    }
   ],
   "source": [
    "test_df = pd.read_csv(os.path.join(working_path, 'test_results.csv'))\n",
    "test_df.head()"
   ]
  },
  {
   "cell_type": "code",
   "execution_count": 4,
   "metadata": {
    "ExecuteTime": {
     "end_time": "2019-01-18T18:00:57.583428Z",
     "start_time": "2019-01-18T18:00:57.495164Z"
    }
   },
   "outputs": [
    {
     "name": "stdout",
     "output_type": "stream",
     "text": [
      "<class 'pandas.core.frame.DataFrame'>\n",
      "RangeIndex: 316800 entries, 0 to 316799\n",
      "Data columns (total 8 columns):\n",
      "user_id             316800 non-null int64\n",
      "timestamp           316800 non-null object\n",
      "source              316800 non-null object\n",
      "device              316800 non-null object\n",
      "operative_system    316800 non-null object\n",
      "test                316800 non-null int64\n",
      "price               316800 non-null int64\n",
      "converted           316800 non-null int64\n",
      "dtypes: int64(4), object(4)\n",
      "memory usage: 19.3+ MB\n"
     ]
    }
   ],
   "source": [
    "test_df.info()"
   ]
  },
  {
   "cell_type": "markdown",
   "metadata": {},
   "source": [
    "Looks like the information can be combined via `user_id` from two tables for demographics of users. Since the ultimate goal is to determine whether the software should be sold at either 39 usd or 59 usd, eventually we want to see if the test conducted was statistically significant or not and find some insights along the way. <br>\n",
    "With that said, there's a few things we want to do:\n",
    "1. Merge `user_df` with `test_df`\n",
    "2. Check for abnormal/missing values with the combined dataset\n",
    "3. Check for high-level test results (i.e, without breakdown into details, is changing price statistically significant)\n",
    "4. Breakdown test results by individual columns and performing exploratory analysis to see if there is anything that stands out that drives conversion"
   ]
  },
  {
   "cell_type": "markdown",
   "metadata": {},
   "source": [
    "# Merging dataset & check for missing/abnormal values"
   ]
  },
  {
   "cell_type": "markdown",
   "metadata": {},
   "source": [
    "## Merging Dataset"
   ]
  },
  {
   "cell_type": "markdown",
   "metadata": {},
   "source": [
    "Before we merge the dataset, from `.info()`, we can see that there are more columns in test than user -- we want to see if there are more users in test than user it self, or it would be the same user making multiple visits to the sites"
   ]
  },
  {
   "cell_type": "code",
   "execution_count": 5,
   "metadata": {
    "ExecuteTime": {
     "end_time": "2019-01-18T19:14:33.387687Z",
     "start_time": "2019-01-18T19:14:33.364627Z"
    }
   },
   "outputs": [
    {
     "data": {
      "text/plain": [
       "275616"
      ]
     },
     "execution_count": 5,
     "metadata": {},
     "output_type": "execute_result"
    }
   ],
   "source": [
    "user_df.user_id.nunique()"
   ]
  },
  {
   "cell_type": "code",
   "execution_count": 6,
   "metadata": {
    "ExecuteTime": {
     "end_time": "2019-01-18T19:20:05.684743Z",
     "start_time": "2019-01-18T19:20:05.662669Z"
    }
   },
   "outputs": [
    {
     "data": {
      "text/plain": [
       "316800"
      ]
     },
     "execution_count": 6,
     "metadata": {},
     "output_type": "execute_result"
    }
   ],
   "source": [
    "test_df.user_id.nunique()"
   ]
  },
  {
   "cell_type": "markdown",
   "metadata": {},
   "source": [
    "Looks like we have more user_id in `test_df` than `user_df`, let's try to do `test_df` left join `user_df` and keep the `np.nan` for now"
   ]
  },
  {
   "cell_type": "code",
   "execution_count": 7,
   "metadata": {
    "ExecuteTime": {
     "end_time": "2019-01-18T19:21:45.576220Z",
     "start_time": "2019-01-18T19:21:44.692769Z"
    }
   },
   "outputs": [
    {
     "data": {
      "text/html": [
       "<div>\n",
       "<style scoped>\n",
       "    .dataframe tbody tr th:only-of-type {\n",
       "        vertical-align: middle;\n",
       "    }\n",
       "\n",
       "    .dataframe tbody tr th {\n",
       "        vertical-align: top;\n",
       "    }\n",
       "\n",
       "    .dataframe thead th {\n",
       "        text-align: right;\n",
       "    }\n",
       "</style>\n",
       "<table border=\"1\" class=\"dataframe\">\n",
       "  <thead>\n",
       "    <tr style=\"text-align: right;\">\n",
       "      <th></th>\n",
       "      <th>user_id</th>\n",
       "      <th>timestamp</th>\n",
       "      <th>source</th>\n",
       "      <th>device</th>\n",
       "      <th>operative_system</th>\n",
       "      <th>test</th>\n",
       "      <th>price</th>\n",
       "      <th>converted</th>\n",
       "      <th>city</th>\n",
       "      <th>country</th>\n",
       "      <th>lat</th>\n",
       "      <th>long</th>\n",
       "    </tr>\n",
       "  </thead>\n",
       "  <tbody>\n",
       "    <tr>\n",
       "      <th>count</th>\n",
       "      <td>316800.000000</td>\n",
       "      <td>316800</td>\n",
       "      <td>316800</td>\n",
       "      <td>316800</td>\n",
       "      <td>316800</td>\n",
       "      <td>316800.000000</td>\n",
       "      <td>316800.000000</td>\n",
       "      <td>316800.000000</td>\n",
       "      <td>275616</td>\n",
       "      <td>275616</td>\n",
       "      <td>275616.000000</td>\n",
       "      <td>275616.000000</td>\n",
       "    </tr>\n",
       "    <tr>\n",
       "      <th>unique</th>\n",
       "      <td>NaN</td>\n",
       "      <td>140931</td>\n",
       "      <td>12</td>\n",
       "      <td>2</td>\n",
       "      <td>6</td>\n",
       "      <td>NaN</td>\n",
       "      <td>NaN</td>\n",
       "      <td>NaN</td>\n",
       "      <td>923</td>\n",
       "      <td>1</td>\n",
       "      <td>NaN</td>\n",
       "      <td>NaN</td>\n",
       "    </tr>\n",
       "    <tr>\n",
       "      <th>top</th>\n",
       "      <td>NaN</td>\n",
       "      <td>2015-04-12 11:51:16</td>\n",
       "      <td>direct_traffic</td>\n",
       "      <td>mobile</td>\n",
       "      <td>windows</td>\n",
       "      <td>NaN</td>\n",
       "      <td>NaN</td>\n",
       "      <td>NaN</td>\n",
       "      <td>New York</td>\n",
       "      <td>USA</td>\n",
       "      <td>NaN</td>\n",
       "      <td>NaN</td>\n",
       "    </tr>\n",
       "    <tr>\n",
       "      <th>freq</th>\n",
       "      <td>NaN</td>\n",
       "      <td>12</td>\n",
       "      <td>60357</td>\n",
       "      <td>186471</td>\n",
       "      <td>100976</td>\n",
       "      <td>NaN</td>\n",
       "      <td>NaN</td>\n",
       "      <td>NaN</td>\n",
       "      <td>25748</td>\n",
       "      <td>275616</td>\n",
       "      <td>NaN</td>\n",
       "      <td>NaN</td>\n",
       "    </tr>\n",
       "    <tr>\n",
       "      <th>mean</th>\n",
       "      <td>499281.341840</td>\n",
       "      <td>NaN</td>\n",
       "      <td>NaN</td>\n",
       "      <td>NaN</td>\n",
       "      <td>NaN</td>\n",
       "      <td>0.360079</td>\n",
       "      <td>46.205051</td>\n",
       "      <td>0.018333</td>\n",
       "      <td>NaN</td>\n",
       "      <td>NaN</td>\n",
       "      <td>37.111680</td>\n",
       "      <td>-93.981772</td>\n",
       "    </tr>\n",
       "    <tr>\n",
       "      <th>std</th>\n",
       "      <td>288591.154044</td>\n",
       "      <td>NaN</td>\n",
       "      <td>NaN</td>\n",
       "      <td>NaN</td>\n",
       "      <td>NaN</td>\n",
       "      <td>0.480024</td>\n",
       "      <td>9.601487</td>\n",
       "      <td>0.134154</td>\n",
       "      <td>NaN</td>\n",
       "      <td>NaN</td>\n",
       "      <td>5.209627</td>\n",
       "      <td>18.086486</td>\n",
       "    </tr>\n",
       "    <tr>\n",
       "      <th>min</th>\n",
       "      <td>3.000000</td>\n",
       "      <td>NaN</td>\n",
       "      <td>NaN</td>\n",
       "      <td>NaN</td>\n",
       "      <td>NaN</td>\n",
       "      <td>0.000000</td>\n",
       "      <td>39.000000</td>\n",
       "      <td>0.000000</td>\n",
       "      <td>NaN</td>\n",
       "      <td>NaN</td>\n",
       "      <td>19.700000</td>\n",
       "      <td>-157.800000</td>\n",
       "    </tr>\n",
       "    <tr>\n",
       "      <th>25%</th>\n",
       "      <td>249525.750000</td>\n",
       "      <td>NaN</td>\n",
       "      <td>NaN</td>\n",
       "      <td>NaN</td>\n",
       "      <td>NaN</td>\n",
       "      <td>0.000000</td>\n",
       "      <td>39.000000</td>\n",
       "      <td>0.000000</td>\n",
       "      <td>NaN</td>\n",
       "      <td>NaN</td>\n",
       "      <td>33.660000</td>\n",
       "      <td>-112.200000</td>\n",
       "    </tr>\n",
       "    <tr>\n",
       "      <th>50%</th>\n",
       "      <td>499021.500000</td>\n",
       "      <td>NaN</td>\n",
       "      <td>NaN</td>\n",
       "      <td>NaN</td>\n",
       "      <td>NaN</td>\n",
       "      <td>0.000000</td>\n",
       "      <td>39.000000</td>\n",
       "      <td>0.000000</td>\n",
       "      <td>NaN</td>\n",
       "      <td>NaN</td>\n",
       "      <td>37.740000</td>\n",
       "      <td>-88.930000</td>\n",
       "    </tr>\n",
       "    <tr>\n",
       "      <th>75%</th>\n",
       "      <td>749025.500000</td>\n",
       "      <td>NaN</td>\n",
       "      <td>NaN</td>\n",
       "      <td>NaN</td>\n",
       "      <td>NaN</td>\n",
       "      <td>1.000000</td>\n",
       "      <td>59.000000</td>\n",
       "      <td>0.000000</td>\n",
       "      <td>NaN</td>\n",
       "      <td>NaN</td>\n",
       "      <td>40.700000</td>\n",
       "      <td>-78.910000</td>\n",
       "    </tr>\n",
       "    <tr>\n",
       "      <th>max</th>\n",
       "      <td>1000000.000000</td>\n",
       "      <td>NaN</td>\n",
       "      <td>NaN</td>\n",
       "      <td>NaN</td>\n",
       "      <td>NaN</td>\n",
       "      <td>1.000000</td>\n",
       "      <td>59.000000</td>\n",
       "      <td>1.000000</td>\n",
       "      <td>NaN</td>\n",
       "      <td>NaN</td>\n",
       "      <td>61.180000</td>\n",
       "      <td>30.310000</td>\n",
       "    </tr>\n",
       "  </tbody>\n",
       "</table>\n",
       "</div>"
      ],
      "text/plain": [
       "               user_id            timestamp          source  device  \\\n",
       "count    316800.000000               316800          316800  316800   \n",
       "unique             NaN               140931              12       2   \n",
       "top                NaN  2015-04-12 11:51:16  direct_traffic  mobile   \n",
       "freq               NaN                   12           60357  186471   \n",
       "mean     499281.341840                  NaN             NaN     NaN   \n",
       "std      288591.154044                  NaN             NaN     NaN   \n",
       "min           3.000000                  NaN             NaN     NaN   \n",
       "25%      249525.750000                  NaN             NaN     NaN   \n",
       "50%      499021.500000                  NaN             NaN     NaN   \n",
       "75%      749025.500000                  NaN             NaN     NaN   \n",
       "max     1000000.000000                  NaN             NaN     NaN   \n",
       "\n",
       "       operative_system           test          price      converted  \\\n",
       "count            316800  316800.000000  316800.000000  316800.000000   \n",
       "unique                6            NaN            NaN            NaN   \n",
       "top             windows            NaN            NaN            NaN   \n",
       "freq             100976            NaN            NaN            NaN   \n",
       "mean                NaN       0.360079      46.205051       0.018333   \n",
       "std                 NaN       0.480024       9.601487       0.134154   \n",
       "min                 NaN       0.000000      39.000000       0.000000   \n",
       "25%                 NaN       0.000000      39.000000       0.000000   \n",
       "50%                 NaN       0.000000      39.000000       0.000000   \n",
       "75%                 NaN       1.000000      59.000000       0.000000   \n",
       "max                 NaN       1.000000      59.000000       1.000000   \n",
       "\n",
       "            city country            lat           long  \n",
       "count     275616  275616  275616.000000  275616.000000  \n",
       "unique       923       1            NaN            NaN  \n",
       "top     New York     USA            NaN            NaN  \n",
       "freq       25748  275616            NaN            NaN  \n",
       "mean         NaN     NaN      37.111680     -93.981772  \n",
       "std          NaN     NaN       5.209627      18.086486  \n",
       "min          NaN     NaN      19.700000    -157.800000  \n",
       "25%          NaN     NaN      33.660000    -112.200000  \n",
       "50%          NaN     NaN      37.740000     -88.930000  \n",
       "75%          NaN     NaN      40.700000     -78.910000  \n",
       "max          NaN     NaN      61.180000      30.310000  "
      ]
     },
     "execution_count": 7,
     "metadata": {},
     "output_type": "execute_result"
    }
   ],
   "source": [
    "df_final = pd.merge(test_df, user_df, how = 'left', on = 'user_id')\n",
    "df_final.describe(include = 'all')"
   ]
  },
  {
   "cell_type": "markdown",
   "metadata": {},
   "source": [
    "## Cleaning Merged dataset:\n",
    "1. Change timestamp to `datetime`\n",
    "2. Drop `country` -- seems like there is only `'USA'` in there\n",
    "3. Check if `test==0` is equivalent to `price==39` & `test==1` is equivalent to `price==59` (I would assume so) therefore we can drop either one of them for convenience"
   ]
  },
  {
   "cell_type": "markdown",
   "metadata": {},
   "source": [
    "### Converting timestamp"
   ]
  },
  {
   "cell_type": "markdown",
   "metadata": {},
   "source": [
    "Seem like there are some issues in converting `timestamp` as they are not formatted properly"
   ]
  },
  {
   "cell_type": "code",
   "execution_count": 8,
   "metadata": {
    "ExecuteTime": {
     "end_time": "2019-01-18T19:43:36.949120Z",
     "start_time": "2019-01-18T19:43:35.924407Z"
    }
   },
   "outputs": [
    {
     "data": {
      "text/plain": [
       "10271"
      ]
     },
     "execution_count": 8,
     "metadata": {},
     "output_type": "execute_result"
    }
   ],
   "source": [
    "df_final[pd.to_datetime(df_final.timestamp, errors = 'coerce').isnull()]['timestamp'].count()"
   ]
  },
  {
   "cell_type": "markdown",
   "metadata": {},
   "source": [
    "10271 out of 316800, so about 3% of all data, which is not that bad"
   ]
  },
  {
   "cell_type": "code",
   "execution_count": 9,
   "metadata": {
    "ExecuteTime": {
     "end_time": "2019-01-18T19:45:35.574135Z",
     "start_time": "2019-01-18T19:45:35.570150Z"
    }
   },
   "outputs": [
    {
     "data": {
      "text/plain": [
       "['12', '60', '46']"
      ]
     },
     "execution_count": 9,
     "metadata": {},
     "output_type": "execute_result"
    }
   ],
   "source": [
    "df_final.timestamp[54].split(\" \")[1].split(\":\")"
   ]
  },
  {
   "cell_type": "markdown",
   "metadata": {},
   "source": [
    "We can split it via `.split(\" \")` first for date and specific time frame and use `.split(\":\")` to get hh:mm:ss info -- since we only have 3% of those that are incorrect in mins and secs while we probably not care about it that much, we can just use specific `day` part for now -- __if we think that mins and secs would be a significant contributor to conversion, we can come back and take a look at it in more detail; for now I don't think it matters that much, thus it's not worth while to go through probably 2 `for` loops and update it accordingly__"
   ]
  },
  {
   "cell_type": "code",
   "execution_count": 10,
   "metadata": {
    "ExecuteTime": {
     "end_time": "2019-01-18T20:01:29.373208Z",
     "start_time": "2019-01-18T20:01:29.055262Z"
    }
   },
   "outputs": [
    {
     "data": {
      "text/html": [
       "<div>\n",
       "<style scoped>\n",
       "    .dataframe tbody tr th:only-of-type {\n",
       "        vertical-align: middle;\n",
       "    }\n",
       "\n",
       "    .dataframe tbody tr th {\n",
       "        vertical-align: top;\n",
       "    }\n",
       "\n",
       "    .dataframe thead th {\n",
       "        text-align: right;\n",
       "    }\n",
       "</style>\n",
       "<table border=\"1\" class=\"dataframe\">\n",
       "  <thead>\n",
       "    <tr style=\"text-align: right;\">\n",
       "      <th></th>\n",
       "      <th>user_id</th>\n",
       "      <th>timestamp</th>\n",
       "      <th>source</th>\n",
       "      <th>device</th>\n",
       "      <th>operative_system</th>\n",
       "      <th>test</th>\n",
       "      <th>price</th>\n",
       "      <th>converted</th>\n",
       "      <th>city</th>\n",
       "      <th>country</th>\n",
       "      <th>lat</th>\n",
       "      <th>long</th>\n",
       "      <th>timestamp_date</th>\n",
       "    </tr>\n",
       "  </thead>\n",
       "  <tbody>\n",
       "    <tr>\n",
       "      <th>0</th>\n",
       "      <td>604839</td>\n",
       "      <td>2015-05-08 03:38:34</td>\n",
       "      <td>ads_facebook</td>\n",
       "      <td>mobile</td>\n",
       "      <td>iOS</td>\n",
       "      <td>0</td>\n",
       "      <td>39</td>\n",
       "      <td>0</td>\n",
       "      <td>Buffalo</td>\n",
       "      <td>USA</td>\n",
       "      <td>42.89</td>\n",
       "      <td>-78.86</td>\n",
       "      <td>2015-05-08</td>\n",
       "    </tr>\n",
       "    <tr>\n",
       "      <th>1</th>\n",
       "      <td>624057</td>\n",
       "      <td>2015-05-10 21:08:46</td>\n",
       "      <td>seo-google</td>\n",
       "      <td>mobile</td>\n",
       "      <td>android</td>\n",
       "      <td>0</td>\n",
       "      <td>39</td>\n",
       "      <td>0</td>\n",
       "      <td>Lakeville</td>\n",
       "      <td>USA</td>\n",
       "      <td>44.68</td>\n",
       "      <td>-93.24</td>\n",
       "      <td>2015-05-10</td>\n",
       "    </tr>\n",
       "    <tr>\n",
       "      <th>2</th>\n",
       "      <td>317970</td>\n",
       "      <td>2015-04-04 15:01:23</td>\n",
       "      <td>ads-bing</td>\n",
       "      <td>mobile</td>\n",
       "      <td>android</td>\n",
       "      <td>0</td>\n",
       "      <td>39</td>\n",
       "      <td>0</td>\n",
       "      <td>Parma</td>\n",
       "      <td>USA</td>\n",
       "      <td>41.38</td>\n",
       "      <td>-81.73</td>\n",
       "      <td>2015-04-04</td>\n",
       "    </tr>\n",
       "    <tr>\n",
       "      <th>3</th>\n",
       "      <td>685636</td>\n",
       "      <td>2015-05-07 07:26:01</td>\n",
       "      <td>direct_traffic</td>\n",
       "      <td>mobile</td>\n",
       "      <td>iOS</td>\n",
       "      <td>1</td>\n",
       "      <td>59</td>\n",
       "      <td>0</td>\n",
       "      <td>Fayetteville</td>\n",
       "      <td>USA</td>\n",
       "      <td>35.07</td>\n",
       "      <td>-78.90</td>\n",
       "      <td>2015-05-07</td>\n",
       "    </tr>\n",
       "    <tr>\n",
       "      <th>4</th>\n",
       "      <td>820854</td>\n",
       "      <td>2015-05-24 11:04:40</td>\n",
       "      <td>ads_facebook</td>\n",
       "      <td>web</td>\n",
       "      <td>mac</td>\n",
       "      <td>0</td>\n",
       "      <td>39</td>\n",
       "      <td>0</td>\n",
       "      <td>Fishers</td>\n",
       "      <td>USA</td>\n",
       "      <td>39.95</td>\n",
       "      <td>-86.02</td>\n",
       "      <td>2015-05-24</td>\n",
       "    </tr>\n",
       "  </tbody>\n",
       "</table>\n",
       "</div>"
      ],
      "text/plain": [
       "   user_id            timestamp          source  device operative_system  \\\n",
       "0   604839  2015-05-08 03:38:34    ads_facebook  mobile              iOS   \n",
       "1   624057  2015-05-10 21:08:46      seo-google  mobile          android   \n",
       "2   317970  2015-04-04 15:01:23        ads-bing  mobile          android   \n",
       "3   685636  2015-05-07 07:26:01  direct_traffic  mobile              iOS   \n",
       "4   820854  2015-05-24 11:04:40    ads_facebook     web              mac   \n",
       "\n",
       "   test  price  converted          city country    lat   long timestamp_date  \n",
       "0     0     39          0       Buffalo     USA  42.89 -78.86     2015-05-08  \n",
       "1     0     39          0     Lakeville     USA  44.68 -93.24     2015-05-10  \n",
       "2     0     39          0         Parma     USA  41.38 -81.73     2015-04-04  \n",
       "3     1     59          0  Fayetteville     USA  35.07 -78.90     2015-05-07  \n",
       "4     0     39          0       Fishers     USA  39.95 -86.02     2015-05-24  "
      ]
     },
     "execution_count": 10,
     "metadata": {},
     "output_type": "execute_result"
    }
   ],
   "source": [
    "df_final['timestamp_date'] = pd.to_datetime(df_final.timestamp.apply(lambda x: x.split(\" \")[0]))\n",
    "df_final.head()"
   ]
  },
  {
   "cell_type": "markdown",
   "metadata": {},
   "source": [
    "### Dropping Country Column"
   ]
  },
  {
   "cell_type": "code",
   "execution_count": 11,
   "metadata": {
    "ExecuteTime": {
     "end_time": "2019-01-18T20:06:55.493285Z",
     "start_time": "2019-01-18T20:06:55.357932Z"
    }
   },
   "outputs": [
    {
     "data": {
      "text/html": [
       "<div>\n",
       "<style scoped>\n",
       "    .dataframe tbody tr th:only-of-type {\n",
       "        vertical-align: middle;\n",
       "    }\n",
       "\n",
       "    .dataframe tbody tr th {\n",
       "        vertical-align: top;\n",
       "    }\n",
       "\n",
       "    .dataframe thead th {\n",
       "        text-align: right;\n",
       "    }\n",
       "</style>\n",
       "<table border=\"1\" class=\"dataframe\">\n",
       "  <thead>\n",
       "    <tr style=\"text-align: right;\">\n",
       "      <th></th>\n",
       "      <th>user_id</th>\n",
       "      <th>timestamp</th>\n",
       "      <th>source</th>\n",
       "      <th>device</th>\n",
       "      <th>operative_system</th>\n",
       "      <th>test</th>\n",
       "      <th>price</th>\n",
       "      <th>converted</th>\n",
       "      <th>city</th>\n",
       "      <th>lat</th>\n",
       "      <th>long</th>\n",
       "      <th>timestamp_date</th>\n",
       "    </tr>\n",
       "  </thead>\n",
       "  <tbody>\n",
       "    <tr>\n",
       "      <th>0</th>\n",
       "      <td>604839</td>\n",
       "      <td>2015-05-08 03:38:34</td>\n",
       "      <td>ads_facebook</td>\n",
       "      <td>mobile</td>\n",
       "      <td>iOS</td>\n",
       "      <td>0</td>\n",
       "      <td>39</td>\n",
       "      <td>0</td>\n",
       "      <td>Buffalo</td>\n",
       "      <td>42.89</td>\n",
       "      <td>-78.86</td>\n",
       "      <td>2015-05-08</td>\n",
       "    </tr>\n",
       "    <tr>\n",
       "      <th>1</th>\n",
       "      <td>624057</td>\n",
       "      <td>2015-05-10 21:08:46</td>\n",
       "      <td>seo-google</td>\n",
       "      <td>mobile</td>\n",
       "      <td>android</td>\n",
       "      <td>0</td>\n",
       "      <td>39</td>\n",
       "      <td>0</td>\n",
       "      <td>Lakeville</td>\n",
       "      <td>44.68</td>\n",
       "      <td>-93.24</td>\n",
       "      <td>2015-05-10</td>\n",
       "    </tr>\n",
       "    <tr>\n",
       "      <th>2</th>\n",
       "      <td>317970</td>\n",
       "      <td>2015-04-04 15:01:23</td>\n",
       "      <td>ads-bing</td>\n",
       "      <td>mobile</td>\n",
       "      <td>android</td>\n",
       "      <td>0</td>\n",
       "      <td>39</td>\n",
       "      <td>0</td>\n",
       "      <td>Parma</td>\n",
       "      <td>41.38</td>\n",
       "      <td>-81.73</td>\n",
       "      <td>2015-04-04</td>\n",
       "    </tr>\n",
       "    <tr>\n",
       "      <th>3</th>\n",
       "      <td>685636</td>\n",
       "      <td>2015-05-07 07:26:01</td>\n",
       "      <td>direct_traffic</td>\n",
       "      <td>mobile</td>\n",
       "      <td>iOS</td>\n",
       "      <td>1</td>\n",
       "      <td>59</td>\n",
       "      <td>0</td>\n",
       "      <td>Fayetteville</td>\n",
       "      <td>35.07</td>\n",
       "      <td>-78.90</td>\n",
       "      <td>2015-05-07</td>\n",
       "    </tr>\n",
       "    <tr>\n",
       "      <th>4</th>\n",
       "      <td>820854</td>\n",
       "      <td>2015-05-24 11:04:40</td>\n",
       "      <td>ads_facebook</td>\n",
       "      <td>web</td>\n",
       "      <td>mac</td>\n",
       "      <td>0</td>\n",
       "      <td>39</td>\n",
       "      <td>0</td>\n",
       "      <td>Fishers</td>\n",
       "      <td>39.95</td>\n",
       "      <td>-86.02</td>\n",
       "      <td>2015-05-24</td>\n",
       "    </tr>\n",
       "  </tbody>\n",
       "</table>\n",
       "</div>"
      ],
      "text/plain": [
       "   user_id            timestamp          source  device operative_system  \\\n",
       "0   604839  2015-05-08 03:38:34    ads_facebook  mobile              iOS   \n",
       "1   624057  2015-05-10 21:08:46      seo-google  mobile          android   \n",
       "2   317970  2015-04-04 15:01:23        ads-bing  mobile          android   \n",
       "3   685636  2015-05-07 07:26:01  direct_traffic  mobile              iOS   \n",
       "4   820854  2015-05-24 11:04:40    ads_facebook     web              mac   \n",
       "\n",
       "   test  price  converted          city    lat   long timestamp_date  \n",
       "0     0     39          0       Buffalo  42.89 -78.86     2015-05-08  \n",
       "1     0     39          0     Lakeville  44.68 -93.24     2015-05-10  \n",
       "2     0     39          0         Parma  41.38 -81.73     2015-04-04  \n",
       "3     1     59          0  Fayetteville  35.07 -78.90     2015-05-07  \n",
       "4     0     39          0       Fishers  39.95 -86.02     2015-05-24  "
      ]
     },
     "execution_count": 11,
     "metadata": {},
     "output_type": "execute_result"
    }
   ],
   "source": [
    "df_final = df_final.drop('country', axis = 1)\n",
    "df_final.head()"
   ]
  },
  {
   "cell_type": "markdown",
   "metadata": {},
   "source": [
    "### Checking test and price column"
   ]
  },
  {
   "cell_type": "code",
   "execution_count": 12,
   "metadata": {
    "ExecuteTime": {
     "end_time": "2019-01-18T20:26:51.817726Z",
     "start_time": "2019-01-18T20:26:51.781658Z"
    }
   },
   "outputs": [
    {
     "data": {
      "text/plain": [
       "202727"
      ]
     },
     "execution_count": 12,
     "metadata": {},
     "output_type": "execute_result"
    }
   ],
   "source": [
    "df_final[df_final.test==0]['user_id'].count()"
   ]
  },
  {
   "cell_type": "code",
   "execution_count": 13,
   "metadata": {
    "ExecuteTime": {
     "end_time": "2019-01-18T20:25:05.055418Z",
     "start_time": "2019-01-18T20:25:05.045367Z"
    }
   },
   "outputs": [
    {
     "data": {
      "text/plain": [
       "205"
      ]
     },
     "execution_count": 13,
     "metadata": {},
     "output_type": "execute_result"
    }
   ],
   "source": [
    "df_final[(df_final.test == 0) & (df_final.price ==59) & (df_final.converted == 0)]['user_id'].count()"
   ]
  },
  {
   "cell_type": "code",
   "execution_count": 14,
   "metadata": {
    "ExecuteTime": {
     "end_time": "2019-01-18T20:25:22.399008Z",
     "start_time": "2019-01-18T20:25:22.389957Z"
    },
    "scrolled": false
   },
   "outputs": [
    {
     "data": {
      "text/plain": [
       "5"
      ]
     },
     "execution_count": 14,
     "metadata": {},
     "output_type": "execute_result"
    }
   ],
   "source": [
    "df_final[(df_final.test == 0) & (df_final.price ==59) & (df_final.converted == 1)]['user_id'].count()"
   ]
  },
  {
   "cell_type": "markdown",
   "metadata": {},
   "source": [
    "So seems like the test is setting up incorrectly somehow -- there are some people not in test and charged 59:\n",
    "- total of 210 people are incorrectly placed in test (out of 200k people)\n",
    "- 205 of them didn't convert\n",
    "- 5 of them converted"
   ]
  },
  {
   "cell_type": "code",
   "execution_count": 15,
   "metadata": {
    "ExecuteTime": {
     "end_time": "2019-01-18T20:28:24.685342Z",
     "start_time": "2019-01-18T20:28:24.661255Z"
    }
   },
   "outputs": [
    {
     "data": {
      "text/plain": [
       "114073"
      ]
     },
     "execution_count": 15,
     "metadata": {},
     "output_type": "execute_result"
    }
   ],
   "source": [
    "df_final[df_final.test==1]['user_id'].count()"
   ]
  },
  {
   "cell_type": "code",
   "execution_count": 16,
   "metadata": {
    "ExecuteTime": {
     "end_time": "2019-01-18T20:29:07.503425Z",
     "start_time": "2019-01-18T20:29:07.493425Z"
    }
   },
   "outputs": [
    {
     "data": {
      "text/plain": [
       "154"
      ]
     },
     "execution_count": 16,
     "metadata": {},
     "output_type": "execute_result"
    }
   ],
   "source": [
    "df_final[(df_final.test == 1) & (df_final.price == 39) & (df_final.converted == 0)]['user_id'].count()"
   ]
  },
  {
   "cell_type": "code",
   "execution_count": 17,
   "metadata": {
    "ExecuteTime": {
     "end_time": "2019-01-18T20:29:43.582466Z",
     "start_time": "2019-01-18T20:29:43.573469Z"
    }
   },
   "outputs": [
    {
     "data": {
      "text/plain": [
       "1"
      ]
     },
     "execution_count": 17,
     "metadata": {},
     "output_type": "execute_result"
    }
   ],
   "source": [
    "df_final[(df_final.test == 1) & (df_final.price == 39) & (df_final.converted == 1)]['user_id'].count()"
   ]
  },
  {
   "cell_type": "markdown",
   "metadata": {},
   "source": [
    "Similarly let's check test:\n",
    "- 154 out of 114073 are placed incorrectly in test\n",
    "- 1 actually end up converted => __this is very interesting, as lower priced customers actually end up having lower conversion rate; though it could be an error, or by accident since we don't have enough information here, only knowing from the data that there is some discrepancy in how test are set up__ \n",
    "\n",
    "- also seems that the randomization at total is about 36% v.s. 33% should go in test "
   ]
  },
  {
   "cell_type": "markdown",
   "metadata": {},
   "source": [
    "---\n",
    "Let's do a quick test of proportion here to see if 36% is actually acceptable:"
   ]
  },
  {
   "cell_type": "code",
   "execution_count": 18,
   "metadata": {
    "ExecuteTime": {
     "end_time": "2019-01-18T20:47:34.233015Z",
     "start_time": "2019-01-18T20:47:34.229002Z"
    }
   },
   "outputs": [
    {
     "data": {
      "text/plain": [
       "9.062877645579464e-224"
      ]
     },
     "execution_count": 18,
     "metadata": {},
     "output_type": "execute_result"
    }
   ],
   "source": [
    "import scipy.stats as st\n",
    "p_hat = 114073/(202727+114073)\n",
    "p_0 = 1/3\n",
    "\n",
    "z = (p_hat - p_0)/np.sqrt((p_0*(1-p_0)/(202727+114073)))\n",
    "st.norm.sf(z)*2"
   ]
  },
  {
   "cell_type": "markdown",
   "metadata": {},
   "source": [
    "That's definitely significant, i.e. it's not an accident that the result ends up as 36% instead of 33% -- so the test itself might have been set up incorrectly. Despite that, let's keep looking and see what we can find in the dataset. <br>\n",
    "Also for the sake of this analysis, we will __remove those rows that are placed incorrectly__:"
   ]
  },
  {
   "cell_type": "code",
   "execution_count": 19,
   "metadata": {
    "scrolled": false
   },
   "outputs": [
    {
     "data": {
      "text/plain": [
       "(316435, 12)"
      ]
     },
     "execution_count": 19,
     "metadata": {},
     "output_type": "execute_result"
    }
   ],
   "source": [
    "df_final = df_final[((df_final.test == 0) \n",
    "         & (df_final.price == 39)) | \n",
    "         ((df_final.test == 1) & (df_final.price == 59))]\n",
    "\n",
    "df_final.shape"
   ]
  },
  {
   "cell_type": "markdown",
   "metadata": {},
   "source": [
    "This matches with what we have previously (i.e. incorrectly placed tests + correctly placed test = total columns in dataset)"
   ]
  },
  {
   "cell_type": "markdown",
   "metadata": {},
   "source": [
    "# Checking for missing/abnormal values in the dataset"
   ]
  },
  {
   "cell_type": "markdown",
   "metadata": {},
   "source": [
    "This is what the final dataset looks like:"
   ]
  },
  {
   "cell_type": "code",
   "execution_count": 20,
   "metadata": {
    "ExecuteTime": {
     "end_time": "2019-01-18T20:07:32.654556Z",
     "start_time": "2019-01-18T20:07:31.998811Z"
    }
   },
   "outputs": [
    {
     "data": {
      "text/html": [
       "<div>\n",
       "<style scoped>\n",
       "    .dataframe tbody tr th:only-of-type {\n",
       "        vertical-align: middle;\n",
       "    }\n",
       "\n",
       "    .dataframe tbody tr th {\n",
       "        vertical-align: top;\n",
       "    }\n",
       "\n",
       "    .dataframe thead th {\n",
       "        text-align: right;\n",
       "    }\n",
       "</style>\n",
       "<table border=\"1\" class=\"dataframe\">\n",
       "  <thead>\n",
       "    <tr style=\"text-align: right;\">\n",
       "      <th></th>\n",
       "      <th>user_id</th>\n",
       "      <th>timestamp</th>\n",
       "      <th>source</th>\n",
       "      <th>device</th>\n",
       "      <th>operative_system</th>\n",
       "      <th>test</th>\n",
       "      <th>price</th>\n",
       "      <th>converted</th>\n",
       "      <th>city</th>\n",
       "      <th>lat</th>\n",
       "      <th>long</th>\n",
       "      <th>timestamp_date</th>\n",
       "    </tr>\n",
       "  </thead>\n",
       "  <tbody>\n",
       "    <tr>\n",
       "      <th>count</th>\n",
       "      <td>316435.000000</td>\n",
       "      <td>316435</td>\n",
       "      <td>316435</td>\n",
       "      <td>316435</td>\n",
       "      <td>316435</td>\n",
       "      <td>316435.000000</td>\n",
       "      <td>316435.000000</td>\n",
       "      <td>316435.000000</td>\n",
       "      <td>275294</td>\n",
       "      <td>275294.000000</td>\n",
       "      <td>275294.000000</td>\n",
       "      <td>316435</td>\n",
       "    </tr>\n",
       "    <tr>\n",
       "      <th>unique</th>\n",
       "      <td>NaN</td>\n",
       "      <td>140760</td>\n",
       "      <td>12</td>\n",
       "      <td>2</td>\n",
       "      <td>6</td>\n",
       "      <td>NaN</td>\n",
       "      <td>NaN</td>\n",
       "      <td>NaN</td>\n",
       "      <td>923</td>\n",
       "      <td>NaN</td>\n",
       "      <td>NaN</td>\n",
       "      <td>91</td>\n",
       "    </tr>\n",
       "    <tr>\n",
       "      <th>top</th>\n",
       "      <td>NaN</td>\n",
       "      <td>2015-04-12 11:51:16</td>\n",
       "      <td>direct_traffic</td>\n",
       "      <td>mobile</td>\n",
       "      <td>windows</td>\n",
       "      <td>NaN</td>\n",
       "      <td>NaN</td>\n",
       "      <td>NaN</td>\n",
       "      <td>New York</td>\n",
       "      <td>NaN</td>\n",
       "      <td>NaN</td>\n",
       "      <td>2015-03-20 00:00:00</td>\n",
       "    </tr>\n",
       "    <tr>\n",
       "      <th>freq</th>\n",
       "      <td>NaN</td>\n",
       "      <td>12</td>\n",
       "      <td>60272</td>\n",
       "      <td>186267</td>\n",
       "      <td>100850</td>\n",
       "      <td>NaN</td>\n",
       "      <td>NaN</td>\n",
       "      <td>NaN</td>\n",
       "      <td>25718</td>\n",
       "      <td>NaN</td>\n",
       "      <td>NaN</td>\n",
       "      <td>7246</td>\n",
       "    </tr>\n",
       "    <tr>\n",
       "      <th>first</th>\n",
       "      <td>NaN</td>\n",
       "      <td>NaN</td>\n",
       "      <td>NaN</td>\n",
       "      <td>NaN</td>\n",
       "      <td>NaN</td>\n",
       "      <td>NaN</td>\n",
       "      <td>NaN</td>\n",
       "      <td>NaN</td>\n",
       "      <td>NaN</td>\n",
       "      <td>NaN</td>\n",
       "      <td>NaN</td>\n",
       "      <td>2015-03-02 00:00:00</td>\n",
       "    </tr>\n",
       "    <tr>\n",
       "      <th>last</th>\n",
       "      <td>NaN</td>\n",
       "      <td>NaN</td>\n",
       "      <td>NaN</td>\n",
       "      <td>NaN</td>\n",
       "      <td>NaN</td>\n",
       "      <td>NaN</td>\n",
       "      <td>NaN</td>\n",
       "      <td>NaN</td>\n",
       "      <td>NaN</td>\n",
       "      <td>NaN</td>\n",
       "      <td>NaN</td>\n",
       "      <td>2015-05-31 00:00:00</td>\n",
       "    </tr>\n",
       "    <tr>\n",
       "      <th>mean</th>\n",
       "      <td>499310.426593</td>\n",
       "      <td>NaN</td>\n",
       "      <td>NaN</td>\n",
       "      <td>NaN</td>\n",
       "      <td>NaN</td>\n",
       "      <td>0.360004</td>\n",
       "      <td>46.200088</td>\n",
       "      <td>0.018336</td>\n",
       "      <td>NaN</td>\n",
       "      <td>37.112004</td>\n",
       "      <td>-93.981225</td>\n",
       "      <td>NaN</td>\n",
       "    </tr>\n",
       "    <tr>\n",
       "      <th>std</th>\n",
       "      <td>288593.046579</td>\n",
       "      <td>NaN</td>\n",
       "      <td>NaN</td>\n",
       "      <td>NaN</td>\n",
       "      <td>NaN</td>\n",
       "      <td>0.480002</td>\n",
       "      <td>9.600041</td>\n",
       "      <td>0.134162</td>\n",
       "      <td>NaN</td>\n",
       "      <td>5.209756</td>\n",
       "      <td>18.086916</td>\n",
       "      <td>NaN</td>\n",
       "    </tr>\n",
       "    <tr>\n",
       "      <th>min</th>\n",
       "      <td>3.000000</td>\n",
       "      <td>NaN</td>\n",
       "      <td>NaN</td>\n",
       "      <td>NaN</td>\n",
       "      <td>NaN</td>\n",
       "      <td>0.000000</td>\n",
       "      <td>39.000000</td>\n",
       "      <td>0.000000</td>\n",
       "      <td>NaN</td>\n",
       "      <td>19.700000</td>\n",
       "      <td>-157.800000</td>\n",
       "      <td>NaN</td>\n",
       "    </tr>\n",
       "    <tr>\n",
       "      <th>25%</th>\n",
       "      <td>249551.000000</td>\n",
       "      <td>NaN</td>\n",
       "      <td>NaN</td>\n",
       "      <td>NaN</td>\n",
       "      <td>NaN</td>\n",
       "      <td>0.000000</td>\n",
       "      <td>39.000000</td>\n",
       "      <td>0.000000</td>\n",
       "      <td>NaN</td>\n",
       "      <td>33.660000</td>\n",
       "      <td>-112.200000</td>\n",
       "      <td>NaN</td>\n",
       "    </tr>\n",
       "    <tr>\n",
       "      <th>50%</th>\n",
       "      <td>499047.000000</td>\n",
       "      <td>NaN</td>\n",
       "      <td>NaN</td>\n",
       "      <td>NaN</td>\n",
       "      <td>NaN</td>\n",
       "      <td>0.000000</td>\n",
       "      <td>39.000000</td>\n",
       "      <td>0.000000</td>\n",
       "      <td>NaN</td>\n",
       "      <td>37.740000</td>\n",
       "      <td>-88.930000</td>\n",
       "      <td>NaN</td>\n",
       "    </tr>\n",
       "    <tr>\n",
       "      <th>75%</th>\n",
       "      <td>749046.000000</td>\n",
       "      <td>NaN</td>\n",
       "      <td>NaN</td>\n",
       "      <td>NaN</td>\n",
       "      <td>NaN</td>\n",
       "      <td>1.000000</td>\n",
       "      <td>59.000000</td>\n",
       "      <td>0.000000</td>\n",
       "      <td>NaN</td>\n",
       "      <td>40.700000</td>\n",
       "      <td>-78.910000</td>\n",
       "      <td>NaN</td>\n",
       "    </tr>\n",
       "    <tr>\n",
       "      <th>max</th>\n",
       "      <td>1000000.000000</td>\n",
       "      <td>NaN</td>\n",
       "      <td>NaN</td>\n",
       "      <td>NaN</td>\n",
       "      <td>NaN</td>\n",
       "      <td>1.000000</td>\n",
       "      <td>59.000000</td>\n",
       "      <td>1.000000</td>\n",
       "      <td>NaN</td>\n",
       "      <td>61.180000</td>\n",
       "      <td>30.310000</td>\n",
       "      <td>NaN</td>\n",
       "    </tr>\n",
       "  </tbody>\n",
       "</table>\n",
       "</div>"
      ],
      "text/plain": [
       "               user_id            timestamp          source  device  \\\n",
       "count    316435.000000               316435          316435  316435   \n",
       "unique             NaN               140760              12       2   \n",
       "top                NaN  2015-04-12 11:51:16  direct_traffic  mobile   \n",
       "freq               NaN                   12           60272  186267   \n",
       "first              NaN                  NaN             NaN     NaN   \n",
       "last               NaN                  NaN             NaN     NaN   \n",
       "mean     499310.426593                  NaN             NaN     NaN   \n",
       "std      288593.046579                  NaN             NaN     NaN   \n",
       "min           3.000000                  NaN             NaN     NaN   \n",
       "25%      249551.000000                  NaN             NaN     NaN   \n",
       "50%      499047.000000                  NaN             NaN     NaN   \n",
       "75%      749046.000000                  NaN             NaN     NaN   \n",
       "max     1000000.000000                  NaN             NaN     NaN   \n",
       "\n",
       "       operative_system           test          price      converted  \\\n",
       "count            316435  316435.000000  316435.000000  316435.000000   \n",
       "unique                6            NaN            NaN            NaN   \n",
       "top             windows            NaN            NaN            NaN   \n",
       "freq             100850            NaN            NaN            NaN   \n",
       "first               NaN            NaN            NaN            NaN   \n",
       "last                NaN            NaN            NaN            NaN   \n",
       "mean                NaN       0.360004      46.200088       0.018336   \n",
       "std                 NaN       0.480002       9.600041       0.134162   \n",
       "min                 NaN       0.000000      39.000000       0.000000   \n",
       "25%                 NaN       0.000000      39.000000       0.000000   \n",
       "50%                 NaN       0.000000      39.000000       0.000000   \n",
       "75%                 NaN       1.000000      59.000000       0.000000   \n",
       "max                 NaN       1.000000      59.000000       1.000000   \n",
       "\n",
       "            city            lat           long       timestamp_date  \n",
       "count     275294  275294.000000  275294.000000               316435  \n",
       "unique       923            NaN            NaN                   91  \n",
       "top     New York            NaN            NaN  2015-03-20 00:00:00  \n",
       "freq       25718            NaN            NaN                 7246  \n",
       "first        NaN            NaN            NaN  2015-03-02 00:00:00  \n",
       "last         NaN            NaN            NaN  2015-05-31 00:00:00  \n",
       "mean         NaN      37.112004     -93.981225                  NaN  \n",
       "std          NaN       5.209756      18.086916                  NaN  \n",
       "min          NaN      19.700000    -157.800000                  NaN  \n",
       "25%          NaN      33.660000    -112.200000                  NaN  \n",
       "50%          NaN      37.740000     -88.930000                  NaN  \n",
       "75%          NaN      40.700000     -78.910000                  NaN  \n",
       "max          NaN      61.180000      30.310000                  NaN  "
      ]
     },
     "execution_count": 20,
     "metadata": {},
     "output_type": "execute_result"
    }
   ],
   "source": [
    "df_final.describe(include = 'all')"
   ]
  },
  {
   "cell_type": "markdown",
   "metadata": {},
   "source": [
    "The data frame looks fine but do note that we have large categories of cities and the test was ran for a long period of time (looks like from 03/02 - 05/31)"
   ]
  },
  {
   "cell_type": "markdown",
   "metadata": {},
   "source": [
    "# Check for high level test results"
   ]
  },
  {
   "cell_type": "markdown",
   "metadata": {},
   "source": [
    "Now let's check the result of our test:"
   ]
  },
  {
   "cell_type": "code",
   "execution_count": 21,
   "metadata": {},
   "outputs": [
    {
     "name": "stdout",
     "output_type": "stream",
     "text": [
      "9.044608417898353 1.5119397664469518e-19 260426.2855934631 0.0034030559864131546 0.005285975251779613\n"
     ]
    }
   ],
   "source": [
    "from statsmodels.stats.weightstats import DescrStatsW, CompareMeans\n",
    "\n",
    "d1 = DescrStatsW(df_final[df_final.test==0].converted)\n",
    "d2 = DescrStatsW(df_final[df_final.test==1].converted)\n",
    "t_val, p_val, df = CompareMeans(d1, d2).ttest_ind(usevar = 'unequal')\n",
    "\n",
    "lower_conf, upper_conf = CompareMeans(d1, d2).tconfint_diff( alpha = 0.05, usevar = 'unequal')\n",
    "\n",
    "print(t_val, p_val, df, lower_conf, upper_conf)"
   ]
  },
  {
   "cell_type": "markdown",
   "metadata": {},
   "source": [
    "Looks like that the result is significant and confidence interval is larger than 0 (i.e., d1 - d2 > 0); meaning that those who are not in test has a slightly better conversion rate than those who are."
   ]
  },
  {
   "cell_type": "markdown",
   "metadata": {},
   "source": [
    "What we've learned so far:\n",
    "- the test was run from 03/02 - 05/31 ( a relatively long period of time)\n",
    "- there is a small portion of test is set up incorrectly; moreover, the test was expected to split at 33% but end up split at 36%, it doesn't seem to be an accident that it was set up that way -- therefore, I suspect the test had some issues in setup initially\n",
    "- if we only look at high level test results, it looks like that we shouldn't implement the price change because the result was statistically significant (i.e. conversion rate for not in test is higher than conversion rate for those in test)"
   ]
  },
  {
   "cell_type": "markdown",
   "metadata": {},
   "source": [
    "----\n",
    "However, since the goal is to increase revenue and revenue in this scenario, consists of: <br>\n",
    "$\\text{Total Revenue} = \\text{# of unit sales} * \\text{Price}$"
   ]
  },
  {
   "cell_type": "markdown",
   "metadata": {},
   "source": [
    "We are looking at a price increase from 39 to 59 (i.e. a 150% increase in sales price), assuming the total revenue doesn't change, we can allow a decrease in unit sales of 66% to break-even -- in an ideal scenario"
   ]
  },
  {
   "cell_type": "markdown",
   "metadata": {},
   "source": [
    "# Exploratory Analysis for Test Results"
   ]
  },
  {
   "cell_type": "markdown",
   "metadata": {},
   "source": [
    "Based on these what we want to look further are (exploratory analysis for all columns in dataset):\n",
    "1. What does the conversion rate look like for users in test/not in test over period of time?\n",
    "2. Are they different by demographics? (i.e., by source, device, operating systems, or even city)"
   ]
  },
  {
   "cell_type": "markdown",
   "metadata": {},
   "source": [
    "## Conversion Rate breakdown by time series"
   ]
  },
  {
   "cell_type": "markdown",
   "metadata": {},
   "source": [
    "Let's first take a look at conversion rate for users in test/not in test by different period of time:"
   ]
  },
  {
   "cell_type": "code",
   "execution_count": 22,
   "metadata": {
    "scrolled": false
   },
   "outputs": [
    {
     "data": {
      "text/html": [
       "<div>\n",
       "<style scoped>\n",
       "    .dataframe tbody tr th:only-of-type {\n",
       "        vertical-align: middle;\n",
       "    }\n",
       "\n",
       "    .dataframe tbody tr th {\n",
       "        vertical-align: top;\n",
       "    }\n",
       "\n",
       "    .dataframe thead th {\n",
       "        text-align: right;\n",
       "    }\n",
       "</style>\n",
       "<table border=\"1\" class=\"dataframe\">\n",
       "  <thead>\n",
       "    <tr style=\"text-align: right;\">\n",
       "      <th></th>\n",
       "      <th>timestamp_date</th>\n",
       "      <th>test</th>\n",
       "      <th>converted</th>\n",
       "    </tr>\n",
       "  </thead>\n",
       "  <tbody>\n",
       "    <tr>\n",
       "      <th>0</th>\n",
       "      <td>2015-03-08</td>\n",
       "      <td>0</td>\n",
       "      <td>0.021166</td>\n",
       "    </tr>\n",
       "    <tr>\n",
       "      <th>1</th>\n",
       "      <td>2015-03-08</td>\n",
       "      <td>1</td>\n",
       "      <td>0.017375</td>\n",
       "    </tr>\n",
       "    <tr>\n",
       "      <th>2</th>\n",
       "      <td>2015-03-15</td>\n",
       "      <td>0</td>\n",
       "      <td>0.017857</td>\n",
       "    </tr>\n",
       "    <tr>\n",
       "      <th>3</th>\n",
       "      <td>2015-03-15</td>\n",
       "      <td>1</td>\n",
       "      <td>0.015830</td>\n",
       "    </tr>\n",
       "    <tr>\n",
       "      <th>4</th>\n",
       "      <td>2015-03-22</td>\n",
       "      <td>0</td>\n",
       "      <td>0.019966</td>\n",
       "    </tr>\n",
       "    <tr>\n",
       "      <th>5</th>\n",
       "      <td>2015-03-22</td>\n",
       "      <td>1</td>\n",
       "      <td>0.016157</td>\n",
       "    </tr>\n",
       "    <tr>\n",
       "      <th>6</th>\n",
       "      <td>2015-03-29</td>\n",
       "      <td>0</td>\n",
       "      <td>0.019375</td>\n",
       "    </tr>\n",
       "    <tr>\n",
       "      <th>7</th>\n",
       "      <td>2015-03-29</td>\n",
       "      <td>1</td>\n",
       "      <td>0.015598</td>\n",
       "    </tr>\n",
       "    <tr>\n",
       "      <th>8</th>\n",
       "      <td>2015-04-05</td>\n",
       "      <td>0</td>\n",
       "      <td>0.020523</td>\n",
       "    </tr>\n",
       "    <tr>\n",
       "      <th>9</th>\n",
       "      <td>2015-04-05</td>\n",
       "      <td>1</td>\n",
       "      <td>0.014206</td>\n",
       "    </tr>\n",
       "    <tr>\n",
       "      <th>10</th>\n",
       "      <td>2015-04-12</td>\n",
       "      <td>0</td>\n",
       "      <td>0.019763</td>\n",
       "    </tr>\n",
       "    <tr>\n",
       "      <th>11</th>\n",
       "      <td>2015-04-12</td>\n",
       "      <td>1</td>\n",
       "      <td>0.014853</td>\n",
       "    </tr>\n",
       "    <tr>\n",
       "      <th>12</th>\n",
       "      <td>2015-04-19</td>\n",
       "      <td>0</td>\n",
       "      <td>0.021064</td>\n",
       "    </tr>\n",
       "    <tr>\n",
       "      <th>13</th>\n",
       "      <td>2015-04-19</td>\n",
       "      <td>1</td>\n",
       "      <td>0.015582</td>\n",
       "    </tr>\n",
       "    <tr>\n",
       "      <th>14</th>\n",
       "      <td>2015-04-26</td>\n",
       "      <td>0</td>\n",
       "      <td>0.020735</td>\n",
       "    </tr>\n",
       "    <tr>\n",
       "      <th>15</th>\n",
       "      <td>2015-04-26</td>\n",
       "      <td>1</td>\n",
       "      <td>0.016506</td>\n",
       "    </tr>\n",
       "    <tr>\n",
       "      <th>16</th>\n",
       "      <td>2015-05-03</td>\n",
       "      <td>0</td>\n",
       "      <td>0.019728</td>\n",
       "    </tr>\n",
       "    <tr>\n",
       "      <th>17</th>\n",
       "      <td>2015-05-03</td>\n",
       "      <td>1</td>\n",
       "      <td>0.012929</td>\n",
       "    </tr>\n",
       "    <tr>\n",
       "      <th>18</th>\n",
       "      <td>2015-05-10</td>\n",
       "      <td>0</td>\n",
       "      <td>0.018742</td>\n",
       "    </tr>\n",
       "    <tr>\n",
       "      <th>19</th>\n",
       "      <td>2015-05-10</td>\n",
       "      <td>1</td>\n",
       "      <td>0.015020</td>\n",
       "    </tr>\n",
       "    <tr>\n",
       "      <th>20</th>\n",
       "      <td>2015-05-17</td>\n",
       "      <td>0</td>\n",
       "      <td>0.020945</td>\n",
       "    </tr>\n",
       "    <tr>\n",
       "      <th>21</th>\n",
       "      <td>2015-05-17</td>\n",
       "      <td>1</td>\n",
       "      <td>0.015381</td>\n",
       "    </tr>\n",
       "    <tr>\n",
       "      <th>22</th>\n",
       "      <td>2015-05-24</td>\n",
       "      <td>0</td>\n",
       "      <td>0.018076</td>\n",
       "    </tr>\n",
       "    <tr>\n",
       "      <th>23</th>\n",
       "      <td>2015-05-24</td>\n",
       "      <td>1</td>\n",
       "      <td>0.014543</td>\n",
       "    </tr>\n",
       "    <tr>\n",
       "      <th>24</th>\n",
       "      <td>2015-05-31</td>\n",
       "      <td>0</td>\n",
       "      <td>0.020736</td>\n",
       "    </tr>\n",
       "    <tr>\n",
       "      <th>25</th>\n",
       "      <td>2015-05-31</td>\n",
       "      <td>1</td>\n",
       "      <td>0.018171</td>\n",
       "    </tr>\n",
       "  </tbody>\n",
       "</table>\n",
       "</div>"
      ],
      "text/plain": [
       "   timestamp_date  test  converted\n",
       "0      2015-03-08     0   0.021166\n",
       "1      2015-03-08     1   0.017375\n",
       "2      2015-03-15     0   0.017857\n",
       "3      2015-03-15     1   0.015830\n",
       "4      2015-03-22     0   0.019966\n",
       "5      2015-03-22     1   0.016157\n",
       "6      2015-03-29     0   0.019375\n",
       "7      2015-03-29     1   0.015598\n",
       "8      2015-04-05     0   0.020523\n",
       "9      2015-04-05     1   0.014206\n",
       "10     2015-04-12     0   0.019763\n",
       "11     2015-04-12     1   0.014853\n",
       "12     2015-04-19     0   0.021064\n",
       "13     2015-04-19     1   0.015582\n",
       "14     2015-04-26     0   0.020735\n",
       "15     2015-04-26     1   0.016506\n",
       "16     2015-05-03     0   0.019728\n",
       "17     2015-05-03     1   0.012929\n",
       "18     2015-05-10     0   0.018742\n",
       "19     2015-05-10     1   0.015020\n",
       "20     2015-05-17     0   0.020945\n",
       "21     2015-05-17     1   0.015381\n",
       "22     2015-05-24     0   0.018076\n",
       "23     2015-05-24     1   0.014543\n",
       "24     2015-05-31     0   0.020736\n",
       "25     2015-05-31     1   0.018171"
      ]
     },
     "execution_count": 22,
     "metadata": {},
     "output_type": "execute_result"
    }
   ],
   "source": [
    "groupby = df_final.set_index('timestamp_date').groupby(\n",
    "    [pd.Grouper(freq = 'W'), 'test'])['converted'].mean().reset_index()\n",
    "groupby"
   ]
  },
  {
   "cell_type": "code",
   "execution_count": 23,
   "metadata": {},
   "outputs": [
    {
     "name": "stderr",
     "output_type": "stream",
     "text": [
      "/Users/yigongzhang/miniconda3/envs/python/lib/python3.6/site-packages/scipy/stats/stats.py:1713: FutureWarning: Using a non-tuple sequence for multidimensional indexing is deprecated; use `arr[tuple(seq)]` instead of `arr[seq]`. In the future this will be interpreted as an array index, `arr[np.array(seq)]`, which will result either in an error or a different result.\n",
      "  return np.add.reduce(sorted[indexer] * weights, axis=axis) / sumval\n"
     ]
    },
    {
     "data": {
      "text/plain": [
       "Text(0.5, 1.0, 'conversion rate by week')"
      ]
     },
     "execution_count": 23,
     "metadata": {},
     "output_type": "execute_result"
    },
    {
     "data": {
      "image/png": "[encoded data removed]",
      "text/plain": [
       "<Figure size 1440x1440 with 2 Axes>"
      ]
     },
     "metadata": {},
     "output_type": "display_data"
    }
   ],
   "source": [
    "sns.set(style = 'darkgrid')\n",
    "f, ax = plt.subplots(nrows = 2, ncols = 1, figsize = (20,20))\n",
    "sns.lineplot('timestamp_date', 'converted', hue = 'test', data = df_final, ax = ax[0])\n",
    "ax[0].set_title('conversion rate by day')\n",
    "\n",
    "sns.lineplot('timestamp_date','converted', hue = 'test', data = groupby, ax= ax[1])\n",
    "ax[1].set_title('conversion rate by week')"
   ]
  },
  {
   "cell_type": "markdown",
   "metadata": {},
   "source": [
    "We can also looking at the test result at a weekly level with count:"
   ]
  },
  {
   "cell_type": "code",
   "execution_count": 24,
   "metadata": {},
   "outputs": [
    {
     "data": {
      "text/html": [
       "<div>\n",
       "<style scoped>\n",
       "    .dataframe tbody tr th:only-of-type {\n",
       "        vertical-align: middle;\n",
       "    }\n",
       "\n",
       "    .dataframe tbody tr th {\n",
       "        vertical-align: top;\n",
       "    }\n",
       "\n",
       "    .dataframe thead th {\n",
       "        text-align: right;\n",
       "    }\n",
       "</style>\n",
       "<table border=\"1\" class=\"dataframe\">\n",
       "  <thead>\n",
       "    <tr style=\"text-align: right;\">\n",
       "      <th></th>\n",
       "      <th>timestamp_date</th>\n",
       "      <th>test</th>\n",
       "      <th>mean</th>\n",
       "      <th>count</th>\n",
       "    </tr>\n",
       "  </thead>\n",
       "  <tbody>\n",
       "    <tr>\n",
       "      <th>0</th>\n",
       "      <td>2015-03-08</td>\n",
       "      <td>0</td>\n",
       "      <td>0.021166</td>\n",
       "      <td>15638</td>\n",
       "    </tr>\n",
       "    <tr>\n",
       "      <th>1</th>\n",
       "      <td>2015-03-08</td>\n",
       "      <td>1</td>\n",
       "      <td>0.017375</td>\n",
       "      <td>9036</td>\n",
       "    </tr>\n",
       "    <tr>\n",
       "      <th>2</th>\n",
       "      <td>2015-03-15</td>\n",
       "      <td>0</td>\n",
       "      <td>0.017857</td>\n",
       "      <td>15792</td>\n",
       "    </tr>\n",
       "    <tr>\n",
       "      <th>3</th>\n",
       "      <td>2015-03-15</td>\n",
       "      <td>1</td>\n",
       "      <td>0.015830</td>\n",
       "      <td>8465</td>\n",
       "    </tr>\n",
       "    <tr>\n",
       "      <th>4</th>\n",
       "      <td>2015-03-22</td>\n",
       "      <td>0</td>\n",
       "      <td>0.019966</td>\n",
       "      <td>15727</td>\n",
       "    </tr>\n",
       "    <tr>\n",
       "      <th>5</th>\n",
       "      <td>2015-03-22</td>\n",
       "      <td>1</td>\n",
       "      <td>0.016157</td>\n",
       "      <td>8727</td>\n",
       "    </tr>\n",
       "    <tr>\n",
       "      <th>6</th>\n",
       "      <td>2015-03-29</td>\n",
       "      <td>0</td>\n",
       "      <td>0.019375</td>\n",
       "      <td>15329</td>\n",
       "    </tr>\n",
       "    <tr>\n",
       "      <th>7</th>\n",
       "      <td>2015-03-29</td>\n",
       "      <td>1</td>\n",
       "      <td>0.015598</td>\n",
       "      <td>9104</td>\n",
       "    </tr>\n",
       "    <tr>\n",
       "      <th>8</th>\n",
       "      <td>2015-04-05</td>\n",
       "      <td>0</td>\n",
       "      <td>0.020523</td>\n",
       "      <td>15641</td>\n",
       "    </tr>\n",
       "    <tr>\n",
       "      <th>9</th>\n",
       "      <td>2015-04-05</td>\n",
       "      <td>1</td>\n",
       "      <td>0.014206</td>\n",
       "      <td>8377</td>\n",
       "    </tr>\n",
       "    <tr>\n",
       "      <th>10</th>\n",
       "      <td>2015-04-12</td>\n",
       "      <td>0</td>\n",
       "      <td>0.019763</td>\n",
       "      <td>15838</td>\n",
       "    </tr>\n",
       "    <tr>\n",
       "      <th>11</th>\n",
       "      <td>2015-04-12</td>\n",
       "      <td>1</td>\n",
       "      <td>0.014853</td>\n",
       "      <td>9022</td>\n",
       "    </tr>\n",
       "    <tr>\n",
       "      <th>12</th>\n",
       "      <td>2015-04-19</td>\n",
       "      <td>0</td>\n",
       "      <td>0.021064</td>\n",
       "      <td>15524</td>\n",
       "    </tr>\n",
       "    <tr>\n",
       "      <th>13</th>\n",
       "      <td>2015-04-19</td>\n",
       "      <td>1</td>\n",
       "      <td>0.015582</td>\n",
       "      <td>8664</td>\n",
       "    </tr>\n",
       "    <tr>\n",
       "      <th>14</th>\n",
       "      <td>2015-04-26</td>\n",
       "      <td>0</td>\n",
       "      <td>0.020735</td>\n",
       "      <td>15529</td>\n",
       "    </tr>\n",
       "    <tr>\n",
       "      <th>15</th>\n",
       "      <td>2015-04-26</td>\n",
       "      <td>1</td>\n",
       "      <td>0.016506</td>\n",
       "      <td>8724</td>\n",
       "    </tr>\n",
       "    <tr>\n",
       "      <th>16</th>\n",
       "      <td>2015-05-03</td>\n",
       "      <td>0</td>\n",
       "      <td>0.019728</td>\n",
       "      <td>15612</td>\n",
       "    </tr>\n",
       "    <tr>\n",
       "      <th>17</th>\n",
       "      <td>2015-05-03</td>\n",
       "      <td>1</td>\n",
       "      <td>0.012929</td>\n",
       "      <td>8740</td>\n",
       "    </tr>\n",
       "    <tr>\n",
       "      <th>18</th>\n",
       "      <td>2015-05-10</td>\n",
       "      <td>0</td>\n",
       "      <td>0.018742</td>\n",
       "      <td>15740</td>\n",
       "    </tr>\n",
       "    <tr>\n",
       "      <th>19</th>\n",
       "      <td>2015-05-10</td>\n",
       "      <td>1</td>\n",
       "      <td>0.015020</td>\n",
       "      <td>8788</td>\n",
       "    </tr>\n",
       "    <tr>\n",
       "      <th>20</th>\n",
       "      <td>2015-05-17</td>\n",
       "      <td>0</td>\n",
       "      <td>0.020945</td>\n",
       "      <td>15660</td>\n",
       "    </tr>\n",
       "    <tr>\n",
       "      <th>21</th>\n",
       "      <td>2015-05-17</td>\n",
       "      <td>1</td>\n",
       "      <td>0.015381</td>\n",
       "      <td>8582</td>\n",
       "    </tr>\n",
       "    <tr>\n",
       "      <th>22</th>\n",
       "      <td>2015-05-24</td>\n",
       "      <td>0</td>\n",
       "      <td>0.018076</td>\n",
       "      <td>15103</td>\n",
       "    </tr>\n",
       "    <tr>\n",
       "      <th>23</th>\n",
       "      <td>2015-05-24</td>\n",
       "      <td>1</td>\n",
       "      <td>0.014543</td>\n",
       "      <td>8939</td>\n",
       "    </tr>\n",
       "    <tr>\n",
       "      <th>24</th>\n",
       "      <td>2015-05-31</td>\n",
       "      <td>0</td>\n",
       "      <td>0.020736</td>\n",
       "      <td>15384</td>\n",
       "    </tr>\n",
       "    <tr>\n",
       "      <th>25</th>\n",
       "      <td>2015-05-31</td>\n",
       "      <td>1</td>\n",
       "      <td>0.018171</td>\n",
       "      <td>8750</td>\n",
       "    </tr>\n",
       "  </tbody>\n",
       "</table>\n",
       "</div>"
      ],
      "text/plain": [
       "   timestamp_date  test      mean  count\n",
       "0      2015-03-08     0  0.021166  15638\n",
       "1      2015-03-08     1  0.017375   9036\n",
       "2      2015-03-15     0  0.017857  15792\n",
       "3      2015-03-15     1  0.015830   8465\n",
       "4      2015-03-22     0  0.019966  15727\n",
       "5      2015-03-22     1  0.016157   8727\n",
       "6      2015-03-29     0  0.019375  15329\n",
       "7      2015-03-29     1  0.015598   9104\n",
       "8      2015-04-05     0  0.020523  15641\n",
       "9      2015-04-05     1  0.014206   8377\n",
       "10     2015-04-12     0  0.019763  15838\n",
       "11     2015-04-12     1  0.014853   9022\n",
       "12     2015-04-19     0  0.021064  15524\n",
       "13     2015-04-19     1  0.015582   8664\n",
       "14     2015-04-26     0  0.020735  15529\n",
       "15     2015-04-26     1  0.016506   8724\n",
       "16     2015-05-03     0  0.019728  15612\n",
       "17     2015-05-03     1  0.012929   8740\n",
       "18     2015-05-10     0  0.018742  15740\n",
       "19     2015-05-10     1  0.015020   8788\n",
       "20     2015-05-17     0  0.020945  15660\n",
       "21     2015-05-17     1  0.015381   8582\n",
       "22     2015-05-24     0  0.018076  15103\n",
       "23     2015-05-24     1  0.014543   8939\n",
       "24     2015-05-31     0  0.020736  15384\n",
       "25     2015-05-31     1  0.018171   8750"
      ]
     },
     "execution_count": 24,
     "metadata": {},
     "output_type": "execute_result"
    }
   ],
   "source": [
    "df_final.set_index('timestamp_date').groupby(\n",
    "    [pd.Grouper(freq = 'W'), 'test'])['converted'].agg(['mean','count']).reset_index()"
   ]
  },
  {
   "cell_type": "markdown",
   "metadata": {},
   "source": [
    "Looks still significant to me whereas most of the days whether group it by day or week, those who are not in test has a consistently higher conversion rate than those who are"
   ]
  },
  {
   "cell_type": "markdown",
   "metadata": {},
   "source": [
    "## Conversion Rate breakdown by other demographics"
   ]
  },
  {
   "cell_type": "markdown",
   "metadata": {},
   "source": [
    "Now let's look across conversion rate by other demographics and see if any of them would stand out:"
   ]
  },
  {
   "cell_type": "markdown",
   "metadata": {},
   "source": [
    "### Categorical Values"
   ]
  },
  {
   "cell_type": "code",
   "execution_count": 25,
   "metadata": {},
   "outputs": [],
   "source": [
    "def cat_plot(df, col_list, y, hue , figsize):\n",
    "    for col in col_list:\n",
    "        fig, ax = plt.subplots(nrows = 1, ncols = 2, figsize = figsize)\n",
    "        sns.countplot(x = col, hue = y, data = df, ax = ax[0])\n",
    "        sns.barplot(x = col, y = y, data =df, hue = hue, ax=ax[1])\n",
    "        ax[0].set_title('Count {} plot of {}'.format(y, col))\n",
    "        ax[1].set_ylabel('Mean {} rate'.format(y))\n",
    "        ax[1].set_title('Mean {} rate by {}'.format(y, col))"
   ]
  },
  {
   "cell_type": "code",
   "execution_count": 26,
   "metadata": {},
   "outputs": [
    {
     "data": {
      "image/png": "[encoded data removed]",
      "text/plain": [
       "<Figure size 1440x432 with 2 Axes>"
      ]
     },
     "metadata": {},
     "output_type": "display_data"
    },
    {
     "data": {
      "image/png": "[encoded data removed]",
      "text/plain": [
       "<Figure size 1440x432 with 2 Axes>"
      ]
     },
     "metadata": {},
     "output_type": "display_data"
    },
    {
     "data": {
      "image/png": "[encoded data removed]",
      "text/plain": [
       "<Figure size 1440x432 with 2 Axes>"
      ]
     },
     "metadata": {},
     "output_type": "display_data"
    }
   ],
   "source": [
    "cat_plot(df = df_final, col_list = ['source', 'device','operative_system'], y = 'converted', \n",
    "         hue = 'test', figsize = (20,6))"
   ]
  },
  {
   "cell_type": "code",
   "execution_count": 27,
   "metadata": {
    "scrolled": false
   },
   "outputs": [
    {
     "data": {
      "text/plain": [
       "<matplotlib.axes._subplots.AxesSubplot at 0x10a32ff28>"
      ]
     },
     "execution_count": 27,
     "metadata": {},
     "output_type": "execute_result"
    },
    {
     "data": {
      "image/png": "[encoded data removed]",
      "text/plain": [
       "<Figure size 2160x1440 with 1 Axes>"
      ]
     },
     "metadata": {},
     "output_type": "display_data"
    }
   ],
   "source": [
    "scatter_data = df_final.groupby(['city','test'])['converted'].agg(['mean','count']).reset_index()\n",
    "f, ax = plt.subplots(figsize = (30,20))\n",
    "sns.scatterplot(x = 'count', y = 'mean', hue = 'test', data = scatter_data)"
   ]
  },
  {
   "cell_type": "code",
   "execution_count": 28,
   "metadata": {},
   "outputs": [
    {
     "data": {
      "text/html": [
       "<div>\n",
       "<style scoped>\n",
       "    .dataframe tbody tr th:only-of-type {\n",
       "        vertical-align: middle;\n",
       "    }\n",
       "\n",
       "    .dataframe tbody tr th {\n",
       "        vertical-align: top;\n",
       "    }\n",
       "\n",
       "    .dataframe thead th {\n",
       "        text-align: right;\n",
       "    }\n",
       "</style>\n",
       "<table border=\"1\" class=\"dataframe\">\n",
       "  <thead>\n",
       "    <tr style=\"text-align: right;\">\n",
       "      <th></th>\n",
       "      <th>city</th>\n",
       "      <th>test</th>\n",
       "      <th>mean</th>\n",
       "      <th>count</th>\n",
       "    </tr>\n",
       "  </thead>\n",
       "  <tbody>\n",
       "    <tr>\n",
       "      <th>268</th>\n",
       "      <td>Catonsville</td>\n",
       "      <td>0</td>\n",
       "      <td>0.250000</td>\n",
       "      <td>16</td>\n",
       "    </tr>\n",
       "    <tr>\n",
       "      <th>160</th>\n",
       "      <td>Bonita Springs</td>\n",
       "      <td>0</td>\n",
       "      <td>0.250000</td>\n",
       "      <td>4</td>\n",
       "    </tr>\n",
       "    <tr>\n",
       "      <th>1113</th>\n",
       "      <td>North Atlanta</td>\n",
       "      <td>1</td>\n",
       "      <td>0.250000</td>\n",
       "      <td>4</td>\n",
       "    </tr>\n",
       "    <tr>\n",
       "      <th>888</th>\n",
       "      <td>Lehigh Acres</td>\n",
       "      <td>1</td>\n",
       "      <td>0.210526</td>\n",
       "      <td>19</td>\n",
       "    </tr>\n",
       "    <tr>\n",
       "      <th>290</th>\n",
       "      <td>Chapel Hill</td>\n",
       "      <td>1</td>\n",
       "      <td>0.200000</td>\n",
       "      <td>5</td>\n",
       "    </tr>\n",
       "    <tr>\n",
       "      <th>1403</th>\n",
       "      <td>Saint Charles</td>\n",
       "      <td>0</td>\n",
       "      <td>0.200000</td>\n",
       "      <td>5</td>\n",
       "    </tr>\n",
       "    <tr>\n",
       "      <th>1211</th>\n",
       "      <td>Parkway-South Sacramento</td>\n",
       "      <td>0</td>\n",
       "      <td>0.181818</td>\n",
       "      <td>11</td>\n",
       "    </tr>\n",
       "    <tr>\n",
       "      <th>153</th>\n",
       "      <td>Blue Springs</td>\n",
       "      <td>1</td>\n",
       "      <td>0.166667</td>\n",
       "      <td>6</td>\n",
       "    </tr>\n",
       "    <tr>\n",
       "      <th>555</th>\n",
       "      <td>Findlay</td>\n",
       "      <td>1</td>\n",
       "      <td>0.166667</td>\n",
       "      <td>6</td>\n",
       "    </tr>\n",
       "    <tr>\n",
       "      <th>855</th>\n",
       "      <td>Lake Magdalene</td>\n",
       "      <td>0</td>\n",
       "      <td>0.142857</td>\n",
       "      <td>7</td>\n",
       "    </tr>\n",
       "  </tbody>\n",
       "</table>\n",
       "</div>"
      ],
      "text/plain": [
       "                          city  test      mean  count\n",
       "268                Catonsville     0  0.250000     16\n",
       "160             Bonita Springs     0  0.250000      4\n",
       "1113             North Atlanta     1  0.250000      4\n",
       "888               Lehigh Acres     1  0.210526     19\n",
       "290                Chapel Hill     1  0.200000      5\n",
       "1403             Saint Charles     0  0.200000      5\n",
       "1211  Parkway-South Sacramento     0  0.181818     11\n",
       "153               Blue Springs     1  0.166667      6\n",
       "555                    Findlay     1  0.166667      6\n",
       "855             Lake Magdalene     0  0.142857      7"
      ]
     },
     "execution_count": 28,
     "metadata": {},
     "output_type": "execute_result"
    }
   ],
   "source": [
    "scatter_data.sort_values(by = 'mean', ascending = False)[0:10]"
   ]
  },
  {
   "cell_type": "markdown",
   "metadata": {},
   "source": [
    "Looks like there are specific channel that stands out for conversion, namely `referral` &  `iOS` and `mac` users tend to have a higher conversion rate than other users; also there are a few cities that might have higher conversion rate than others but the vast majority of cities stays in the low range of conversion rate"
   ]
  },
  {
   "cell_type": "markdown",
   "metadata": {},
   "source": [
    "### Numeric Values"
   ]
  },
  {
   "cell_type": "code",
   "execution_count": 29,
   "metadata": {},
   "outputs": [],
   "source": [
    "def num_plot(df, col_list, y, figsize = (14,6), fitploy = 5):\n",
    "    for col in col_list:\n",
    "        # setting up figure and axes\n",
    "        fig, ax = plt.subplots(nrows=1, ncols = 2, figsize = figsize)\n",
    "\n",
    "        # setting up 2nd graph's ploynomial regression \n",
    "        grouped_data = df[[col,y]].groupby(col).mean().reset_index()\n",
    "        x= np.array(grouped_data[col])\n",
    "        y= np.array(grouped_data[y])\n",
    "        fit = np.polyfit(x,y, fitploy)\n",
    "        fit_func = np.poly1d(fit)\n",
    "        label_0 = '{} = 0'.format(y)\n",
    "        label_1 = '{} = 1'.format(y)\n",
    "\n",
    "        # plotting 1st graph\n",
    "        sns.distplot(df[df[y] == 0][col], label = label_0, ax= ax[0])\n",
    "        sns.distplot(df[df[y] == 1][col], label = label_1, ax= ax[0])\n",
    "        ax[0].legend()\n",
    "        ax[0].set_title('Kernel Density Plot of {} over {}'.format(col, y))\n",
    "        ax[0].set_ylabel('Kernel Density')\n",
    "\n",
    "        # plotting 2nd graph\n",
    "        plt.plot(col, y, '.-',\n",
    "                 data = df[[col, y]].groupby(col).mean().reset_index()\n",
    "                )\n",
    "        plt.plot(x, fit_func(x), '--')\n",
    "        ax[1].legend(['Mean {} Rate'.format(y),'{} Rate Trend'.format(y)])\n",
    "        ax[1].set_title('Mean {} Rate of {}'.format(y, col))\n",
    "        ax[1].set_xlabel(col)\n",
    "        ax[1].set_ylabel('Mean {} Rate'.format(y))"
   ]
  },
  {
   "cell_type": "markdown",
   "metadata": {},
   "source": [
    "__This is not needed as it is lat & long info (geographic)__"
   ]
  },
  {
   "cell_type": "markdown",
   "metadata": {},
   "source": [
    "# Build a model to predict conversion to validate our findings"
   ]
  },
  {
   "cell_type": "markdown",
   "metadata": {},
   "source": [
    "Here we want to build a Random Forest Model real quick using H2O to verify our findings: \n",
    "- see if `referral` channel and `iOS` and `mac` users tend to get us a higher conversion predictions\n",
    "- any additional insights we can find along the predictive model"
   ]
  },
  {
   "cell_type": "markdown",
   "metadata": {},
   "source": [
    "## Initiate H2O instance"
   ]
  },
  {
   "cell_type": "code",
   "execution_count": 30,
   "metadata": {},
   "outputs": [
    {
     "name": "stdout",
     "output_type": "stream",
     "text": [
      "Checking whether there is an H2O instance running at http://localhost:54321..... not found.\n",
      "Attempting to start a local H2O server...\n",
      "  Java Version: java version \"11.0.1\" 2018-10-16 LTS; Java(TM) SE Runtime Environment 18.9 (build 11.0.1+13-LTS); Java HotSpot(TM) 64-Bit Server VM 18.9 (build 11.0.1+13-LTS, mixed mode)\n",
      "  Starting server from /Users/yigongzhang/miniconda3/envs/python/lib/python3.6/site-packages/h2o/backend/bin/h2o.jar\n",
      "  Ice root: /var/folders/cg/msv4ryrx4nj787spgb4ghfxh0000gn/T/tmp7tm28gtf\n",
      "  JVM stdout: /var/folders/cg/msv4ryrx4nj787spgb4ghfxh0000gn/T/tmp7tm28gtf/h2o_yigongzhang_started_from_python.out\n",
      "  JVM stderr: /var/folders/cg/msv4ryrx4nj787spgb4ghfxh0000gn/T/tmp7tm28gtf/h2o_yigongzhang_started_from_python.err\n",
      "  Server is running at http://127.0.0.1:54321\n",
      "Connecting to H2O server at http://127.0.0.1:54321... successful.\n"
     ]
    },
    {
     "data": {
      "text/html": [
       "<div style=\"overflow:auto\"><table style=\"width:50%\"><tr><td>H2O cluster uptime:</td>\n",
       "<td>01 secs</td></tr>\n",
       "<tr><td>H2O cluster timezone:</td>\n",
       "<td>America/Chicago</td></tr>\n",
       "<tr><td>H2O data parsing timezone:</td>\n",
       "<td>UTC</td></tr>\n",
       "<tr><td>H2O cluster version:</td>\n",
       "<td>3.22.1.1</td></tr>\n",
       "<tr><td>H2O cluster version age:</td>\n",
       "<td>23 days </td></tr>\n",
       "<tr><td>H2O cluster name:</td>\n",
       "<td>H2O_from_python_yigongzhang_38fzze</td></tr>\n",
       "<tr><td>H2O cluster total nodes:</td>\n",
       "<td>1</td></tr>\n",
       "<tr><td>H2O cluster free memory:</td>\n",
       "<td>4 Gb</td></tr>\n",
       "<tr><td>H2O cluster total cores:</td>\n",
       "<td>12</td></tr>\n",
       "<tr><td>H2O cluster allowed cores:</td>\n",
       "<td>12</td></tr>\n",
       "<tr><td>H2O cluster status:</td>\n",
       "<td>accepting new members, healthy</td></tr>\n",
       "<tr><td>H2O connection url:</td>\n",
       "<td>http://127.0.0.1:54321</td></tr>\n",
       "<tr><td>H2O connection proxy:</td>\n",
       "<td>None</td></tr>\n",
       "<tr><td>H2O internal security:</td>\n",
       "<td>False</td></tr>\n",
       "<tr><td>H2O API Extensions:</td>\n",
       "<td>XGBoost, Algos, AutoML, Core V3, Core V4</td></tr>\n",
       "<tr><td>Python version:</td>\n",
       "<td>3.6.7 final</td></tr></table></div>"
      ],
      "text/plain": [
       "--------------------------  ----------------------------------------\n",
       "H2O cluster uptime:         01 secs\n",
       "H2O cluster timezone:       America/Chicago\n",
       "H2O data parsing timezone:  UTC\n",
       "H2O cluster version:        3.22.1.1\n",
       "H2O cluster version age:    23 days\n",
       "H2O cluster name:           H2O_from_python_yigongzhang_38fzze\n",
       "H2O cluster total nodes:    1\n",
       "H2O cluster free memory:    4 Gb\n",
       "H2O cluster total cores:    12\n",
       "H2O cluster allowed cores:  12\n",
       "H2O cluster status:         accepting new members, healthy\n",
       "H2O connection url:         http://127.0.0.1:54321\n",
       "H2O connection proxy:\n",
       "H2O internal security:      False\n",
       "H2O API Extensions:         XGBoost, Algos, AutoML, Core V3, Core V4\n",
       "Python version:             3.6.7 final\n",
       "--------------------------  ----------------------------------------"
      ]
     },
     "metadata": {},
     "output_type": "display_data"
    }
   ],
   "source": [
    "import h2o\n",
    "from h2o.frame import H2OFrame\n",
    "from h2o.estimators.random_forest import H2ORandomForestEstimator\n",
    "\n",
    "h2o.init()\n",
    "h2o.remove_all()"
   ]
  },
  {
   "cell_type": "markdown",
   "metadata": {},
   "source": [
    "## Passing data in"
   ]
  },
  {
   "cell_type": "code",
   "execution_count": 31,
   "metadata": {},
   "outputs": [
    {
     "data": {
      "text/plain": [
       "Index(['user_id', 'timestamp', 'source', 'device', 'operative_system', 'test',\n",
       "       'price', 'converted', 'city', 'lat', 'long', 'timestamp_date'],\n",
       "      dtype='object')"
      ]
     },
     "execution_count": 31,
     "metadata": {},
     "output_type": "execute_result"
    }
   ],
   "source": [
    "df_final.columns"
   ]
  },
  {
   "cell_type": "markdown",
   "metadata": {},
   "source": [
    "Before we do that, we need to interpret date as numeric features; separate into day and week:"
   ]
  },
  {
   "cell_type": "code",
   "execution_count": 32,
   "metadata": {},
   "outputs": [
    {
     "data": {
      "text/plain": [
       "Index(['user_id', 'timestamp', 'source', 'device', 'operative_system', 'test',\n",
       "       'price', 'converted', 'city', 'lat', 'long', 'timestamp_date', 'ts_day',\n",
       "       'ts_week'],\n",
       "      dtype='object')"
      ]
     },
     "execution_count": 32,
     "metadata": {},
     "output_type": "execute_result"
    }
   ],
   "source": [
    "df_final['ts_day'] = df_final.timestamp_date.apply(lambda x: x.day)\n",
    "df_final['ts_week'] = df_final.timestamp_date.apply(lambda x: x.week)\n",
    "\n",
    "df_final.columns"
   ]
  },
  {
   "cell_type": "markdown",
   "metadata": {},
   "source": [
    "Now let's load in data, we don't need `'user_id'`, `timestamp`, `price`, `city`, `timestamp_date`:"
   ]
  },
  {
   "cell_type": "code",
   "execution_count": 33,
   "metadata": {},
   "outputs": [
    {
     "name": "stdout",
     "output_type": "stream",
     "text": [
      "Parse progress: |█████████████████████████████████████████████████████████| 100%\n"
     ]
    },
    {
     "data": {
      "text/html": [
       "<table>\n",
       "<thead>\n",
       "<tr><th>       </th><th>source        </th><th>device  </th><th>operative_system  </th><th>test  </th><th>converted  </th><th>lat              </th><th>long              </th><th>ts_day            </th><th>ts_week           </th></tr>\n",
       "</thead>\n",
       "<tbody>\n",
       "<tr><td>type   </td><td>enum          </td><td>enum    </td><td>enum              </td><td>enum  </td><td>enum       </td><td>real             </td><td>real              </td><td>int               </td><td>int               </td></tr>\n",
       "<tr><td>mins   </td><td>              </td><td>        </td><td>                  </td><td>      </td><td>           </td><td>19.7             </td><td>-157.8            </td><td>1.0               </td><td>10.0              </td></tr>\n",
       "<tr><td>mean   </td><td>              </td><td>        </td><td>                  </td><td>      </td><td>           </td><td>37.11200403931788</td><td>-93.98122509026723</td><td>15.880768562263896</td><td>15.984777284434438</td></tr>\n",
       "<tr><td>maxs   </td><td>              </td><td>        </td><td>                  </td><td>      </td><td>           </td><td>61.18            </td><td>30.31             </td><td>31.0              </td><td>22.0              </td></tr>\n",
       "<tr><td>sigma  </td><td>              </td><td>        </td><td>                  </td><td>      </td><td>           </td><td>5.209756133044819</td><td>18.086915836427718</td><td>8.773242121469336 </td><td>3.7403022590367603</td></tr>\n",
       "<tr><td>zeros  </td><td>              </td><td>        </td><td>                  </td><td>      </td><td>           </td><td>0                </td><td>0                 </td><td>0                 </td><td>0                 </td></tr>\n",
       "<tr><td>missing</td><td>0             </td><td>0       </td><td>0                 </td><td>0     </td><td>0          </td><td>41141            </td><td>41141             </td><td>0                 </td><td>0                 </td></tr>\n",
       "<tr><td>0      </td><td>ads_facebook  </td><td>mobile  </td><td>iOS               </td><td>0     </td><td>0          </td><td>42.89            </td><td>-78.86            </td><td>8.0               </td><td>19.0              </td></tr>\n",
       "<tr><td>1      </td><td>seo-google    </td><td>mobile  </td><td>android           </td><td>0     </td><td>0          </td><td>44.68            </td><td>-93.24            </td><td>10.0              </td><td>19.0              </td></tr>\n",
       "<tr><td>2      </td><td>ads-bing      </td><td>mobile  </td><td>android           </td><td>0     </td><td>0          </td><td>41.38            </td><td>-81.73            </td><td>4.0               </td><td>14.0              </td></tr>\n",
       "<tr><td>3      </td><td>direct_traffic</td><td>mobile  </td><td>iOS               </td><td>1     </td><td>0          </td><td>35.07            </td><td>-78.9             </td><td>7.0               </td><td>19.0              </td></tr>\n",
       "<tr><td>4      </td><td>ads_facebook  </td><td>web     </td><td>mac               </td><td>0     </td><td>0          </td><td>39.95            </td><td>-86.02            </td><td>24.0              </td><td>21.0              </td></tr>\n",
       "<tr><td>5      </td><td>ads-google    </td><td>mobile  </td><td>iOS               </td><td>0     </td><td>0          </td><td>40.67            </td><td>-73.94            </td><td>13.0              </td><td>16.0              </td></tr>\n",
       "<tr><td>6      </td><td>seo_facebook  </td><td>web     </td><td>windows           </td><td>0     </td><td>0          </td><td>nan              </td><td>nan               </td><td>4.0               </td><td>10.0              </td></tr>\n",
       "<tr><td>7      </td><td>ads-bing      </td><td>mobile  </td><td>android           </td><td>1     </td><td>1          </td><td>40.77            </td><td>-74.21            </td><td>15.0              </td><td>11.0              </td></tr>\n",
       "<tr><td>8      </td><td>ads_facebook  </td><td>web     </td><td>windows           </td><td>1     </td><td>0          </td><td>39.78            </td><td>-84.2             </td><td>28.0              </td><td>13.0              </td></tr>\n",
       "<tr><td>9      </td><td>ads_facebook  </td><td>web     </td><td>windows           </td><td>1     </td><td>0          </td><td>37.53            </td><td>-77.47            </td><td>24.0              </td><td>17.0              </td></tr>\n",
       "</tbody>\n",
       "</table>"
      ]
     },
     "metadata": {},
     "output_type": "display_data"
    }
   ],
   "source": [
    "h2o_df = H2OFrame(df_final[\n",
    "    ['source','device','operative_system','test','converted','lat','long','ts_day','ts_week']])\n",
    "\n",
    "h2o_df[['source','device','operative_system','test','converted']] = h2o_df[\n",
    "    ['source','device','operative_system','test','converted']].asfactor()\n",
    "\n",
    "h2o_df.summary()"
   ]
  },
  {
   "cell_type": "markdown",
   "metadata": {},
   "source": [
    "## Test Train Split & Train Classifier"
   ]
  },
  {
   "cell_type": "code",
   "execution_count": 34,
   "metadata": {},
   "outputs": [
    {
     "name": "stdout",
     "output_type": "stream",
     "text": [
      "drf Model Build progress: |███████████████████████████████████████████████| 100%\n"
     ]
    }
   ],
   "source": [
    "strat_split = h2o_df['converted'].stratified_split(test_frac = 0.25, seed = 123)\n",
    "\n",
    "train = h2o_df[strat_split == 'train']\n",
    "test = h2o_df[strat_split == 'test']\n",
    "\n",
    "feature = [col for col in h2o_df.columns if col != 'converted']\n",
    "target = 'converted'\n",
    "\n",
    "model = H2ORandomForestEstimator(balance_classes = True, ntrees = 200, max_depth = 20, seed = 123, \n",
    "                                 score_each_iteration = True, nfolds = 5)\n",
    "model.train(x = feature, y=target,  training_frame = train)"
   ]
  },
  {
   "cell_type": "markdown",
   "metadata": {},
   "source": [
    "## Model Performance"
   ]
  },
  {
   "cell_type": "code",
   "execution_count": 35,
   "metadata": {
    "scrolled": false
   },
   "outputs": [
    {
     "name": "stdout",
     "output_type": "stream",
     "text": [
      "Model Details\n",
      "=============\n",
      "H2ORandomForestEstimator :  Distributed Random Forest\n",
      "Model Key:  DRF_model_python_1548033090004_1\n",
      "\n",
      "\n",
      "ModelMetricsBinomial: drf\n",
      "** Reported on train data. **\n",
      "\n",
      "MSE: 0.421404768193794\n",
      "RMSE: 0.6491569672997387\n",
      "LogLoss: 1.313276738914561\n",
      "Mean Per-Class Error: 0.02287960617859497\n",
      "AUC: 0.9952665875617401\n",
      "pr_auc: 0.99409914223127\n",
      "Gini: 0.9905331751234803\n",
      "Confusion Matrix (Act/Pred) for max f1 @ threshold = 0.021665305077806094: \n"
     ]
    },
    {
     "data": {
      "text/html": [
       "<div style=\"overflow:auto\"><table style=\"width:50%\"><tr><td><b></b></td>\n",
       "<td><b>0</b></td>\n",
       "<td><b>1</b></td>\n",
       "<td><b>Error</b></td>\n",
       "<td><b>Rate</b></td></tr>\n",
       "<tr><td>0</td>\n",
       "<td>224097.0</td>\n",
       "<td>8878.0</td>\n",
       "<td>0.0381</td>\n",
       "<td> (8878.0/232975.0)</td></tr>\n",
       "<tr><td>1</td>\n",
       "<td>1802.0</td>\n",
       "<td>231199.0</td>\n",
       "<td>0.0077</td>\n",
       "<td> (1802.0/233001.0)</td></tr>\n",
       "<tr><td>Total</td>\n",
       "<td>225899.0</td>\n",
       "<td>240077.0</td>\n",
       "<td>0.0229</td>\n",
       "<td> (10680.0/465976.0)</td></tr></table></div>"
      ],
      "text/plain": [
       "       0       1       Error    Rate\n",
       "-----  ------  ------  -------  ------------------\n",
       "0      224097  8878    0.0381   (8878.0/232975.0)\n",
       "1      1802    231199  0.0077   (1802.0/233001.0)\n",
       "Total  225899  240077  0.0229   (10680.0/465976.0)"
      ]
     },
     "metadata": {},
     "output_type": "display_data"
    },
    {
     "name": "stdout",
     "output_type": "stream",
     "text": [
      "Maximum Metrics: Maximum metrics at their respective thresholds\n",
      "\n"
     ]
    },
    {
     "data": {
      "text/html": [
       "<div style=\"overflow:auto\"><table style=\"width:50%\"><tr><td><b>metric</b></td>\n",
       "<td><b>threshold</b></td>\n",
       "<td><b>value</b></td>\n",
       "<td><b>idx</b></td></tr>\n",
       "<tr><td>max f1</td>\n",
       "<td>0.0216653</td>\n",
       "<td>0.9774244</td>\n",
       "<td>336.0</td></tr>\n",
       "<tr><td>max f2</td>\n",
       "<td>0.0185690</td>\n",
       "<td>0.9884521</td>\n",
       "<td>340.0</td></tr>\n",
       "<tr><td>max f0point5</td>\n",
       "<td>0.0278454</td>\n",
       "<td>0.9730536</td>\n",
       "<td>327.0</td></tr>\n",
       "<tr><td>max accuracy</td>\n",
       "<td>0.0223024</td>\n",
       "<td>0.9771211</td>\n",
       "<td>335.0</td></tr>\n",
       "<tr><td>max precision</td>\n",
       "<td>0.5556789</td>\n",
       "<td>1.0</td>\n",
       "<td>0.0</td></tr>\n",
       "<tr><td>max recall</td>\n",
       "<td>0.0103302</td>\n",
       "<td>1.0</td>\n",
       "<td>356.0</td></tr>\n",
       "<tr><td>max specificity</td>\n",
       "<td>0.5556789</td>\n",
       "<td>1.0</td>\n",
       "<td>0.0</td></tr>\n",
       "<tr><td>max absolute_mcc</td>\n",
       "<td>0.0216653</td>\n",
       "<td>0.9546010</td>\n",
       "<td>336.0</td></tr>\n",
       "<tr><td>max min_per_class_accuracy</td>\n",
       "<td>0.0271714</td>\n",
       "<td>0.9727481</td>\n",
       "<td>328.0</td></tr>\n",
       "<tr><td>max mean_per_class_accuracy</td>\n",
       "<td>0.0223024</td>\n",
       "<td>0.9771204</td>\n",
       "<td>335.0</td></tr></table></div>"
      ],
      "text/plain": [
       "metric                       threshold    value     idx\n",
       "---------------------------  -----------  --------  -----\n",
       "max f1                       0.0216653    0.977424  336\n",
       "max f2                       0.018569     0.988452  340\n",
       "max f0point5                 0.0278454    0.973054  327\n",
       "max accuracy                 0.0223024    0.977121  335\n",
       "max precision                0.555679     1         0\n",
       "max recall                   0.0103302    1         356\n",
       "max specificity              0.555679     1         0\n",
       "max absolute_mcc             0.0216653    0.954601  336\n",
       "max min_per_class_accuracy   0.0271714    0.972748  328\n",
       "max mean_per_class_accuracy  0.0223024    0.97712   335"
      ]
     },
     "metadata": {},
     "output_type": "display_data"
    },
    {
     "name": "stdout",
     "output_type": "stream",
     "text": [
      "Gains/Lift Table: Avg response rate: 50.00 %, avg score:  4.47 %\n",
      "\n"
     ]
    },
    {
     "data": {
      "text/html": [
       "<div style=\"overflow:auto\"><table style=\"width:50%\"><tr><td><b></b></td>\n",
       "<td><b>group</b></td>\n",
       "<td><b>cumulative_data_fraction</b></td>\n",
       "<td><b>lower_threshold</b></td>\n",
       "<td><b>lift</b></td>\n",
       "<td><b>cumulative_lift</b></td>\n",
       "<td><b>response_rate</b></td>\n",
       "<td><b>score</b></td>\n",
       "<td><b>cumulative_response_rate</b></td>\n",
       "<td><b>cumulative_score</b></td>\n",
       "<td><b>capture_rate</b></td>\n",
       "<td><b>cumulative_capture_rate</b></td>\n",
       "<td><b>gain</b></td>\n",
       "<td><b>cumulative_gain</b></td></tr>\n",
       "<tr><td></td>\n",
       "<td>1</td>\n",
       "<td>0.0100005</td>\n",
       "<td>0.1995537</td>\n",
       "<td>1.9990301</td>\n",
       "<td>1.9990301</td>\n",
       "<td>0.9995708</td>\n",
       "<td>0.2362275</td>\n",
       "<td>0.9995708</td>\n",
       "<td>0.2362275</td>\n",
       "<td>0.0199913</td>\n",
       "<td>0.0199913</td>\n",
       "<td>99.9030091</td>\n",
       "<td>99.9030091</td></tr>\n",
       "<tr><td></td>\n",
       "<td>2</td>\n",
       "<td>0.0200010</td>\n",
       "<td>0.1757565</td>\n",
       "<td>1.9994593</td>\n",
       "<td>1.9992447</td>\n",
       "<td>0.9997854</td>\n",
       "<td>0.1862681</td>\n",
       "<td>0.9996781</td>\n",
       "<td>0.2112478</td>\n",
       "<td>0.0199956</td>\n",
       "<td>0.0399870</td>\n",
       "<td>99.9459252</td>\n",
       "<td>99.9244672</td></tr>\n",
       "<tr><td></td>\n",
       "<td>3</td>\n",
       "<td>0.0300015</td>\n",
       "<td>0.1610253</td>\n",
       "<td>1.9981718</td>\n",
       "<td>1.9988870</td>\n",
       "<td>0.9991416</td>\n",
       "<td>0.1679077</td>\n",
       "<td>0.9994993</td>\n",
       "<td>0.1968011</td>\n",
       "<td>0.0199827</td>\n",
       "<td>0.0599697</td>\n",
       "<td>99.8171770</td>\n",
       "<td>99.8887038</td></tr>\n",
       "<tr><td></td>\n",
       "<td>4</td>\n",
       "<td>0.0400021</td>\n",
       "<td>0.1502356</td>\n",
       "<td>1.9986009</td>\n",
       "<td>1.9988155</td>\n",
       "<td>0.9993562</td>\n",
       "<td>0.1554466</td>\n",
       "<td>0.9994635</td>\n",
       "<td>0.1864625</td>\n",
       "<td>0.0199870</td>\n",
       "<td>0.0799567</td>\n",
       "<td>99.8600931</td>\n",
       "<td>99.8815511</td></tr>\n",
       "<tr><td></td>\n",
       "<td>5</td>\n",
       "<td>0.0500004</td>\n",
       "<td>0.1416694</td>\n",
       "<td>1.9986007</td>\n",
       "<td>1.9987725</td>\n",
       "<td>0.9993561</td>\n",
       "<td>0.1457833</td>\n",
       "<td>0.9994420</td>\n",
       "<td>0.1783281</td>\n",
       "<td>0.0199827</td>\n",
       "<td>0.0999395</td>\n",
       "<td>99.8600654</td>\n",
       "<td>99.8772547</td></tr>\n",
       "<tr><td></td>\n",
       "<td>6</td>\n",
       "<td>0.1000009</td>\n",
       "<td>0.1143507</td>\n",
       "<td>1.9976567</td>\n",
       "<td>1.9982146</td>\n",
       "<td>0.9988841</td>\n",
       "<td>0.1265741</td>\n",
       "<td>0.9991631</td>\n",
       "<td>0.1524511</td>\n",
       "<td>0.0998837</td>\n",
       "<td>0.1998232</td>\n",
       "<td>99.7656682</td>\n",
       "<td>99.8214614</td></tr>\n",
       "<tr><td></td>\n",
       "<td>7</td>\n",
       "<td>0.1500013</td>\n",
       "<td>0.0978686</td>\n",
       "<td>1.9957683</td>\n",
       "<td>1.9973992</td>\n",
       "<td>0.9979398</td>\n",
       "<td>0.1056099</td>\n",
       "<td>0.9987553</td>\n",
       "<td>0.1368374</td>\n",
       "<td>0.0997893</td>\n",
       "<td>0.2996124</td>\n",
       "<td>99.5768294</td>\n",
       "<td>99.7399174</td></tr>\n",
       "<tr><td></td>\n",
       "<td>8</td>\n",
       "<td>0.2000017</td>\n",
       "<td>0.0849948</td>\n",
       "<td>1.9902748</td>\n",
       "<td>1.9956181</td>\n",
       "<td>0.9951929</td>\n",
       "<td>0.0912086</td>\n",
       "<td>0.9978647</td>\n",
       "<td>0.1254302</td>\n",
       "<td>0.0995146</td>\n",
       "<td>0.3991270</td>\n",
       "<td>99.0274802</td>\n",
       "<td>99.5618081</td></tr>\n",
       "<tr><td></td>\n",
       "<td>9</td>\n",
       "<td>0.3000004</td>\n",
       "<td>0.0645803</td>\n",
       "<td>1.9816479</td>\n",
       "<td>1.9909614</td>\n",
       "<td>0.9908792</td>\n",
       "<td>0.0743556</td>\n",
       "<td>0.9955363</td>\n",
       "<td>0.1084056</td>\n",
       "<td>0.1981622</td>\n",
       "<td>0.5972893</td>\n",
       "<td>98.1647913</td>\n",
       "<td>99.0961425</td></tr>\n",
       "<tr><td></td>\n",
       "<td>10</td>\n",
       "<td>0.4000013</td>\n",
       "<td>0.0465772</td>\n",
       "<td>1.9591164</td>\n",
       "<td>1.9830001</td>\n",
       "<td>0.9796129</td>\n",
       "<td>0.0556449</td>\n",
       "<td>0.9915554</td>\n",
       "<td>0.0952153</td>\n",
       "<td>0.1959133</td>\n",
       "<td>0.7932026</td>\n",
       "<td>95.9116405</td>\n",
       "<td>98.3000127</td></tr>\n",
       "<tr><td></td>\n",
       "<td>11</td>\n",
       "<td>0.5</td>\n",
       "<td>0.0270459</td>\n",
       "<td>1.7973116</td>\n",
       "<td>1.9458629</td>\n",
       "<td>0.8987059</td>\n",
       "<td>0.0372612</td>\n",
       "<td>0.9729857</td>\n",
       "<td>0.0836247</td>\n",
       "<td>0.1797288</td>\n",
       "<td>0.9729314</td>\n",
       "<td>79.7311566</td>\n",
       "<td>94.5862893</td></tr>\n",
       "<tr><td></td>\n",
       "<td>12</td>\n",
       "<td>0.6000009</td>\n",
       "<td>0.0082655</td>\n",
       "<td>0.2706832</td>\n",
       "<td>1.6666643</td>\n",
       "<td>0.1353492</td>\n",
       "<td>0.0141616</td>\n",
       "<td>0.8333786</td>\n",
       "<td>0.0720474</td>\n",
       "<td>0.0270686</td>\n",
       "<td>1.0</td>\n",
       "<td>-72.9316790</td>\n",
       "<td>66.6664282</td></tr>\n",
       "<tr><td></td>\n",
       "<td>13</td>\n",
       "<td>0.6999996</td>\n",
       "<td>0.0050332</td>\n",
       "<td>0.0</td>\n",
       "<td>1.4285723</td>\n",
       "<td>0.0</td>\n",
       "<td>0.0064170</td>\n",
       "<td>0.7143260</td>\n",
       "<td>0.0626717</td>\n",
       "<td>0.0</td>\n",
       "<td>1.0</td>\n",
       "<td>-100.0</td>\n",
       "<td>42.8572305</td></tr>\n",
       "<tr><td></td>\n",
       "<td>14</td>\n",
       "<td>0.8000004</td>\n",
       "<td>0.0033317</td>\n",
       "<td>0.0</td>\n",
       "<td>1.2499993</td>\n",
       "<td>0.0</td>\n",
       "<td>0.0041179</td>\n",
       "<td>0.6250345</td>\n",
       "<td>0.0553524</td>\n",
       "<td>0.0</td>\n",
       "<td>1.0</td>\n",
       "<td>-100.0</td>\n",
       "<td>24.9999329</td></tr>\n",
       "<tr><td></td>\n",
       "<td>15</td>\n",
       "<td>0.8999991</td>\n",
       "<td>0.0020407</td>\n",
       "<td>0.0</td>\n",
       "<td>1.1111122</td>\n",
       "<td>0.0</td>\n",
       "<td>0.0026764</td>\n",
       "<td>0.5555871</td>\n",
       "<td>0.0494996</td>\n",
       "<td>0.0</td>\n",
       "<td>1.0</td>\n",
       "<td>-100.0</td>\n",
       "<td>11.1112171</td></tr>\n",
       "<tr><td></td>\n",
       "<td>16</td>\n",
       "<td>1.0</td>\n",
       "<td>0.0</td>\n",
       "<td>0.0</td>\n",
       "<td>1.0</td>\n",
       "<td>0.0</td>\n",
       "<td>0.0012848</td>\n",
       "<td>0.5000279</td>\n",
       "<td>0.0446781</td>\n",
       "<td>0.0</td>\n",
       "<td>1.0</td>\n",
       "<td>-100.0</td>\n",
       "<td>0.0</td></tr></table></div>"
      ],
      "text/plain": [
       "    group    cumulative_data_fraction    lower_threshold    lift      cumulative_lift    response_rate    score       cumulative_response_rate    cumulative_score    capture_rate    cumulative_capture_rate    gain      cumulative_gain\n",
       "--  -------  --------------------------  -----------------  --------  -----------------  ---------------  ----------  --------------------------  ------------------  --------------  -------------------------  --------  -----------------\n",
       "    1        0.0100005                   0.199554           1.99903   1.99903            0.999571         0.236228    0.999571                    0.236228            0.0199913       0.0199913                  99.903    99.903\n",
       "    2        0.020001                    0.175757           1.99946   1.99924            0.999785         0.186268    0.999678                    0.211248            0.0199956       0.039987                   99.9459   99.9245\n",
       "    3        0.0300015                   0.161025           1.99817   1.99889            0.999142         0.167908    0.999499                    0.196801            0.0199827       0.0599697                  99.8172   99.8887\n",
       "    4        0.0400021                   0.150236           1.9986    1.99882            0.999356         0.155447    0.999464                    0.186462            0.019987        0.0799567                  99.8601   99.8816\n",
       "    5        0.0500004                   0.141669           1.9986    1.99877            0.999356         0.145783    0.999442                    0.178328            0.0199827       0.0999395                  99.8601   99.8773\n",
       "    6        0.100001                    0.114351           1.99766   1.99821            0.998884         0.126574    0.999163                    0.152451            0.0998837       0.199823                   99.7657   99.8215\n",
       "    7        0.150001                    0.0978686          1.99577   1.9974             0.99794          0.10561     0.998755                    0.136837            0.0997893       0.299612                   99.5768   99.7399\n",
       "    8        0.200002                    0.0849948          1.99027   1.99562            0.995193         0.0912086   0.997865                    0.12543             0.0995146       0.399127                   99.0275   99.5618\n",
       "    9        0.3                         0.0645803          1.98165   1.99096            0.990879         0.0743556   0.995536                    0.108406            0.198162        0.597289                   98.1648   99.0961\n",
       "    10       0.400001                    0.0465772          1.95912   1.983              0.979613         0.0556449   0.991555                    0.0952153           0.195913        0.793203                   95.9116   98.3\n",
       "    11       0.5                         0.0270459          1.79731   1.94586            0.898706         0.0372612   0.972986                    0.0836247           0.179729        0.972931                   79.7312   94.5863\n",
       "    12       0.600001                    0.00826554         0.270683  1.66666            0.135349         0.0141616   0.833379                    0.0720474           0.0270686       1                          -72.9317  66.6664\n",
       "    13       0.7                         0.00503319         0         1.42857            0                0.00641705  0.714326                    0.0626717           0               1                          -100      42.8572\n",
       "    14       0.8                         0.00333172         0         1.25               0                0.00411785  0.625035                    0.0553524           0               1                          -100      24.9999\n",
       "    15       0.899999                    0.00204074         0         1.11111            0                0.00267638  0.555587                    0.0494996           0               1                          -100      11.1112\n",
       "    16       1                           0                  0         1                  0                0.00128479  0.500028                    0.0446781           0               1                          -100      0"
      ]
     },
     "metadata": {},
     "output_type": "display_data"
    },
    {
     "name": "stdout",
     "output_type": "stream",
     "text": [
      "\n",
      "\n",
      "ModelMetricsBinomial: drf\n",
      "** Reported on cross-validation data. **\n",
      "\n",
      "MSE: 0.018178749743947693\n",
      "RMSE: 0.134828593940409\n",
      "LogLoss: 0.10443378976894185\n",
      "Mean Per-Class Error: 0.4475874569070748\n",
      "AUC: 0.5694681168400034\n",
      "pr_auc: 0.02216147068835582\n",
      "Gini: 0.13893623368000685\n",
      "Confusion Matrix (Act/Pred) for max f1 @ threshold = 0.004651104954586357: \n"
     ]
    },
    {
     "data": {
      "text/html": [
       "<div style=\"overflow:auto\"><table style=\"width:50%\"><tr><td><b></b></td>\n",
       "<td><b>0</b></td>\n",
       "<td><b>1</b></td>\n",
       "<td><b>Error</b></td>\n",
       "<td><b>Rate</b></td></tr>\n",
       "<tr><td>0</td>\n",
       "<td>143420.0</td>\n",
       "<td>89555.0</td>\n",
       "<td>0.3844</td>\n",
       "<td> (89555.0/232975.0)</td></tr>\n",
       "<tr><td>1</td>\n",
       "<td>2269.0</td>\n",
       "<td>2082.0</td>\n",
       "<td>0.5215</td>\n",
       "<td> (2269.0/4351.0)</td></tr>\n",
       "<tr><td>Total</td>\n",
       "<td>145689.0</td>\n",
       "<td>91637.0</td>\n",
       "<td>0.3869</td>\n",
       "<td> (91824.0/237326.0)</td></tr></table></div>"
      ],
      "text/plain": [
       "       0       1      Error    Rate\n",
       "-----  ------  -----  -------  ------------------\n",
       "0      143420  89555  0.3844   (89555.0/232975.0)\n",
       "1      2269    2082   0.5215   (2269.0/4351.0)\n",
       "Total  145689  91637  0.3869   (91824.0/237326.0)"
      ]
     },
     "metadata": {},
     "output_type": "display_data"
    },
    {
     "name": "stdout",
     "output_type": "stream",
     "text": [
      "Maximum Metrics: Maximum metrics at their respective thresholds\n",
      "\n"
     ]
    },
    {
     "data": {
      "text/html": [
       "<div style=\"overflow:auto\"><table style=\"width:50%\"><tr><td><b>metric</b></td>\n",
       "<td><b>threshold</b></td>\n",
       "<td><b>value</b></td>\n",
       "<td><b>idx</b></td></tr>\n",
       "<tr><td>max f1</td>\n",
       "<td>0.0046511</td>\n",
       "<td>0.0433804</td>\n",
       "<td>317.0</td></tr>\n",
       "<tr><td>max f2</td>\n",
       "<td>0.0038418</td>\n",
       "<td>0.0965846</td>\n",
       "<td>330.0</td></tr>\n",
       "<tr><td>max f0point5</td>\n",
       "<td>0.0049267</td>\n",
       "<td>0.0280745</td>\n",
       "<td>312.0</td></tr>\n",
       "<tr><td>max accuracy</td>\n",
       "<td>0.2360538</td>\n",
       "<td>0.9816624</td>\n",
       "<td>0.0</td></tr>\n",
       "<tr><td>max precision</td>\n",
       "<td>0.1378635</td>\n",
       "<td>0.1904762</td>\n",
       "<td>11.0</td></tr>\n",
       "<tr><td>max recall</td>\n",
       "<td>0.0001704</td>\n",
       "<td>1.0</td>\n",
       "<td>399.0</td></tr>\n",
       "<tr><td>max specificity</td>\n",
       "<td>0.2360538</td>\n",
       "<td>0.9999957</td>\n",
       "<td>0.0</td></tr>\n",
       "<tr><td>max absolute_mcc</td>\n",
       "<td>0.0019892</td>\n",
       "<td>0.0313107</td>\n",
       "<td>368.0</td></tr>\n",
       "<tr><td>max min_per_class_accuracy</td>\n",
       "<td>0.0040555</td>\n",
       "<td>0.5488400</td>\n",
       "<td>326.0</td></tr>\n",
       "<tr><td>max mean_per_class_accuracy</td>\n",
       "<td>0.0038418</td>\n",
       "<td>0.5524125</td>\n",
       "<td>330.0</td></tr></table></div>"
      ],
      "text/plain": [
       "metric                       threshold    value      idx\n",
       "---------------------------  -----------  ---------  -----\n",
       "max f1                       0.0046511    0.0433804  317\n",
       "max f2                       0.00384181   0.0965846  330\n",
       "max f0point5                 0.00492667   0.0280745  312\n",
       "max accuracy                 0.236054     0.981662   0\n",
       "max precision                0.137864     0.190476   11\n",
       "max recall                   0.000170398  1          399\n",
       "max specificity              0.236054     0.999996   0\n",
       "max absolute_mcc             0.00198925   0.0313107  368\n",
       "max min_per_class_accuracy   0.00405552   0.54884    326\n",
       "max mean_per_class_accuracy  0.00384181   0.552413   330"
      ]
     },
     "metadata": {},
     "output_type": "display_data"
    },
    {
     "name": "stdout",
     "output_type": "stream",
     "text": [
      "Gains/Lift Table: Avg response rate:  1.83 %, avg score:  0.57 %\n",
      "\n"
     ]
    },
    {
     "data": {
      "text/html": [
       "<div style=\"overflow:auto\"><table style=\"width:50%\"><tr><td><b></b></td>\n",
       "<td><b>group</b></td>\n",
       "<td><b>cumulative_data_fraction</b></td>\n",
       "<td><b>lower_threshold</b></td>\n",
       "<td><b>lift</b></td>\n",
       "<td><b>cumulative_lift</b></td>\n",
       "<td><b>response_rate</b></td>\n",
       "<td><b>score</b></td>\n",
       "<td><b>cumulative_response_rate</b></td>\n",
       "<td><b>cumulative_score</b></td>\n",
       "<td><b>capture_rate</b></td>\n",
       "<td><b>cumulative_capture_rate</b></td>\n",
       "<td><b>gain</b></td>\n",
       "<td><b>cumulative_gain</b></td></tr>\n",
       "<tr><td></td>\n",
       "<td>1</td>\n",
       "<td>0.0100031</td>\n",
       "<td>0.0413063</td>\n",
       "<td>1.4245156</td>\n",
       "<td>1.4245156</td>\n",
       "<td>0.0261163</td>\n",
       "<td>0.0607966</td>\n",
       "<td>0.0261163</td>\n",
       "<td>0.0607966</td>\n",
       "<td>0.0142496</td>\n",
       "<td>0.0142496</td>\n",
       "<td>42.4515605</td>\n",
       "<td>42.4515605</td></tr>\n",
       "<tr><td></td>\n",
       "<td>2</td>\n",
       "<td>0.0200020</td>\n",
       "<td>0.0303876</td>\n",
       "<td>0.9883868</td>\n",
       "<td>1.2064972</td>\n",
       "<td>0.0181205</td>\n",
       "<td>0.0354901</td>\n",
       "<td>0.0221192</td>\n",
       "<td>0.0481460</td>\n",
       "<td>0.0098828</td>\n",
       "<td>0.0241324</td>\n",
       "<td>-1.1613162</td>\n",
       "<td>20.6497159</td></tr>\n",
       "<tr><td></td>\n",
       "<td>3</td>\n",
       "<td>0.0300009</td>\n",
       "<td>0.0228152</td>\n",
       "<td>1.3331729</td>\n",
       "<td>1.2487165</td>\n",
       "<td>0.0244416</td>\n",
       "<td>0.0263410</td>\n",
       "<td>0.0228933</td>\n",
       "<td>0.0408787</td>\n",
       "<td>0.0133303</td>\n",
       "<td>0.0374627</td>\n",
       "<td>33.3172945</td>\n",
       "<td>24.8716490</td></tr>\n",
       "<tr><td></td>\n",
       "<td>4</td>\n",
       "<td>0.0400040</td>\n",
       "<td>0.0185079</td>\n",
       "<td>1.3785635</td>\n",
       "<td>1.2811851</td>\n",
       "<td>0.0252738</td>\n",
       "<td>0.0203962</td>\n",
       "<td>0.0234885</td>\n",
       "<td>0.0357570</td>\n",
       "<td>0.0137899</td>\n",
       "<td>0.0512526</td>\n",
       "<td>37.8563489</td>\n",
       "<td>28.1185078</td></tr>\n",
       "<tr><td></td>\n",
       "<td>5</td>\n",
       "<td>0.0500198</td>\n",
       "<td>0.0161317</td>\n",
       "<td>0.7572530</td>\n",
       "<td>1.1762751</td>\n",
       "<td>0.0138830</td>\n",
       "<td>0.0172470</td>\n",
       "<td>0.0215652</td>\n",
       "<td>0.0320506</td>\n",
       "<td>0.0075845</td>\n",
       "<td>0.0588370</td>\n",
       "<td>-24.2747014</td>\n",
       "<td>17.6275080</td></tr>\n",
       "<tr><td></td>\n",
       "<td>6</td>\n",
       "<td>0.1000017</td>\n",
       "<td>0.0109629</td>\n",
       "<td>1.2369456</td>\n",
       "<td>1.2065988</td>\n",
       "<td>0.0226775</td>\n",
       "<td>0.0130744</td>\n",
       "<td>0.0221211</td>\n",
       "<td>0.0225661</td>\n",
       "<td>0.0618249</td>\n",
       "<td>0.1206619</td>\n",
       "<td>23.6945590</td>\n",
       "<td>20.6598831</td></tr>\n",
       "<tr><td></td>\n",
       "<td>7</td>\n",
       "<td>0.1500004</td>\n",
       "<td>0.0087223</td>\n",
       "<td>1.2733027</td>\n",
       "<td>1.2288328</td>\n",
       "<td>0.0233440</td>\n",
       "<td>0.0097360</td>\n",
       "<td>0.0225287</td>\n",
       "<td>0.0182895</td>\n",
       "<td>0.0636635</td>\n",
       "<td>0.1843254</td>\n",
       "<td>27.3302704</td>\n",
       "<td>22.8832831</td></tr>\n",
       "<tr><td></td>\n",
       "<td>8</td>\n",
       "<td>0.2000034</td>\n",
       "<td>0.0073441</td>\n",
       "<td>1.3053700</td>\n",
       "<td>1.2479679</td>\n",
       "<td>0.0239319</td>\n",
       "<td>0.0079903</td>\n",
       "<td>0.0228795</td>\n",
       "<td>0.0157146</td>\n",
       "<td>0.0652724</td>\n",
       "<td>0.2495978</td>\n",
       "<td>30.5370019</td>\n",
       "<td>24.7967934</td></tr>\n",
       "<tr><td></td>\n",
       "<td>9</td>\n",
       "<td>0.3000008</td>\n",
       "<td>0.0056042</td>\n",
       "<td>1.1882626</td>\n",
       "<td>1.2280667</td>\n",
       "<td>0.0217849</td>\n",
       "<td>0.0064014</td>\n",
       "<td>0.0225147</td>\n",
       "<td>0.0126103</td>\n",
       "<td>0.1188233</td>\n",
       "<td>0.3684211</td>\n",
       "<td>18.8262631</td>\n",
       "<td>22.8066726</td></tr>\n",
       "<tr><td></td>\n",
       "<td>10</td>\n",
       "<td>0.4000025</td>\n",
       "<td>0.0044819</td>\n",
       "<td>1.2433714</td>\n",
       "<td>1.2318929</td>\n",
       "<td>0.0227953</td>\n",
       "<td>0.0050165</td>\n",
       "<td>0.0225848</td>\n",
       "<td>0.0107118</td>\n",
       "<td>0.1243392</td>\n",
       "<td>0.4927603</td>\n",
       "<td>24.3371367</td>\n",
       "<td>23.1892926</td></tr>\n",
       "<tr><td></td>\n",
       "<td>11</td>\n",
       "<td>0.5</td>\n",
       "<td>0.0036511</td>\n",
       "<td>1.1009242</td>\n",
       "<td>1.2056998</td>\n",
       "<td>0.0201837</td>\n",
       "<td>0.0040501</td>\n",
       "<td>0.0221046</td>\n",
       "<td>0.0093795</td>\n",
       "<td>0.1100896</td>\n",
       "<td>0.6028499</td>\n",
       "<td>10.0924179</td>\n",
       "<td>20.5699839</td></tr>\n",
       "<tr><td></td>\n",
       "<td>12</td>\n",
       "<td>0.6000017</td>\n",
       "<td>0.0029847</td>\n",
       "<td>0.9629808</td>\n",
       "<td>1.1652461</td>\n",
       "<td>0.0176547</td>\n",
       "<td>0.0033087</td>\n",
       "<td>0.0213630</td>\n",
       "<td>0.0083677</td>\n",
       "<td>0.0962997</td>\n",
       "<td>0.6991496</td>\n",
       "<td>-3.7019218</td>\n",
       "<td>16.5246095</td></tr>\n",
       "<tr><td></td>\n",
       "<td>13</td>\n",
       "<td>0.7000034</td>\n",
       "<td>0.0024072</td>\n",
       "<td>0.9629808</td>\n",
       "<td>1.1363507</td>\n",
       "<td>0.0176547</td>\n",
       "<td>0.0026902</td>\n",
       "<td>0.0208332</td>\n",
       "<td>0.0075566</td>\n",
       "<td>0.0962997</td>\n",
       "<td>0.7954493</td>\n",
       "<td>-3.7019218</td>\n",
       "<td>13.6350702</td></tr>\n",
       "<tr><td></td>\n",
       "<td>14</td>\n",
       "<td>0.8000008</td>\n",
       "<td>0.0018546</td>\n",
       "<td>0.9308440</td>\n",
       "<td>1.1106630</td>\n",
       "<td>0.0170656</td>\n",
       "<td>0.0021306</td>\n",
       "<td>0.0203623</td>\n",
       "<td>0.0068784</td>\n",
       "<td>0.0930821</td>\n",
       "<td>0.8885314</td>\n",
       "<td>-6.9155966</td>\n",
       "<td>11.0663045</td></tr>\n",
       "<tr><td></td>\n",
       "<td>15</td>\n",
       "<td>0.9000025</td>\n",
       "<td>0.0012595</td>\n",
       "<td>0.6871868</td>\n",
       "<td>1.0636095</td>\n",
       "<td>0.0125985</td>\n",
       "<td>0.0015672</td>\n",
       "<td>0.0194996</td>\n",
       "<td>0.0062882</td>\n",
       "<td>0.0687198</td>\n",
       "<td>0.9572512</td>\n",
       "<td>-31.2813237</td>\n",
       "<td>6.3609464</td></tr>\n",
       "<tr><td></td>\n",
       "<td>16</td>\n",
       "<td>1.0</td>\n",
       "<td>0.0</td>\n",
       "<td>0.4274987</td>\n",
       "<td>1.0</td>\n",
       "<td>0.0078375</td>\n",
       "<td>0.0008367</td>\n",
       "<td>0.0183334</td>\n",
       "<td>0.0057431</td>\n",
       "<td>0.0427488</td>\n",
       "<td>1.0</td>\n",
       "<td>-57.2501258</td>\n",
       "<td>0.0</td></tr></table></div>"
      ],
      "text/plain": [
       "    group    cumulative_data_fraction    lower_threshold    lift      cumulative_lift    response_rate    score        cumulative_response_rate    cumulative_score    capture_rate    cumulative_capture_rate    gain      cumulative_gain\n",
       "--  -------  --------------------------  -----------------  --------  -----------------  ---------------  -----------  --------------------------  ------------------  --------------  -------------------------  --------  -----------------\n",
       "    1        0.0100031                   0.0413063          1.42452   1.42452            0.0261163        0.0607966    0.0261163                   0.0607966           0.0142496       0.0142496                  42.4516   42.4516\n",
       "    2        0.020002                    0.0303876          0.988387  1.2065             0.0181205        0.0354901    0.0221192                   0.048146            0.00988279      0.0241324                  -1.16132  20.6497\n",
       "    3        0.0300009                   0.0228152          1.33317   1.24872            0.0244416        0.026341     0.0228933                   0.0408787           0.0133303       0.0374627                  33.3173   24.8716\n",
       "    4        0.040004                    0.0185079          1.37856   1.28119            0.0252738        0.0203962    0.0234885                   0.035757            0.0137899       0.0512526                  37.8563   28.1185\n",
       "    5        0.0500198                   0.0161317          0.757253  1.17628            0.013883         0.017247     0.0215652                   0.0320506           0.00758446      0.058837                   -24.2747  17.6275\n",
       "    6        0.100002                    0.0109629          1.23695   1.2066             0.0226775        0.0130744    0.0221211                   0.0225661           0.0618249       0.120662                   23.6946   20.6599\n",
       "    7        0.15                        0.00872226         1.2733    1.22883            0.023344         0.00973598   0.0225287                   0.0182895           0.0636635       0.184325                   27.3303   22.8833\n",
       "    8        0.200003                    0.00734408         1.30537   1.24797            0.0239319        0.00799031   0.0228795                   0.0157146           0.0652724       0.249598                   30.537    24.7968\n",
       "    9        0.300001                    0.00560418         1.18826   1.22807            0.0217849        0.00640138   0.0225147                   0.0126103           0.118823        0.368421                   18.8263   22.8067\n",
       "    10       0.400003                    0.00448186         1.24337   1.23189            0.0227953        0.00501655   0.0225848                   0.0107118           0.124339        0.49276                    24.3371   23.1893\n",
       "    11       0.5                         0.00365114         1.10092   1.2057             0.0201837        0.00405008   0.0221046                   0.00937951          0.11009         0.60285                    10.0924   20.57\n",
       "    12       0.600002                    0.0029847          0.962981  1.16525            0.0176547        0.00330874   0.021363                    0.0083677           0.0962997       0.69915                    -3.70192  16.5246\n",
       "    13       0.700003                    0.00240724         0.962981  1.13635            0.0176547        0.00269016   0.0208332                   0.00755662          0.0962997       0.795449                   -3.70192  13.6351\n",
       "    14       0.800001                    0.00185459         0.930844  1.11066            0.0170656        0.00213057   0.0203623                   0.00687838          0.0930821       0.888531                   -6.9156   11.0663\n",
       "    15       0.900003                    0.00125949         0.687187  1.06361            0.0125985        0.00156723   0.0194996                   0.00628824          0.0687198       0.957251                   -31.2813  6.36095\n",
       "    16       1                           0                  0.427499  1                  0.00783752       0.000836661  0.0183334                   0.0057431           0.0427488       1                          -57.2501  0"
      ]
     },
     "metadata": {},
     "output_type": "display_data"
    },
    {
     "name": "stdout",
     "output_type": "stream",
     "text": [
      "\n",
      "Cross-Validation Metrics Summary: \n"
     ]
    },
    {
     "data": {
      "text/html": [
       "<div style=\"overflow:auto\"><table style=\"width:50%\"><tr><td><b></b></td>\n",
       "<td><b>mean</b></td>\n",
       "<td><b>sd</b></td>\n",
       "<td><b>cv_1_valid</b></td>\n",
       "<td><b>cv_2_valid</b></td>\n",
       "<td><b>cv_3_valid</b></td>\n",
       "<td><b>cv_4_valid</b></td>\n",
       "<td><b>cv_5_valid</b></td></tr>\n",
       "<tr><td>accuracy</td>\n",
       "<td>0.6636347</td>\n",
       "<td>0.0656603</td>\n",
       "<td>0.6614662</td>\n",
       "<td>0.5481892</td>\n",
       "<td>0.7718036</td>\n",
       "<td>0.7633185</td>\n",
       "<td>0.5733959</td></tr>\n",
       "<tr><td>auc</td>\n",
       "<td>0.5697022</td>\n",
       "<td>0.0083859</td>\n",
       "<td>0.5718048</td>\n",
       "<td>0.5525049</td>\n",
       "<td>0.5845996</td>\n",
       "<td>0.5793168</td>\n",
       "<td>0.5602848</td></tr>\n",
       "<tr><td>err</td>\n",
       "<td>0.3363653</td>\n",
       "<td>0.0656603</td>\n",
       "<td>0.3385338</td>\n",
       "<td>0.4518108</td>\n",
       "<td>0.2281964</td>\n",
       "<td>0.2366815</td>\n",
       "<td>0.4266042</td></tr>\n",
       "<tr><td>err_count</td>\n",
       "<td>15960.2</td>\n",
       "<td>3103.0085</td>\n",
       "<td>16079.0</td>\n",
       "<td>21433.0</td>\n",
       "<td>10882.0</td>\n",
       "<td>11209.0</td>\n",
       "<td>20198.0</td></tr>\n",
       "<tr><td>f0point5</td>\n",
       "<td>0.0287061</td>\n",
       "<td>0.0008780</td>\n",
       "<td>0.0286139</td>\n",
       "<td>0.0279076</td>\n",
       "<td>0.0291488</td>\n",
       "<td>0.0307696</td>\n",
       "<td>0.0270908</td></tr>\n",
       "<tr><td>f1</td>\n",
       "<td>0.0439727</td>\n",
       "<td>0.0010200</td>\n",
       "<td>0.0439979</td>\n",
       "<td>0.0432978</td>\n",
       "<td>0.0440970</td>\n",
       "<td>0.0464483</td>\n",
       "<td>0.0420224</td></tr>\n",
       "<tr><td>f2</td>\n",
       "<td>0.0941080</td>\n",
       "<td>0.0014311</td>\n",
       "<td>0.0951597</td>\n",
       "<td>0.0965328</td>\n",
       "<td>0.0905157</td>\n",
       "<td>0.0947062</td>\n",
       "<td>0.0936258</td></tr>\n",
       "<tr><td>lift_top_group</td>\n",
       "<td>1.46617</td>\n",
       "<td>0.1231720</td>\n",
       "<td>1.487289</td>\n",
       "<td>1.5335513</td>\n",
       "<td>1.3269644</td>\n",
       "<td>1.2404611</td>\n",
       "<td>1.7425838</td></tr>\n",
       "<tr><td>logloss</td>\n",
       "<td>0.1044404</td>\n",
       "<td>0.0025829</td>\n",
       "<td>0.1047961</td>\n",
       "<td>0.1092418</td>\n",
       "<td>0.0983299</td>\n",
       "<td>0.1066111</td>\n",
       "<td>0.1032228</td></tr>\n",
       "<tr><td>max_per_class_error</td>\n",
       "<td>0.5826778</td>\n",
       "<td>0.0697405</td>\n",
       "<td>0.576659</td>\n",
       "<td>0.4646799</td>\n",
       "<td>0.6964933</td>\n",
       "<td>0.6918736</td>\n",
       "<td>0.483683</td></tr>\n",
       "<tr><td>mcc</td>\n",
       "<td>0.0250014</td>\n",
       "<td>0.0008137</td>\n",
       "<td>0.0254064</td>\n",
       "<td>0.0230300</td>\n",
       "<td>0.0262783</td>\n",
       "<td>0.0258162</td>\n",
       "<td>0.0244759</td></tr>\n",
       "<tr><td>mean_per_class_accuracy</td>\n",
       "<td>0.5427495</td>\n",
       "<td>0.0013929</td>\n",
       "<td>0.5446356</td>\n",
       "<td>0.5418799</td>\n",
       "<td>0.5417874</td>\n",
       "<td>0.5400615</td>\n",
       "<td>0.5453832</td></tr>\n",
       "<tr><td>mean_per_class_error</td>\n",
       "<td>0.4572504</td>\n",
       "<td>0.0013929</td>\n",
       "<td>0.4553644</td>\n",
       "<td>0.4581201</td>\n",
       "<td>0.4582125</td>\n",
       "<td>0.4599385</td>\n",
       "<td>0.4546168</td></tr>\n",
       "<tr><td>mse</td>\n",
       "<td>0.0181798</td>\n",
       "<td>0.0004175</td>\n",
       "<td>0.0182482</td>\n",
       "<td>0.0189421</td>\n",
       "<td>0.0171962</td>\n",
       "<td>0.0185550</td>\n",
       "<td>0.0179577</td></tr>\n",
       "<tr><td>precision</td>\n",
       "<td>0.0233123</td>\n",
       "<td>0.0007769</td>\n",
       "<td>0.0232048</td>\n",
       "<td>0.0225613</td>\n",
       "<td>0.0237757</td>\n",
       "<td>0.0251173</td>\n",
       "<td>0.0219025</td></tr>\n",
       "<tr><td>r2</td>\n",
       "<td>-0.0100780</td>\n",
       "<td>0.0005696</td>\n",
       "<td>-0.0102546</td>\n",
       "<td>-0.0111139</td>\n",
       "<td>-0.0090762</td>\n",
       "<td>-0.0107190</td>\n",
       "<td>-0.0092262</td></tr>\n",
       "<tr><td>recall</td>\n",
       "<td>0.4173222</td>\n",
       "<td>0.0697405</td>\n",
       "<td>0.4233409</td>\n",
       "<td>0.5353201</td>\n",
       "<td>0.3035066</td>\n",
       "<td>0.3081264</td>\n",
       "<td>0.516317</td></tr>\n",
       "<tr><td>rmse</td>\n",
       "<td>0.1348146</td>\n",
       "<td>0.0015545</td>\n",
       "<td>0.1350858</td>\n",
       "<td>0.1376302</td>\n",
       "<td>0.1311342</td>\n",
       "<td>0.1362166</td>\n",
       "<td>0.1340062</td></tr>\n",
       "<tr><td>specificity</td>\n",
       "<td>0.6681768</td>\n",
       "<td>0.0681360</td>\n",
       "<td>0.6659303</td>\n",
       "<td>0.5484398</td>\n",
       "<td>0.7800683</td>\n",
       "<td>0.7719966</td>\n",
       "<td>0.5744493</td></tr></table></div>"
      ],
      "text/plain": [
       "                         mean       sd           cv_1_valid    cv_2_valid    cv_3_valid    cv_4_valid    cv_5_valid\n",
       "-----------------------  ---------  -----------  ------------  ------------  ------------  ------------  ------------\n",
       "accuracy                 0.663635   0.0656603    0.661466      0.548189      0.771804      0.763319      0.573396\n",
       "auc                      0.569702   0.00838588   0.571805      0.552505      0.5846        0.579317      0.560285\n",
       "err                      0.336365   0.0656603    0.338534      0.451811      0.228196      0.236682      0.426604\n",
       "err_count                15960.2    3103.01      16079         21433         10882         11209         20198\n",
       "f0point5                 0.0287061  0.000878019  0.0286139     0.0279076     0.0291488     0.0307696     0.0270908\n",
       "f1                       0.0439727  0.00102      0.0439979     0.0432978     0.044097      0.0464483     0.0420224\n",
       "f2                       0.094108   0.00143111   0.0951597     0.0965328     0.0905157     0.0947062     0.0936258\n",
       "lift_top_group           1.46617    0.123172     1.48729       1.53355       1.32696       1.24046       1.74258\n",
       "logloss                  0.10444    0.00258288   0.104796      0.109242      0.0983299     0.106611      0.103223\n",
       "max_per_class_error      0.582678   0.0697405    0.576659      0.46468       0.696493      0.691874      0.483683\n",
       "mcc                      0.0250014  0.000813701  0.0254064     0.02303       0.0262783     0.0258162     0.0244759\n",
       "mean_per_class_accuracy  0.542749   0.00139285   0.544636      0.54188       0.541787      0.540062      0.545383\n",
       "mean_per_class_error     0.45725    0.00139285   0.455364      0.45812       0.458213      0.459938      0.454617\n",
       "mse                      0.0181798  0.000417531  0.0182482     0.0189421     0.0171962     0.018555      0.0179577\n",
       "precision                0.0233123  0.00077691   0.0232048     0.0225613     0.0237757     0.0251173     0.0219025\n",
       "r2                       -0.010078  0.000569585  -0.0102546    -0.0111139    -0.00907618   -0.010719     -0.00922624\n",
       "recall                   0.417322   0.0697405    0.423341      0.53532       0.303507      0.308126      0.516317\n",
       "rmse                     0.134815   0.00155452   0.135086      0.13763       0.131134      0.136217      0.134006\n",
       "specificity              0.668177   0.068136     0.66593       0.54844       0.780068      0.771997      0.574449"
      ]
     },
     "metadata": {},
     "output_type": "display_data"
    },
    {
     "name": "stdout",
     "output_type": "stream",
     "text": [
      "Scoring History: \n"
     ]
    },
    {
     "data": {
      "text/html": [
       "<div style=\"overflow:auto\"><table style=\"width:50%\"><tr><td><b></b></td>\n",
       "<td><b>timestamp</b></td>\n",
       "<td><b>duration</b></td>\n",
       "<td><b>number_of_trees</b></td>\n",
       "<td><b>training_rmse</b></td>\n",
       "<td><b>training_logloss</b></td>\n",
       "<td><b>training_auc</b></td>\n",
       "<td><b>training_pr_auc</b></td>\n",
       "<td><b>training_lift</b></td>\n",
       "<td><b>training_classification_error</b></td></tr>\n",
       "<tr><td></td>\n",
       "<td>2019-01-20 19:34:44</td>\n",
       "<td>23 min  5.405 sec</td>\n",
       "<td>0.0</td>\n",
       "<td>nan</td>\n",
       "<td>nan</td>\n",
       "<td>nan</td>\n",
       "<td>nan</td>\n",
       "<td>nan</td>\n",
       "<td>nan</td></tr>\n",
       "<tr><td></td>\n",
       "<td>2019-01-20 19:34:45</td>\n",
       "<td>23 min  5.831 sec</td>\n",
       "<td>1.0</td>\n",
       "<td>0.5491760</td>\n",
       "<td>1.1297515</td>\n",
       "<td>0.9293678</td>\n",
       "<td>0.6691222</td>\n",
       "<td>1.9561799</td>\n",
       "<td>0.1644081</td></tr>\n",
       "<tr><td></td>\n",
       "<td>2019-01-20 19:34:45</td>\n",
       "<td>23 min  6.125 sec</td>\n",
       "<td>2.0</td>\n",
       "<td>0.5809016</td>\n",
       "<td>1.2252093</td>\n",
       "<td>0.9237850</td>\n",
       "<td>0.7378932</td>\n",
       "<td>1.9604531</td>\n",
       "<td>0.1690040</td></tr>\n",
       "<tr><td></td>\n",
       "<td>2019-01-20 19:34:45</td>\n",
       "<td>23 min  6.363 sec</td>\n",
       "<td>3.0</td>\n",
       "<td>0.5812121</td>\n",
       "<td>1.1972139</td>\n",
       "<td>0.9406019</td>\n",
       "<td>0.7679012</td>\n",
       "<td>1.9632385</td>\n",
       "<td>0.1375251</td></tr>\n",
       "<tr><td></td>\n",
       "<td>2019-01-20 19:34:45</td>\n",
       "<td>23 min  6.595 sec</td>\n",
       "<td>4.0</td>\n",
       "<td>0.5938909</td>\n",
       "<td>1.2332395</td>\n",
       "<td>0.9457803</td>\n",
       "<td>0.8024684</td>\n",
       "<td>1.9654734</td>\n",
       "<td>0.1288453</td></tr>\n",
       "<tr><td>---</td>\n",
       "<td>---</td>\n",
       "<td>---</td>\n",
       "<td>---</td>\n",
       "<td>---</td>\n",
       "<td>---</td>\n",
       "<td>---</td>\n",
       "<td>---</td>\n",
       "<td>---</td>\n",
       "<td>---</td></tr>\n",
       "<tr><td></td>\n",
       "<td>2019-01-20 19:35:27</td>\n",
       "<td>23 min 48.099 sec</td>\n",
       "<td>196.0</td>\n",
       "<td>0.6490954</td>\n",
       "<td>1.3127682</td>\n",
       "<td>0.9952786</td>\n",
       "<td>0.9941147</td>\n",
       "<td>1.9990301</td>\n",
       "<td>0.0227930</td></tr>\n",
       "<tr><td></td>\n",
       "<td>2019-01-20 19:35:27</td>\n",
       "<td>23 min 48.303 sec</td>\n",
       "<td>197.0</td>\n",
       "<td>0.6491508</td>\n",
       "<td>1.3132353</td>\n",
       "<td>0.9952700</td>\n",
       "<td>0.9941029</td>\n",
       "<td>1.9990301</td>\n",
       "<td>0.0228316</td></tr>\n",
       "<tr><td></td>\n",
       "<td>2019-01-20 19:35:27</td>\n",
       "<td>23 min 48.526 sec</td>\n",
       "<td>198.0</td>\n",
       "<td>0.6491168</td>\n",
       "<td>1.3128795</td>\n",
       "<td>0.9952758</td>\n",
       "<td>0.9941107</td>\n",
       "<td>1.9990301</td>\n",
       "<td>0.0228724</td></tr>\n",
       "<tr><td></td>\n",
       "<td>2019-01-20 19:35:27</td>\n",
       "<td>23 min 48.732 sec</td>\n",
       "<td>199.0</td>\n",
       "<td>0.6491700</td>\n",
       "<td>1.3134069</td>\n",
       "<td>0.9952642</td>\n",
       "<td>0.9940973</td>\n",
       "<td>1.9990301</td>\n",
       "<td>0.0228381</td></tr>\n",
       "<tr><td></td>\n",
       "<td>2019-01-20 19:35:28</td>\n",
       "<td>23 min 48.946 sec</td>\n",
       "<td>200.0</td>\n",
       "<td>0.6491570</td>\n",
       "<td>1.3132767</td>\n",
       "<td>0.9952666</td>\n",
       "<td>0.9940991</td>\n",
       "<td>1.9990301</td>\n",
       "<td>0.0229196</td></tr></table></div>"
      ],
      "text/plain": [
       "     timestamp            duration           number_of_trees    training_rmse       training_logloss    training_auc        training_pr_auc     training_lift       training_classification_error\n",
       "---  -------------------  -----------------  -----------------  ------------------  ------------------  ------------------  ------------------  ------------------  -------------------------------\n",
       "     2019-01-20 19:34:44  23 min  5.405 sec  0.0                nan                 nan                 nan                 nan                 nan                 nan\n",
       "     2019-01-20 19:34:45  23 min  5.831 sec  1.0                0.5491760285656688  1.1297514713504018  0.9293678385319749  0.6691221695758003  1.9561798789491132  0.16440812144919437\n",
       "     2019-01-20 19:34:45  23 min  6.125 sec  2.0                0.5809015770836037  1.2252092976156446  0.9237850197907264  0.7378932409116148  1.9604531079524028  0.16900402475563983\n",
       "     2019-01-20 19:34:45  23 min  6.363 sec  3.0                0.581212118938454   1.1972139121701957  0.9406019445911689  0.7679011530806918  1.963238547632056   0.13752508822152865\n",
       "     2019-01-20 19:34:45  23 min  6.595 sec  4.0                0.5938908695086922  1.2332394895993815  0.9457802648194856  0.8024683915771411  1.9654733636857813  0.12884527484761898\n",
       "---  ---                  ---                ---                ---                 ---                 ---                 ---                 ---                 ---\n",
       "     2019-01-20 19:35:27  23 min 48.099 sec  196.0              0.6490953513235581  1.3127682072189963  0.9952785991970504  0.9941147438547212  1.999030091289004   0.022793019382972513\n",
       "     2019-01-20 19:35:27  23 min 48.303 sec  197.0              0.6491508098192639  1.3132353396903977  0.9952700201575728  0.994102897011854   1.999030091289004   0.02283164798187031\n",
       "     2019-01-20 19:35:27  23 min 48.526 sec  198.0              0.6491167878594002  1.3128795396907766  0.9952757839353398  0.9941106552680764  1.999030091289004   0.022872422614040207\n",
       "     2019-01-20 19:35:27  23 min 48.732 sec  199.0              0.6491699684290222  1.313406928092614   0.9952642402607     0.994097290424274   1.999030091289004   0.02283808608168661\n",
       "     2019-01-20 19:35:28  23 min 48.946 sec  200.0              0.6491569672997387  1.313276738914561   0.9952665875617401  0.99409914223127    1.999030091289004   0.022919635346026406"
      ]
     },
     "metadata": {},
     "output_type": "display_data"
    },
    {
     "name": "stdout",
     "output_type": "stream",
     "text": [
      "\n",
      "See the whole table with table.as_data_frame()\n",
      "Variable Importances: \n"
     ]
    },
    {
     "data": {
      "text/html": [
       "<div style=\"overflow:auto\"><table style=\"width:50%\"><tr><td><b>variable</b></td>\n",
       "<td><b>relative_importance</b></td>\n",
       "<td><b>scaled_importance</b></td>\n",
       "<td><b>percentage</b></td></tr>\n",
       "<tr><td>lat</td>\n",
       "<td>2023044.2500000</td>\n",
       "<td>1.0</td>\n",
       "<td>0.2291890</td></tr>\n",
       "<tr><td>ts_day</td>\n",
       "<td>1847715.8750000</td>\n",
       "<td>0.9133344</td>\n",
       "<td>0.2093262</td></tr>\n",
       "<tr><td>long</td>\n",
       "<td>1754633.6250000</td>\n",
       "<td>0.8673234</td>\n",
       "<td>0.1987810</td></tr>\n",
       "<tr><td>source</td>\n",
       "<td>1482265.5</td>\n",
       "<td>0.7326906</td>\n",
       "<td>0.1679247</td></tr>\n",
       "<tr><td>ts_week</td>\n",
       "<td>939266.1250000</td>\n",
       "<td>0.4642835</td>\n",
       "<td>0.1064087</td></tr>\n",
       "<tr><td>operative_system</td>\n",
       "<td>505853.3437500</td>\n",
       "<td>0.2500456</td>\n",
       "<td>0.0573077</td></tr>\n",
       "<tr><td>test</td>\n",
       "<td>153494.0937500</td>\n",
       "<td>0.0758728</td>\n",
       "<td>0.0173892</td></tr>\n",
       "<tr><td>device</td>\n",
       "<td>120694.8125000</td>\n",
       "<td>0.0596600</td>\n",
       "<td>0.0136734</td></tr></table></div>"
      ],
      "text/plain": [
       "variable          relative_importance    scaled_importance    percentage\n",
       "----------------  ---------------------  -------------------  ------------\n",
       "lat               2.02304e+06            1                    0.229189\n",
       "ts_day            1.84772e+06            0.913334             0.209326\n",
       "long              1.75463e+06            0.867323             0.198781\n",
       "source            1.48227e+06            0.732691             0.167925\n",
       "ts_week           939266                 0.464284             0.106409\n",
       "operative_system  505853                 0.250046             0.0573077\n",
       "test              153494                 0.0758728            0.0173892\n",
       "device            120695                 0.05966              0.0136734"
      ]
     },
     "metadata": {},
     "output_type": "display_data"
    },
    {
     "data": {
      "text/plain": [
       "<bound method ModelBase.summary of >"
      ]
     },
     "execution_count": 35,
     "metadata": {},
     "output_type": "execute_result"
    }
   ],
   "source": [
    "model.summary"
   ]
  },
  {
   "cell_type": "code",
   "execution_count": 36,
   "metadata": {},
   "outputs": [
    {
     "data": {
      "image/png": "[encoded data removed]",
      "text/plain": [
       "<Figure size 1008x720 with 1 Axes>"
      ]
     },
     "metadata": {},
     "output_type": "display_data"
    }
   ],
   "source": [
    "model.varimp_plot()"
   ]
  },
  {
   "cell_type": "code",
   "execution_count": 37,
   "metadata": {
    "scrolled": false
   },
   "outputs": [
    {
     "name": "stdout",
     "output_type": "stream",
     "text": [
      "PartialDependencePlot progress: |█████████████████████████████████████████| 100%\n",
      "PartialDependence: Partial Dependence Plot of model DRF_model_python_1548033090004_1 on column 'source'\n",
      "\n"
     ]
    },
    {
     "data": {
      "text/html": [
       "<div style=\"overflow:auto\"><table style=\"width:50%\"><tr><td><b>source</b></td>\n",
       "<td><b>mean_response</b></td>\n",
       "<td><b>stddev_response</b></td>\n",
       "<td><b>std_error_mean_response</b></td></tr>\n",
       "<tr><td>ads-bing</td>\n",
       "<td>0.0040443</td>\n",
       "<td>0.0059998</td>\n",
       "<td>0.0000123</td></tr>\n",
       "<tr><td>ads-google</td>\n",
       "<td>0.0088319</td>\n",
       "<td>0.0097847</td>\n",
       "<td>0.0000201</td></tr>\n",
       "<tr><td>ads-yahoo</td>\n",
       "<td>0.0035319</td>\n",
       "<td>0.0054605</td>\n",
       "<td>0.0000112</td></tr>\n",
       "<tr><td>ads_facebook</td>\n",
       "<td>0.0088158</td>\n",
       "<td>0.0097250</td>\n",
       "<td>0.0000200</td></tr>\n",
       "<tr><td>ads_other</td>\n",
       "<td>0.0052015</td>\n",
       "<td>0.0070832</td>\n",
       "<td>0.0000145</td></tr>\n",
       "<tr><td>direct_traffic</td>\n",
       "<td>0.0053941</td>\n",
       "<td>0.0072886</td>\n",
       "<td>0.0000150</td></tr>\n",
       "<tr><td>friend_referral</td>\n",
       "<td>0.0108188</td>\n",
       "<td>0.0155227</td>\n",
       "<td>0.0000319</td></tr>\n",
       "<tr><td>seo-bing</td>\n",
       "<td>0.0047693</td>\n",
       "<td>0.0067285</td>\n",
       "<td>0.0000138</td></tr>\n",
       "<tr><td>seo-google</td>\n",
       "<td>0.0055047</td>\n",
       "<td>0.0071981</td>\n",
       "<td>0.0000148</td></tr>\n",
       "<tr><td>seo-other</td>\n",
       "<td>0.0040723</td>\n",
       "<td>0.0064055</td>\n",
       "<td>0.0000131</td></tr>\n",
       "<tr><td>seo-yahoo</td>\n",
       "<td>0.0035797</td>\n",
       "<td>0.0047587</td>\n",
       "<td>0.0000098</td></tr>\n",
       "<tr><td>seo_facebook</td>\n",
       "<td>0.0053877</td>\n",
       "<td>0.0076945</td>\n",
       "<td>0.0000158</td></tr></table></div>"
      ],
      "text/plain": [
       "source           mean_response    stddev_response    std_error_mean_response\n",
       "---------------  ---------------  -----------------  -------------------------\n",
       "ads-bing         0.00404435       0.00599976         1.23158e-05\n",
       "ads-google       0.0088319        0.00978472         2.00852e-05\n",
       "ads-yahoo        0.00353188       0.00546055         1.12089e-05\n",
       "ads_facebook     0.00881584       0.00972502         1.99626e-05\n",
       "ads_other        0.00520149       0.00708315         1.45396e-05\n",
       "direct_traffic   0.00539414       0.00728864         1.49615e-05\n",
       "friend_referral  0.0108188        0.0155227          3.18635e-05\n",
       "seo-bing         0.00476933       0.00672847         1.38116e-05\n",
       "seo-google       0.00550474       0.00719814         1.47757e-05\n",
       "seo-other        0.00407226       0.00640551         1.31487e-05\n",
       "seo-yahoo        0.00357967       0.00475871         9.76825e-06\n",
       "seo_facebook     0.00538767       0.00769445         1.57945e-05"
      ]
     },
     "metadata": {},
     "output_type": "display_data"
    },
    {
     "name": "stdout",
     "output_type": "stream",
     "text": [
      "PartialDependence: Partial Dependence Plot of model DRF_model_python_1548033090004_1 on column 'device'\n",
      "\n"
     ]
    },
    {
     "data": {
      "text/html": [
       "<div style=\"overflow:auto\"><table style=\"width:50%\"><tr><td><b>device</b></td>\n",
       "<td><b>mean_response</b></td>\n",
       "<td><b>stddev_response</b></td>\n",
       "<td><b>std_error_mean_response</b></td></tr>\n",
       "<tr><td>mobile</td>\n",
       "<td>0.0067659</td>\n",
       "<td>0.0108972</td>\n",
       "<td>0.0000224</td></tr>\n",
       "<tr><td>web</td>\n",
       "<td>0.0059296</td>\n",
       "<td>0.0097489</td>\n",
       "<td>0.0000200</td></tr></table></div>"
      ],
      "text/plain": [
       "device    mean_response    stddev_response    std_error_mean_response\n",
       "--------  ---------------  -----------------  -------------------------\n",
       "mobile    0.00676588       0.0108972          2.23689e-05\n",
       "web       0.00592957       0.00974888         2.00116e-05"
      ]
     },
     "metadata": {},
     "output_type": "display_data"
    },
    {
     "name": "stdout",
     "output_type": "stream",
     "text": [
      "PartialDependence: Partial Dependence Plot of model DRF_model_python_1548033090004_1 on column 'operative_system'\n",
      "\n"
     ]
    },
    {
     "data": {
      "text/html": [
       "<div style=\"overflow:auto\"><table style=\"width:50%\"><tr><td><b>operative_system</b></td>\n",
       "<td><b>mean_response</b></td>\n",
       "<td><b>stddev_response</b></td>\n",
       "<td><b>std_error_mean_response</b></td></tr>\n",
       "<tr><td>android</td>\n",
       "<td>0.0051061</td>\n",
       "<td>0.0076121</td>\n",
       "<td>0.0000156</td></tr>\n",
       "<tr><td>iOS</td>\n",
       "<td>0.0078864</td>\n",
       "<td>0.0099251</td>\n",
       "<td>0.0000204</td></tr>\n",
       "<tr><td>linux</td>\n",
       "<td>0.0027055</td>\n",
       "<td>0.0039279</td>\n",
       "<td>0.0000081</td></tr>\n",
       "<tr><td>mac</td>\n",
       "<td>0.0062520</td>\n",
       "<td>0.0082437</td>\n",
       "<td>0.0000169</td></tr>\n",
       "<tr><td>other</td>\n",
       "<td>0.0029188</td>\n",
       "<td>0.0053350</td>\n",
       "<td>0.0000110</td></tr>\n",
       "<tr><td>windows</td>\n",
       "<td>0.0061790</td>\n",
       "<td>0.0081445</td>\n",
       "<td>0.0000167</td></tr></table></div>"
      ],
      "text/plain": [
       "operative_system    mean_response    stddev_response    std_error_mean_response\n",
       "------------------  ---------------  -----------------  -------------------------\n",
       "android             0.00510608       0.00761205         1.56253e-05\n",
       "iOS                 0.00788644       0.00992508         2.03733e-05\n",
       "linux               0.00270549       0.00392793         8.06289e-06\n",
       "mac                 0.00625202       0.00824367         1.69219e-05\n",
       "other               0.00291878       0.00533502         1.09512e-05\n",
       "windows             0.00617903       0.00814454         1.67184e-05"
      ]
     },
     "metadata": {},
     "output_type": "display_data"
    },
    {
     "name": "stdout",
     "output_type": "stream",
     "text": [
      "PartialDependence: Partial Dependence Plot of model DRF_model_python_1548033090004_1 on column 'test'\n",
      "\n"
     ]
    },
    {
     "data": {
      "text/html": [
       "<div style=\"overflow:auto\"><table style=\"width:50%\"><tr><td><b>test</b></td>\n",
       "<td><b>mean_response</b></td>\n",
       "<td><b>stddev_response</b></td>\n",
       "<td><b>std_error_mean_response</b></td></tr>\n",
       "<tr><td>0</td>\n",
       "<td>0.0079687</td>\n",
       "<td>0.0120769</td>\n",
       "<td>0.0000248</td></tr>\n",
       "<tr><td>1</td>\n",
       "<td>0.0052929</td>\n",
       "<td>0.0102374</td>\n",
       "<td>0.0000210</td></tr></table></div>"
      ],
      "text/plain": [
       "test    mean_response    stddev_response    std_error_mean_response\n",
       "------  ---------------  -----------------  -------------------------\n",
       "0       0.00796869       0.0120769          2.47903e-05\n",
       "1       0.00529289       0.0102374          2.10145e-05"
      ]
     },
     "metadata": {},
     "output_type": "display_data"
    },
    {
     "name": "stdout",
     "output_type": "stream",
     "text": [
      "PartialDependence: Partial Dependence Plot of model DRF_model_python_1548033090004_1 on column 'lat'\n",
      "\n"
     ]
    },
    {
     "data": {
      "text/html": [
       "<div style=\"overflow:auto\"><table style=\"width:50%\"><tr><td><b>lat</b></td>\n",
       "<td><b>mean_response</b></td>\n",
       "<td><b>stddev_response</b></td>\n",
       "<td><b>std_error_mean_response</b></td></tr>\n",
       "<tr><td>19.7</td>\n",
       "<td>0.0038468</td>\n",
       "<td>0.0030504</td>\n",
       "<td>0.0000063</td></tr>\n",
       "<tr><td>21.8831579</td>\n",
       "<td>0.0037122</td>\n",
       "<td>0.0031041</td>\n",
       "<td>0.0000064</td></tr>\n",
       "<tr><td>24.0663158</td>\n",
       "<td>0.0037366</td>\n",
       "<td>0.0033139</td>\n",
       "<td>0.0000068</td></tr>\n",
       "<tr><td>26.2494737</td>\n",
       "<td>0.0040464</td>\n",
       "<td>0.0038345</td>\n",
       "<td>0.0000079</td></tr>\n",
       "<tr><td>28.4326316</td>\n",
       "<td>0.0045238</td>\n",
       "<td>0.0039518</td>\n",
       "<td>0.0000081</td></tr>\n",
       "<tr><td>30.6157895</td>\n",
       "<td>0.0045849</td>\n",
       "<td>0.0037283</td>\n",
       "<td>0.0000077</td></tr>\n",
       "<tr><td>32.7989474</td>\n",
       "<td>0.0048862</td>\n",
       "<td>0.0041378</td>\n",
       "<td>0.0000085</td></tr>\n",
       "<tr><td>34.9821053</td>\n",
       "<td>0.0053736</td>\n",
       "<td>0.0044825</td>\n",
       "<td>0.0000092</td></tr>\n",
       "<tr><td>37.1652632</td>\n",
       "<td>0.0055466</td>\n",
       "<td>0.0043742</td>\n",
       "<td>0.0000090</td></tr>\n",
       "<tr><td>39.3484211</td>\n",
       "<td>0.0055708</td>\n",
       "<td>0.0044120</td>\n",
       "<td>0.0000091</td></tr>\n",
       "<tr><td>41.5315789</td>\n",
       "<td>0.0054967</td>\n",
       "<td>0.0044400</td>\n",
       "<td>0.0000091</td></tr>\n",
       "<tr><td>43.7147368</td>\n",
       "<td>0.0040927</td>\n",
       "<td>0.0032454</td>\n",
       "<td>0.0000067</td></tr>\n",
       "<tr><td>45.8978947</td>\n",
       "<td>0.0039756</td>\n",
       "<td>0.0035034</td>\n",
       "<td>0.0000072</td></tr>\n",
       "<tr><td>48.0810526</td>\n",
       "<td>0.0035256</td>\n",
       "<td>0.0032262</td>\n",
       "<td>0.0000066</td></tr>\n",
       "<tr><td>50.2642105</td>\n",
       "<td>0.0027528</td>\n",
       "<td>0.0023086</td>\n",
       "<td>0.0000047</td></tr>\n",
       "<tr><td>52.4473684</td>\n",
       "<td>0.0027295</td>\n",
       "<td>0.0022963</td>\n",
       "<td>0.0000047</td></tr>\n",
       "<tr><td>54.6305263</td>\n",
       "<td>0.0026058</td>\n",
       "<td>0.0021114</td>\n",
       "<td>0.0000043</td></tr>\n",
       "<tr><td>56.8136842</td>\n",
       "<td>0.0026155</td>\n",
       "<td>0.0021309</td>\n",
       "<td>0.0000044</td></tr>\n",
       "<tr><td>58.9968421</td>\n",
       "<td>0.0026151</td>\n",
       "<td>0.0021307</td>\n",
       "<td>0.0000044</td></tr>\n",
       "<tr><td>61.1800000</td>\n",
       "<td>0.0027477</td>\n",
       "<td>0.0024652</td>\n",
       "<td>0.0000051</td></tr></table></div>"
      ],
      "text/plain": [
       "lat      mean_response    stddev_response    std_error_mean_response\n",
       "-------  ---------------  -----------------  -------------------------\n",
       "19.7     0.00384683       0.00305045         6.26168e-06\n",
       "21.8832  0.00371225       0.00310413         6.37187e-06\n",
       "24.0663  0.00373664       0.00331393         6.80254e-06\n",
       "26.2495  0.00404639       0.00383454         7.8712e-06\n",
       "28.4326  0.00452375       0.00395182         8.11193e-06\n",
       "30.6158  0.00458487       0.00372828         7.65308e-06\n",
       "32.7989  0.00488616       0.00413778         8.49366e-06\n",
       "34.9821  0.00537357       0.00448252         9.20131e-06\n",
       "37.1653  0.00554659       0.00437419         8.97894e-06\n",
       "39.3484  0.00557076       0.00441198         9.05652e-06\n",
       "41.5316  0.00549667       0.00443997         9.11397e-06\n",
       "43.7147  0.00409266       0.00324539         6.66183e-06\n",
       "45.8979  0.00397563       0.00350342         7.19151e-06\n",
       "48.0811  0.00352557       0.00322617         6.62238e-06\n",
       "50.2642  0.00275283       0.00230859         4.73887e-06\n",
       "52.4474  0.00272954       0.00229633         4.7137e-06\n",
       "54.6305  0.00260582       0.0021114          4.33409e-06\n",
       "56.8137  0.00261548       0.00213092         4.37415e-06\n",
       "58.9968  0.00261512       0.00213074         4.37378e-06\n",
       "61.18    0.00274773       0.00246516         5.06026e-06"
      ]
     },
     "metadata": {},
     "output_type": "display_data"
    },
    {
     "name": "stdout",
     "output_type": "stream",
     "text": [
      "PartialDependence: Partial Dependence Plot of model DRF_model_python_1548033090004_1 on column 'long'\n",
      "\n"
     ]
    },
    {
     "data": {
      "text/html": [
       "<div style=\"overflow:auto\"><table style=\"width:50%\"><tr><td><b>long</b></td>\n",
       "<td><b>mean_response</b></td>\n",
       "<td><b>stddev_response</b></td>\n",
       "<td><b>std_error_mean_response</b></td></tr>\n",
       "<tr><td>-157.8</td>\n",
       "<td>0.0038846</td>\n",
       "<td>0.0032006</td>\n",
       "<td>0.0000066</td></tr>\n",
       "<tr><td>-147.8994737</td>\n",
       "<td>0.0038677</td>\n",
       "<td>0.0032004</td>\n",
       "<td>0.0000066</td></tr>\n",
       "<tr><td>-137.9989474</td>\n",
       "<td>0.0038329</td>\n",
       "<td>0.0030861</td>\n",
       "<td>0.0000063</td></tr>\n",
       "<tr><td>-128.0984211</td>\n",
       "<td>0.0039619</td>\n",
       "<td>0.0032884</td>\n",
       "<td>0.0000068</td></tr>\n",
       "<tr><td>-118.1978947</td>\n",
       "<td>0.0049802</td>\n",
       "<td>0.0042139</td>\n",
       "<td>0.0000086</td></tr>\n",
       "<tr><td>-108.2973684</td>\n",
       "<td>0.0048857</td>\n",
       "<td>0.0038763</td>\n",
       "<td>0.0000080</td></tr>\n",
       "<tr><td>-98.3968421</td>\n",
       "<td>0.0054698</td>\n",
       "<td>0.0048391</td>\n",
       "<td>0.0000099</td></tr>\n",
       "<tr><td>-88.4963158</td>\n",
       "<td>0.0055991</td>\n",
       "<td>0.0048215</td>\n",
       "<td>0.0000099</td></tr>\n",
       "<tr><td>-78.5957895</td>\n",
       "<td>0.0051527</td>\n",
       "<td>0.0044725</td>\n",
       "<td>0.0000092</td></tr>\n",
       "<tr><td>-68.6952632</td>\n",
       "<td>0.0039753</td>\n",
       "<td>0.0029370</td>\n",
       "<td>0.0000060</td></tr>\n",
       "<tr><td>-58.7947368</td>\n",
       "<td>0.0039752</td>\n",
       "<td>0.0029369</td>\n",
       "<td>0.0000060</td></tr>\n",
       "<tr><td>-48.8942105</td>\n",
       "<td>0.0039752</td>\n",
       "<td>0.0029369</td>\n",
       "<td>0.0000060</td></tr>\n",
       "<tr><td>-38.9936842</td>\n",
       "<td>0.0039751</td>\n",
       "<td>0.0029369</td>\n",
       "<td>0.0000060</td></tr>\n",
       "<tr><td>-29.0931579</td>\n",
       "<td>0.0039748</td>\n",
       "<td>0.0029368</td>\n",
       "<td>0.0000060</td></tr>\n",
       "<tr><td>-19.1926316</td>\n",
       "<td>0.0037799</td>\n",
       "<td>0.0028178</td>\n",
       "<td>0.0000058</td></tr>\n",
       "<tr><td>-9.2921053</td>\n",
       "<td>0.0037799</td>\n",
       "<td>0.0028178</td>\n",
       "<td>0.0000058</td></tr>\n",
       "<tr><td>0.6084211</td>\n",
       "<td>0.0037795</td>\n",
       "<td>0.0028194</td>\n",
       "<td>0.0000058</td></tr>\n",
       "<tr><td>10.5089474</td>\n",
       "<td>0.0037716</td>\n",
       "<td>0.0028592</td>\n",
       "<td>0.0000059</td></tr>\n",
       "<tr><td>20.4094737</td>\n",
       "<td>0.0037716</td>\n",
       "<td>0.0028592</td>\n",
       "<td>0.0000059</td></tr>\n",
       "<tr><td>30.3100000</td>\n",
       "<td>0.0037716</td>\n",
       "<td>0.0028592</td>\n",
       "<td>0.0000059</td></tr></table></div>"
      ],
      "text/plain": [
       "long      mean_response    stddev_response    std_error_mean_response\n",
       "--------  ---------------  -----------------  -------------------------\n",
       "-157.8    0.00388458       0.00320064         6.56999e-06\n",
       "-147.899  0.00386774       0.00320043         6.56955e-06\n",
       "-137.999  0.00383286       0.00308613         6.33493e-06\n",
       "-128.098  0.00396192       0.00328842         6.75016e-06\n",
       "-118.198  0.00498023       0.00421394         8.64999e-06\n",
       "-108.297  0.00488572       0.00387627         7.95684e-06\n",
       "-98.3968  0.00546975       0.00483905         9.93316e-06\n",
       "-88.4963  0.00559911       0.00482153         9.8972e-06\n",
       "-78.5958  0.00515268       0.00447254         9.18083e-06\n",
       "-68.6953  0.00397527       0.00293698         6.02876e-06\n",
       "-58.7947  0.00397523       0.00293692         6.02864e-06\n",
       "-48.8942  0.0039752        0.0029369          6.0286e-06\n",
       "-38.9937  0.00397515       0.00293687         6.02854e-06\n",
       "-29.0932  0.00397482       0.00293677         6.02832e-06\n",
       "-19.1926  0.00377988       0.00281781         5.78415e-06\n",
       "-9.29211  0.00377988       0.00281781         5.78415e-06\n",
       "0.608421  0.00377946       0.00281938         5.78737e-06\n",
       "10.5089   0.00377161       0.00285925         5.8692e-06\n",
       "20.4095   0.00377161       0.00285925         5.8692e-06\n",
       "30.31     0.00377161       0.00285925         5.8692e-06"
      ]
     },
     "metadata": {},
     "output_type": "display_data"
    },
    {
     "name": "stdout",
     "output_type": "stream",
     "text": [
      "PartialDependence: Partial Dependence Plot of model DRF_model_python_1548033090004_1 on column 'ts_day'\n",
      "\n"
     ]
    },
    {
     "data": {
      "text/html": [
       "<div style=\"overflow:auto\"><table style=\"width:50%\"><tr><td><b>ts_day</b></td>\n",
       "<td><b>mean_response</b></td>\n",
       "<td><b>stddev_response</b></td>\n",
       "<td><b>std_error_mean_response</b></td></tr>\n",
       "<tr><td>1.0</td>\n",
       "<td>0.0045224</td>\n",
       "<td>0.0056464</td>\n",
       "<td>0.0000116</td></tr>\n",
       "<tr><td>2.5789474</td>\n",
       "<td>0.0052607</td>\n",
       "<td>0.0060089</td>\n",
       "<td>0.0000123</td></tr>\n",
       "<tr><td>4.1578947</td>\n",
       "<td>0.0051700</td>\n",
       "<td>0.0056077</td>\n",
       "<td>0.0000115</td></tr>\n",
       "<tr><td>5.7368421</td>\n",
       "<td>0.0056366</td>\n",
       "<td>0.0058552</td>\n",
       "<td>0.0000120</td></tr>\n",
       "<tr><td>7.3157895</td>\n",
       "<td>0.0055357</td>\n",
       "<td>0.0056438</td>\n",
       "<td>0.0000116</td></tr>\n",
       "<tr><td>8.8947368</td>\n",
       "<td>0.0057067</td>\n",
       "<td>0.0054671</td>\n",
       "<td>0.0000112</td></tr>\n",
       "<tr><td>10.4736842</td>\n",
       "<td>0.0060329</td>\n",
       "<td>0.0061625</td>\n",
       "<td>0.0000126</td></tr>\n",
       "<tr><td>12.0526316</td>\n",
       "<td>0.0060103</td>\n",
       "<td>0.0062319</td>\n",
       "<td>0.0000128</td></tr>\n",
       "<tr><td>13.6315789</td>\n",
       "<td>0.0060324</td>\n",
       "<td>0.0059673</td>\n",
       "<td>0.0000122</td></tr>\n",
       "<tr><td>15.2105263</td>\n",
       "<td>0.0065691</td>\n",
       "<td>0.0064130</td>\n",
       "<td>0.0000132</td></tr>\n",
       "<tr><td>16.7894737</td>\n",
       "<td>0.0070557</td>\n",
       "<td>0.0070022</td>\n",
       "<td>0.0000144</td></tr>\n",
       "<tr><td>18.3684211</td>\n",
       "<td>0.0065446</td>\n",
       "<td>0.0062477</td>\n",
       "<td>0.0000128</td></tr>\n",
       "<tr><td>19.9473684</td>\n",
       "<td>0.0062119</td>\n",
       "<td>0.0057059</td>\n",
       "<td>0.0000117</td></tr>\n",
       "<tr><td>21.5263158</td>\n",
       "<td>0.0062683</td>\n",
       "<td>0.0059160</td>\n",
       "<td>0.0000121</td></tr>\n",
       "<tr><td>23.1052632</td>\n",
       "<td>0.0064877</td>\n",
       "<td>0.0062672</td>\n",
       "<td>0.0000129</td></tr>\n",
       "<tr><td>24.6842105</td>\n",
       "<td>0.0062844</td>\n",
       "<td>0.0064053</td>\n",
       "<td>0.0000131</td></tr>\n",
       "<tr><td>26.2631579</td>\n",
       "<td>0.0059843</td>\n",
       "<td>0.0061250</td>\n",
       "<td>0.0000126</td></tr>\n",
       "<tr><td>27.8421053</td>\n",
       "<td>0.0054296</td>\n",
       "<td>0.0061112</td>\n",
       "<td>0.0000125</td></tr>\n",
       "<tr><td>29.4210526</td>\n",
       "<td>0.0051570</td>\n",
       "<td>0.0065047</td>\n",
       "<td>0.0000134</td></tr>\n",
       "<tr><td>31.0</td>\n",
       "<td>0.0047522</td>\n",
       "<td>0.0084492</td>\n",
       "<td>0.0000173</td></tr></table></div>"
      ],
      "text/plain": [
       "ts_day    mean_response    stddev_response    std_error_mean_response\n",
       "--------  ---------------  -----------------  -------------------------\n",
       "1         0.00452243       0.00564643         1.15905e-05\n",
       "2.57895   0.00526071       0.00600891         1.23345e-05\n",
       "4.15789   0.00517001       0.00560772         1.1511e-05\n",
       "5.73684   0.00563657       0.00585523         1.20191e-05\n",
       "7.31579   0.00553571       0.00564381         1.15851e-05\n",
       "8.89474   0.00570669       0.00546713         1.12224e-05\n",
       "10.4737   0.0060329        0.00616249         1.26498e-05\n",
       "12.0526   0.00601034       0.00623195         1.27924e-05\n",
       "13.6316   0.00603236       0.00596725         1.2249e-05\n",
       "15.2105   0.00656915       0.006413           1.3164e-05\n",
       "16.7895   0.00705569       0.00700221         1.43735e-05\n",
       "18.3684   0.00654456       0.00624775         1.28248e-05\n",
       "19.9474   0.00621194       0.00570585         1.17124e-05\n",
       "21.5263   0.00626826       0.00591605         1.21439e-05\n",
       "23.1053   0.00648767       0.00626725         1.28648e-05\n",
       "24.6842   0.00628437       0.00640525         1.31481e-05\n",
       "26.2632   0.00598427       0.00612503         1.25729e-05\n",
       "27.8421   0.00542961       0.00611123         1.25446e-05\n",
       "29.4211   0.00515702       0.00650475         1.33524e-05\n",
       "31        0.00475221       0.00844919         1.73437e-05"
      ]
     },
     "metadata": {},
     "output_type": "display_data"
    },
    {
     "name": "stdout",
     "output_type": "stream",
     "text": [
      "PartialDependence: Partial Dependence Plot of model DRF_model_python_1548033090004_1 on column 'ts_week'\n",
      "\n"
     ]
    },
    {
     "data": {
      "text/html": [
       "<div style=\"overflow:auto\"><table style=\"width:50%\"><tr><td><b>ts_week</b></td>\n",
       "<td><b>mean_response</b></td>\n",
       "<td><b>stddev_response</b></td>\n",
       "<td><b>std_error_mean_response</b></td></tr>\n",
       "<tr><td>10.0</td>\n",
       "<td>0.0051625</td>\n",
       "<td>0.0068962</td>\n",
       "<td>0.0000142</td></tr>\n",
       "<tr><td>11.0</td>\n",
       "<td>0.0056336</td>\n",
       "<td>0.0063890</td>\n",
       "<td>0.0000131</td></tr>\n",
       "<tr><td>12.0</td>\n",
       "<td>0.0059693</td>\n",
       "<td>0.0065852</td>\n",
       "<td>0.0000135</td></tr>\n",
       "<tr><td>13.0</td>\n",
       "<td>0.0062527</td>\n",
       "<td>0.0069486</td>\n",
       "<td>0.0000143</td></tr>\n",
       "<tr><td>14.0</td>\n",
       "<td>0.0062802</td>\n",
       "<td>0.0070352</td>\n",
       "<td>0.0000144</td></tr>\n",
       "<tr><td>15.0</td>\n",
       "<td>0.0063938</td>\n",
       "<td>0.0068383</td>\n",
       "<td>0.0000140</td></tr>\n",
       "<tr><td>16.0</td>\n",
       "<td>0.0064903</td>\n",
       "<td>0.0067527</td>\n",
       "<td>0.0000139</td></tr>\n",
       "<tr><td>17.0</td>\n",
       "<td>0.0063446</td>\n",
       "<td>0.0066694</td>\n",
       "<td>0.0000137</td></tr>\n",
       "<tr><td>18.0</td>\n",
       "<td>0.0060789</td>\n",
       "<td>0.0066410</td>\n",
       "<td>0.0000136</td></tr>\n",
       "<tr><td>19.0</td>\n",
       "<td>0.0061044</td>\n",
       "<td>0.0067302</td>\n",
       "<td>0.0000138</td></tr>\n",
       "<tr><td>20.0</td>\n",
       "<td>0.0060522</td>\n",
       "<td>0.0070887</td>\n",
       "<td>0.0000146</td></tr>\n",
       "<tr><td>21.0</td>\n",
       "<td>0.0052228</td>\n",
       "<td>0.0061377</td>\n",
       "<td>0.0000126</td></tr>\n",
       "<tr><td>22.0</td>\n",
       "<td>0.0048375</td>\n",
       "<td>0.0068335</td>\n",
       "<td>0.0000140</td></tr></table></div>"
      ],
      "text/plain": [
       "ts_week    mean_response    stddev_response    std_error_mean_response\n",
       "---------  ---------------  -----------------  -------------------------\n",
       "10         0.00516246       0.00689621         1.41559e-05\n",
       "11         0.00563364       0.00638898         1.31147e-05\n",
       "12         0.00596928       0.00658518         1.35175e-05\n",
       "13         0.00625271       0.00694858         1.42634e-05\n",
       "14         0.00628019       0.00703522         1.44413e-05\n",
       "15         0.00639381       0.00683827         1.4037e-05\n",
       "16         0.00649033       0.00675274         1.38614e-05\n",
       "17         0.00634464       0.00666937         1.36903e-05\n",
       "18         0.0060789        0.00664101         1.36321e-05\n",
       "19         0.0061044        0.00673022         1.38152e-05\n",
       "20         0.00605223       0.00708872         1.45511e-05\n",
       "21         0.00522281       0.00613774         1.2599e-05\n",
       "22         0.00483751       0.00683353         1.40272e-05"
      ]
     },
     "metadata": {},
     "output_type": "display_data"
    },
    {
     "data": {
      "text/plain": [
       "[, , , , , , , ]"
      ]
     },
     "execution_count": 37,
     "metadata": {},
     "output_type": "execute_result"
    },
    {
     "data": {
      "image/png": "[encoded data removed]",
      "text/plain": [
       "<Figure size 504x720 with 8 Axes>"
      ]
     },
     "metadata": {},
     "output_type": "display_data"
    }
   ],
   "source": [
    "model.partial_plot(train, cols = feature)"
   ]
  },
  {
   "cell_type": "markdown",
   "metadata": {},
   "source": [
    "This actually helps to verify if our previous analysis results"
   ]
  },
  {
   "cell_type": "markdown",
   "metadata": {},
   "source": [
    "# Recommendation & Summary"
   ]
  },
  {
   "cell_type": "markdown",
   "metadata": {},
   "source": [
    "Based on what we've seen by breaking down analysis and creating a ML model to predict conversion, I would recommend the following:\n",
    "- if the question is simply whether to sell the software at higher price or not; i would recommend against it -- as we have seen that from the test, the conversion rate in test is mostly lower & significant if we break it down by week  & the overall conversion rate in test is lower than those who are not in test set\n",
    "- apart from that, we don't know the ramification of increasing price of software without adding additional features; though customers showed a willingness to pay -- even though the decrease in conversion rate can for sure compensate for increase in customers in this case. In other words, if the short term goal is to boost revenue, based on result of this test, yes -- it can increase revenue in the short term; however, we don't know what's the long term value of this action -- if increasing price would potentially turn away some future customers & how much value those customers would bring to us"
   ]
  },
  {
   "cell_type": "markdown",
   "metadata": {},
   "source": [
    "Actionable insights from data:\n",
    "- Referral helps to boost conversion rate significantly\n",
    "- both `iOS` and `mac` users have higher conversion rate than other platforms\n",
    "\n",
    "These are the areas that the company can focus their marketing efforts on to grow conversion"
   ]
  }
 ],
 "metadata": {
  "kernelspec": {
   "display_name": "Python 3",
   "language": "python",
   "name": "python3"
  },
  "language_info": {
   "codemirror_mode": {
    "name": "ipython",
    "version": 3
   },
   "file_extension": ".py",
   "mimetype": "text/x-python",
   "name": "python",
   "nbconvert_exporter": "python",
   "pygments_lexer": "ipython3",
   "version": "3.6.7"
  },
  "toc": {
   "base_numbering": 1,
   "nav_menu": {},
   "number_sections": true,
   "sideBar": true,
   "skip_h1_title": false,
   "title_cell": "Table of Contents",
   "title_sidebar": "Contents",
   "toc_cell": true,
   "toc_position": {},
   "toc_section_display": true,
   "toc_window_display": true
  },
  "varInspector": {
   "cols": {
    "lenName": 16,
    "lenType": 16,
    "lenVar": 40
   },
   "kernels_config": {
    "python": {
     "delete_cmd_postfix": "",
     "delete_cmd_prefix": "del ",
     "library": "var_list.py",
     "varRefreshCmd": "print(var_dic_list())"
    },
    "r": {
     "delete_cmd_postfix": ") ",
     "delete_cmd_prefix": "rm(",
     "library": "var_list.r",
     "varRefreshCmd": "cat(var_dic_list()) "
    }
   },
   "types_to_exclude": [
    "module",
    "function",
    "builtin_function_or_method",
    "instance",
    "_Feature"
   ],
   "window_display": false
  }
 },
 "nbformat": 4,
 "nbformat_minor": 2
}
